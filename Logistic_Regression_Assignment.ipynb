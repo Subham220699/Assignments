{
  "nbformat": 4,
  "nbformat_minor": 0,
  "metadata": {
    "colab": {
      "provenance": []
    },
    "kernelspec": {
      "name": "python3",
      "display_name": "Python 3"
    },
    "language_info": {
      "name": "python"
    }
  },
  "cells": [
    {
      "cell_type": "markdown",
      "source": [
        "1. Write a Python program that loads a dataset, splits it into training and testing sets, applies Logistic Regression, and prints the model accuracy."
      ],
      "metadata": {
        "id": "p7QwhYkq9dGc"
      }
    },
    {
      "cell_type": "code",
      "source": [
        "import seaborn as sns\n",
        "import pandas as pd\n",
        "from sklearn.model_selection import train_test_split, GridSearchCV, RandomizedSearchCV, StratifiedKFold, cross_val_score\n",
        "from sklearn.linear_model import LogisticRegression\n",
        "from sklearn.metrics import accuracy_score, confusion_matrix, classification_report, roc_auc_score, cohen_kappa_score, matthews_corrcoef, precision_recall_curve, RocCurveDisplay\n",
        "from sklearn.preprocessing import StandardScaler, LabelEncoder\n",
        "from sklearn.impute import SimpleImputer\n",
        "import numpy as np\n",
        "import matplotlib.pyplot as plt\n",
        "import joblib # For saving and loading models\n",
        "\n",
        "# Common settings for plots\n",
        "plt.style.use('seaborn-v0_8-whitegrid')"
      ],
      "metadata": {
        "id": "gJwn_vW39jYJ"
      },
      "execution_count": 2,
      "outputs": []
    },
    {
      "cell_type": "code",
      "execution_count": 3,
      "metadata": {
        "colab": {
          "base_uri": "https://localhost:8080/"
        },
        "id": "5y42PEJA9G_h",
        "outputId": "5f2ce444-bd4a-431e-f29a-2d0c71f0b85d"
      },
      "outputs": [
        {
          "output_type": "stream",
          "name": "stdout",
          "text": [
            "Dataset: Iris (setosa vs versicolor)\n",
            "Logistic Regression Model Accuracy: 1.0000\n",
            "\n",
            "Sample Predictions:\n",
            "Actual: setosa, Predicted: setosa\n",
            "Actual: setosa, Predicted: setosa\n",
            "Actual: versicolor, Predicted: versicolor\n",
            "Actual: setosa, Predicted: setosa\n",
            "Actual: setosa, Predicted: setosa\n"
          ]
        }
      ],
      "source": [
        "# Load the 'iris' dataset from seaborn (we'll make it a binary classification problem)\n",
        "iris = sns.load_dataset('iris')\n",
        "\n",
        "# For binary classification, let's use two species: 'setosa' and 'versicolor'\n",
        "# and try to predict 'species'\n",
        "df_iris_binary = iris[iris['species'].isin(['setosa', 'versicolor'])].copy() # Use .copy() to avoid SettingWithCopyWarning\n",
        "\n",
        "# Encode the target variable 'species'\n",
        "le = LabelEncoder()\n",
        "df_iris_binary['species_encoded'] = le.fit_transform(df_iris_binary['species'])\n",
        "# setosa -> 0, versicolor -> 1\n",
        "\n",
        "# Define features (X) and target (y)\n",
        "X_iris = df_iris_binary[['sepal_length', 'sepal_width', 'petal_length', 'petal_width']]\n",
        "y_iris = df_iris_binary['species_encoded']\n",
        "\n",
        "# Split the dataset into training and testing sets\n",
        "X_train_iris, X_test_iris, y_train_iris, y_test_iris = train_test_split(\n",
        "    X_iris, y_iris, test_size=0.3, random_state=42, stratify=y_iris\n",
        ")\n",
        "\n",
        "# Initialize and train the Logistic Regression model\n",
        "log_reg_model_iris = LogisticRegression(random_state=42, solver='liblinear') # liblinear is good for small datasets\n",
        "log_reg_model_iris.fit(X_train_iris, y_train_iris)\n",
        "\n",
        "# Make predictions on the test set\n",
        "y_pred_iris = log_reg_model_iris.predict(X_test_iris)\n",
        "\n",
        "# Calculate and print the model accuracy\n",
        "accuracy_iris = accuracy_score(y_test_iris, y_pred_iris)\n",
        "print(f\"Dataset: Iris (setosa vs versicolor)\")\n",
        "print(f\"Logistic Regression Model Accuracy: {accuracy_iris:.4f}\")\n",
        "\n",
        "# Display the actual vs predicted for a few samples\n",
        "print(\"\\nSample Predictions:\")\n",
        "for i in range(5):\n",
        "    actual_label = le.inverse_transform([y_test_iris.iloc[i]])[0]\n",
        "    predicted_label = le.inverse_transform([y_pred_iris[i]])[0]\n",
        "    print(f\"Actual: {actual_label}, Predicted: {predicted_label}\")"
      ]
    },
    {
      "cell_type": "markdown",
      "source": [
        "2. Write a Python program to apply L1 regularization (Lasso) on a dataset using LogisticRegression (penalty='l1') and print the model accuracy."
      ],
      "metadata": {
        "id": "xS61jjQ69n4z"
      }
    },
    {
      "cell_type": "code",
      "source": [
        "# Load the 'breast_cancer' dataset from scikit-learn (binary classification)\n",
        "from sklearn.datasets import load_breast_cancer\n",
        "cancer = load_breast_cancer()\n",
        "df_cancer = pd.DataFrame(cancer.data, columns=cancer.feature_names)\n",
        "df_cancer['target'] = cancer.target # 0 for malignant, 1 for benign\n",
        "\n",
        "# Define features (X) and target (y)\n",
        "X_cancer = df_cancer.drop('target', axis=1)\n",
        "y_cancer = df_cancer['target']\n",
        "\n",
        "# Split the dataset\n",
        "X_train_cancer, X_test_cancer, y_train_cancer, y_test_cancer = train_test_split(\n",
        "    X_cancer, y_cancer, test_size=0.3, random_state=42, stratify=y_cancer\n",
        ")\n",
        "\n",
        "# Scale the features (important for regularization and solvers like 'saga' or 'liblinear' with L1)\n",
        "scaler_cancer = StandardScaler()\n",
        "X_train_cancer_scaled = scaler_cancer.fit_transform(X_train_cancer)\n",
        "X_test_cancer_scaled = scaler_cancer.transform(X_test_cancer)\n",
        "\n",
        "# Initialize and train Logistic Regression with L1 regularization\n",
        "# 'liblinear' and 'saga' solvers support L1 penalty.\n",
        "# C is the inverse of regularization strength; smaller C means stronger regularization.\n",
        "log_reg_l1 = LogisticRegression(penalty='l1', C=0.5, solver='liblinear', random_state=42)\n",
        "log_reg_l1.fit(X_train_cancer_scaled, y_train_cancer)\n",
        "\n",
        "# Make predictions\n",
        "y_pred_l1 = log_reg_l1.predict(X_test_cancer_scaled)\n",
        "\n",
        "# Calculate and print model accuracy\n",
        "accuracy_l1 = accuracy_score(y_test_cancer, y_pred_l1)\n",
        "print(f\"Dataset: Breast Cancer\")\n",
        "print(f\"Logistic Regression with L1 (Lasso) Regularization Accuracy: {accuracy_l1:.4f}\")\n",
        "\n",
        "# Print the number of non-zero coefficients to see the effect of L1\n",
        "num_non_zero_coeffs_l1 = np.sum(log_reg_l1.coef_ != 0)\n",
        "print(f\"Number of features: {X_cancer.shape[1]}\")\n",
        "print(f\"Number of non-zero coefficients with L1 (C=0.5): {num_non_zero_coeffs_l1}\")\n",
        "\n",
        "# Try with stronger L1 regularization (smaller C)\n",
        "log_reg_l1_strong = LogisticRegression(penalty='l1', C=0.1, solver='liblinear', random_state=42)\n",
        "log_reg_l1_strong.fit(X_train_cancer_scaled, y_train_cancer)\n",
        "y_pred_l1_strong = log_reg_l1_strong.predict(X_test_cancer_scaled)\n",
        "accuracy_l1_strong = accuracy_score(y_test_cancer, y_pred_l1_strong)\n",
        "num_non_zero_coeffs_l1_strong = np.sum(log_reg_l1_strong.coef_ != 0)\n",
        "\n",
        "print(f\"\\nLogistic Regression with stronger L1 (C=0.1) Accuracy: {accuracy_l1_strong:.4f}\")\n",
        "print(f\"Number of non-zero coefficients with L1 (C=0.1): {num_non_zero_coeffs_l1_strong}\")"
      ],
      "metadata": {
        "colab": {
          "base_uri": "https://localhost:8080/"
        },
        "id": "ArGwbP2H9rz2",
        "outputId": "390b0128-aadd-4267-9868-22cf9e4709fc"
      },
      "execution_count": 4,
      "outputs": [
        {
          "output_type": "stream",
          "name": "stdout",
          "text": [
            "Dataset: Breast Cancer\n",
            "Logistic Regression with L1 (Lasso) Regularization Accuracy: 0.9649\n",
            "Number of features: 30\n",
            "Number of non-zero coefficients with L1 (C=0.5): 9\n",
            "\n",
            "Logistic Regression with stronger L1 (C=0.1) Accuracy: 0.9591\n",
            "Number of non-zero coefficients with L1 (C=0.1): 7\n"
          ]
        }
      ]
    },
    {
      "cell_type": "markdown",
      "source": [
        "3. Write a Python program to train Logistic Regression with L2 regularization (Ridge) using LogisticRegression (penalty='l2'). Print model accuracy and coefficients."
      ],
      "metadata": {
        "id": "X3J4ZMa69tyz"
      }
    },
    {
      "cell_type": "code",
      "source": [
        "# Using the same 'breast_cancer' dataset and split from Q2 for consistency\n",
        "# Features X_cancer, y_cancer, X_train_cancer_scaled, X_test_cancer_scaled, y_train_cancer, y_test_cancer are already defined and scaled.\n",
        "\n",
        "# Initialize and train Logistic Regression with L2 regularization (Ridge)\n",
        "# 'lbfgs' is a common default solver that supports L2.\n",
        "# C is the inverse of regularization strength.\n",
        "log_reg_l2 = LogisticRegression(penalty='l2', C=1.0, solver='lbfgs', random_state=42, max_iter=1000)\n",
        "log_reg_l2.fit(X_train_cancer_scaled, y_train_cancer)\n",
        "\n",
        "# Make predictions\n",
        "y_pred_l2 = log_reg_l2.predict(X_test_cancer_scaled)\n",
        "\n",
        "# Calculate and print model accuracy\n",
        "accuracy_l2 = accuracy_score(y_test_cancer, y_pred_l2)\n",
        "print(f\"Dataset: Breast Cancer\")\n",
        "print(f\"Logistic Regression with L2 (Ridge) Regularization Accuracy (C=1.0): {accuracy_l2:.4f}\")\n",
        "\n",
        "# Print the model coefficients\n",
        "print(\"\\nModel Coefficients (L2 Regularization):\")\n",
        "for feature, coef in zip(cancer.feature_names, log_reg_l2.coef_[0]):\n",
        "    print(f\"{feature}: {coef:.4f}\")\n",
        "\n",
        "# Number of non-zero coefficients (L2 usually doesn't make them exactly zero)\n",
        "num_non_zero_coeffs_l2 = np.sum(log_reg_l2.coef_ != 0)\n",
        "print(f\"\\nNumber of non-zero coefficients with L2 (C=1.0): {num_non_zero_coeffs_l2}\")\n",
        "print(f\"Total number of features: {X_cancer.shape[1]}\")"
      ],
      "metadata": {
        "colab": {
          "base_uri": "https://localhost:8080/"
        },
        "id": "HaCPJyj09xpi",
        "outputId": "83d67278-3726-4406-802a-479278cb2fba"
      },
      "execution_count": 5,
      "outputs": [
        {
          "output_type": "stream",
          "name": "stdout",
          "text": [
            "Dataset: Breast Cancer\n",
            "Logistic Regression with L2 (Ridge) Regularization Accuracy (C=1.0): 0.9883\n",
            "\n",
            "Model Coefficients (L2 Regularization):\n",
            "mean radius: -0.4950\n",
            "mean texture: -0.4598\n",
            "mean perimeter: -0.4598\n",
            "mean area: -0.5498\n",
            "mean smoothness: -0.1672\n",
            "mean compactness: 0.6527\n",
            "mean concavity: -0.5326\n",
            "mean concave points: -0.6307\n",
            "mean symmetry: -0.1138\n",
            "mean fractal dimension: 0.0362\n",
            "radius error: -0.8864\n",
            "texture error: 0.3678\n",
            "perimeter error: -0.2050\n",
            "area error: -0.9375\n",
            "smoothness error: -0.1850\n",
            "compactness error: 0.5687\n",
            "concavity error: 0.1637\n",
            "concave points error: -0.2682\n",
            "symmetry error: 0.3249\n",
            "fractal dimension error: 0.3496\n",
            "worst radius: -0.9411\n",
            "worst texture: -1.2263\n",
            "worst perimeter: -0.7310\n",
            "worst area: -0.9550\n",
            "worst smoothness: -0.7490\n",
            "worst compactness: 0.0359\n",
            "worst concavity: -0.7860\n",
            "worst concave points: -0.9968\n",
            "worst symmetry: -0.8694\n",
            "worst fractal dimension: -0.1643\n",
            "\n",
            "Number of non-zero coefficients with L2 (C=1.0): 30\n",
            "Total number of features: 30\n"
          ]
        }
      ]
    },
    {
      "cell_type": "markdown",
      "source": [
        "4. Write a Python program to train Logistic Regression with Elastic Net Regularization (penalty='elasticnet')."
      ],
      "metadata": {
        "id": "g-2VsBdm9z3x"
      }
    },
    {
      "cell_type": "code",
      "source": [
        "# Continue with the scaled 'breast_cancer' dataset from Q2/Q3.\n",
        "\n",
        "# Initialize and train Logistic Regression with Elastic Net regularization\n",
        "# 'saga' solver is required for 'elasticnet' penalty.\n",
        "# 'l1_ratio' parameter specifies the mix between L1 and L2.\n",
        "# l1_ratio = 0 corresponds to L2 penalty.\n",
        "# l1_ratio = 1 corresponds to L1 penalty.\n",
        "# 0 < l1_ratio < 1 is a combination.\n",
        "log_reg_elastic = LogisticRegression(\n",
        "    penalty='elasticnet',\n",
        "    C=0.5,  # Overall regularization strength\n",
        "    solver='saga',\n",
        "    l1_ratio=0.5,  # Mix: 50% L1, 50% L2\n",
        "    random_state=42,\n",
        "    max_iter=5000 # saga solver might need more iterations to converge\n",
        ")\n",
        "log_reg_elastic.fit(X_train_cancer_scaled, y_train_cancer)\n",
        "\n",
        "# Make predictions\n",
        "y_pred_elastic = log_reg_elastic.predict(X_test_cancer_scaled)\n",
        "\n",
        "# Calculate and print model accuracy\n",
        "accuracy_elastic = accuracy_score(y_test_cancer, y_pred_elastic)\n",
        "print(f\"Dataset: Breast Cancer\")\n",
        "print(f\"Logistic Regression with Elastic Net (C=0.5, l1_ratio=0.5) Accuracy: {accuracy_elastic:.4f}\")\n",
        "\n",
        "# Print the number of non-zero coefficients\n",
        "num_non_zero_coeffs_elastic = np.sum(log_reg_elastic.coef_ != 0)\n",
        "print(f\"Number of features: {X_cancer.shape[1]}\")\n",
        "print(f\"Number of non-zero coefficients with Elastic Net: {num_non_zero_coeffs_elastic}\")\n",
        "\n",
        "# Print the model coefficients\n",
        "print(\"\\nModel Coefficients (Elastic Net Regularization):\")\n",
        "for feature, coef in zip(cancer.feature_names, log_reg_elastic.coef_[0]):\n",
        "    print(f\"{feature}: {coef:.4f}\")"
      ],
      "metadata": {
        "colab": {
          "base_uri": "https://localhost:8080/"
        },
        "id": "lucotGSf92-Q",
        "outputId": "5aaa65dd-cee2-40d0-9a38-d9da34b05208"
      },
      "execution_count": 6,
      "outputs": [
        {
          "output_type": "stream",
          "name": "stdout",
          "text": [
            "Dataset: Breast Cancer\n",
            "Logistic Regression with Elastic Net (C=0.5, l1_ratio=0.5) Accuracy: 0.9825\n",
            "Number of features: 30\n",
            "Number of non-zero coefficients with Elastic Net: 20\n",
            "\n",
            "Model Coefficients (Elastic Net Regularization):\n",
            "mean radius: -0.4061\n",
            "mean texture: -0.3237\n",
            "mean perimeter: -0.3348\n",
            "mean area: -0.4410\n",
            "mean smoothness: 0.0000\n",
            "mean compactness: 0.0000\n",
            "mean concavity: -0.1302\n",
            "mean concave points: -0.4751\n",
            "mean symmetry: 0.0000\n",
            "mean fractal dimension: 0.0000\n",
            "radius error: -0.5638\n",
            "texture error: 0.1671\n",
            "perimeter error: 0.0000\n",
            "area error: -0.6475\n",
            "smoothness error: -0.0433\n",
            "compactness error: 0.3501\n",
            "concavity error: 0.0000\n",
            "concave points error: 0.0000\n",
            "symmetry error: 0.0000\n",
            "fractal dimension error: 0.1114\n",
            "worst radius: -0.9746\n",
            "worst texture: -0.9680\n",
            "worst perimeter: -0.7216\n",
            "worst area: -0.8871\n",
            "worst smoothness: -0.7339\n",
            "worst compactness: 0.0000\n",
            "worst concavity: -0.4383\n",
            "worst concave points: -1.0230\n",
            "worst symmetry: -0.5466\n",
            "worst fractal dimension: 0.0000\n"
          ]
        }
      ]
    },
    {
      "cell_type": "markdown",
      "source": [
        "5. Write a Python program to train a Logistic Regression model for multiclass classification using multi_class = 'ovr'."
      ],
      "metadata": {
        "id": "1ByLsroz97a5"
      }
    },
    {
      "cell_type": "code",
      "source": [
        "# Load the full 'iris' dataset from seaborn (3 classes)\n",
        "iris_full = sns.load_dataset('iris')\n",
        "\n",
        "# Encode the target variable 'species'\n",
        "le_multi = LabelEncoder()\n",
        "iris_full['species_encoded'] = le_multi.fit_transform(iris_full['species'])\n",
        "# setosa -> 0, versicolor -> 1, virginica -> 2\n",
        "\n",
        "# Define features (X) and target (y)\n",
        "X_iris_multi = iris_full[['sepal_length', 'sepal_width', 'petal_length', 'petal_width']]\n",
        "y_iris_multi = iris_full['species_encoded']\n",
        "\n",
        "# Split the dataset\n",
        "X_train_multi, X_test_multi, y_train_multi, y_test_multi = train_test_split(\n",
        "    X_iris_multi, y_iris_multi, test_size=0.3, random_state=42, stratify=y_iris_multi\n",
        ")\n",
        "\n",
        "# Scale the features\n",
        "scaler_multi = StandardScaler()\n",
        "X_train_multi_scaled = scaler_multi.fit_transform(X_train_multi)\n",
        "X_test_multi_scaled = scaler_multi.transform(X_test_multi)\n",
        "\n",
        "# Initialize and train Logistic Regression for multiclass classification using 'ovr'\n",
        "# 'liblinear' solver works well with 'ovr' for smaller datasets.\n",
        "log_reg_ovr = LogisticRegression(\n",
        "    multi_class='ovr', # One-vs-Rest strategy\n",
        "    solver='liblinear',\n",
        "    C=1.0,\n",
        "    random_state=42\n",
        ")\n",
        "log_reg_ovr.fit(X_train_multi_scaled, y_train_multi)\n",
        "\n",
        "# Make predictions\n",
        "y_pred_ovr = log_reg_ovr.predict(X_test_multi_scaled)\n",
        "\n",
        "# Calculate and print model accuracy\n",
        "accuracy_ovr = accuracy_score(y_test_multi, y_pred_ovr)\n",
        "print(f\"Dataset: Iris (Multiclass)\")\n",
        "print(f\"Logistic Regression with multi_class='ovr' Accuracy: {accuracy_ovr:.4f}\")\n",
        "\n",
        "# Show classification report for more details\n",
        "print(\"\\nClassification Report (OvR):\")\n",
        "print(classification_report(y_test_multi, y_pred_ovr, target_names=le_multi.classes_))\n",
        "\n",
        "# The log_reg_ovr model will have 3 sets of coefficients if there are 3 classes\n",
        "print(f\"\\nShape of coefficients for OvR with 3 classes: {log_reg_ovr.coef_.shape}\")\n",
        "# Each row corresponds to the coefficients for one of the binary OvR classifiers."
      ],
      "metadata": {
        "colab": {
          "base_uri": "https://localhost:8080/"
        },
        "id": "oy4-igL598KF",
        "outputId": "a35c0aee-f8a8-458a-df46-37d559191de7"
      },
      "execution_count": 7,
      "outputs": [
        {
          "output_type": "stream",
          "name": "stdout",
          "text": [
            "Dataset: Iris (Multiclass)\n",
            "Logistic Regression with multi_class='ovr' Accuracy: 0.8000\n",
            "\n",
            "Classification Report (OvR):\n",
            "              precision    recall  f1-score   support\n",
            "\n",
            "      setosa       1.00      1.00      1.00        15\n",
            "  versicolor       0.75      0.60      0.67        15\n",
            "   virginica       0.67      0.80      0.73        15\n",
            "\n",
            "    accuracy                           0.80        45\n",
            "   macro avg       0.81      0.80      0.80        45\n",
            "weighted avg       0.81      0.80      0.80        45\n",
            "\n",
            "\n",
            "Shape of coefficients for OvR with 3 classes: (3, 4)\n"
          ]
        },
        {
          "output_type": "stream",
          "name": "stderr",
          "text": [
            "/usr/local/lib/python3.11/dist-packages/sklearn/linear_model/_logistic.py:1256: FutureWarning: 'multi_class' was deprecated in version 1.5 and will be removed in 1.7. Use OneVsRestClassifier(LogisticRegression(..)) instead. Leave it to its default value to avoid this warning.\n",
            "  warnings.warn(\n"
          ]
        }
      ]
    },
    {
      "cell_type": "markdown",
      "source": [
        "6. Write a Python program to apply GridSearchCV to tune the hyperparameters (C and penalty) of Logistic Regression. Print the best parameters and accuracy."
      ],
      "metadata": {
        "id": "gvckggdn9-wq"
      }
    },
    {
      "cell_type": "code",
      "source": [
        "# Using the 'breast_cancer' dataset and scaled splits from Q2.\n",
        "# X_train_cancer_scaled, X_test_cancer_scaled, y_train_cancer, y_test_cancer\n",
        "\n",
        "# Define the parameter grid for GridSearchCV\n",
        "# Note: Some solvers only support certain penalties.\n",
        "# 'liblinear' supports 'l1' and 'l2'.\n",
        "# 'lbfgs', 'newton-cg', 'sag' support 'l2'.\n",
        "# 'saga' supports 'l1', 'l2', 'elasticnet'.\n",
        "# We'll stick to 'liblinear' for simplicity with 'l1'/'l2' penalties here.\n",
        "\n",
        "param_grid_lr = {\n",
        "    'C': [0.001, 0.01, 0.1, 1, 10, 100], # Inverse of regularization strength\n",
        "    'penalty': ['l1', 'l2'],             # Regularization type\n",
        "    'solver': ['liblinear']              # Solver that supports both l1 and l2\n",
        "}\n",
        "\n",
        "# Initialize Logistic Regression model (it will be configured by GridSearchCV)\n",
        "log_reg_for_grid = LogisticRegression(random_state=42, max_iter=1000)\n",
        "\n",
        "# Initialize GridSearchCV\n",
        "# cv=5 means 5-fold cross-validation\n",
        "# scoring='accuracy' means we want to optimize for accuracy\n",
        "grid_search_lr = GridSearchCV(\n",
        "    estimator=log_reg_for_grid,\n",
        "    param_grid=param_grid_lr,\n",
        "    scoring='accuracy',\n",
        "    cv=5,         # 5-fold cross-validation\n",
        "    verbose=1,    # To see some output during the process\n",
        "    n_jobs=-1     # Use all available CPU cores\n",
        ")\n",
        "\n",
        "# Fit GridSearchCV to the training data\n",
        "grid_search_lr.fit(X_train_cancer_scaled, y_train_cancer)\n",
        "\n",
        "# Print the best parameters found by GridSearchCV\n",
        "print(f\"\\nDataset: Breast Cancer\")\n",
        "print(f\"Best parameters found by GridSearchCV: {grid_search_lr.best_params_}\")\n",
        "\n",
        "# Print the best cross-validation accuracy\n",
        "print(f\"Best cross-validation accuracy: {grid_search_lr.best_score_:.4f}\")\n",
        "\n",
        "# Evaluate the best model found by GridSearchCV on the test set\n",
        "best_lr_model = grid_search_lr.best_estimator_\n",
        "y_pred_best_lr = best_lr_model.predict(X_test_cancer_scaled)\n",
        "test_accuracy_best_lr = accuracy_score(y_test_cancer, y_pred_best_lr)\n",
        "print(f\"Test set accuracy of the best model: {test_accuracy_best_lr:.4f}\")"
      ],
      "metadata": {
        "id": "vPJ535E6-CR3"
      },
      "execution_count": null,
      "outputs": []
    },
    {
      "cell_type": "markdown",
      "source": [
        "7. Write a Python program to evaluate Logistic Regression using Stratified K-Fold Cross-Validation. Print the average accuracy."
      ],
      "metadata": {
        "id": "ATEus0Ba-JJX"
      }
    },
    {
      "cell_type": "code",
      "source": [
        "# Using the 'penguins' dataset from seaborn for a potentially more challenging classification.\n",
        "penguins = sns.load_dataset('penguins')\n",
        "\n",
        "# Preprocessing:\n",
        "# Drop rows with any missing values for simplicity in this example\n",
        "penguins_df = penguins.dropna().copy()\n",
        "\n",
        "# Encode categorical features (island, sex)\n",
        "penguins_df = pd.get_dummies(penguins_df, columns=['island', 'sex'], drop_first=True)\n",
        "\n",
        "# Encode the target variable 'species'\n",
        "le_penguins = LabelEncoder()\n",
        "penguins_df['species_encoded'] = le_penguins.fit_transform(penguins_df['species'])\n",
        "\n",
        "# Define features (X) and target (y)\n",
        "X_penguins = penguins_df.drop(['species', 'species_encoded'], axis=1)\n",
        "y_penguins = penguins_df['species_encoded']\n",
        "\n",
        "# Scale the features\n",
        "scaler_penguins = StandardScaler()\n",
        "X_penguins_scaled = scaler_penguins.fit_transform(X_penguins)\n",
        "\n",
        "# Initialize Logistic Regression model\n",
        "# Using 'lbfgs' solver which supports multinomial for multiclass problems by default.\n",
        "log_reg_cv = LogisticRegression(random_state=42, solver='lbfgs', multi_class='auto', max_iter=1000)\n",
        "\n",
        "# Initialize Stratified K-Fold cross-validator\n",
        "# n_splits=5 means 5 folds. shuffle=True shuffles data before splitting.\n",
        "# random_state for reproducibility.\n",
        "skf = StratifiedKFold(n_splits=5, shuffle=True, random_state=42)\n",
        "\n",
        "# Perform cross-validation and get accuracy scores for each fold\n",
        "# cross_val_score handles the splitting, training, and scoring for each fold.\n",
        "cv_accuracies = cross_val_score(log_reg_cv, X_penguins_scaled, y_penguins, cv=skf, scoring='accuracy')\n",
        "\n",
        "# Print the accuracy for each fold and the average accuracy\n",
        "print(f\"Dataset: Penguins (Multiclass)\")\n",
        "print(f\"Accuracies for each fold: {cv_accuracies}\")\n",
        "print(f\"Average cross-validation accuracy: {cv_accuracies.mean():.4f}\")\n",
        "print(f\"Standard deviation of cross-validation accuracy: {cv_accuracies.std():.4f}\")"
      ],
      "metadata": {
        "colab": {
          "base_uri": "https://localhost:8080/"
        },
        "id": "CQxwj7XO-Muc",
        "outputId": "8d552e70-cf7c-41cd-878f-c6a3fe6c8a90"
      },
      "execution_count": 8,
      "outputs": [
        {
          "output_type": "stream",
          "name": "stdout",
          "text": [
            "Dataset: Penguins (Multiclass)\n",
            "Accuracies for each fold: [0.97014925 1.         1.         1.         0.98484848]\n",
            "Average cross-validation accuracy: 0.9910\n",
            "Standard deviation of cross-validation accuracy: 0.0120\n"
          ]
        },
        {
          "output_type": "stream",
          "name": "stderr",
          "text": [
            "/usr/local/lib/python3.11/dist-packages/sklearn/linear_model/_logistic.py:1247: FutureWarning: 'multi_class' was deprecated in version 1.5 and will be removed in 1.7. From then on, it will always use 'multinomial'. Leave it to its default value to avoid this warning.\n",
            "  warnings.warn(\n",
            "/usr/local/lib/python3.11/dist-packages/sklearn/linear_model/_logistic.py:1247: FutureWarning: 'multi_class' was deprecated in version 1.5 and will be removed in 1.7. From then on, it will always use 'multinomial'. Leave it to its default value to avoid this warning.\n",
            "  warnings.warn(\n",
            "/usr/local/lib/python3.11/dist-packages/sklearn/linear_model/_logistic.py:1247: FutureWarning: 'multi_class' was deprecated in version 1.5 and will be removed in 1.7. From then on, it will always use 'multinomial'. Leave it to its default value to avoid this warning.\n",
            "  warnings.warn(\n",
            "/usr/local/lib/python3.11/dist-packages/sklearn/linear_model/_logistic.py:1247: FutureWarning: 'multi_class' was deprecated in version 1.5 and will be removed in 1.7. From then on, it will always use 'multinomial'. Leave it to its default value to avoid this warning.\n",
            "  warnings.warn(\n",
            "/usr/local/lib/python3.11/dist-packages/sklearn/linear_model/_logistic.py:1247: FutureWarning: 'multi_class' was deprecated in version 1.5 and will be removed in 1.7. From then on, it will always use 'multinomial'. Leave it to its default value to avoid this warning.\n",
            "  warnings.warn(\n"
          ]
        }
      ]
    },
    {
      "cell_type": "markdown",
      "source": [
        "8. Write a Python program to load a dataset from a CSV file, apply Logistic Regression, and evaluate its accuracy."
      ],
      "metadata": {
        "id": "wjJUnPjD-O-P"
      }
    },
    {
      "cell_type": "code",
      "source": [
        "# Step 1: Create a dummy CSV file\n",
        "data_for_csv = {\n",
        "    'feature1': np.random.rand(100) * 10,\n",
        "    'feature2': np.random.rand(100) * 5,\n",
        "    'feature3': np.random.rand(100) + 1,\n",
        "    'target': np.random.randint(0, 2, 100) # Binary target\n",
        "}\n",
        "df_to_csv = pd.DataFrame(data_for_csv)\n",
        "csv_file_path = 'dummy_dataset.csv'\n",
        "df_to_csv.to_csv(csv_file_path, index=False)\n",
        "print(f\"Dummy CSV file created at: {csv_file_path}\")\n",
        "\n",
        "# Step 2: Load the dataset from the CSV file, apply Logistic Regression, and evaluate\n",
        "# Load the dataset\n",
        "try:\n",
        "    loaded_df = pd.read_csv(csv_file_path)\n",
        "    print(\"\\nDataset loaded successfully from CSV.\")\n",
        "except FileNotFoundError:\n",
        "    print(f\"Error: The file {csv_file_path} was not found.\")\n",
        "    # Exit or handle error appropriately if file not found\n",
        "    exit()\n",
        "\n",
        "\n",
        "# Define features (X) and target (y)\n",
        "# Assuming the last column is the target and others are features\n",
        "X_from_csv = loaded_df.iloc[:, :-1] # All columns except the last\n",
        "y_from_csv = loaded_df.iloc[:, -1]  # The last column\n",
        "\n",
        "# Check if target is binary\n",
        "if y_from_csv.nunique() != 2:\n",
        "    print(f\"Warning: The target variable does not seem to be binary (unique values: {y_from_csv.unique()}).\")\n",
        "    # For this example, we'll proceed assuming it's meant for binary classification\n",
        "    # or that Logistic Regression will handle it (e.g. if it's multiclass and solver supports it)\n",
        "\n",
        "# Split the dataset\n",
        "X_train_csv, X_test_csv, y_train_csv, y_test_csv = train_test_split(\n",
        "    X_from_csv, y_from_csv, test_size=0.25, random_state=42, stratify=y_from_csv if y_from_csv.nunique() > 1 else None\n",
        ")\n",
        "\n",
        "# Scale features (good practice)\n",
        "scaler_csv = StandardScaler()\n",
        "X_train_csv_scaled = scaler_csv.fit_transform(X_train_csv)\n",
        "X_test_csv_scaled = scaler_csv.transform(X_test_csv)\n",
        "\n",
        "# Initialize and train Logistic Regression model\n",
        "log_reg_csv_model = LogisticRegression(random_state=42, solver='liblinear')\n",
        "log_reg_csv_model.fit(X_train_csv_scaled, y_train_csv)\n",
        "\n",
        "# Make predictions\n",
        "y_pred_csv = log_reg_csv_model.predict(X_test_csv_scaled)\n",
        "\n",
        "# Evaluate accuracy\n",
        "accuracy_csv = accuracy_score(y_test_csv, y_pred_csv)\n",
        "print(f\"\\nDataset: Loaded from {csv_file_path}\")\n",
        "print(f\"Logistic Regression Model Accuracy: {accuracy_csv:.4f}\")\n",
        "print(\"\\nClassification Report:\")\n",
        "print(classification_report(y_test_csv, y_pred_csv))"
      ],
      "metadata": {
        "colab": {
          "base_uri": "https://localhost:8080/"
        },
        "id": "0rppsHO3-R-q",
        "outputId": "da0175f3-b8c1-4e38-edd3-b4f1b9df142c"
      },
      "execution_count": 9,
      "outputs": [
        {
          "output_type": "stream",
          "name": "stdout",
          "text": [
            "Dummy CSV file created at: dummy_dataset.csv\n",
            "\n",
            "Dataset loaded successfully from CSV.\n",
            "\n",
            "Dataset: Loaded from dummy_dataset.csv\n",
            "Logistic Regression Model Accuracy: 0.6000\n",
            "\n",
            "Classification Report:\n",
            "              precision    recall  f1-score   support\n",
            "\n",
            "           0       0.56      0.45      0.50        11\n",
            "           1       0.62      0.71      0.67        14\n",
            "\n",
            "    accuracy                           0.60        25\n",
            "   macro avg       0.59      0.58      0.58        25\n",
            "weighted avg       0.59      0.60      0.59        25\n",
            "\n"
          ]
        }
      ]
    },
    {
      "cell_type": "markdown",
      "source": [
        "9. Write a Python program to apply RandomizedSearchCV for tuning hyperparameters (C, penalty, solver) in Logistic Regression. Print the best parameters and accuracy."
      ],
      "metadata": {
        "id": "FYXGzZBC-VFF"
      }
    },
    {
      "cell_type": "code",
      "source": [
        "# Using the 'breast_cancer' dataset and scaled splits from Practical Question 2.\n",
        "# X_train_cancer_scaled, X_test_cancer_scaled, y_train_cancer, y_test_cancer\n",
        "\n",
        "# Define the parameter distributions for RandomizedSearchCV\n",
        "# Note on solvers and penalties:\n",
        "# 'liblinear' supports 'l1', 'l2'\n",
        "# 'saga' supports 'l1', 'l2', 'elasticnet'\n",
        "# 'lbfgs', 'newton-cg', 'sag' support 'l2' or 'none'\n",
        "\n",
        "param_dist_lr = {\n",
        "    'C': [0.001, 0.01, 0.1, 0.5, 1, 5, 10, 50, 100], # List of C values\n",
        "    'penalty': ['l1', 'l2'],\n",
        "    'solver': ['liblinear', 'saga'] # Solvers that can handle both l1 and l2\n",
        "    # We could add 'l1_ratio' if 'elasticnet' was a penalty choice with 'saga'\n",
        "}\n",
        "# For a more exhaustive solver search, you might need conditional parameter grids\n",
        "# or multiple RandomizedSearchCV runs due to solver-penalty compatibility.\n",
        "# For instance, 'lbfgs' only with 'l2'.\n",
        "\n",
        "# Initialize Logistic Regression model\n",
        "log_reg_for_random = LogisticRegression(random_state=42, max_iter=5000) # Increased max_iter for saga\n",
        "\n",
        "# Initialize RandomizedSearchCV\n",
        "# n_iter: Number of parameter settings that are sampled.\n",
        "# cv=5: 5-fold cross-validation\n",
        "random_search_lr = RandomizedSearchCV(\n",
        "    estimator=log_reg_for_random,\n",
        "    param_distributions=param_dist_lr,\n",
        "    n_iter=20,  # Number of parameter combinations to try (e.g., 20)\n",
        "    scoring='accuracy',\n",
        "    cv=5,\n",
        "    verbose=1,\n",
        "    random_state=42,\n",
        "    n_jobs=-1\n",
        ")\n",
        "\n",
        "# Fit RandomizedSearchCV to the training data\n",
        "# This might produce warnings if some combinations of solver and penalty are incompatible.\n",
        "# RandomizedSearchCV will skip incompatible ones if the estimator raises an error.\n",
        "# A more robust way is to define a list of parameter dictionaries if solvers have strict penalty compatibilities.\n",
        "print(\"Starting RandomizedSearchCV... This might show warnings for incompatible solver/penalty pairs.\")\n",
        "random_search_lr.fit(X_train_cancer_scaled, y_train_cancer)\n",
        "\n",
        "# Print the best parameters found\n",
        "print(f\"\\nDataset: Breast Cancer\")\n",
        "print(f\"Best parameters found by RandomizedSearchCV: {random_search_lr.best_params_}\")\n",
        "\n",
        "# Print the best cross-validation accuracy\n",
        "print(f\"Best cross-validation accuracy: {random_search_lr.best_score_:.4f}\")\n",
        "\n",
        "# Evaluate the best model on the test set\n",
        "best_lr_model_random = random_search_lr.best_estimator_\n",
        "y_pred_best_lr_random = best_lr_model_random.predict(X_test_cancer_scaled)\n",
        "test_accuracy_best_lr_random = accuracy_score(y_test_cancer, y_pred_best_lr_random)\n",
        "print(f\"Test set accuracy of the best model from RandomizedSearch: {test_accuracy_best_lr_random:.4f}\")"
      ],
      "metadata": {
        "colab": {
          "base_uri": "https://localhost:8080/"
        },
        "id": "ZX2WOJYP-Zf6",
        "outputId": "8a5a4d69-445e-4c62-dafa-5797e3d75f30"
      },
      "execution_count": 10,
      "outputs": [
        {
          "output_type": "stream",
          "name": "stdout",
          "text": [
            "Starting RandomizedSearchCV... This might show warnings for incompatible solver/penalty pairs.\n",
            "Fitting 5 folds for each of 20 candidates, totalling 100 fits\n",
            "\n",
            "Dataset: Breast Cancer\n",
            "Best parameters found by RandomizedSearchCV: {'solver': 'liblinear', 'penalty': 'l1', 'C': 0.5}\n",
            "Best cross-validation accuracy: 0.9824\n",
            "Test set accuracy of the best model from RandomizedSearch: 0.9649\n"
          ]
        }
      ]
    },
    {
      "cell_type": "markdown",
      "source": [
        "10. Write a Python program to implement One-vs-One (OvO) Multiclass Logistic Regression and print accuracy."
      ],
      "metadata": {
        "id": "ruWzHOts-bvC"
      }
    },
    {
      "cell_type": "code",
      "source": [
        "from sklearn.multiclass import OneVsOneClassifier\n",
        "\n",
        "# Using the full 'iris' dataset (3 classes) and scaled splits from Practical Question 5\n",
        "# X_train_multi_scaled, X_test_multi_scaled, y_train_multi, y_test_multi\n",
        "# le_multi (LabelEncoder for iris species)\n",
        "\n",
        "# Initialize a base Logistic Regression model\n",
        "# This will be used by OneVsOneClassifier for each pair of classes.\n",
        "# For OvO, each binary classifier can be simpler. 'liblinear' is a good choice.\n",
        "base_log_reg_for_ovo = LogisticRegression(solver='liblinear', C=1.0, random_state=42)\n",
        "\n",
        "# Initialize OneVsOneClassifier with the base Logistic Regression model\n",
        "ovo_classifier = OneVsOneClassifier(base_log_reg_for_ovo)\n",
        "\n",
        "# Train the OvO model\n",
        "ovo_classifier.fit(X_train_multi_scaled, y_train_multi)\n",
        "\n",
        "# Make predictions\n",
        "y_pred_ovo = ovo_classifier.predict(X_test_multi_scaled)\n",
        "\n",
        "# Calculate and print model accuracy\n",
        "accuracy_ovo = accuracy_score(y_test_multi, y_pred_ovo)\n",
        "print(f\"Dataset: Iris (Multiclass)\")\n",
        "print(f\"One-vs-One (OvO) Logistic Regression Accuracy: {accuracy_ovo:.4f}\")\n",
        "\n",
        "# Show classification report\n",
        "print(\"\\nClassification Report (OvO):\")\n",
        "print(classification_report(y_test_multi, y_pred_ovo, target_names=le_multi.classes_))\n",
        "\n",
        "# The OvO classifier trains N * (N-1) / 2 models for N classes.\n",
        "# For Iris (3 classes), it trains 3 * (3-1) / 2 = 3 binary classifiers.\n",
        "print(f\"\\nNumber of base estimators in OvO: {len(ovo_classifier.estimators_)}\")"
      ],
      "metadata": {
        "colab": {
          "base_uri": "https://localhost:8080/"
        },
        "id": "4cL_eRgw-mp0",
        "outputId": "dabd0cd5-57ad-4795-a37e-ba1f311fa4c7"
      },
      "execution_count": 11,
      "outputs": [
        {
          "output_type": "stream",
          "name": "stdout",
          "text": [
            "Dataset: Iris (Multiclass)\n",
            "One-vs-One (OvO) Logistic Regression Accuracy: 0.8889\n",
            "\n",
            "Classification Report (OvO):\n",
            "              precision    recall  f1-score   support\n",
            "\n",
            "      setosa       1.00      1.00      1.00        15\n",
            "  versicolor       0.81      0.87      0.84        15\n",
            "   virginica       0.86      0.80      0.83        15\n",
            "\n",
            "    accuracy                           0.89        45\n",
            "   macro avg       0.89      0.89      0.89        45\n",
            "weighted avg       0.89      0.89      0.89        45\n",
            "\n",
            "\n",
            "Number of base estimators in OvO: 3\n"
          ]
        }
      ]
    },
    {
      "cell_type": "markdown",
      "source": [
        "11. Write a Python program to train a Logistic Regression model and visualize the confusion matrix for binary classification."
      ],
      "metadata": {
        "id": "u-OdJPEU-pFD"
      }
    },
    {
      "cell_type": "code",
      "source": [
        "from sklearn.metrics import ConfusionMatrixDisplay\n",
        "\n",
        "# Using the 'breast_cancer' dataset and scaled splits from Practical Question 2\n",
        "# X_train_cancer_scaled, X_test_cancer_scaled, y_train_cancer, y_test_cancer\n",
        "\n",
        "# Train a simple Logistic Regression model (can be any from previous Qs, e.g., L2 regularized)\n",
        "log_reg_for_cm = LogisticRegression(penalty='l2', C=1.0, solver='lbfgs', random_state=42, max_iter=1000)\n",
        "log_reg_for_cm.fit(X_train_cancer_scaled, y_train_cancer)\n",
        "\n",
        "# Make predictions on the test set\n",
        "y_pred_cm = log_reg_for_cm.predict(X_test_cancer_scaled)\n",
        "\n",
        "# Compute the confusion matrix\n",
        "cm = confusion_matrix(y_test_cancer, y_pred_cm)\n",
        "print(f\"Dataset: Breast Cancer (Binary Classification)\")\n",
        "print(\"Confusion Matrix:\")\n",
        "print(cm)\n",
        "\n",
        "# Visualize the confusion matrix\n",
        "disp = ConfusionMatrixDisplay(confusion_matrix=cm, display_labels=cancer.target_names)\n",
        "disp.plot(cmap=plt.cm.Blues)\n",
        "plt.title(\"Confusion Matrix - Logistic Regression (Breast Cancer)\")\n",
        "plt.show()\n",
        "\n",
        "# Also print accuracy for context\n",
        "accuracy_cm = accuracy_score(y_test_cancer, y_pred_cm)\n",
        "print(f\"Model Accuracy: {accuracy_cm:.4f}\")"
      ],
      "metadata": {
        "colab": {
          "base_uri": "https://localhost:8080/",
          "height": 552
        },
        "id": "4lwfROZ0-tFA",
        "outputId": "0abd0b02-8d78-4299-f136-834e47f2e8fb"
      },
      "execution_count": 12,
      "outputs": [
        {
          "output_type": "stream",
          "name": "stdout",
          "text": [
            "Dataset: Breast Cancer (Binary Classification)\n",
            "Confusion Matrix:\n",
            "[[ 63   1]\n",
            " [  1 106]]\n"
          ]
        },
        {
          "output_type": "display_data",
          "data": {
            "text/plain": [
              "<Figure size 640x480 with 2 Axes>"
            ],
            "image/png": "[encoded data removed]"
          },
          "metadata": {}
        },
        {
          "output_type": "stream",
          "name": "stdout",
          "text": [
            "Model Accuracy: 0.9883\n"
          ]
        }
      ]
    },
    {
      "cell_type": "markdown",
      "source": [
        "12. Write a Python program to train a Logistic Regression model and evaluate its performance using Precision, Recall, and F1-Score."
      ],
      "metadata": {
        "id": "zBWpbMZs-v7r"
      }
    },
    {
      "cell_type": "code",
      "source": [
        "from sklearn.metrics import precision_score, recall_score, f1_score\n",
        "\n",
        "# Using the 'breast_cancer' dataset and the model from Q11 (log_reg_for_cm)\n",
        "# y_test_cancer (true labels), y_pred_cm (predicted labels)\n",
        "\n",
        "print(f\"Dataset: Breast Cancer (Binary Classification)\")\n",
        "\n",
        "# Using classification_report (comprehensive)\n",
        "print(\"\\nClassification Report:\")\n",
        "# target_names are ['malignant', 'benign'] where malignant is 0, benign is 1.\n",
        "# So, for positive class (label 1, 'benign'):\n",
        "report = classification_report(y_test_cancer, y_pred_cm, target_names=cancer.target_names)\n",
        "print(report)\n",
        "\n",
        "# Calculating individual metrics for the positive class (label 1, which is 'benign' in this dataset)\n",
        "# By default, these functions assume the positive class label is 1 for binary classification.\n",
        "# If your positive class is 0, use pos_label=0.\n",
        "precision_positive = precision_score(y_test_cancer, y_pred_cm, pos_label=1)\n",
        "recall_positive = recall_score(y_test_cancer, y_pred_cm, pos_label=1)\n",
        "f1_positive = f1_score(y_test_cancer, y_pred_cm, pos_label=1)\n",
        "\n",
        "print(f\"\\nIndividual Metrics for Positive Class ('{cancer.target_names[1]}'):\")\n",
        "print(f\"Precision: {precision_positive:.4f}\")\n",
        "print(f\"Recall (Sensitivity): {recall_positive:.4f}\")\n",
        "print(f\"F1-Score: {f1_positive:.4f}\")\n",
        "\n",
        "# You can also calculate for the other class ('malignant', label 0)\n",
        "precision_negative = precision_score(y_test_cancer, y_pred_cm, pos_label=0)\n",
        "recall_negative = recall_score(y_test_cancer, y_pred_cm, pos_label=0) # This is also Specificity if 0 is negative class\n",
        "f1_negative = f1_score(y_test_cancer, y_pred_cm, pos_label=0)\n",
        "\n",
        "print(f\"\\nIndividual Metrics for Negative Class ('{cancer.target_names[0]}'):\")\n",
        "print(f\"Precision: {precision_negative:.4f}\")\n",
        "print(f\"Recall (Specificity if this is TNR): {recall_negative:.4f}\")\n",
        "print(f\"F1-Score: {f1_negative:.4f}\")"
      ],
      "metadata": {
        "colab": {
          "base_uri": "https://localhost:8080/"
        },
        "id": "3i2VLiWS-zHq",
        "outputId": "7ed12d99-c8ca-4d80-adcf-31b6b1963c7a"
      },
      "execution_count": 13,
      "outputs": [
        {
          "output_type": "stream",
          "name": "stdout",
          "text": [
            "Dataset: Breast Cancer (Binary Classification)\n",
            "\n",
            "Classification Report:\n",
            "              precision    recall  f1-score   support\n",
            "\n",
            "   malignant       0.98      0.98      0.98        64\n",
            "      benign       0.99      0.99      0.99       107\n",
            "\n",
            "    accuracy                           0.99       171\n",
            "   macro avg       0.99      0.99      0.99       171\n",
            "weighted avg       0.99      0.99      0.99       171\n",
            "\n",
            "\n",
            "Individual Metrics for Positive Class ('benign'):\n",
            "Precision: 0.9907\n",
            "Recall (Sensitivity): 0.9907\n",
            "F1-Score: 0.9907\n",
            "\n",
            "Individual Metrics for Negative Class ('malignant'):\n",
            "Precision: 0.9844\n",
            "Recall (Specificity if this is TNR): 0.9844\n",
            "F1-Score: 0.9844\n"
          ]
        }
      ]
    },
    {
      "cell_type": "markdown",
      "source": [
        "13. Write a Python program to train a Logistic Regression model on imbalanced data and apply class weights to improve model performance."
      ],
      "metadata": {
        "id": "TxrLbVc5-1Rp"
      }
    },
    {
      "cell_type": "code",
      "source": [
        "from sklearn.datasets import make_classification\n",
        "\n",
        "# Step 1: Create an imbalanced dataset\n",
        "X_imb, y_imb = make_classification(\n",
        "    n_samples=1000,\n",
        "    n_features=20,\n",
        "    n_informative=2,\n",
        "    n_redundant=10,\n",
        "    n_clusters_per_class=1,\n",
        "    weights=[0.95, 0.05], # 95% majority class, 5% minority class\n",
        "    flip_y=0, # No noise\n",
        "    random_state=42\n",
        ")\n",
        "\n",
        "X_train_imb, X_test_imb, y_train_imb, y_test_imb = train_test_split(\n",
        "    X_imb, y_imb, test_size=0.3, random_state=42, stratify=y_imb\n",
        ")\n",
        "\n",
        "# Scale features\n",
        "scaler_imb = StandardScaler()\n",
        "X_train_imb_scaled = scaler_imb.fit_transform(X_train_imb)\n",
        "X_test_imb_scaled = scaler_imb.transform(X_test_imb)\n",
        "\n",
        "print(f\"Original class distribution in training set: {np.bincount(y_train_imb)}\")\n",
        "print(f\"Original class distribution in test set: {np.bincount(y_test_imb)}\")\n",
        "\n",
        "\n",
        "# Step 2: Train Logistic Regression without class weights\n",
        "log_reg_no_weights = LogisticRegression(solver='liblinear', random_state=42)\n",
        "log_reg_no_weights.fit(X_train_imb_scaled, y_train_imb)\n",
        "y_pred_no_weights = log_reg_no_weights.predict(X_test_imb_scaled)\n",
        "\n",
        "print(\"\\n--- Model WITHOUT Class Weights ---\")\n",
        "print(\"Accuracy:\", accuracy_score(y_test_imb, y_pred_no_weights))\n",
        "print(\"Classification Report:\\n\", classification_report(y_test_imb, y_pred_no_weights, zero_division=0))\n",
        "# Note: zero_division=0 in classification_report handles cases where a class might not be predicted at all.\n",
        "\n",
        "# Step 3: Train Logistic Regression with class weights\n",
        "# 'balanced' automatically adjusts weights inversely proportional to class frequencies\n",
        "log_reg_with_weights = LogisticRegression(\n",
        "    solver='liblinear',\n",
        "    class_weight='balanced', # Key parameter\n",
        "    random_state=42\n",
        ")\n",
        "log_reg_with_weights.fit(X_train_imb_scaled, y_train_imb)\n",
        "y_pred_with_weights = log_reg_with_weights.predict(X_test_imb_scaled)\n",
        "\n",
        "print(\"\\n--- Model WITH Class Weights ('balanced') ---\")\n",
        "print(\"Accuracy:\", accuracy_score(y_test_imb, y_pred_with_weights))\n",
        "print(\"Classification Report:\\n\", classification_report(y_test_imb, y_pred_with_weights, zero_division=0))\n",
        "\n",
        "# Alternatively, you can specify weights manually as a dictionary:\n",
        "# e.g., weights = {0: 1, 1: 10} to give 10x more weight to class 1\n",
        "# from sklearn.utils.class_weight import compute_class_weight\n",
        "# unique_classes = np.unique(y_train_imb)\n",
        "# manual_weights = compute_class_weight(class_weight='balanced', classes=unique_classes, y=y_train_imb)\n",
        "# weight_dict = dict(zip(unique_classes, manual_weights))\n",
        "# print(f\"Manually computed weights: {weight_dict}\")\n",
        "\n",
        "# log_reg_manual_weights = LogisticRegression(\n",
        "#     solver='liblinear',\n",
        "#     class_weight=weight_dict,\n",
        "#     random_state=42\n",
        "# )\n",
        "# log_reg_manual_weights.fit(X_train_imb_scaled, y_train_imb)\n",
        "# y_pred_manual_weights = log_reg_manual_weights.predict(X_test_imb_scaled)\n",
        "\n",
        "# print(\"\\n--- Model WITH Manually Computed Class Weights ---\")\n",
        "# print(\"Accuracy:\", accuracy_score(y_test_imb, y_pred_manual_weights))\n",
        "# print(\"Classification Report:\\n\", classification_report(y_test_imb, y_pred_manual_weights, zero_division=0))"
      ],
      "metadata": {
        "colab": {
          "base_uri": "https://localhost:8080/"
        },
        "id": "WfxU00Ax-4UU",
        "outputId": "c8e798c4-d318-48aa-81ec-01bd0de79428"
      },
      "execution_count": 14,
      "outputs": [
        {
          "output_type": "stream",
          "name": "stdout",
          "text": [
            "Original class distribution in training set: [665  35]\n",
            "Original class distribution in test set: [285  15]\n",
            "\n",
            "--- Model WITHOUT Class Weights ---\n",
            "Accuracy: 0.9866666666666667\n",
            "Classification Report:\n",
            "               precision    recall  f1-score   support\n",
            "\n",
            "           0       0.99      1.00      0.99       285\n",
            "           1       1.00      0.73      0.85        15\n",
            "\n",
            "    accuracy                           0.99       300\n",
            "   macro avg       0.99      0.87      0.92       300\n",
            "weighted avg       0.99      0.99      0.99       300\n",
            "\n",
            "\n",
            "--- Model WITH Class Weights ('balanced') ---\n",
            "Accuracy: 0.9566666666666667\n",
            "Classification Report:\n",
            "               precision    recall  f1-score   support\n",
            "\n",
            "           0       0.99      0.96      0.98       285\n",
            "           1       0.54      0.87      0.67        15\n",
            "\n",
            "    accuracy                           0.96       300\n",
            "   macro avg       0.77      0.91      0.82       300\n",
            "weighted avg       0.97      0.96      0.96       300\n",
            "\n"
          ]
        }
      ]
    },
    {
      "cell_type": "markdown",
      "source": [
        "14. Write a Python program to train Logistic Regression on the Titanic dataset, handle missing values, and evaluate performance."
      ],
      "metadata": {
        "id": "hqEzO679-635"
      }
    },
    {
      "cell_type": "code",
      "source": [
        "# Load the 'titanic' dataset from seaborn\n",
        "titanic_df = sns.load_dataset('titanic')\n",
        "\n",
        "print(\"Original Titanic Dataset Info:\")\n",
        "titanic_df.info()\n",
        "print(\"\\nMissing values before handling:\")\n",
        "print(titanic_df.isnull().sum())\n",
        "\n",
        "# --- Preprocessing and Feature Engineering ---\n",
        "# 1. Select relevant features\n",
        "# We'll use: pclass, sex, age, sibsp, parch, fare, embarked, alone\n",
        "# We'll predict: survived\n",
        "features_to_use = ['pclass', 'sex', 'age', 'sibsp', 'parch', 'fare', 'embarked', 'alone']\n",
        "target = 'survived'\n",
        "\n",
        "df = titanic_df[features_to_use + [target]].copy()\n",
        "\n",
        "# 2. Handle missing values\n",
        "# Age: Impute with the median\n",
        "df['age'].fillna(df['age'].median(), inplace=True)\n",
        "\n",
        "# Embarked: Impute with the mode (most frequent)\n",
        "df['embarked'].fillna(df['embarked'].mode()[0], inplace=True)\n",
        "\n",
        "# 'deck' has too many missing values, so we dropped it by not selecting it.\n",
        "# 'embark_town' is redundant with 'embarked'.\n",
        "\n",
        "print(\"\\nMissing values after handling:\")\n",
        "print(df.isnull().sum())\n",
        "\n",
        "# 3. Convert categorical features to numerical\n",
        "# Sex: map to 0 and 1\n",
        "df['sex'] = df['sex'].map({'male': 0, 'female': 1})\n",
        "\n",
        "# Embarked: one-hot encode\n",
        "df = pd.get_dummies(df, columns=['embarked'], drop_first=True) # drop_first to avoid multicollinearity\n",
        "\n",
        "# Alone: boolean to int\n",
        "df['alone'] = df['alone'].astype(int)\n",
        "\n",
        "# 4. Define Features (X) and Target (y)\n",
        "X_titanic = df.drop(target, axis=1)\n",
        "y_titanic = df[target]\n",
        "\n",
        "# Ensure all columns are numeric now\n",
        "print(\"\\nData types after conversion:\")\n",
        "print(X_titanic.dtypes)\n",
        "\n",
        "\n",
        "# 5. Split data\n",
        "X_train_titanic, X_test_titanic, y_train_titanic, y_test_titanic = train_test_split(\n",
        "    X_titanic, y_titanic, test_size=0.3, random_state=42, stratify=y_titanic\n",
        ")\n",
        "\n",
        "# 6. Scale numerical features (Age and Fare in this case)\n",
        "# It's good practice to scale features for Logistic Regression\n",
        "scaler_titanic = StandardScaler()\n",
        "# Fit on training data and transform both training and testing data\n",
        "# Identify numerical columns to scale, excluding already encoded binary/boolean columns\n",
        "numerical_cols = ['age', 'fare', 'pclass', 'sibsp', 'parch'] # pclass, sibsp, parch are ordinal but often scaled\n",
        "cols_to_scale = [col for col in numerical_cols if col in X_train_titanic.columns]\n",
        "\n",
        "\n",
        "X_train_titanic_scaled = X_train_titanic.copy()\n",
        "X_test_titanic_scaled = X_test_titanic.copy()\n",
        "\n",
        "if cols_to_scale: # Proceed only if there are columns to scale\n",
        "    X_train_titanic_scaled[cols_to_scale] = scaler_titanic.fit_transform(X_train_titanic[cols_to_scale])\n",
        "    X_test_titanic_scaled[cols_to_scale] = scaler_titanic.transform(X_test_titanic[cols_to_scale])\n",
        "else:\n",
        "    print(\"No columns identified for scaling.\")\n",
        "\n",
        "\n",
        "# --- Train Logistic Regression Model ---\n",
        "log_reg_titanic = LogisticRegression(solver='liblinear', random_state=42, C=0.5, penalty='l1')\n",
        "log_reg_titanic.fit(X_train_titanic_scaled, y_train_titanic)\n",
        "\n",
        "# --- Evaluate Performance ---\n",
        "y_pred_titanic = log_reg_titanic.predict(X_test_titanic_scaled)\n",
        "accuracy_titanic = accuracy_score(y_test_titanic, y_pred_titanic)\n",
        "\n",
        "print(f\"\\nDataset: Titanic\")\n",
        "print(f\"Logistic Regression Model Accuracy: {accuracy_titanic:.4f}\")\n",
        "print(\"\\nClassification Report (Titanic):\")\n",
        "print(classification_report(y_test_titanic, y_pred_titanic))\n",
        "\n",
        "print(\"\\nConfusion Matrix (Titanic):\")\n",
        "cm_titanic = confusion_matrix(y_test_titanic, y_pred_titanic)\n",
        "disp_titanic = ConfusionMatrixDisplay(confusion_matrix=cm_titanic)\n",
        "disp_titanic.plot(cmap=plt.cm.Blues)\n",
        "plt.title(\"Confusion Matrix - Logistic Regression (Titanic)\")\n",
        "plt.show()"
      ],
      "metadata": {
        "colab": {
          "base_uri": "https://localhost:8080/",
          "height": 1000
        },
        "id": "-kYaCgWN--er",
        "outputId": "f980d374-b648-4a39-fa64-89c24c6dcef0"
      },
      "execution_count": 15,
      "outputs": [
        {
          "output_type": "stream",
          "name": "stdout",
          "text": [
            "Original Titanic Dataset Info:\n",
            "<class 'pandas.core.frame.DataFrame'>\n",
            "RangeIndex: 891 entries, 0 to 890\n",
            "Data columns (total 15 columns):\n",
            " #   Column       Non-Null Count  Dtype   \n",
            "---  ------       --------------  -----   \n",
            " 0   survived     891 non-null    int64   \n",
            " 1   pclass       891 non-null    int64   \n",
            " 2   sex          891 non-null    object  \n",
            " 3   age          714 non-null    float64 \n",
            " 4   sibsp        891 non-null    int64   \n",
            " 5   parch        891 non-null    int64   \n",
            " 6   fare         891 non-null    float64 \n",
            " 7   embarked     889 non-null    object  \n",
            " 8   class        891 non-null    category\n",
            " 9   who          891 non-null    object  \n",
            " 10  adult_male   891 non-null    bool    \n",
            " 11  deck         203 non-null    category\n",
            " 12  embark_town  889 non-null    object  \n",
            " 13  alive        891 non-null    object  \n",
            " 14  alone        891 non-null    bool    \n",
            "dtypes: bool(2), category(2), float64(2), int64(4), object(5)\n",
            "memory usage: 80.7+ KB\n",
            "\n",
            "Missing values before handling:\n",
            "survived         0\n",
            "pclass           0\n",
            "sex              0\n",
            "age            177\n",
            "sibsp            0\n",
            "parch            0\n",
            "fare             0\n",
            "embarked         2\n",
            "class            0\n",
            "who              0\n",
            "adult_male       0\n",
            "deck           688\n",
            "embark_town      2\n",
            "alive            0\n",
            "alone            0\n",
            "dtype: int64\n",
            "\n",
            "Missing values after handling:\n",
            "pclass      0\n",
            "sex         0\n",
            "age         0\n",
            "sibsp       0\n",
            "parch       0\n",
            "fare        0\n",
            "embarked    0\n",
            "alone       0\n",
            "survived    0\n",
            "dtype: int64\n",
            "\n",
            "Data types after conversion:\n",
            "pclass          int64\n",
            "sex             int64\n",
            "age           float64\n",
            "sibsp           int64\n",
            "parch           int64\n",
            "fare          float64\n",
            "alone           int64\n",
            "embarked_Q       bool\n",
            "embarked_S       bool\n",
            "dtype: object\n",
            "\n",
            "Dataset: Titanic\n",
            "Logistic Regression Model Accuracy: 0.8060\n",
            "\n",
            "Classification Report (Titanic):\n",
            "              precision    recall  f1-score   support\n",
            "\n",
            "           0       0.83      0.85      0.84       165\n",
            "           1       0.76      0.73      0.74       103\n",
            "\n",
            "    accuracy                           0.81       268\n",
            "   macro avg       0.80      0.79      0.79       268\n",
            "weighted avg       0.80      0.81      0.81       268\n",
            "\n",
            "\n",
            "Confusion Matrix (Titanic):\n"
          ]
        },
        {
          "output_type": "stream",
          "name": "stderr",
          "text": [
            "<ipython-input-15-8a8aca50644f>:20: FutureWarning: A value is trying to be set on a copy of a DataFrame or Series through chained assignment using an inplace method.\n",
            "The behavior will change in pandas 3.0. This inplace method will never work because the intermediate object on which we are setting values always behaves as a copy.\n",
            "\n",
            "For example, when doing 'df[col].method(value, inplace=True)', try using 'df.method({col: value}, inplace=True)' or df[col] = df[col].method(value) instead, to perform the operation inplace on the original object.\n",
            "\n",
            "\n",
            "  df['age'].fillna(df['age'].median(), inplace=True)\n",
            "<ipython-input-15-8a8aca50644f>:23: FutureWarning: A value is trying to be set on a copy of a DataFrame or Series through chained assignment using an inplace method.\n",
            "The behavior will change in pandas 3.0. This inplace method will never work because the intermediate object on which we are setting values always behaves as a copy.\n",
            "\n",
            "For example, when doing 'df[col].method(value, inplace=True)', try using 'df.method({col: value}, inplace=True)' or df[col] = df[col].method(value) instead, to perform the operation inplace on the original object.\n",
            "\n",
            "\n",
            "  df['embarked'].fillna(df['embarked'].mode()[0], inplace=True)\n"
          ]
        },
        {
          "output_type": "display_data",
          "data": {
            "text/plain": [
              "<Figure size 640x480 with 2 Axes>"
            ],
            "image/png": "[encoded data removed]"
          },
          "metadata": {}
        }
      ]
    },
    {
      "cell_type": "markdown",
      "source": [
        "15. Write a Python program to apply feature scaling (Standardization) before training a Logistic Regression model. Evaluate its accuracy and compare results with and without scaling."
      ],
      "metadata": {
        "id": "CcqNk3cm_Bla"
      }
    },
    {
      "cell_type": "code",
      "source": [
        "# Using the 'wine' dataset from scikit-learn (multiclass)\n",
        "from sklearn.datasets import load_wine\n",
        "wine = load_wine()\n",
        "df_wine = pd.DataFrame(wine.data, columns=wine.feature_names)\n",
        "df_wine['target'] = wine.target\n",
        "\n",
        "# Define features (X) and target (y)\n",
        "X_wine = df_wine.drop('target', axis=1)\n",
        "y_wine = df_wine['target']\n",
        "\n",
        "# Split the dataset\n",
        "X_train_w, X_test_w, y_train_w, y_test_w = train_test_split(\n",
        "    X_wine, y_wine, test_size=0.3, random_state=42, stratify=y_wine\n",
        ")\n",
        "\n",
        "# --- Model WITHOUT Feature Scaling ---\n",
        "log_reg_no_scale = LogisticRegression(solver='lbfgs', multi_class='auto', random_state=42, max_iter=5000)\n",
        "log_reg_no_scale.fit(X_train_w, y_train_w)\n",
        "y_pred_no_scale = log_reg_no_scale.predict(X_test_w)\n",
        "accuracy_no_scale = accuracy_score(y_test_w, y_pred_no_scale)\n",
        "\n",
        "print(f\"Dataset: Wine (Multiclass)\")\n",
        "print(f\"Accuracy WITHOUT Feature Scaling: {accuracy_no_scale:.4f}\")\n",
        "# print(\"Coefficients WITHOUT scaling (first 5 features):\", log_reg_no_scale.coef_[0, :5])\n",
        "\n",
        "\n",
        "# --- Model WITH Feature Scaling (Standardization) ---\n",
        "scaler_wine = StandardScaler()\n",
        "X_train_w_scaled = scaler_wine.fit_transform(X_train_w)\n",
        "X_test_w_scaled = scaler_wine.transform(X_test_w)\n",
        "\n",
        "log_reg_with_scale = LogisticRegression(solver='lbfgs', multi_class='auto', random_state=42, max_iter=5000)\n",
        "log_reg_with_scale.fit(X_train_w_scaled, y_train_w)\n",
        "y_pred_with_scale = log_reg_with_scale.predict(X_test_w_scaled)\n",
        "accuracy_with_scale = accuracy_score(y_test_w, y_pred_with_scale)\n",
        "\n",
        "print(f\"Accuracy WITH Feature Scaling (Standardization): {accuracy_with_scale:.4f}\")\n",
        "# print(\"Coefficients WITH scaling (first 5 features):\", log_reg_with_scale.coef_[0, :5])\n",
        "\n",
        "\n",
        "# --- Comparison ---\n",
        "print(\"\\nComparison:\")\n",
        "if accuracy_with_scale > accuracy_no_scale:\n",
        "    print(\"Feature scaling improved accuracy.\")\n",
        "elif accuracy_with_scale < accuracy_no_scale:\n",
        "    print(\"Feature scaling decreased accuracy (unusual for LR with regularization/certain solvers, but possible).\")\n",
        "else:\n",
        "    print(\"Feature scaling did not change accuracy significantly.\")\n",
        "\n",
        "# Note: The impact of scaling can depend on the dataset, the solver, and regularization.\n",
        "# For solvers like 'sag' and 'saga', scaling is highly recommended for convergence.\n",
        "# For regularized models (L1/L2), scaling ensures features are penalized appropriately."
      ],
      "metadata": {
        "colab": {
          "base_uri": "https://localhost:8080/"
        },
        "id": "VZRowUrl_HJZ",
        "outputId": "7ce84977-2125-411f-989f-3893462ec690"
      },
      "execution_count": 16,
      "outputs": [
        {
          "output_type": "stream",
          "name": "stderr",
          "text": [
            "/usr/local/lib/python3.11/dist-packages/sklearn/linear_model/_logistic.py:1247: FutureWarning: 'multi_class' was deprecated in version 1.5 and will be removed in 1.7. From then on, it will always use 'multinomial'. Leave it to its default value to avoid this warning.\n",
            "  warnings.warn(\n"
          ]
        },
        {
          "output_type": "stream",
          "name": "stdout",
          "text": [
            "Dataset: Wine (Multiclass)\n",
            "Accuracy WITHOUT Feature Scaling: 0.9630\n",
            "Accuracy WITH Feature Scaling (Standardization): 0.9815\n",
            "\n",
            "Comparison:\n",
            "Feature scaling improved accuracy.\n"
          ]
        },
        {
          "output_type": "stream",
          "name": "stderr",
          "text": [
            "/usr/local/lib/python3.11/dist-packages/sklearn/linear_model/_logistic.py:465: ConvergenceWarning: lbfgs failed to converge (status=1):\n",
            "STOP: TOTAL NO. OF ITERATIONS REACHED LIMIT.\n",
            "\n",
            "Increase the number of iterations (max_iter) or scale the data as shown in:\n",
            "    https://scikit-learn.org/stable/modules/preprocessing.html\n",
            "Please also refer to the documentation for alternative solver options:\n",
            "    https://scikit-learn.org/stable/modules/linear_model.html#logistic-regression\n",
            "  n_iter_i = _check_optimize_result(\n",
            "/usr/local/lib/python3.11/dist-packages/sklearn/linear_model/_logistic.py:1247: FutureWarning: 'multi_class' was deprecated in version 1.5 and will be removed in 1.7. From then on, it will always use 'multinomial'. Leave it to its default value to avoid this warning.\n",
            "  warnings.warn(\n"
          ]
        }
      ]
    },
    {
      "cell_type": "markdown",
      "source": [
        "16. Write a Python program to train Logistic Regression and evaluate its performance using ROC-AUC score."
      ],
      "metadata": {
        "id": "5B4SWCTJ_JsS"
      }
    },
    {
      "cell_type": "code",
      "source": [
        "# Using the 'breast_cancer' dataset (binary) and scaled splits from Practical Question 2.\n",
        "# X_train_cancer_scaled, X_test_cancer_scaled, y_train_cancer, y_test_cancer\n",
        "\n",
        "# Train a Logistic Regression model\n",
        "log_reg_roc = LogisticRegression(solver='liblinear', random_state=42)\n",
        "log_reg_roc.fit(X_train_cancer_scaled, y_train_cancer)\n",
        "\n",
        "# Get predicted probabilities for the positive class (class 1)\n",
        "# roc_auc_score needs probability scores of the positive class.\n",
        "y_pred_proba_roc = log_reg_roc.predict_proba(X_test_cancer_scaled)[:, 1]\n",
        "\n",
        "# Calculate ROC-AUC score\n",
        "roc_auc = roc_auc_score(y_test_cancer, y_pred_proba_roc)\n",
        "print(f\"Dataset: Breast Cancer (Binary Classification)\")\n",
        "print(f\"ROC-AUC Score: {roc_auc:.4f}\")\n",
        "\n",
        "# Visualize the ROC Curve\n",
        "# RocCurveDisplay.from_estimator(log_reg_roc, X_test_cancer_scaled, y_test_cancer)\n",
        "# plt.title('ROC Curve - Logistic Regression (Breast Cancer)')\n",
        "# plt.plot([0, 1], [0, 1], 'k--', label='Random chance') # Line for random guessing\n",
        "# plt.legend()\n",
        "# plt.show()\n",
        "\n",
        "# Alternative way to plot using predicted probabilities\n",
        "from sklearn.metrics import roc_curve\n",
        "fpr, tpr, thresholds = roc_curve(y_test_cancer, y_pred_proba_roc)\n",
        "plt.figure(figsize=(8, 6))\n",
        "plt.plot(fpr, tpr, color='blue', lw=2, label=f'Logistic Regression (AUC = {roc_auc:.2f})')\n",
        "plt.plot([0, 1], [0, 1], color='grey', lw=2, linestyle='--', label='Random Chance')\n",
        "plt.xlim([0.0, 1.0])\n",
        "plt.ylim([0.0, 1.05])\n",
        "plt.xlabel('False Positive Rate (1 - Specificity)')\n",
        "plt.ylabel('True Positive Rate (Sensitivity/Recall)')\n",
        "plt.title('Receiver Operating Characteristic (ROC) Curve')\n",
        "plt.legend(loc=\"lower right\")\n",
        "plt.grid(True)\n",
        "plt.show()"
      ],
      "metadata": {
        "colab": {
          "base_uri": "https://localhost:8080/",
          "height": 592
        },
        "id": "oO2rmaZN_QMY",
        "outputId": "002ee853-8045-4358-be52-1bda64d0bcba"
      },
      "execution_count": 17,
      "outputs": [
        {
          "output_type": "stream",
          "name": "stdout",
          "text": [
            "Dataset: Breast Cancer (Binary Classification)\n",
            "ROC-AUC Score: 0.9981\n"
          ]
        },
        {
          "output_type": "display_data",
          "data": {
            "text/plain": [
              "<Figure size 800x600 with 1 Axes>"
            ],
            "image/png": "[encoded data removed]"
          },
          "metadata": {}
        }
      ]
    },
    {
      "cell_type": "markdown",
      "source": [
        "17. Write a Python program to train Logistic Regression using a custom learning rate (C=0.5) and evaluate accuracy."
      ],
      "metadata": {
        "id": "Nw0slQif_TT3"
      }
    },
    {
      "cell_type": "code",
      "source": [
        "# Using the 'breast_cancer' dataset and scaled splits from Practical Question 2.\n",
        "# X_train_cancer_scaled, X_test_cancer_scaled, y_train_cancer, y_test_cancer\n",
        "\n",
        "# Initialize and train Logistic Regression with C=0.5\n",
        "# We can choose a penalty type, e.g., 'l2' with a compatible solver.\n",
        "log_reg_custom_c = LogisticRegression(\n",
        "    C=0.5,          # Custom inverse of regularization strength\n",
        "    penalty='l2',   # Example: L2 regularization\n",
        "    solver='liblinear', # Solver compatible with L2\n",
        "    random_state=42\n",
        ")\n",
        "log_reg_custom_c.fit(X_train_cancer_scaled, y_train_cancer)\n",
        "\n",
        "# Make predictions\n",
        "y_pred_custom_c = log_reg_custom_c.predict(X_test_cancer_scaled)\n",
        "\n",
        "# Evaluate accuracy\n",
        "accuracy_custom_c = accuracy_score(y_test_cancer, y_pred_custom_c)\n",
        "\n",
        "print(f\"Dataset: Breast Cancer\")\n",
        "print(f\"Logistic Regression Accuracy with C=0.5, penalty='l2', solver='liblinear': {accuracy_custom_c:.4f}\")\n",
        "\n",
        "# For demonstration, let's try another combination with C=0.5\n",
        "log_reg_custom_c_l1 = LogisticRegression(\n",
        "    C=0.5,\n",
        "    penalty='l1',\n",
        "    solver='saga', # Saga supports L1\n",
        "    random_state=42,\n",
        "    max_iter=5000 # Saga might need more iterations\n",
        ")\n",
        "log_reg_custom_c_l1.fit(X_train_cancer_scaled, y_train_cancer)\n",
        "y_pred_custom_c_l1 = log_reg_custom_c_l1.predict(X_test_cancer_scaled)\n",
        "accuracy_custom_c_l1 = accuracy_score(y_test_cancer, y_pred_custom_c_l1)\n",
        "print(f\"Logistic Regression Accuracy with C=0.5, penalty='l1', solver='saga': {accuracy_custom_c_l1:.4f}\")"
      ],
      "metadata": {
        "colab": {
          "base_uri": "https://localhost:8080/"
        },
        "id": "PC5jlIXX_XYP",
        "outputId": "ff9951d3-d2a0-4020-9c6d-e89a076c8262"
      },
      "execution_count": 18,
      "outputs": [
        {
          "output_type": "stream",
          "name": "stdout",
          "text": [
            "Dataset: Breast Cancer\n",
            "Logistic Regression Accuracy with C=0.5, penalty='l2', solver='liblinear': 0.9883\n",
            "Logistic Regression Accuracy with C=0.5, penalty='l1', solver='saga': 0.9708\n"
          ]
        }
      ]
    },
    {
      "cell_type": "markdown",
      "source": [
        "18. Write a Python program to train Logistic Regression and identify important features based on model coefficients."
      ],
      "metadata": {
        "id": "MnHigbuo_Z-H"
      }
    },
    {
      "cell_type": "code",
      "source": [
        "# Using the 'breast_cancer' dataset and scaled splits from Practical Question 2.\n",
        "# X_train_cancer_scaled, X_test_cancer_scaled, y_train_cancer, y_test_cancer\n",
        "# cancer.feature_names contains the names of the features.\n",
        "\n",
        "# Train a Logistic Regression model (L1 regularization is good for feature importance)\n",
        "log_reg_importance = LogisticRegression(\n",
        "    penalty='l1',\n",
        "    C=0.1,  # A moderate to strong C for L1 to see some sparsity\n",
        "    solver='liblinear', # liblinear works well with L1\n",
        "    random_state=42\n",
        ")\n",
        "log_reg_importance.fit(X_train_cancer_scaled, y_train_cancer)\n",
        "\n",
        "# Get the coefficients\n",
        "# For binary classification, coef_ is of shape (1, n_features)\n",
        "coefficients = log_reg_importance.coef_[0]\n",
        "\n",
        "# Create a DataFrame for better visualization\n",
        "feature_importance_df = pd.DataFrame({\n",
        "    'Feature': cancer.feature_names,\n",
        "    'Coefficient': coefficients\n",
        "})\n",
        "\n",
        "# Sort by absolute value of coefficients to see importance\n",
        "feature_importance_df['Absolute Coefficient'] = np.abs(feature_importance_df['Coefficient'])\n",
        "feature_importance_df = feature_importance_df.sort_values(by='Absolute Coefficient', ascending=False)\n",
        "\n",
        "print(\"Dataset: Breast Cancer\")\n",
        "print(\"\\nFeature Importances based on L1 Regularized Logistic Regression Coefficients (C=0.1):\")\n",
        "print(feature_importance_df)\n",
        "\n",
        "# Visualize feature importances\n",
        "plt.figure(figsize=(10, 8))\n",
        "sns.barplot(x='Absolute Coefficient', y='Feature', data=feature_importance_df.head(10), palette='viridis')\n",
        "plt.title('Top 10 Important Features (L1 Logistic Regression)')\n",
        "plt.xlabel('Absolute Magnitude of Coefficient')\n",
        "plt.ylabel('Feature')\n",
        "plt.tight_layout()\n",
        "plt.show()\n",
        "\n",
        "# Identify features with non-zero coefficients (selected by L1)\n",
        "selected_features = feature_importance_df[feature_importance_df['Coefficient'] != 0]\n",
        "print(f\"\\nNumber of features originally: {len(cancer.feature_names)}\")\n",
        "print(f\"Number of features selected by L1 (non-zero coefficient): {len(selected_features)}\")\n",
        "print(\"\\nSelected features:\")\n",
        "print(selected_features[['Feature', 'Coefficient']])"
      ],
      "metadata": {
        "colab": {
          "base_uri": "https://localhost:8080/",
          "height": 1000
        },
        "id": "rVP62dN8_dO3",
        "outputId": "1a1bec59-fd31-4217-df4f-b38baeb06d2e"
      },
      "execution_count": 19,
      "outputs": [
        {
          "output_type": "stream",
          "name": "stdout",
          "text": [
            "Dataset: Breast Cancer\n",
            "\n",
            "Feature Importances based on L1 Regularized Logistic Regression Coefficients (C=0.1):\n",
            "                    Feature  Coefficient  Absolute Coefficient\n",
            "20             worst radius    -2.252041              2.252041\n",
            "27     worst concave points    -0.934264              0.934264\n",
            "21            worst texture    -0.488667              0.488667\n",
            "7       mean concave points    -0.482399              0.482399\n",
            "24         worst smoothness    -0.247396              0.247396\n",
            "28           worst symmetry    -0.175771              0.175771\n",
            "10             radius error    -0.029805              0.029805\n",
            "5          mean compactness     0.000000              0.000000\n",
            "8             mean symmetry     0.000000              0.000000\n",
            "4           mean smoothness     0.000000              0.000000\n",
            "2            mean perimeter     0.000000              0.000000\n",
            "3                 mean area     0.000000              0.000000\n",
            "0               mean radius     0.000000              0.000000\n",
            "1              mean texture     0.000000              0.000000\n",
            "13               area error     0.000000              0.000000\n",
            "12          perimeter error     0.000000              0.000000\n",
            "11            texture error     0.000000              0.000000\n",
            "9    mean fractal dimension     0.000000              0.000000\n",
            "6            mean concavity     0.000000              0.000000\n",
            "17     concave points error     0.000000              0.000000\n",
            "14         smoothness error     0.000000              0.000000\n",
            "15        compactness error     0.000000              0.000000\n",
            "18           symmetry error     0.000000              0.000000\n",
            "19  fractal dimension error     0.000000              0.000000\n",
            "16          concavity error     0.000000              0.000000\n",
            "22          worst perimeter     0.000000              0.000000\n",
            "25        worst compactness     0.000000              0.000000\n",
            "23               worst area     0.000000              0.000000\n",
            "26          worst concavity     0.000000              0.000000\n",
            "29  worst fractal dimension     0.000000              0.000000\n"
          ]
        },
        {
          "output_type": "stream",
          "name": "stderr",
          "text": [
            "<ipython-input-19-39184fc50a80>:34: FutureWarning: \n",
            "\n",
            "Passing `palette` without assigning `hue` is deprecated and will be removed in v0.14.0. Assign the `y` variable to `hue` and set `legend=False` for the same effect.\n",
            "\n",
            "  sns.barplot(x='Absolute Coefficient', y='Feature', data=feature_importance_df.head(10), palette='viridis')\n"
          ]
        },
        {
          "output_type": "display_data",
          "data": {
            "text/plain": [
              "<Figure size 1000x800 with 1 Axes>"
            ],
            "image/png": "[encoded data removed]"
          },
          "metadata": {}
        },
        {
          "output_type": "stream",
          "name": "stdout",
          "text": [
            "\n",
            "Number of features originally: 30\n",
            "Number of features selected by L1 (non-zero coefficient): 7\n",
            "\n",
            "Selected features:\n",
            "                 Feature  Coefficient\n",
            "20          worst radius    -2.252041\n",
            "27  worst concave points    -0.934264\n",
            "21         worst texture    -0.488667\n",
            "7    mean concave points    -0.482399\n",
            "24      worst smoothness    -0.247396\n",
            "28        worst symmetry    -0.175771\n",
            "10          radius error    -0.029805\n"
          ]
        }
      ]
    },
    {
      "cell_type": "markdown",
      "source": [
        "19. Write a Python program to train Logistic Regression and evaluate its performance using Cohen’s Kappa\n",
        "ScoreM"
      ],
      "metadata": {
        "id": "fdDTHGzh_guN"
      }
    },
    {
      "cell_type": "code",
      "source": [
        "import seaborn as sns\n",
        "import pandas as pd\n",
        "from sklearn.model_selection import train_test_split\n",
        "from sklearn.linear_model import LogisticRegression\n",
        "from sklearn.metrics import cohen_kappa_score, classification_report\n",
        "from sklearn.preprocessing import LabelEncoder\n",
        "\n",
        "# Load the Titanic dataset\n",
        "data = sns.load_dataset('titanic')\n",
        "\n",
        "# Drop rows with missing target or relevant features\n",
        "data = data[['survived', 'pclass', 'sex', 'age', 'fare']].dropna()\n",
        "\n",
        "# Encode categorical variable 'sex'\n",
        "data['sex'] = LabelEncoder().fit_transform(data['sex'])  # male=1, female=0\n",
        "\n",
        "# Define features (X) and target (y)\n",
        "X = data[['pclass', 'sex', 'age', 'fare']]\n",
        "y = data['survived']\n",
        "\n",
        "# Split into train and test sets\n",
        "X_train, X_test, y_train, y_test = train_test_split(X, y, test_size=0.2, random_state=42)\n",
        "\n",
        "# Create and train the logistic regression model\n",
        "model = LogisticRegression()\n",
        "model.fit(X_train, y_train)\n",
        "\n",
        "# Make predictions\n",
        "y_pred = model.predict(X_test)\n",
        "\n",
        "# Evaluate using Cohen's Kappa Score\n",
        "kappa_score = cohen_kappa_score(y_test, y_pred)\n",
        "\n",
        "# Display results\n",
        "print(\"Cohen's Kappa Score:\", round(kappa_score, 3))\n",
        "print(\"\\nClassification Report:\")\n",
        "print(classification_report(y_test, y_pred))\n"
      ],
      "metadata": {
        "colab": {
          "base_uri": "https://localhost:8080/"
        },
        "id": "iNb8Q5td_9mI",
        "outputId": "0ca129b2-43d6-49e6-d3f8-76af9bdfd387"
      },
      "execution_count": 20,
      "outputs": [
        {
          "output_type": "stream",
          "name": "stdout",
          "text": [
            "Cohen's Kappa Score: 0.491\n",
            "\n",
            "Classification Report:\n",
            "              precision    recall  f1-score   support\n",
            "\n",
            "           0       0.81      0.78      0.80        87\n",
            "           1       0.68      0.71      0.70        56\n",
            "\n",
            "    accuracy                           0.76       143\n",
            "   macro avg       0.74      0.75      0.75       143\n",
            "weighted avg       0.76      0.76      0.76       143\n",
            "\n"
          ]
        }
      ]
    },
    {
      "cell_type": "markdown",
      "source": [
        "20. Write a Python program to train Logistic Regression and visualize the Precision-Recall Curve for binary\n",
        "classificatio:"
      ],
      "metadata": {
        "id": "nNoAh8NkAHfE"
      }
    },
    {
      "cell_type": "code",
      "source": [
        "import seaborn as sns\n",
        "import pandas as pd\n",
        "import matplotlib.pyplot as plt\n",
        "from sklearn.model_selection import train_test_split\n",
        "from sklearn.linear_model import LogisticRegression\n",
        "from sklearn.metrics import precision_recall_curve, average_precision_score\n",
        "\n",
        "# Load Titanic dataset\n",
        "data = sns.load_dataset('titanic')\n",
        "\n",
        "# Keep relevant features and drop rows with missing values\n",
        "data = data[['survived', 'pclass', 'sex', 'age', 'fare']].dropna()\n",
        "\n",
        "# Encode categorical variable 'sex' (male=1, female=0)\n",
        "data['sex'] = data['sex'].map({'male': 1, 'female': 0})\n",
        "\n",
        "# Define features and target\n",
        "X = data[['pclass', 'sex', 'age', 'fare']]\n",
        "y = data['survived']\n",
        "\n",
        "# Train-test split\n",
        "X_train, X_test, y_train, y_test = train_test_split(X, y, test_size=0.3, random_state=0)\n",
        "\n",
        "# Train Logistic Regression model\n",
        "model = LogisticRegression()\n",
        "model.fit(X_train, y_train)\n",
        "\n",
        "# Predict probabilities for the positive class\n",
        "y_scores = model.predict_proba(X_test)[:, 1]\n",
        "\n",
        "# Compute precision, recall, and thresholds\n",
        "precision, recall, thresholds = precision_recall_curve(y_test, y_scores)\n",
        "average_precision = average_precision_score(y_test, y_scores)\n",
        "\n",
        "# Plot the Precision-Recall Curve\n",
        "plt.figure(figsize=(8, 6))\n",
        "plt.plot(recall, precision, label=f'AP = {average_precision:.2f}')\n",
        "plt.xlabel('Recall')\n",
        "plt.ylabel('Precision')\n",
        "plt.title('Precision-Recall Curve')\n",
        "plt.legend()\n",
        "plt.grid(True)\n",
        "plt.show()\n"
      ],
      "metadata": {
        "colab": {
          "base_uri": "https://localhost:8080/",
          "height": 557
        },
        "id": "p6-dUoYsAKNu",
        "outputId": "77c82162-d03f-4b58-cb97-09d6768fdf5a"
      },
      "execution_count": 21,
      "outputs": [
        {
          "output_type": "display_data",
          "data": {
            "text/plain": [
              "<Figure size 800x600 with 1 Axes>"
            ],
            "image/png": "[encoded data removed]"
          },
          "metadata": {}
        }
      ]
    },
    {
      "cell_type": "markdown",
      "source": [
        "21. Write a Python program to train Logistic Regression with different solvers (liblinear, saga, lbfgs) and compare\n",
        "their accuracyM"
      ],
      "metadata": {
        "id": "rSo6VPzCAPae"
      }
    },
    {
      "cell_type": "code",
      "source": [
        "import seaborn as sns\n",
        "import pandas as pd\n",
        "from sklearn.model_selection import train_test_split\n",
        "from sklearn.linear_model import LogisticRegression\n",
        "from sklearn.metrics import accuracy_score\n",
        "\n",
        "# Load Titanic dataset\n",
        "data = sns.load_dataset('titanic')\n",
        "\n",
        "# Select relevant columns and drop missing values\n",
        "data = data[['survived', 'pclass', 'sex', 'age', 'fare']].dropna()\n",
        "\n",
        "# Encode categorical variable 'sex'\n",
        "data['sex'] = data['sex'].map({'male': 1, 'female': 0})\n",
        "\n",
        "# Define features and target\n",
        "X = data[['pclass', 'sex', 'age', 'fare']]\n",
        "y = data['survived']\n",
        "\n",
        "# Train-test split\n",
        "X_train, X_test, y_train, y_test = train_test_split(X, y, test_size=0.3, random_state=42)\n",
        "\n",
        "# Define solvers to compare\n",
        "solvers = ['liblinear', 'saga', 'lbfgs']\n",
        "accuracy_results = {}\n",
        "\n",
        "# Train and evaluate model for each solver\n",
        "for solver in solvers:\n",
        "    try:\n",
        "        model = LogisticRegression(solver=solver, max_iter=1000)\n",
        "        model.fit(X_train, y_train)\n",
        "        y_pred = model.predict(X_test)\n",
        "        acc = accuracy_score(y_test, y_pred)\n",
        "        accuracy_results[solver] = acc\n",
        "    except Exception as e:\n",
        "        accuracy_results[solver] = f\"Error: {e}\"\n",
        "\n",
        "# Print accuracy comparison\n",
        "print(\"Accuracy Comparison of Logistic Regression Solvers:\")\n",
        "for solver, acc in accuracy_results.items():\n",
        "    print(f\"Solver: {solver.ljust(10)} => Accuracy: {acc}\")\n"
      ],
      "metadata": {
        "colab": {
          "base_uri": "https://localhost:8080/"
        },
        "id": "znUM_1UXAc9m",
        "outputId": "06ba2266-5fbb-4df3-bff1-e0729f700f73"
      },
      "execution_count": 22,
      "outputs": [
        {
          "output_type": "stream",
          "name": "stdout",
          "text": [
            "Accuracy Comparison of Logistic Regression Solvers:\n",
            "Solver: liblinear  => Accuracy: 0.786046511627907\n",
            "Solver: saga       => Accuracy: 0.7209302325581395\n",
            "Solver: lbfgs      => Accuracy: 0.7674418604651163\n"
          ]
        },
        {
          "output_type": "stream",
          "name": "stderr",
          "text": [
            "/usr/local/lib/python3.11/dist-packages/sklearn/linear_model/_sag.py:348: ConvergenceWarning: The max_iter was reached which means the coef_ did not converge\n",
            "  warnings.warn(\n"
          ]
        }
      ]
    },
    {
      "cell_type": "markdown",
      "source": [
        "22.Write a Python program to train Logistic Regression and evaluate its performance using Matthews\n",
        "Correlation Coefficient (MCC)."
      ],
      "metadata": {
        "id": "K66Aju3LAf6g"
      }
    },
    {
      "cell_type": "code",
      "source": [
        "import seaborn as sns\n",
        "import pandas as pd\n",
        "from sklearn.model_selection import train_test_split\n",
        "from sklearn.linear_model import LogisticRegression\n",
        "from sklearn.metrics import matthews_corrcoef, classification_report\n",
        "\n",
        "# Load Titanic dataset\n",
        "data = sns.load_dataset('titanic')\n",
        "\n",
        "# Select relevant columns and drop missing values\n",
        "data = data[['survived', 'pclass', 'sex', 'age', 'fare']].dropna()\n",
        "\n",
        "# Encode categorical variable 'sex' (male=1, female=0)\n",
        "data['sex'] = data['sex'].map({'male': 1, 'female': 0})\n",
        "\n",
        "# Define features and target\n",
        "X = data[['pclass', 'sex', 'age', 'fare']]\n",
        "y = data['survived']\n",
        "\n",
        "# Split into train and test sets\n",
        "X_train, X_test, y_train, y_test = train_test_split(X, y, test_size=0.3, random_state=42)\n",
        "\n",
        "# Train logistic regression model\n",
        "model = LogisticRegression()\n",
        "model.fit(X_train, y_train)\n",
        "\n",
        "# Make predictions\n",
        "y_pred = model.predict(X_test)\n",
        "\n",
        "# Calculate Matthews Correlation Coefficient\n",
        "mcc = matthews_corrcoef(y_test, y_pred)\n",
        "\n",
        "# Display results\n",
        "print(\"Matthews Correlation Coefficient (MCC):\", round(mcc, 3))\n",
        "print(\"\\nClassification Report:\")\n",
        "print(classification_report(y_test, y_pred))\n"
      ],
      "metadata": {
        "colab": {
          "base_uri": "https://localhost:8080/"
        },
        "id": "4LGBaS8ZA4oj",
        "outputId": "82e60bb2-f3d6-4441-ea09-47bf5c3db9c5"
      },
      "execution_count": 23,
      "outputs": [
        {
          "output_type": "stream",
          "name": "stdout",
          "text": [
            "Matthews Correlation Coefficient (MCC): 0.519\n",
            "\n",
            "Classification Report:\n",
            "              precision    recall  f1-score   support\n",
            "\n",
            "           0       0.80      0.81      0.80       126\n",
            "           1       0.72      0.71      0.72        89\n",
            "\n",
            "    accuracy                           0.77       215\n",
            "   macro avg       0.76      0.76      0.76       215\n",
            "weighted avg       0.77      0.77      0.77       215\n",
            "\n"
          ]
        }
      ]
    },
    {
      "cell_type": "markdown",
      "source": [
        "23.Write a Python program to train Logistic Regression on both raw and standardized data. Compare their\n",
        "accuracy to see the impact of feature scaling."
      ],
      "metadata": {
        "id": "3Axi3ALcB1J_"
      }
    },
    {
      "cell_type": "code",
      "source": [
        "import seaborn as sns\n",
        "import pandas as pd\n",
        "from sklearn.model_selection import train_test_split\n",
        "from sklearn.linear_model import LogisticRegression\n",
        "from sklearn.preprocessing import StandardScaler\n",
        "from sklearn.metrics import accuracy_score\n",
        "\n",
        "# Load Titanic dataset\n",
        "data = sns.load_dataset('titanic')\n",
        "\n",
        "# Select relevant columns and drop rows with missing values\n",
        "data = data[['survived', 'pclass', 'sex', 'age', 'fare']].dropna()\n",
        "\n",
        "# Encode 'sex' (male=1, female=0)\n",
        "data['sex'] = data['sex'].map({'male': 1, 'female': 0})\n",
        "\n",
        "# Features and target\n",
        "X = data[['pclass', 'sex', 'age', 'fare']]\n",
        "y = data['survived']\n",
        "\n",
        "# Split into train and test sets\n",
        "X_train_raw, X_test_raw, y_train, y_test = train_test_split(X, y, test_size=0.3, random_state=42)\n",
        "\n",
        "# Logistic Regression on raw data\n",
        "model_raw = LogisticRegression()\n",
        "model_raw.fit(X_train_raw, y_train)\n",
        "y_pred_raw = model_raw.predict(X_test_raw)\n",
        "accuracy_raw = accuracy_score(y_test, y_pred_raw)\n",
        "\n",
        "# Standardize the features\n",
        "scaler = StandardScaler()\n",
        "X_train_std = scaler.fit_transform(X_train_raw)\n",
        "X_test_std = scaler.transform(X_test_raw)\n",
        "\n",
        "# Logistic Regression on standardized data\n",
        "model_std = LogisticRegression()\n",
        "model_std.fit(X_train_std, y_train)\n",
        "y_pred_std = model_std.predict(X_test_std)\n",
        "accuracy_std = accuracy_score(y_test, y_pred_std)\n",
        "\n",
        "# Compare results\n",
        "print(f\"Accuracy on Raw Data:         {accuracy_raw:.3f}\")\n",
        "print(f\"Accuracy on Standardized Data:{accuracy_std:.3f}\")\n"
      ],
      "metadata": {
        "colab": {
          "base_uri": "https://localhost:8080/"
        },
        "id": "bog0QU90B8mF",
        "outputId": "8e1975b7-204b-4fc8-b04f-b9291cdda6ff"
      },
      "execution_count": 24,
      "outputs": [
        {
          "output_type": "stream",
          "name": "stdout",
          "text": [
            "Accuracy on Raw Data:         0.767\n",
            "Accuracy on Standardized Data:0.758\n"
          ]
        }
      ]
    },
    {
      "cell_type": "markdown",
      "source": [
        "24.Write a Python program to train Logistic Regression and find the optimal C (regularization strength) using\n",
        "cross-validationM"
      ],
      "metadata": {
        "id": "fH_8aRioC-qw"
      }
    },
    {
      "cell_type": "code",
      "source": [
        "import seaborn as sns\n",
        "import pandas as pd\n",
        "import numpy as np\n",
        "import matplotlib.pyplot as plt\n",
        "from sklearn.linear_model import LogisticRegression\n",
        "from sklearn.model_selection import train_test_split, cross_val_score\n",
        "from sklearn.preprocessing import StandardScaler\n",
        "\n",
        "# Load Titanic dataset\n",
        "data = sns.load_dataset('titanic')\n",
        "\n",
        "# Select and clean data\n",
        "data = data[['survived', 'pclass', 'sex', 'age', 'fare']].dropna()\n",
        "data['sex'] = data['sex'].map({'male': 1, 'female': 0})\n",
        "\n",
        "# Features and target\n",
        "X = data[['pclass', 'sex', 'age', 'fare']]\n",
        "y = data['survived']\n",
        "\n",
        "# Standardize the features\n",
        "scaler = StandardScaler()\n",
        "X_scaled = scaler.fit_transform(X)\n",
        "\n",
        "# Define candidate C values (log scale)\n",
        "C_values = np.logspace(-3, 2, 10)  # from 0.001 to 100\n",
        "cv_scores = []\n",
        "\n",
        "# Cross-validate for each C\n",
        "for C in C_values:\n",
        "    model = LogisticRegression(C=C, max_iter=1000)\n",
        "    scores = cross_val_score(model, X_scaled, y, cv=5, scoring='accuracy')\n",
        "    cv_scores.append(scores.mean())\n",
        "\n",
        "# Find optimal C\n",
        "best_index = np.argmax(cv_scores)\n",
        "best_C = C_values[best_index]\n",
        "\n",
        "# Print results\n",
        "print(f\"Best C value: {best_C}\")\n",
        "print(f\"Cross-validated accuracy: {cv_scores[best_index]:.3f}\")\n",
        "\n",
        "# Plot accuracy vs C\n",
        "plt.figure(figsize=(8, 6))\n",
        "plt.semilogx(C_values, cv_scores, marker='o')\n",
        "plt.xlabel('C (Inverse Regularization Strength)')\n",
        "plt.ylabel('Cross-Validated Accuracy')\n",
        "plt.title('Logistic Regression: Accuracy vs C')\n",
        "plt.grid(True)\n",
        "plt.show()\n"
      ],
      "metadata": {
        "colab": {
          "base_uri": "https://localhost:8080/",
          "height": 597
        },
        "id": "r-fEWCuSDQTJ",
        "outputId": "b80de2f3-faea-47b1-b8a6-aa204c385674"
      },
      "execution_count": 25,
      "outputs": [
        {
          "output_type": "stream",
          "name": "stdout",
          "text": [
            "Best C value: 0.1668100537200059\n",
            "Cross-validated accuracy: 0.791\n"
          ]
        },
        {
          "output_type": "display_data",
          "data": {
            "text/plain": [
              "<Figure size 800x600 with 1 Axes>"
            ],
            "image/png": "[encoded data removed]"
          },
          "metadata": {}
        }
      ]
    },
    {
      "cell_type": "markdown",
      "source": [
        "25.Write a Python program to train Logistic Regression, save the trained model using joblib, and load it again to  make predictions."
      ],
      "metadata": {
        "id": "g3JFCfc9DS75"
      }
    },
    {
      "cell_type": "code",
      "source": [
        "import seaborn as sns\n",
        "import pandas as pd\n",
        "from sklearn.model_selection import train_test_split\n",
        "from sklearn.linear_model import LogisticRegression\n",
        "from sklearn.preprocessing import StandardScaler\n",
        "from sklearn.metrics import accuracy_score\n",
        "import joblib\n",
        "\n",
        "# Step 1: Load and prepare the data\n",
        "data = sns.load_dataset('titanic')\n",
        "data = data[['survived', 'pclass', 'sex', 'age', 'fare']].dropna()\n",
        "data['sex'] = data['sex'].map({'male': 1, 'female': 0})\n",
        "\n",
        "X = data[['pclass', 'sex', 'age', 'fare']]\n",
        "y = data['survived']\n",
        "\n",
        "# Step 2: Standardize the features\n",
        "scaler = StandardScaler()\n",
        "X_scaled = scaler.fit_transform(X)\n",
        "\n",
        "# Step 3: Split into training and test sets\n",
        "X_train, X_test, y_train, y_test = train_test_split(X_scaled, y, test_size=0.3, random_state=42)\n",
        "\n",
        "# Step 4: Train the Logistic Regression model\n",
        "model = LogisticRegression()\n",
        "model.fit(X_train, y_train)\n",
        "\n",
        "# Step 5: Save the model and scaler\n",
        "joblib.dump(model, 'logistic_model.joblib')\n",
        "joblib.dump(scaler, 'scaler.joblib')\n",
        "\n",
        "print(\"Model and scaler saved successfully.\")\n",
        "\n",
        "# Step 6: Load the model and scaler\n",
        "loaded_model = joblib.load('logistic_model.joblib')\n",
        "loaded_scaler = joblib.load('scaler.joblib')\n",
        "\n",
        "# Step 7: Make predictions using the loaded model\n",
        "# Let's simulate predicting on the original test data (not yet scaled)\n",
        "X_test_original = X_test  # Already scaled in this case\n",
        "\n",
        "# Predict\n",
        "y_pred = loaded_model.predict(X_test_original)\n",
        "accuracy = accuracy_score(y_test, y_pred)\n",
        "\n",
        "# Output result\n",
        "print(f\"Accuracy of loaded model: {accuracy:.3f}\")\n"
      ],
      "metadata": {
        "colab": {
          "base_uri": "https://localhost:8080/"
        },
        "id": "mj_qu5hhFWFG",
        "outputId": "38d8c207-0656-4b0b-aecb-f98569979119"
      },
      "execution_count": 26,
      "outputs": [
        {
          "output_type": "stream",
          "name": "stdout",
          "text": [
            "Model and scaler saved successfully.\n",
            "Accuracy of loaded model: 0.758\n"
          ]
        }
      ]
    }
  ]
}