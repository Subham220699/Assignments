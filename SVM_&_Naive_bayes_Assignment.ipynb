{
  "nbformat": 4,
  "nbformat_minor": 0,
  "metadata": {
    "colab": {
      "provenance": []
    },
    "kernelspec": {
      "name": "python3",
      "display_name": "Python 3"
    },
    "language_info": {
      "name": "python"
    }
  },
  "cells": [
    {
      "cell_type": "markdown",
      "source": [
        "21. Write a Python program to train an SVM Classifier on the Iris dataset and evaluate accuracy."
      ],
      "metadata": {
        "id": "3rdo729S8ALJ"
      }
    },
    {
      "cell_type": "code",
      "execution_count": 1,
      "metadata": {
        "colab": {
          "base_uri": "https://localhost:8080/"
        },
        "id": "EYhvvrix7-s4",
        "outputId": "a28132f5-2cd0-4b7f-d34e-c61b277ed0c8"
      },
      "outputs": [
        {
          "output_type": "stream",
          "name": "stdout",
          "text": [
            "Accuracy of the SVM classifier on Iris dataset: 1.00\n"
          ]
        }
      ],
      "source": [
        "# Step 1: Import necessary libraries\n",
        "from sklearn import datasets\n",
        "from sklearn.model_selection import train_test_split\n",
        "from sklearn.svm import SVC\n",
        "from sklearn.metrics import accuracy_score\n",
        "\n",
        "# Step 2: Load the Iris dataset\n",
        "iris = datasets.load_iris()\n",
        "X = iris.data    # features (sepal length, sepal width, petal length, petal width)\n",
        "y = iris.target  # target labels (0 = setosa, 1 = versicolor, 2 = virginica)\n",
        "\n",
        "# Step 3: Split the dataset into training and testing sets (80% train, 20% test)\n",
        "X_train, X_test, y_train, y_test = train_test_split(X, y, test_size=0.2, random_state=42)\n",
        "\n",
        "# Step 4: Create the SVM classifier\n",
        "svm_classifier = SVC(kernel='linear')  # using a linear kernel for simplicity\n",
        "\n",
        "# Step 5: Train the classifier on the training data\n",
        "svm_classifier.fit(X_train, y_train)\n",
        "\n",
        "# Step 6: Make predictions on the test data\n",
        "y_pred = svm_classifier.predict(X_test)\n",
        "\n",
        "# Step 7: Evaluate the accuracy of the classifier\n",
        "accuracy = accuracy_score(y_test, y_pred)\n",
        "print(f\"Accuracy of the SVM classifier on Iris dataset: {accuracy:.2f}\")\n"
      ]
    },
    {
      "cell_type": "markdown",
      "source": [
        "22. Write a Python program to train two SVM classifiers with Linear and RBF kernels on the Wine dataset, then\n",
        "compare their accuracies."
      ],
      "metadata": {
        "id": "JRpnMCrh8tHy"
      }
    },
    {
      "cell_type": "code",
      "source": [
        "# Step 1: Import necessary libraries\n",
        "from sklearn import datasets\n",
        "from sklearn.model_selection import train_test_split\n",
        "from sklearn.svm import SVC\n",
        "from sklearn.metrics import accuracy_score\n",
        "\n",
        "# Step 2: Load the Wine dataset\n",
        "wine = datasets.load_wine()\n",
        "X = wine.data    # features (alcohol, malic acid, ash, etc.)\n",
        "y = wine.target  # target labels (0, 1, 2 for wine class types)\n",
        "\n",
        "# Step 3: Split the dataset into training and testing sets\n",
        "X_train, X_test, y_train, y_test = train_test_split(X, y, test_size=0.2, random_state=42)\n",
        "\n",
        "# Step 4: Train SVM with Linear kernel\n",
        "svm_linear = SVC(kernel='linear')\n",
        "svm_linear.fit(X_train, y_train)\n",
        "y_pred_linear = svm_linear.predict(X_test)\n",
        "accuracy_linear = accuracy_score(y_test, y_pred_linear)\n",
        "\n",
        "# Step 5: Train SVM with RBF (Radial Basis Function) kernel\n",
        "svm_rbf = SVC(kernel='rbf')\n",
        "svm_rbf.fit(X_train, y_train)\n",
        "y_pred_rbf = svm_rbf.predict(X_test)\n",
        "accuracy_rbf = accuracy_score(y_test, y_pred_rbf)\n",
        "\n",
        "# Step 6: Print and compare the accuracies\n",
        "print(f\"Accuracy with Linear Kernel: {accuracy_linear:.2f}\")\n",
        "print(f\"Accuracy with RBF Kernel: {accuracy_rbf:.2f}\")\n"
      ],
      "metadata": {
        "colab": {
          "base_uri": "https://localhost:8080/"
        },
        "id": "v02WNoZT8zzu",
        "outputId": "2395db9d-361b-481d-e7e8-f9eedd1a6623"
      },
      "execution_count": 2,
      "outputs": [
        {
          "output_type": "stream",
          "name": "stdout",
          "text": [
            "Accuracy with Linear Kernel: 1.00\n",
            "Accuracy with RBF Kernel: 0.81\n"
          ]
        }
      ]
    },
    {
      "cell_type": "markdown",
      "source": [
        "23. Write a Python program to train an SVM Regressor (SVR) on a housing dataset and evaluate it using Mean\n",
        "Squared Error (MSE):"
      ],
      "metadata": {
        "id": "0-7ONkZn870q"
      }
    },
    {
      "cell_type": "code",
      "source": [
        "# Step 1: Import necessary libraries\n",
        "from sklearn.datasets import fetch_california_housing\n",
        "from sklearn.model_selection import train_test_split\n",
        "from sklearn.svm import SVR\n",
        "from sklearn.metrics import mean_squared_error\n",
        "from sklearn.preprocessing import StandardScaler\n",
        "\n",
        "# Step 2: Load the California housing dataset\n",
        "housing = fetch_california_housing()\n",
        "X = housing.data    # features (e.g., median income, average rooms, etc.)\n",
        "y = housing.target  # target (median house value)\n",
        "\n",
        "# Step 3: Standardize the data (SVR is sensitive to feature scales)\n",
        "scaler = StandardScaler()\n",
        "X_scaled = scaler.fit_transform(X)\n",
        "\n",
        "# Step 4: Split into training and testing sets\n",
        "X_train, X_test, y_train, y_test = train_test_split(X_scaled, y, test_size=0.2, random_state=42)\n",
        "\n",
        "# Step 5: Create and train the SVR model\n",
        "svr = SVR(kernel='rbf')  # using the RBF kernel by default\n",
        "svr.fit(X_train, y_train)\n",
        "\n",
        "# Step 6: Make predictions on the test set\n",
        "y_pred = svr.predict(X_test)\n",
        "\n",
        "# Step 7: Evaluate using Mean Squared Error\n",
        "mse = mean_squared_error(y_test, y_pred)\n",
        "print(f\"Mean Squared Error of the SVR model: {mse:.2f}\")\n"
      ],
      "metadata": {
        "colab": {
          "base_uri": "https://localhost:8080/"
        },
        "id": "t_C2OCQE9AuZ",
        "outputId": "f03b13a9-a525-42dc-f9c0-07718fb70004"
      },
      "execution_count": 3,
      "outputs": [
        {
          "output_type": "stream",
          "name": "stdout",
          "text": [
            "Mean Squared Error of the SVR model: 0.36\n"
          ]
        }
      ]
    },
    {
      "cell_type": "markdown",
      "source": [
        "24.: Write a Python program to train an SVM Classifier with a Polynomial Kernel and visualize the decision\n",
        "boundary:"
      ],
      "metadata": {
        "id": "7X-4Yc4U9FCN"
      }
    },
    {
      "cell_type": "code",
      "source": [
        "# Step 1: Import necessary libraries\n",
        "import numpy as np\n",
        "import matplotlib.pyplot as plt\n",
        "from sklearn.datasets import make_classification\n",
        "from sklearn.svm import SVC\n",
        "from sklearn.preprocessing import StandardScaler\n",
        "\n",
        "# Step 2: Create a synthetic dataset with 2 features for easy visualization\n",
        "X, y = make_classification(n_samples=200, n_features=2, n_redundant=0,\n",
        "                           n_informative=2, n_clusters_per_class=1, random_state=42)\n",
        "\n",
        "# Step 3: Standardize the features\n",
        "scaler = StandardScaler()\n",
        "X_scaled = scaler.fit_transform(X)\n",
        "\n",
        "# Step 4: Create and train the SVM classifier with a polynomial kernel\n",
        "svm_poly = SVC(kernel='poly', degree=3, C=1.0)\n",
        "svm_poly.fit(X_scaled, y)\n",
        "\n",
        "# Step 5: Plot the decision boundary\n",
        "def plot_decision_boundary(model, X, y, title):\n",
        "    h = 0.02  # step size in the mesh\n",
        "    x_min, x_max = X[:, 0].min() - 1, X[:, 0].max() + 1\n",
        "    y_min, y_max = X[:, 1].min() - 1, X[:, 1].max() + 1\n",
        "    xx, yy = np.meshgrid(np.arange(x_min, x_max, h),\n",
        "                         np.arange(y_min, y_max, h))\n",
        "\n",
        "    # Predict over the mesh grid\n",
        "    Z = model.predict(np.c_[xx.ravel(), yy.ravel()])\n",
        "    Z = Z.reshape(xx.shape)\n",
        "\n",
        "    # Plot the contour and training examples\n",
        "    plt.contourf(xx, yy, Z, alpha=0.3, cmap=plt.cm.coolwarm)\n",
        "    plt.scatter(X[:, 0], X[:, 1], c=y, edgecolors='k', cmap=plt.cm.coolwarm)\n",
        "    plt.title(title)\n",
        "    plt.xlabel('Feature 1')\n",
        "    plt.ylabel('Feature 2')\n",
        "    plt.show()\n",
        "\n",
        "plot_decision_boundary(svm_poly, X_scaled, y, \"SVM with Polynomial Kernel (Degree=3)\")\n"
      ],
      "metadata": {
        "colab": {
          "base_uri": "https://localhost:8080/",
          "height": 472
        },
        "id": "iyy2QaCh9R_f",
        "outputId": "a5d1f744-b1b6-4d61-a4c6-922b1e39d84c"
      },
      "execution_count": 4,
      "outputs": [
        {
          "output_type": "display_data",
          "data": {
            "text/plain": [
              "<Figure size 640x480 with 1 Axes>"
            ],
            "image/png": "[encoded data removed]"
          },
          "metadata": {}
        }
      ]
    },
    {
      "cell_type": "markdown",
      "source": [
        "25. Write a Python program to train a Gaussian Naïve Bayes classifier on the Breast Cancer dataset and\n",
        "evaluate accuracy:"
      ],
      "metadata": {
        "id": "yMvtq3y19UMK"
      }
    },
    {
      "cell_type": "code",
      "source": [
        "# Step 1: Import necessary libraries\n",
        "from sklearn.datasets import load_breast_cancer\n",
        "from sklearn.model_selection import train_test_split\n",
        "from sklearn.naive_bayes import GaussianNB\n",
        "from sklearn.metrics import accuracy_score\n",
        "\n",
        "# Step 2: Load the Breast Cancer dataset\n",
        "data = load_breast_cancer()\n",
        "X = data.data    # feature data (mean radius, texture, etc.)\n",
        "y = data.target  # target (0 = malignant, 1 = benign)\n",
        "\n",
        "# Step 3: Split the data into training and testing sets\n",
        "X_train, X_test, y_train, y_test = train_test_split(X, y, test_size=0.2, random_state=42)\n",
        "\n",
        "# Step 4: Create and train the Gaussian Naïve Bayes classifier\n",
        "gnb = GaussianNB()\n",
        "gnb.fit(X_train, y_train)\n",
        "\n",
        "# Step 5: Predict the labels for the test set\n",
        "y_pred = gnb.predict(X_test)\n",
        "\n",
        "# Step 6: Evaluate the model using accuracy\n",
        "accuracy = accuracy_score(y_test, y_pred)\n",
        "print(f\"Accuracy of Gaussian Naïve Bayes classifier: {accuracy:.2f}\")\n"
      ],
      "metadata": {
        "colab": {
          "base_uri": "https://localhost:8080/"
        },
        "id": "aUM15sw79Za_",
        "outputId": "0ce78a2f-f391-437e-e84b-1a308fb2c6c6"
      },
      "execution_count": 5,
      "outputs": [
        {
          "output_type": "stream",
          "name": "stdout",
          "text": [
            "Accuracy of Gaussian Naïve Bayes classifier: 0.97\n"
          ]
        }
      ]
    },
    {
      "cell_type": "markdown",
      "source": [
        "26. Write a Python program to train a Multinomial Naïve Bayes classifier for text classification using the 20\n",
        "Newsgroups dataset."
      ],
      "metadata": {
        "id": "vokdadBs9ej3"
      }
    },
    {
      "cell_type": "code",
      "source": [
        "# Step 1: Import necessary libraries\n",
        "from sklearn.datasets import fetch_20newsgroups\n",
        "from sklearn.feature_extraction.text import CountVectorizer\n",
        "from sklearn.naive_bayes import MultinomialNB\n",
        "from sklearn.model_selection import train_test_split\n",
        "from sklearn.metrics import accuracy_score\n",
        "\n",
        "# Step 2: Load the 20 Newsgroups dataset (using a subset for faster training)\n",
        "categories = ['alt.atheism', 'comp.graphics', 'sci.med', 'soc.religion.christian']\n",
        "newsgroups = fetch_20newsgroups(subset='all', categories=categories, remove=('headers', 'footers', 'quotes'))\n",
        "\n",
        "# Step 3: Convert the text documents to a matrix of token counts (Bag of Words model)\n",
        "vectorizer = CountVectorizer()\n",
        "X = vectorizer.fit_transform(newsgroups.data)\n",
        "y = newsgroups.target\n",
        "\n",
        "# Step 4: Split the data into training and testing sets\n",
        "X_train, X_test, y_train, y_test = train_test_split(X, y, test_size=0.2, random_state=42)\n",
        "\n",
        "# Step 5: Train the Multinomial Naïve Bayes classifier\n",
        "nb_classifier = MultinomialNB()\n",
        "nb_classifier.fit(X_train, y_train)\n",
        "\n",
        "# Step 6: Predict on the test data\n",
        "y_pred = nb_classifier.predict(X_test)\n",
        "\n",
        "# Step 7: Evaluate the classifier's accuracy\n",
        "accuracy = accuracy_score(y_test, y_pred)\n",
        "print(f\"Accuracy of Multinomial Naïve Bayes on 20 Newsgroups subset: {accuracy:.2f}\")\n"
      ],
      "metadata": {
        "colab": {
          "base_uri": "https://localhost:8080/"
        },
        "id": "h2UdUQE79lEE",
        "outputId": "e1046d74-fd16-4762-e45d-42db50792e95"
      },
      "execution_count": 6,
      "outputs": [
        {
          "output_type": "stream",
          "name": "stdout",
          "text": [
            "Accuracy of Multinomial Naïve Bayes on 20 Newsgroups subset: 0.87\n"
          ]
        }
      ]
    },
    {
      "cell_type": "markdown",
      "source": [
        "27. Write a Python program to train an SVM Classifier with different C values and compare the decision boundaries visually"
      ],
      "metadata": {
        "id": "3bQlqSxF9pFV"
      }
    },
    {
      "cell_type": "code",
      "source": [
        "import numpy as np\n",
        "import matplotlib.pyplot as plt\n",
        "from sklearn.datasets import make_classification\n",
        "from sklearn.svm import SVC\n",
        "from sklearn.preprocessing import StandardScaler\n",
        "\n",
        "# Generate synthetic data\n",
        "X, y = make_classification(n_samples=200, n_features=2, n_redundant=0,\n",
        "                           n_informative=2, n_clusters_per_class=1, random_state=42)\n",
        "X = StandardScaler().fit_transform(X)\n",
        "\n",
        "# Function to plot decision boundary\n",
        "def plot_svm_boundary(C_value, subplot):\n",
        "    model = SVC(kernel='linear', C=C_value)\n",
        "    model.fit(X, y)\n",
        "\n",
        "    ax = plt.subplot(1, 3, subplot)\n",
        "    ax.set_title(f'C = {C_value}')\n",
        "    x_min, x_max = X[:, 0].min(), X[:, 0].max()\n",
        "    y_min, y_max = X[:, 1].min(), X[:, 1].max()\n",
        "    xx, yy = np.meshgrid(np.linspace(x_min, x_max, 500),\n",
        "                         np.linspace(y_min, y_max, 500))\n",
        "    Z = model.predict(np.c_[xx.ravel(), yy.ravel()])\n",
        "    Z = Z.reshape(xx.shape)\n",
        "\n",
        "    ax.contourf(xx, yy, Z, alpha=0.3, cmap=plt.cm.coolwarm)\n",
        "    ax.scatter(X[:, 0], X[:, 1], c=y, cmap=plt.cm.coolwarm, edgecolors='k')\n",
        "\n",
        "# Plot for different C values\n",
        "plt.figure(figsize=(15, 4))\n",
        "for i, C in enumerate([0.1, 1, 100]):\n",
        "    plot_svm_boundary(C, i + 1)\n",
        "\n",
        "plt.tight_layout()\n",
        "plt.show()\n"
      ],
      "metadata": {
        "colab": {
          "base_uri": "https://localhost:8080/",
          "height": 342
        },
        "id": "LWu74dR6-TZy",
        "outputId": "10d71e9f-8237-4968-f387-6ee2fb7cd029"
      },
      "execution_count": 7,
      "outputs": [
        {
          "output_type": "display_data",
          "data": {
            "text/plain": [
              "<Figure size 1500x400 with 3 Axes>"
            ],
            "image/png": "[encoded data removed]"
          },
          "metadata": {}
        }
      ]
    },
    {
      "cell_type": "markdown",
      "source": [
        "28. Write a Python program to train a Bernoulli Naïve Bayes classifier for binary classification on a dataset with\n",
        "binary features"
      ],
      "metadata": {
        "id": "bhgDgQzU-Wnl"
      }
    },
    {
      "cell_type": "code",
      "source": [
        "from sklearn.naive_bayes import BernoulliNB\n",
        "from sklearn.model_selection import train_test_split\n",
        "from sklearn.metrics import accuracy_score, classification_report\n",
        "import numpy as np\n",
        "\n",
        "# Generate a sample binary feature dataset\n",
        "# 100 samples, 5 binary features\n",
        "np.random.seed(42)\n",
        "X = np.random.randint(2, size=(100, 5))  # Binary features (0 or 1)\n",
        "y = np.random.randint(2, size=100)       # Binary target (0 or 1)\n",
        "\n",
        "# Split into train and test sets (80% train, 20% test)\n",
        "X_train, X_test, y_train, y_test = train_test_split(X, y, test_size=0.2, random_state=42)\n",
        "\n",
        "# Initialize Bernoulli Naive Bayes classifier\n",
        "bnb = BernoulliNB()\n",
        "\n",
        "# Train the classifier\n",
        "bnb.fit(X_train, y_train)\n",
        "\n",
        "# Predict on test set\n",
        "y_pred = bnb.predict(X_test)\n",
        "\n",
        "# Evaluate the model\n",
        "accuracy = accuracy_score(y_test, y_pred)\n",
        "print(f\"Accuracy on test data: {accuracy:.2f}\")\n",
        "\n",
        "print(\"\\nClassification Report:\")\n",
        "print(classification_report(y_test, y_pred))\n"
      ],
      "metadata": {
        "id": "zucsHmsd-4my"
      },
      "execution_count": null,
      "outputs": []
    },
    {
      "cell_type": "markdown",
      "source": [
        "29.Write a Python program to apply feature scaling before training an SVM model and compare results with\n",
        "unscaled data"
      ],
      "metadata": {
        "id": "8ResFGoB-78I"
      }
    },
    {
      "cell_type": "code",
      "source": [
        "from sklearn import datasets\n",
        "from sklearn.model_selection import train_test_split\n",
        "from sklearn.preprocessing import StandardScaler\n",
        "from sklearn.svm import SVC\n",
        "from sklearn.metrics import accuracy_score\n",
        "\n",
        "# Load Iris dataset\n",
        "iris = datasets.load_iris()\n",
        "X = iris.data\n",
        "y = iris.target\n",
        "\n",
        "# For binary classification, select only two classes, e.g., class 0 and 1\n",
        "binary_filter = y != 2\n",
        "X = X[binary_filter]\n",
        "y = y[binary_filter]\n",
        "\n",
        "# Split into train and test sets\n",
        "X_train, X_test, y_train, y_test = train_test_split(X, y, test_size=0.2, random_state=42)\n",
        "\n",
        "# --------- Without feature scaling ---------\n",
        "svm_unscaled = SVC(kernel='linear', random_state=42)\n",
        "svm_unscaled.fit(X_train, y_train)\n",
        "y_pred_unscaled = svm_unscaled.predict(X_test)\n",
        "accuracy_unscaled = accuracy_score(y_test, y_pred_unscaled)\n",
        "\n",
        "# --------- With feature scaling ---------\n",
        "scaler = StandardScaler()\n",
        "X_train_scaled = scaler.fit_transform(X_train)\n",
        "X_test_scaled = scaler.transform(X_test)\n",
        "\n",
        "svm_scaled = SVC(kernel='linear', random_state=42)\n",
        "svm_scaled.fit(X_train_scaled, y_train)\n",
        "y_pred_scaled = svm_scaled.predict(X_test_scaled)\n",
        "accuracy_scaled = accuracy_score(y_test, y_pred_scaled)\n",
        "\n",
        "print(f\"Accuracy without scaling: {accuracy_unscaled:.2f}\")\n",
        "print(f\"Accuracy with scaling:    {accuracy_scaled:.2f}\")\n"
      ],
      "metadata": {
        "colab": {
          "base_uri": "https://localhost:8080/"
        },
        "id": "pqB8ehur_A12",
        "outputId": "359ffcf0-7a7c-40cf-a4f8-ec35ee3e4b25"
      },
      "execution_count": 8,
      "outputs": [
        {
          "output_type": "stream",
          "name": "stdout",
          "text": [
            "Accuracy without scaling: 1.00\n",
            "Accuracy with scaling:    1.00\n"
          ]
        }
      ]
    },
    {
      "cell_type": "markdown",
      "source": [
        "30. Write a Python program to train a Gaussian Naïve Bayes model and compare the predictions before and after Laplace Smoothing."
      ],
      "metadata": {
        "id": "cE0DL2O6_JFf"
      }
    },
    {
      "cell_type": "code",
      "source": [
        "import numpy as np\n",
        "from sklearn.naive_bayes import GaussianNB\n",
        "from sklearn.model_selection import train_test_split\n",
        "from sklearn.metrics import accuracy_score\n",
        "from sklearn.datasets import make_classification\n",
        "\n",
        "# Generate a synthetic dataset\n",
        "X, y = make_classification(n_samples=1000, n_features=10, n_informative=5, n_redundant=0, random_state=42)\n",
        "X_train, X_test, y_train, y_test = train_test_split(X, y, test_size=0.3, random_state=42)\n",
        "\n",
        "# --- Train Gaussian Naive Bayes without \"smoothing\" (standard approach) ---\n",
        "gnb_no_smooth = GaussianNB()\n",
        "gnb_no_smooth.fit(X_train, y_train)\n",
        "y_pred_no_smooth = gnb_no_smooth.predict(X_test)\n",
        "accuracy_no_smooth = accuracy_score(y_test, y_pred_no_smooth)\n",
        "print(f\"Accuracy with standard Gaussian Naive Bayes: {accuracy_no_smooth:.4f}\")\n",
        "\n",
        "# ---\n",
        "# Note: Laplace Smoothing is not directly applicable to Gaussian Naive Bayes in the same way\n",
        "# it is for Multinomial or Bernoulli Naive Bayes. GaussianNB models continuous data\n",
        "# using mean and variance, and doesn't suffer from zero-frequency problems for categories.\n",
        "#\n",
        "# If we were to \"simulate\" an effect similar to smoothing for demonstration, it would involve\n",
        "# perturbing the estimated means/variances, which isn't standard.\n",
        "#\n",
        "# For a real demonstration of Laplace smoothing, Multinomial Naive Bayes would be ideal.\n",
        "# I'll provide an example for Multinomial Naive Bayes to genuinely show Laplace Smoothing.\n",
        "# ---\n",
        "\n",
        "print(\"\\n--- Demonstrating Laplace Smoothing with Multinomial Naive Bayes (for illustration) ---\")\n",
        "\n",
        "from sklearn.naive_bayes import MultinomialNB\n",
        "from sklearn.feature_extraction.text import CountVectorizer\n",
        "\n",
        "# Sample text data\n",
        "corpus = [\n",
        "    'This is a great movie',\n",
        "    'This is a terrible movie',\n",
        "    'A great film',\n",
        "    'A terrible book',\n",
        "    'Great book',\n",
        "    'Not a bad movie'\n",
        "]\n",
        "labels = [1, 0, 1, 0, 1, 0] # 1 for positive, 0 for negative\n",
        "\n",
        "# Vectorize the text data\n",
        "vectorizer = CountVectorizer()\n",
        "X_text = vectorizer.fit_transform(corpus)\n",
        "X_text_train, X_text_test, y_text_train, y_text_test = train_test_split(X_text, labels, test_size=0.3, random_state=42)\n",
        "\n",
        "# Train Multinomial Naive Bayes without Laplace Smoothing (alpha=0)\n",
        "# Note: In practice, alpha=0 is usually not recommended due to zero-frequency issues.\n",
        "mnb_no_laplace = MultinomialNB(alpha=0.0) # alpha is the smoothing parameter\n",
        "mnb_no_laplace.fit(X_text_train, y_text_train)\n",
        "y_pred_mnb_no_laplace = mnb_no_laplace.predict(X_text_test)\n",
        "accuracy_mnb_no_laplace = accuracy_score(y_text_test, y_pred_mnb_no_laplace)\n",
        "print(f\"Accuracy with Multinomial Naive Bayes (alpha=0): {accuracy_mnb_no_laplace:.4f}\")\n",
        "\n",
        "# Train Multinomial Naive Bayes with Laplace Smoothing (alpha=1, default)\n",
        "mnb_laplace = MultinomialNB(alpha=1.0)\n",
        "mnb_laplace.fit(X_text_train, y_text_train)\n",
        "y_pred_mnb_laplace = mnb_laplace.predict(X_text_test)\n",
        "accuracy_mnb_laplace = accuracy_score(y_text_test, y_pred_mnb_laplace)\n",
        "print(f\"Accuracy with Multinomial Naive Bayes (alpha=1, Laplace Smoothing): {accuracy_mnb_laplace:.4f}\")\n",
        "\n",
        "print(\"\\n(Note: In this small text example, the impact might not be dramatic, but for larger datasets with rare words, Laplace smoothing prevents zero probabilities, which can significantly improve robustness and generalization.)\")"
      ],
      "metadata": {
        "colab": {
          "base_uri": "https://localhost:8080/"
        },
        "id": "UPKw6KRqAF5r",
        "outputId": "6c60c350-64aa-4b55-9bd8-5770d83f0ae6"
      },
      "execution_count": 9,
      "outputs": [
        {
          "output_type": "stream",
          "name": "stdout",
          "text": [
            "Accuracy with standard Gaussian Naive Bayes: 0.7867\n",
            "\n",
            "--- Demonstrating Laplace Smoothing with Multinomial Naive Bayes (for illustration) ---\n",
            "Accuracy with Multinomial Naive Bayes (alpha=0): 0.5000\n",
            "Accuracy with Multinomial Naive Bayes (alpha=1, Laplace Smoothing): 1.0000\n",
            "\n",
            "(Note: In this small text example, the impact might not be dramatic, but for larger datasets with rare words, Laplace smoothing prevents zero probabilities, which can significantly improve robustness and generalization.)\n"
          ]
        },
        {
          "output_type": "stream",
          "name": "stderr",
          "text": [
            "/usr/local/lib/python3.11/dist-packages/sklearn/naive_bayes.py:898: RuntimeWarning: divide by zero encountered in log\n",
            "  self.feature_log_prob_ = np.log(smoothed_fc) - np.log(\n"
          ]
        }
      ]
    },
    {
      "cell_type": "markdown",
      "source": [
        "31. Write a Python program to train an SVM Classifier and use GridSearchCV to tune the hyperparameters (C, gamma, kernel)."
      ],
      "metadata": {
        "id": "M_0eHIa9AIJw"
      }
    },
    {
      "cell_type": "code",
      "source": [
        "import pandas as pd\n",
        "from sklearn.datasets import load_wine\n",
        "from sklearn.model_selection import train_test_split, GridSearchCV\n",
        "from sklearn.svm import SVC\n",
        "from sklearn.metrics import accuracy_score\n",
        "import warnings\n",
        "warnings.filterwarnings('ignore') # Suppress warnings related to GridSearchCV\n",
        "\n",
        "# Load the Wine dataset\n",
        "wine = load_wine()\n",
        "X, y = wine.data, wine.target\n",
        "\n",
        "# Split data into training and testing sets\n",
        "X_train, X_test, y_train, y_test = train_test_split(X, y, test_size=0.3, random_state=42)\n",
        "\n",
        "# Define the parameter grid to search\n",
        "param_grid = {\n",
        "    'C': [0.1, 1, 10, 100],\n",
        "    'gamma': [0.001, 0.01, 0.1, 1],\n",
        "    'kernel': ['rbf', 'linear', 'poly'] # Include polynomial for demonstration\n",
        "}\n",
        "\n",
        "# Create a GridSearchCV object\n",
        "# cv=5 means 5-fold cross-validation\n",
        "# verbose=3 gives detailed output during the search\n",
        "grid_search = GridSearchCV(SVC(), param_grid, cv=5, refit=True, verbose=2, n_jobs=-1)\n",
        "\n",
        "# Fit GridSearchCV to the training data\n",
        "print(\"Starting GridSearchCV...\")\n",
        "grid_search.fit(X_train, y_train)\n",
        "print(\"GridSearchCV complete.\")\n",
        "\n",
        "# Print the best parameters found\n",
        "print(f\"\\nBest parameters found: {grid_search.best_params_}\")\n",
        "\n",
        "# Print the best cross-validation score\n",
        "print(f\"Best cross-validation accuracy: {grid_search.best_score_:.4f}\")\n",
        "\n",
        "# Get the best estimator (model with the best parameters)\n",
        "best_svm = grid_search.best_estimator_\n",
        "\n",
        "# Evaluate the best estimator on the test set\n",
        "y_pred = best_svm.predict(X_test)\n",
        "test_accuracy = accuracy_score(y_test, y_pred)\n",
        "print(f\"Test accuracy of the best SVM model: {test_accuracy:.4f}\")"
      ],
      "metadata": {
        "colab": {
          "base_uri": "https://localhost:8080/"
        },
        "id": "IKqgsA_7AMct",
        "outputId": "ede553c6-b024-49ae-b48c-f2ad38cbfdba"
      },
      "execution_count": 10,
      "outputs": [
        {
          "output_type": "stream",
          "name": "stdout",
          "text": [
            "Starting GridSearchCV...\n",
            "Fitting 5 folds for each of 48 candidates, totalling 240 fits\n",
            "GridSearchCV complete.\n",
            "\n",
            "Best parameters found: {'C': 0.1, 'gamma': 0.001, 'kernel': 'linear'}\n",
            "Best cross-validation accuracy: 0.9277\n",
            "Test accuracy of the best SVM model: 1.0000\n"
          ]
        }
      ]
    },
    {
      "cell_type": "markdown",
      "source": [
        "32.Write a Python program to train an SVM Classifier on an imbalanced dataset and apply class weighting and check it improve accuracy."
      ],
      "metadata": {
        "id": "uKj4XKnkAOGN"
      }
    },
    {
      "cell_type": "code",
      "source": [
        "import pandas as pd\n",
        "from sklearn.datasets import make_classification\n",
        "from sklearn.model_selection import train_test_split\n",
        "from sklearn.svm import SVC\n",
        "from sklearn.metrics import accuracy_score, classification_report\n",
        "import numpy as np\n",
        "\n",
        "# Create an imbalanced dataset\n",
        "# Here, we'll make 90% of samples class 0 and 10% class 1\n",
        "X, y = make_classification(n_samples=1000, n_features=2, n_informative=2,\n",
        "                           n_redundant=0, n_clusters_per_class=1, weights=[0.9, 0.1],\n",
        "                           flip_y=0, random_state=42)\n",
        "\n",
        "# Split data\n",
        "X_train, X_test, y_train, y_test = train_test_split(X, y, test_size=0.3, random_state=42, stratify=y) # stratify to maintain imbalance\n",
        "\n",
        "print(f\"Training set class distribution: Class 0: {np.sum(y_train == 0)}, Class 1: {np.sum(y_train == 1)}\")\n",
        "print(f\"Test set class distribution: Class 0: {np.sum(y_test == 0)}, Class 1: {np.sum(y_test == 1)}\")\n",
        "\n",
        "# --- Train SVM without class weighting ---\n",
        "print(\"\\n--- SVM without Class Weighting ---\")\n",
        "svm_no_weight = SVC(kernel='linear', random_state=42)\n",
        "svm_no_weight.fit(X_train, y_train)\n",
        "y_pred_no_weight = svm_no_weight.predict(X_test)\n",
        "accuracy_no_weight = accuracy_score(y_test, y_pred_no_weight)\n",
        "print(f\"Accuracy: {accuracy_no_weight:.4f}\")\n",
        "print(\"Classification Report:\\n\", classification_report(y_test, y_pred_no_weight))\n",
        "\n",
        "# --- Train SVM with class weighting ---\n",
        "print(\"\\n--- SVM with Class Weighting ---\")\n",
        "# 'balanced' mode automatically adjusts weights inversely proportional to class frequencies\n",
        "svm_with_weight = SVC(kernel='linear', class_weight='balanced', random_state=42)\n",
        "svm_with_weight.fit(X_train, y_train)\n",
        "y_pred_with_weight = svm_with_weight.predict(X_test)\n",
        "accuracy_with_weight = accuracy_score(y_test, y_pred_with_weight)\n",
        "print(f\"Accuracy: {accuracy_with_weight:.4f}\")\n",
        "print(\"Classification Report:\\n\", classification_report(y_test, y_pred_with_weight))\n",
        "\n",
        "# Compare results\n",
        "print(\"\\n--- Comparison ---\")\n",
        "if accuracy_with_weight > accuracy_no_weight:\n",
        "    print(\"Class weighting improved accuracy and potentially recall/precision for the minority class.\")\n",
        "else:\n",
        "    print(\"Class weighting did not significantly improve accuracy in this specific run, but often helps with minority class performance (check classification report for recall/precision).\")"
      ],
      "metadata": {
        "colab": {
          "base_uri": "https://localhost:8080/"
        },
        "id": "-o6GdtfVARC6",
        "outputId": "06c50a42-823a-47fe-f4dd-7d9d9994aad8"
      },
      "execution_count": 11,
      "outputs": [
        {
          "output_type": "stream",
          "name": "stdout",
          "text": [
            "Training set class distribution: Class 0: 630, Class 1: 70\n",
            "Test set class distribution: Class 0: 270, Class 1: 30\n",
            "\n",
            "--- SVM without Class Weighting ---\n",
            "Accuracy: 0.9933\n",
            "Classification Report:\n",
            "               precision    recall  f1-score   support\n",
            "\n",
            "           0       0.99      1.00      1.00       270\n",
            "           1       1.00      0.93      0.97        30\n",
            "\n",
            "    accuracy                           0.99       300\n",
            "   macro avg       1.00      0.97      0.98       300\n",
            "weighted avg       0.99      0.99      0.99       300\n",
            "\n",
            "\n",
            "--- SVM with Class Weighting ---\n",
            "Accuracy: 0.9800\n",
            "Classification Report:\n",
            "               precision    recall  f1-score   support\n",
            "\n",
            "           0       0.99      0.99      0.99       270\n",
            "           1       0.88      0.93      0.90        30\n",
            "\n",
            "    accuracy                           0.98       300\n",
            "   macro avg       0.93      0.96      0.95       300\n",
            "weighted avg       0.98      0.98      0.98       300\n",
            "\n",
            "\n",
            "--- Comparison ---\n",
            "Class weighting did not significantly improve accuracy in this specific run, but often helps with minority class performance (check classification report for recall/precision).\n"
          ]
        }
      ]
    },
    {
      "cell_type": "markdown",
      "source": [
        "33. Write a Python program to implement a Naïve Bayes classifier for spam detection using email data."
      ],
      "metadata": {
        "id": "nweLmOYsATL9"
      }
    },
    {
      "cell_type": "code",
      "source": [
        "import pandas as pd\n",
        "from sklearn.feature_extraction.text import CountVectorizer\n",
        "from sklearn.model_selection import train_test_split\n",
        "from sklearn.naive_bayes import MultinomialNB\n",
        "from sklearn.metrics import accuracy_score, classification_report\n",
        "\n",
        "# Sample email data (replace with a larger dataset for real-world application)\n",
        "data = {\n",
        "    'email': [\n",
        "        \"Hey there, how are you doing?\",\n",
        "        \"Claim your free prize now!!!\",\n",
        "        \"Meeting at 3 PM today\",\n",
        "        \"URGENT: Your bank account has been compromised\",\n",
        "        \"Hi, just checking in.\",\n",
        "        \"Win a million dollars! Click here!\",\n",
        "        \"Regarding our project proposal\",\n",
        "        \"Congratulations! You've won a lottery!\",\n",
        "        \"Can we reschedule the call?\",\n",
        "        \"Limited time offer! Buy now!\"\n",
        "    ],\n",
        "    'type': [\n",
        "        'ham', 'spam', 'ham', 'spam', 'ham',\n",
        "        'spam', 'ham', 'spam', 'ham', 'spam'\n",
        "    ]\n",
        "}\n",
        "df = pd.DataFrame(data)\n",
        "\n",
        "# Map 'ham' to 0 and 'spam' to 1\n",
        "df['type_encoded'] = df['type'].map({'ham': 0, 'spam': 1})\n",
        "\n",
        "X = df['email']\n",
        "y = df['type_encoded']\n",
        "\n",
        "# Split data\n",
        "X_train, X_test, y_train, y_test = train_test_split(X, y, test_size=0.3, random_state=42)\n",
        "\n",
        "# Convert text to numerical features using CountVectorizer\n",
        "# This creates a matrix where each row is an email and each column is a word,\n",
        "# and the cell values are the word counts.\n",
        "vectorizer = CountVectorizer()\n",
        "X_train_vec = vectorizer.fit_transform(X_train)\n",
        "X_test_vec = vectorizer.transform(X_test)\n",
        "\n",
        "# Train Multinomial Naive Bayes classifier\n",
        "mnb_classifier = MultinomialNB()\n",
        "mnb_classifier.fit(X_train_vec, y_train)\n",
        "\n",
        "# Make predictions\n",
        "y_pred = mnb_classifier.predict(X_test_vec)\n",
        "\n",
        "# Evaluate the model\n",
        "accuracy = accuracy_score(y_test, y_pred)\n",
        "report = classification_report(y_test, y_pred, target_names=['Ham', 'Spam'])\n",
        "\n",
        "print(f\"Accuracy: {accuracy:.4f}\")\n",
        "print(\"Classification Report:\\n\", report)\n",
        "\n",
        "# Example prediction\n",
        "new_emails = [\n",
        "    \"Hello, let's catch up soon.\",\n",
        "    \"VIAGRA! BUY NOW AND GET RICH QUICK!\"\n",
        "]\n",
        "new_emails_vec = vectorizer.transform(new_emails)\n",
        "predictions = mnb_classifier.predict(new_emails_vec)\n",
        "\n",
        "print(\"\\n--- New Email Predictions ---\")\n",
        "for i, email in enumerate(new_emails):\n",
        "    pred_type = 'Spam' if predictions[i] == 1 else 'Ham'\n",
        "    print(f\"Email: '{email}' -> Predicted: {pred_type}\")"
      ],
      "metadata": {
        "colab": {
          "base_uri": "https://localhost:8080/"
        },
        "id": "jYuZpwgJAWCI",
        "outputId": "6d111e96-4100-43cb-8609-6e521cb82abb"
      },
      "execution_count": 12,
      "outputs": [
        {
          "output_type": "stream",
          "name": "stdout",
          "text": [
            "Accuracy: 0.6667\n",
            "Classification Report:\n",
            "               precision    recall  f1-score   support\n",
            "\n",
            "         Ham       0.50      1.00      0.67         1\n",
            "        Spam       1.00      0.50      0.67         2\n",
            "\n",
            "    accuracy                           0.67         3\n",
            "   macro avg       0.75      0.75      0.67         3\n",
            "weighted avg       0.83      0.67      0.67         3\n",
            "\n",
            "\n",
            "--- New Email Predictions ---\n",
            "Email: 'Hello, let's catch up soon.' -> Predicted: Ham\n",
            "Email: 'VIAGRA! BUY NOW AND GET RICH QUICK!' -> Predicted: Spam\n"
          ]
        }
      ]
    },
    {
      "cell_type": "markdown",
      "source": [
        "34. Write a Python program to train an SVM Classifier and a Naïve Bayes Classifier on the same dataset and compare their accuracy."
      ],
      "metadata": {
        "id": "28FSX0TVAZze"
      }
    },
    {
      "cell_type": "code",
      "source": [
        "import pandas as pd\n",
        "from sklearn.datasets import load_iris\n",
        "from sklearn.model_selection import train_test_split\n",
        "from sklearn.svm import SVC\n",
        "from sklearn.naive_bayes import GaussianNB\n",
        "from sklearn.metrics import accuracy_score\n",
        "from sklearn.preprocessing import StandardScaler # Good practice for SVM\n",
        "\n",
        "# Load the Iris dataset\n",
        "iris = load_iris()\n",
        "X, y = iris.data, iris.target\n",
        "\n",
        "# Split data into training and testing sets\n",
        "X_train, X_test, y_train, y_test = train_test_split(X, y, test_size=0.3, random_state=42)\n",
        "\n",
        "# --- Train SVM Classifier ---\n",
        "# It's good practice to scale data for SVM\n",
        "scaler = StandardScaler()\n",
        "X_train_scaled = scaler.fit_transform(X_train)\n",
        "X_test_scaled = scaler.transform(X_test)\n",
        "\n",
        "svm_classifier = SVC(kernel='linear', random_state=42)\n",
        "svm_classifier.fit(X_train_scaled, y_train)\n",
        "y_pred_svm = svm_classifier.predict(X_test_scaled)\n",
        "accuracy_svm = accuracy_score(y_test, y_pred_svm)\n",
        "print(f\"SVM Classifier Accuracy: {accuracy_svm:.4f}\")\n",
        "\n",
        "# --- Train Naive Bayes Classifier (Gaussian Naive Bayes for continuous data) ---\n",
        "gnb_classifier = GaussianNB()\n",
        "gnb_classifier.fit(X_train, y_train) # Naive Bayes doesn't typically require scaling\n",
        "y_pred_gnb = gnb_classifier.predict(X_test)\n",
        "accuracy_gnb = accuracy_score(y_test, y_pred_gnb)\n",
        "print(f\"Naïve Bayes Classifier Accuracy: {accuracy_gnb:.4f}\")\n",
        "\n",
        "# --- Comparison ---\n",
        "print(\"\\n--- Comparison of Accuracies ---\")\n",
        "if accuracy_svm > accuracy_gnb:\n",
        "    print(f\"SVM performed better by {accuracy_svm - accuracy_gnb:.4f} accuracy points.\")\n",
        "elif accuracy_gnb > accuracy_svm:\n",
        "    print(f\"Naïve Bayes performed better by {accuracy_gnb - accuracy_svm:.4f} accuracy points.\")\n",
        "else:\n",
        "    print(\"Both classifiers performed equally well.\")"
      ],
      "metadata": {
        "colab": {
          "base_uri": "https://localhost:8080/"
        },
        "id": "p-LqddegAc9H",
        "outputId": "84d29006-c4d5-4342-b37d-d0c02e31728b"
      },
      "execution_count": 13,
      "outputs": [
        {
          "output_type": "stream",
          "name": "stdout",
          "text": [
            "SVM Classifier Accuracy: 0.9778\n",
            "Naïve Bayes Classifier Accuracy: 0.9778\n",
            "\n",
            "--- Comparison of Accuracies ---\n",
            "Both classifiers performed equally well.\n"
          ]
        }
      ]
    },
    {
      "cell_type": "markdown",
      "source": [
        "35. Write a Python program to perform feature selection before training a Naïve Bayes classifier and compare results."
      ],
      "metadata": {
        "id": "hR7MSVaCAksL"
      }
    },
    {
      "cell_type": "code",
      "source": [
        "import pandas as pd\n",
        "from sklearn.datasets import load_breast_cancer\n",
        "from sklearn.model_selection import train_test_split\n",
        "from sklearn.naive_bayes import GaussianNB\n",
        "from sklearn.metrics import accuracy_score\n",
        "from sklearn.feature_selection import SelectKBest, f_classif\n",
        "\n",
        "# Load the Breast Cancer dataset\n",
        "cancer = load_breast_cancer()\n",
        "X, y = cancer.data, cancer.target\n",
        "\n",
        "# Split data\n",
        "X_train, X_test, y_train, y_test = train_test_split(X, y, test_size=0.3, random_state=42)\n",
        "\n",
        "# --- Train Naive Bayes without Feature Selection ---\n",
        "print(\"--- Naive Bayes without Feature Selection ---\")\n",
        "gnb_no_fs = GaussianNB()\n",
        "gnb_no_fs.fit(X_train, y_train)\n",
        "y_pred_no_fs = gnb_no_fs.predict(X_test)\n",
        "accuracy_no_fs = accuracy_score(y_test, y_pred_no_fs)\n",
        "print(f\"Accuracy: {accuracy_no_fs:.4f}\")\n",
        "\n",
        "# --- Apply Feature Selection (e.g., selecting top 10 features) ---\n",
        "# SelectKBest selects features according to the k highest scores.\n",
        "# f_classif (ANOVA F-value) is used for classification tasks.\n",
        "k_features = 10 # Number of features to select\n",
        "selector = SelectKBest(f_classif, k=k_features)\n",
        "X_train_selected = selector.fit_transform(X_train, y_train)\n",
        "X_test_selected = selector.transform(X_test)\n",
        "\n",
        "# Get the names of the selected features (optional, for understanding)\n",
        "selected_feature_indices = selector.get_support(indices=True)\n",
        "selected_feature_names = cancer.feature_names[selected_feature_indices]\n",
        "print(f\"\\nSelected {k_features} features: {list(selected_feature_names)}\")\n",
        "\n",
        "# --- Train Naive Bayes with Feature Selection ---\n",
        "print(\"\\n--- Naive Bayes with Feature Selection ---\")\n",
        "gnb_with_fs = GaussianNB()\n",
        "gnb_with_fs.fit(X_train_selected, y_train)\n",
        "y_pred_with_fs = gnb_with_fs.predict(X_test_selected)\n",
        "accuracy_with_fs = accuracy_score(y_test, y_pred_with_fs)\n",
        "print(f\"Accuracy: {accuracy_with_fs:.4f}\")\n",
        "\n",
        "# --- Comparison ---\n",
        "print(\"\\n--- Comparison ---\")\n",
        "if accuracy_with_fs > accuracy_no_fs:\n",
        "    print(f\"Feature selection improved accuracy by {accuracy_with_fs - accuracy_no_fs:.4f} accuracy points.\")\n",
        "elif accuracy_with_fs < accuracy_no_fs:\n",
        "    print(f\"Feature selection slightly decreased accuracy by {accuracy_no_fs - accuracy_with_fs:.4f} accuracy points (can happen if important features were removed).\")\n",
        "else:\n",
        "    print(\"Feature selection had no significant impact on accuracy in this specific case.\")"
      ],
      "metadata": {
        "colab": {
          "base_uri": "https://localhost:8080/"
        },
        "id": "FZnlrwWMAlhF",
        "outputId": "5333efbd-2822-4abb-b490-692f04d3b71b"
      },
      "execution_count": 14,
      "outputs": [
        {
          "output_type": "stream",
          "name": "stdout",
          "text": [
            "--- Naive Bayes without Feature Selection ---\n",
            "Accuracy: 0.9415\n",
            "\n",
            "Selected 10 features: [np.str_('mean radius'), np.str_('mean perimeter'), np.str_('mean area'), np.str_('mean concavity'), np.str_('mean concave points'), np.str_('worst radius'), np.str_('worst perimeter'), np.str_('worst area'), np.str_('worst concavity'), np.str_('worst concave points')]\n",
            "\n",
            "--- Naive Bayes with Feature Selection ---\n",
            "Accuracy: 0.9591\n",
            "\n",
            "--- Comparison ---\n",
            "Feature selection improved accuracy by 0.0175 accuracy points.\n"
          ]
        }
      ]
    },
    {
      "cell_type": "markdown",
      "source": [
        "36. Write a Python program to train an SVM Classifier using One-vs-Rest (OvR) and One-vs-One (OvO) strategies on the Wine dataset and compare their accuracy."
      ],
      "metadata": {
        "id": "3kw5yQ03AnqZ"
      }
    },
    {
      "cell_type": "code",
      "source": [
        "import pandas as pd\n",
        "from sklearn.datasets import load_wine\n",
        "from sklearn.model_selection import train_test_split\n",
        "from sklearn.svm import SVC\n",
        "from sklearn.metrics import accuracy_score\n",
        "from sklearn.preprocessing import StandardScaler\n",
        "\n",
        "# Load the Wine dataset\n",
        "wine = load_wine()\n",
        "X, y = wine.data, wine.target\n",
        "\n",
        "# Split data\n",
        "X_train, X_test, y_train, y_test = train_test_split(X, y, test_size=0.3, random_state=42)\n",
        "\n",
        "# Scale data for SVM\n",
        "scaler = StandardScaler()\n",
        "X_train_scaled = scaler.fit_transform(X_train)\n",
        "X_test_scaled = scaler.transform(X_test)\n",
        "\n",
        "# --- Train SVM with One-vs-Rest (OvR) strategy ---\n",
        "print(\"--- SVM with One-vs-Rest (OvR) Strategy ---\")\n",
        "# decision_function_shape='ovr' explicitly sets OvR\n",
        "svm_ovr = SVC(kernel='linear', decision_function_shape='ovr', random_state=42)\n",
        "svm_ovr.fit(X_train_scaled, y_train)\n",
        "y_pred_ovr = svm_ovr.predict(X_test_scaled)\n",
        "accuracy_ovr = accuracy_score(y_test, y_pred_ovr)\n",
        "print(f\"Accuracy (OvR): {accuracy_ovr:.4f}\")\n",
        "\n",
        "# --- Train SVM with One-vs-One (OvO) strategy (SVC default) ---\n",
        "print(\"\\n--- SVM with One-vs-One (OvO) Strategy (SVC Default) ---\")\n",
        "# decision_function_shape='ovo' is the default for SVC\n",
        "svm_ovo = SVC(kernel='linear', decision_function_shape='ovo', random_state=42)\n",
        "svm_ovo.fit(X_train_scaled, y_train)\n",
        "y_pred_ovo = svm_ovo.predict(X_test_scaled)\n",
        "accuracy_ovo = accuracy_score(y_test, y_pred_ovo)\n",
        "print(f\"Accuracy (OvO): {accuracy_ovo:.4f}\")\n",
        "\n",
        "# --- Comparison ---\n",
        "print(\"\\n--- Comparison ---\")\n",
        "if accuracy_ovo > accuracy_ovr:\n",
        "    print(f\"One-vs-One (OvO) strategy performed slightly better by {accuracy_ovo - accuracy_ovr:.4f} accuracy points.\")\n",
        "elif accuracy_ovr > accuracy_ovo:\n",
        "    print(f\"One-vs-Rest (OvR) strategy performed slightly better by {accuracy_ovr - accuracy_ovo:.4f} accuracy points.\")\n",
        "else:\n",
        "    print(\"Both One-vs-Rest and One-vs-One strategies performed equally well.\")"
      ],
      "metadata": {
        "colab": {
          "base_uri": "https://localhost:8080/"
        },
        "id": "swrAW32rAqo6",
        "outputId": "4260efda-b7f6-48cf-c496-72aab01fc0f5"
      },
      "execution_count": 15,
      "outputs": [
        {
          "output_type": "stream",
          "name": "stdout",
          "text": [
            "--- SVM with One-vs-Rest (OvR) Strategy ---\n",
            "Accuracy (OvR): 0.9815\n",
            "\n",
            "--- SVM with One-vs-One (OvO) Strategy (SVC Default) ---\n",
            "Accuracy (OvO): 0.9815\n",
            "\n",
            "--- Comparison ---\n",
            "Both One-vs-Rest and One-vs-One strategies performed equally well.\n"
          ]
        }
      ]
    },
    {
      "cell_type": "markdown",
      "source": [
        "37. Write a Python program to train an SVM Classifier using Linear, Polynomial, and RBF kernels on the Breast Cancer dataset and compare their accuracy."
      ],
      "metadata": {
        "id": "cZUILEGqAsxX"
      }
    },
    {
      "cell_type": "code",
      "source": [
        "import pandas as pd\n",
        "from sklearn.datasets import load_breast_cancer\n",
        "from sklearn.model_selection import train_test_split\n",
        "from sklearn.svm import SVC\n",
        "from sklearn.metrics import accuracy_score\n",
        "from sklearn.preprocessing import StandardScaler\n",
        "\n",
        "# Load the Breast Cancer dataset\n",
        "cancer = load_breast_cancer()\n",
        "X, y = cancer.data, cancer.target\n",
        "\n",
        "# Split data\n",
        "X_train, X_test, y_train, y_test = train_test_split(X, y, test_size=0.3, random_state=42)\n",
        "\n",
        "# Scale data (important for RBF and Polynomial kernels)\n",
        "scaler = StandardScaler()\n",
        "X_train_scaled = scaler.fit_transform(X_train)\n",
        "X_test_scaled = scaler.transform(X_test)\n",
        "\n",
        "# --- Train SVM with Linear Kernel ---\n",
        "print(\"--- SVM with Linear Kernel ---\")\n",
        "svm_linear = SVC(kernel='linear', random_state=42)\n",
        "svm_linear.fit(X_train_scaled, y_train)\n",
        "y_pred_linear = svm_linear.predict(X_test_scaled)\n",
        "accuracy_linear = accuracy_score(y_test, y_pred_linear)\n",
        "print(f\"Accuracy (Linear Kernel): {accuracy_linear:.4f}\")\n",
        "\n",
        "# --- Train SVM with Polynomial Kernel ---\n",
        "print(\"\\n--- SVM with Polynomial Kernel ---\")\n",
        "# You might want to tune 'degree' and 'coef0' for polynomial kernel\n",
        "svm_poly = SVC(kernel='poly', degree=3, coef0=1, random_state=42)\n",
        "svm_poly.fit(X_train_scaled, y_train)\n",
        "y_pred_poly = svm_poly.predict(X_test_scaled)\n",
        "accuracy_poly = accuracy_score(y_test, y_pred_poly)\n",
        "print(f\"Accuracy (Polynomial Kernel): {accuracy_poly:.4f}\")\n",
        "\n",
        "# --- Train SVM with RBF Kernel ---\n",
        "print(\"\\n--- SVM with RBF Kernel ---\")\n",
        "# You might want to tune 'gamma' and 'C' for RBF kernel\n",
        "svm_rbf = SVC(kernel='rbf', gamma='scale', random_state=42) # 'scale' uses 1 / (n_features * X.var())\n",
        "svm_rbf.fit(X_train_scaled, y_train)\n",
        "y_pred_rbf = svm_rbf.predict(X_test_scaled)\n",
        "accuracy_rbf = accuracy_score(y_test, y_pred_rbf)\n",
        "print(f\"Accuracy (RBF Kernel): {accuracy_rbf:.4f}\")\n",
        "\n",
        "# --- Comparison ---\n",
        "print(\"\\n--- Comparison of Kernel Accuracies ---\")\n",
        "kernel_accuracies = {\n",
        "    \"Linear\": accuracy_linear,\n",
        "    \"Polynomial\": accuracy_poly,\n",
        "    \"RBF\": accuracy_rbf\n",
        "}\n",
        "\n",
        "best_kernel = max(kernel_accuracies, key=kernel_accuracies.get)\n",
        "print(f\"The best performing kernel was '{best_kernel}' with an accuracy of {kernel_accuracies[best_kernel]:.4f}.\")"
      ],
      "metadata": {
        "colab": {
          "base_uri": "https://localhost:8080/"
        },
        "id": "XaPY8cnyAvsy",
        "outputId": "11ef6779-244d-4d02-8d39-cf93dce7c7a7"
      },
      "execution_count": 16,
      "outputs": [
        {
          "output_type": "stream",
          "name": "stdout",
          "text": [
            "--- SVM with Linear Kernel ---\n",
            "Accuracy (Linear Kernel): 0.9766\n",
            "\n",
            "--- SVM with Polynomial Kernel ---\n",
            "Accuracy (Polynomial Kernel): 0.9883\n",
            "\n",
            "--- SVM with RBF Kernel ---\n",
            "Accuracy (RBF Kernel): 0.9766\n",
            "\n",
            "--- Comparison of Kernel Accuracies ---\n",
            "The best performing kernel was 'Polynomial' with an accuracy of 0.9883.\n"
          ]
        }
      ]
    },
    {
      "cell_type": "markdown",
      "source": [
        "38. Write a Python program to train an SVM Classifier using Stratified K-Fold Cross-Validation and compute the average accuracy."
      ],
      "metadata": {
        "id": "MrN0N4quAxno"
      }
    },
    {
      "cell_type": "code",
      "source": [
        "import pandas as pd\n",
        "from sklearn.datasets import load_breast_cancer\n",
        "from sklearn.model_selection import StratifiedKFold\n",
        "from sklearn.svm import SVC\n",
        "from sklearn.metrics import accuracy_score\n",
        "from sklearn.preprocessing import StandardScaler\n",
        "import numpy as np\n",
        "\n",
        "# Load the Breast Cancer dataset\n",
        "cancer = load_breast_cancer()\n",
        "X, y = cancer.data, cancer.target\n",
        "\n",
        "# Scale data\n",
        "scaler = StandardScaler()\n",
        "X_scaled = scaler.fit_transform(X)\n",
        "\n",
        "# Initialize Stratified K-Fold Cross-Validation\n",
        "n_splits = 5 # Number of folds\n",
        "skf = StratifiedKFold(n_splits=n_splits, shuffle=True, random_state=42)\n",
        "\n",
        "# List to store accuracy scores for each fold\n",
        "accuracy_scores = []\n",
        "\n",
        "print(f\"Performing {n_splits}-Fold Stratified Cross-Validation...\")\n",
        "\n",
        "# Iterate through each fold\n",
        "for fold, (train_index, test_index) in enumerate(skf.split(X_scaled, y)):\n",
        "    X_train, X_test = X_scaled[train_index], X_scaled[test_index]\n",
        "    y_train, y_test = y[train_index], y[test_index]\n",
        "\n",
        "    # Initialize and train SVM classifier\n",
        "    svm_model = SVC(kernel='rbf', random_state=42)\n",
        "    svm_model.fit(X_train, y_train)\n",
        "\n",
        "    # Make predictions and calculate accuracy\n",
        "    y_pred = svm_model.predict(X_test)\n",
        "    accuracy = accuracy_score(y_test, y_pred)\n",
        "    accuracy_scores.append(accuracy)\n",
        "    print(f\"  Fold {fold + 1} Accuracy: {accuracy:.4f}\")\n",
        "\n",
        "# Compute and print the average accuracy\n",
        "average_accuracy = np.mean(accuracy_scores)\n",
        "std_dev_accuracy = np.std(accuracy_scores)\n",
        "\n",
        "print(f\"\\nAverage Accuracy across {n_splits} folds: {average_accuracy:.4f}\")\n",
        "print(f\"Standard Deviation of Accuracy: {std_dev_accuracy:.4f}\")"
      ],
      "metadata": {
        "colab": {
          "base_uri": "https://localhost:8080/"
        },
        "id": "DZRCrVRpA0tO",
        "outputId": "83edd9a0-e0d7-4fa0-8915-36a1e6806b4d"
      },
      "execution_count": 17,
      "outputs": [
        {
          "output_type": "stream",
          "name": "stdout",
          "text": [
            "Performing 5-Fold Stratified Cross-Validation...\n",
            "  Fold 1 Accuracy: 0.9912\n",
            "  Fold 2 Accuracy: 0.9386\n",
            "  Fold 3 Accuracy: 0.9737\n",
            "  Fold 4 Accuracy: 0.9912\n",
            "  Fold 5 Accuracy: 0.9823\n",
            "\n",
            "Average Accuracy across 5 folds: 0.9754\n",
            "Standard Deviation of Accuracy: 0.0195\n"
          ]
        }
      ]
    },
    {
      "cell_type": "markdown",
      "source": [
        "39. Write a Python program to train a Naïve Bayes classifier using different prior probabilities and compare performance."
      ],
      "metadata": {
        "id": "-azD3noHA2pH"
      }
    },
    {
      "cell_type": "code",
      "source": [
        "import numpy as np\n",
        "from sklearn.naive_bayes import GaussianNB\n",
        "from sklearn.model_selection import train_test_split\n",
        "from sklearn.metrics import accuracy_score, classification_report\n",
        "from sklearn.datasets import load_breast_cancer\n",
        "\n",
        "# Load the Breast Cancer dataset (it's binary classification)\n",
        "cancer = load_breast_cancer()\n",
        "X, y = cancer.data, cancer.target\n",
        "\n",
        "# Split data\n",
        "X_train, X_test, y_train, y_test = train_test_split(X, y, test_size=0.3, random_state=42, stratify=y) # Stratify to preserve class distribution\n",
        "\n",
        "# Get actual class counts in training set\n",
        "class_0_count_train = np.sum(y_train == 0)\n",
        "class_1_count_train = np.sum(y_train == 1)\n",
        "total_count_train = len(y_train)\n",
        "\n",
        "prior_0_empirical = class_0_count_train / total_count_train\n",
        "prior_1_empirical = class_1_count_train / total_count_train\n",
        "\n",
        "print(f\"Empirical (Training) Priors: Class 0: {prior_0_empirical:.4f}, Class 1: {prior_1_empirical:.4f}\")\n",
        "\n",
        "# --- Train Gaussian Naive Bayes with default (empirical) priors ---\n",
        "print(\"\\n--- Naive Bayes with Default (Empirical) Priors ---\")\n",
        "gnb_default = GaussianNB()\n",
        "gnb_default.fit(X_train, y_train)\n",
        "y_pred_default = gnb_default.predict(X_test)\n",
        "accuracy_default = accuracy_score(y_test, y_pred_default)\n",
        "print(f\"Accuracy: {accuracy_default:.4f}\")\n",
        "print(\"Classification Report:\\n\", classification_report(y_test, y_pred_default, target_names=cancer.target_names))\n",
        "\n",
        "# --- Train Gaussian Naive Bayes with custom (e.g., balanced) priors ---\n",
        "print(\"\\n--- Naive Bayes with Custom (Balanced) Priors ---\")\n",
        "# Setting equal prior probabilities, essentially saying we expect classes to be balanced\n",
        "# even if the training data isn't.\n",
        "custom_priors_balanced = np.array([0.5, 0.5])\n",
        "gnb_custom_balanced = GaussianNB(priors=custom_priors_balanced)\n",
        "gnb_custom_balanced.fit(X_train, y_train)\n",
        "y_pred_custom_balanced = gnb_custom_balanced.predict(X_test)\n",
        "accuracy_custom_balanced = accuracy_score(y_test, y_pred_custom_balanced)\n",
        "print(f\"Accuracy: {accuracy_custom_balanced:.4f}\")\n",
        "print(\"Classification Report:\\n\", classification_report(y_test, y_pred_custom_balanced, target_names=cancer.target_names))\n",
        "\n",
        "# --- Train Gaussian Naive Bayes with custom (e.g., biased towards class 1) priors ---\n",
        "print(\"\\n--- Naive Bayes with Custom (Biased towards Class 1) Priors ---\")\n",
        "# Example: If class 1 is much more critical to detect, you might boost its prior\n",
        "custom_priors_biased = np.array([0.2, 0.8]) # Giving class 1 a much higher prior\n",
        "gnb_custom_biased = GaussianNB(priors=custom_priors_biased)\n",
        "gnb_custom_biased.fit(X_train, y_train)\n",
        "y_pred_custom_biased = gnb_custom_biased.predict(X_test)\n",
        "accuracy_custom_biased = accuracy_score(y_test, y_pred_custom_biased)\n",
        "print(f\"Accuracy: {accuracy_custom_biased:.4f}\")\n",
        "print(\"Classification Report:\\n\", classification_report(y_test, y_pred_custom_biased, target_names=cancer.target_names))\n",
        "\n",
        "print(\"\\n--- Comparison ---\")\n",
        "print(\"Notice how changing priors can affect accuracy and the precision/recall for individual classes, especially on imbalanced datasets or when you have domain knowledge to incorporate.\")"
      ],
      "metadata": {
        "colab": {
          "base_uri": "https://localhost:8080/"
        },
        "id": "yZcbZYS0A5uP",
        "outputId": "fc8e53bd-1e3b-4242-be1b-c71da6b6a528"
      },
      "execution_count": 18,
      "outputs": [
        {
          "output_type": "stream",
          "name": "stdout",
          "text": [
            "Empirical (Training) Priors: Class 0: 0.3719, Class 1: 0.6281\n",
            "\n",
            "--- Naive Bayes with Default (Empirical) Priors ---\n",
            "Accuracy: 0.9474\n",
            "Classification Report:\n",
            "               precision    recall  f1-score   support\n",
            "\n",
            "   malignant       0.97      0.89      0.93        64\n",
            "      benign       0.94      0.98      0.96       107\n",
            "\n",
            "    accuracy                           0.95       171\n",
            "   macro avg       0.95      0.94      0.94       171\n",
            "weighted avg       0.95      0.95      0.95       171\n",
            "\n",
            "\n",
            "--- Naive Bayes with Custom (Balanced) Priors ---\n",
            "Accuracy: 0.9357\n",
            "Classification Report:\n",
            "               precision    recall  f1-score   support\n",
            "\n",
            "   malignant       0.93      0.89      0.91        64\n",
            "      benign       0.94      0.96      0.95       107\n",
            "\n",
            "    accuracy                           0.94       171\n",
            "   macro avg       0.94      0.93      0.93       171\n",
            "weighted avg       0.94      0.94      0.94       171\n",
            "\n",
            "\n",
            "--- Naive Bayes with Custom (Biased towards Class 1) Priors ---\n",
            "Accuracy: 0.9474\n",
            "Classification Report:\n",
            "               precision    recall  f1-score   support\n",
            "\n",
            "   malignant       0.98      0.88      0.93        64\n",
            "      benign       0.93      0.99      0.96       107\n",
            "\n",
            "    accuracy                           0.95       171\n",
            "   macro avg       0.96      0.93      0.94       171\n",
            "weighted avg       0.95      0.95      0.95       171\n",
            "\n",
            "\n",
            "--- Comparison ---\n",
            "Notice how changing priors can affect accuracy and the precision/recall for individual classes, especially on imbalanced datasets or when you have domain knowledge to incorporate.\n"
          ]
        }
      ]
    },
    {
      "cell_type": "markdown",
      "source": [
        "40. Write a Python program to perform Recursive Feature Elimination (RFE) before training an SVM Classifier and compare accuracy."
      ],
      "metadata": {
        "id": "XluESvkcA8aa"
      }
    },
    {
      "cell_type": "code",
      "source": [
        "import pandas as pd\n",
        "from sklearn.datasets import load_breast_cancer\n",
        "from sklearn.model_selection import train_test_split\n",
        "from sklearn.svm import SVC\n",
        "from sklearn.feature_selection import RFE\n",
        "from sklearn.metrics import accuracy_score\n",
        "from sklearn.preprocessing import StandardScaler\n",
        "import numpy as np\n",
        "\n",
        "# Load the Breast Cancer dataset\n",
        "cancer = load_breast_cancer()\n",
        "X, y = cancer.data, cancer.target\n",
        "\n",
        "# Split data\n",
        "X_train, X_test, y_train, y_test = train_test_split(X, y, test_size=0.3, random_state=42)\n",
        "\n",
        "# Scale data (important for SVM)\n",
        "scaler = StandardScaler()\n",
        "X_train_scaled = scaler.fit_transform(X_train)\n",
        "X_test_scaled = scaler.transform(X_test)\n",
        "\n",
        "# --- Train SVM without Feature Elimination ---\n",
        "print(\"--- SVM without Recursive Feature Elimination (RFE) ---\")\n",
        "svm_no_rfe = SVC(kernel='linear', random_state=42)\n",
        "svm_no_rfe.fit(X_train_scaled, y_train)\n",
        "y_pred_no_rfe = svm_no_rfe.predict(X_test_scaled)\n",
        "accuracy_no_rfe = accuracy_score(y_test, y_pred_no_rfe)\n",
        "print(f\"Accuracy: {accuracy_no_rfe:.4f}\")\n",
        "\n",
        "# --- Apply Recursive Feature Elimination (RFE) ---\n",
        "# We need an estimator that has 'coef_' or 'feature_importances_'. LinearSVC is good for RFE.\n",
        "# For SVC, it's often better to use a linear kernel for RFE with coefficients.\n",
        "estimator = SVC(kernel='linear', random_state=42)\n",
        "n_features_to_select = 10 # Number of features to keep\n",
        "\n",
        "# The RFE object takes the estimator and the number of features to select\n",
        "rfe_selector = RFE(estimator=estimator, n_features_to_select=n_features_to_select, step=1)\n",
        "rfe_selector.fit(X_train_scaled, y_train)\n",
        "\n",
        "# Transform data to include only selected features\n",
        "X_train_rfe = rfe_selector.transform(X_train_scaled)\n",
        "X_test_rfe = rfe_selector.transform(X_test_scaled)\n",
        "\n",
        "# Get the names of the selected features\n",
        "selected_feature_indices = rfe_selector.get_support(indices=True)\n",
        "selected_feature_names = cancer.feature_names[selected_feature_indices]\n",
        "print(f\"\\nSelected {n_features_to_select} features by RFE: {list(selected_feature_names)}\")\n",
        "\n",
        "# --- Train SVM with RFE Selected Features ---\n",
        "print(\"\\n--- SVM with RFE Selected Features ---\")\n",
        "svm_rfe = SVC(kernel='linear', random_state=42) # Can still use linear kernel here\n",
        "svm_rfe.fit(X_train_rfe, y_train)\n",
        "y_pred_rfe = svm_rfe.predict(X_test_rfe)\n",
        "accuracy_rfe = accuracy_score(y_test, y_pred_rfe)\n",
        "print(f\"Accuracy: {accuracy_rfe:.4f}\")\n",
        "\n",
        "# --- Comparison ---\n",
        "print(\"\\n--- Comparison ---\")\n",
        "if accuracy_rfe > accuracy_no_rfe:\n",
        "    print(f\"RFE improved accuracy by {accuracy_rfe - accuracy_no_rfe:.4f} accuracy points.\")\n",
        "elif accuracy_rfe < accuracy_no_rfe:\n",
        "    print(f\"RFE slightly decreased accuracy by {accuracy_no_rfe - accuracy_rfe:.4f} accuracy points.\")\n",
        "else:\n",
        "    print(\"RFE had no significant impact on accuracy in this specific case.\")"
      ],
      "metadata": {
        "colab": {
          "base_uri": "https://localhost:8080/"
        },
        "id": "8na5elP_A_oN",
        "outputId": "214b0dd2-0eb3-4a21-f765-a2994c2e1d3f"
      },
      "execution_count": 19,
      "outputs": [
        {
          "output_type": "stream",
          "name": "stdout",
          "text": [
            "--- SVM without Recursive Feature Elimination (RFE) ---\n",
            "Accuracy: 0.9766\n",
            "\n",
            "Selected 10 features by RFE: [np.str_('mean compactness'), np.str_('mean concave points'), np.str_('area error'), np.str_('concave points error'), np.str_('symmetry error'), np.str_('fractal dimension error'), np.str_('worst texture'), np.str_('worst area'), np.str_('worst concavity'), np.str_('worst symmetry')]\n",
            "\n",
            "--- SVM with RFE Selected Features ---\n",
            "Accuracy: 0.9649\n",
            "\n",
            "--- Comparison ---\n",
            "RFE slightly decreased accuracy by 0.0117 accuracy points.\n"
          ]
        }
      ]
    },
    {
      "cell_type": "markdown",
      "source": [
        "41. Write a Python program to train an SVM Classifier and evaluate its performance using Precision, Recall, and F1-Score instead of accuracy."
      ],
      "metadata": {
        "id": "hfwYhYTMBBnj"
      }
    },
    {
      "cell_type": "code",
      "source": [
        "import pandas as pd\n",
        "from sklearn.datasets import load_breast_cancer\n",
        "from sklearn.model_selection import train_test_split\n",
        "from sklearn.svm import SVC\n",
        "from sklearn.metrics import precision_score, recall_score, f1_score, accuracy_score, classification_report\n",
        "from sklearn.preprocessing import StandardScaler\n",
        "\n",
        "# Load the Breast Cancer dataset\n",
        "cancer = load_breast_cancer()\n",
        "X, y = cancer.data, cancer.target\n",
        "\n",
        "# Split data\n",
        "X_train, X_test, y_train, y_test = train_test_split(X, y, test_size=0.3, random_state=42, stratify=y)\n",
        "\n",
        "# Scale data\n",
        "scaler = StandardScaler()\n",
        "X_train_scaled = scaler.fit_transform(X_train)\n",
        "X_test_scaled = scaler.transform(X_test)\n",
        "\n",
        "# Train SVM Classifier\n",
        "svm_model = SVC(kernel='rbf', random_state=42)\n",
        "svm_model.fit(X_train_scaled, y_train)\n",
        "\n",
        "# Make predictions\n",
        "y_pred = svm_model.predict(X_test_scaled)\n",
        "\n",
        "# Evaluate using Accuracy\n",
        "accuracy = accuracy_score(y_test, y_pred)\n",
        "print(f\"Accuracy: {accuracy:.4f}\")\n",
        "\n",
        "# Evaluate using Precision, Recall, F1-Score for each class\n",
        "# 'average=weighted' accounts for class imbalance\n",
        "precision = precision_score(y_test, y_pred, average='weighted')\n",
        "recall = recall_score(y_test, y_pred, average='weighted')\n",
        "f1 = f1_score(y_test, y_pred, average='weighted')\n",
        "\n",
        "print(f\"\\nWeighted Precision: {precision:.4f}\")\n",
        "print(f\"Weighted Recall: {recall:.4f}\")\n",
        "print(f\"Weighted F1-Score: {f1:.4f}\")\n",
        "\n",
        "# For a more detailed breakdown per class:\n",
        "print(\"\\nClassification Report (per class):\\n\", classification_report(y_test, y_pred, target_names=cancer.target_names))"
      ],
      "metadata": {
        "colab": {
          "base_uri": "https://localhost:8080/"
        },
        "id": "mwXqIvEOBFaM",
        "outputId": "9759ef9d-72ed-4ffb-ddc7-387f07757ac5"
      },
      "execution_count": 20,
      "outputs": [
        {
          "output_type": "stream",
          "name": "stdout",
          "text": [
            "Accuracy: 0.9766\n",
            "\n",
            "Weighted Precision: 0.9766\n",
            "Weighted Recall: 0.9766\n",
            "Weighted F1-Score: 0.9766\n",
            "\n",
            "Classification Report (per class):\n",
            "               precision    recall  f1-score   support\n",
            "\n",
            "   malignant       0.97      0.97      0.97        64\n",
            "      benign       0.98      0.98      0.98       107\n",
            "\n",
            "    accuracy                           0.98       171\n",
            "   macro avg       0.98      0.98      0.98       171\n",
            "weighted avg       0.98      0.98      0.98       171\n",
            "\n"
          ]
        }
      ]
    },
    {
      "cell_type": "markdown",
      "source": [
        "42. Write a Python program to train a Naïve Bayes Classifier and evaluate its performance using Log Loss (Cross-Entropy Loss)."
      ],
      "metadata": {
        "id": "D2edqqyZBH5H"
      }
    },
    {
      "cell_type": "code",
      "source": [
        "from sklearn.datasets import load_breast_cancer\n",
        "from sklearn.model_selection import train_test_split\n",
        "from sklearn.naive_bayes import GaussianNB\n",
        "from sklearn.metrics import log_loss\n",
        "\n",
        "# Load dataset\n",
        "data = load_breast_cancer()\n",
        "X = data.data\n",
        "y = data.target\n",
        "\n",
        "# Split into train and test\n",
        "X_train, X_test, y_train, y_test = train_test_split(X, y, test_size=0.2, random_state=42)\n",
        "\n",
        "# Initialize Gaussian Naive Bayes classifier\n",
        "nb = GaussianNB()\n",
        "\n",
        "# Train the model\n",
        "nb.fit(X_train, y_train)\n",
        "\n",
        "# Predict probabilities (needed for log loss)\n",
        "y_prob = nb.predict_proba(X_test)\n",
        "\n",
        "# Calculate Log Loss (Cross-Entropy Loss)\n",
        "loss = log_loss(y_test, y_prob)\n",
        "\n",
        "print(f\"Log Loss (Cross-Entropy Loss) on test data: {loss:.4f}\")\n"
      ],
      "metadata": {
        "colab": {
          "base_uri": "https://localhost:8080/"
        },
        "id": "PpvivPAnBK4j",
        "outputId": "319a1d4d-69ee-401f-b6ac-4316078e4418"
      },
      "execution_count": 23,
      "outputs": [
        {
          "output_type": "stream",
          "name": "stdout",
          "text": [
            "Log Loss (Cross-Entropy Loss) on test data: 0.2037\n"
          ]
        }
      ]
    },
    {
      "cell_type": "markdown",
      "source": [
        "43. Write a Python program to train an SVM Classifier and visualize the Confusion Matrix using seaborn."
      ],
      "metadata": {
        "id": "a3TKz4GHBZQh"
      }
    },
    {
      "cell_type": "code",
      "source": [
        "import pandas as pd\n",
        "import numpy as np\n",
        "import matplotlib.pyplot as plt\n",
        "import seaborn as sns\n",
        "from sklearn.datasets import load_breast_cancer\n",
        "from sklearn.model_selection import train_test_split\n",
        "from sklearn.svm import SVC\n",
        "from sklearn.metrics import confusion_matrix, accuracy_score\n",
        "from sklearn.preprocessing import StandardScaler\n",
        "\n",
        "# Load the Breast Cancer dataset\n",
        "cancer = load_breast_cancer()\n",
        "X, y = cancer.data, cancer.target\n",
        "target_names = cancer.target_names # 'malignant', 'benign'\n",
        "\n",
        "# Split data\n",
        "X_train, X_test, y_train, y_test = train_test_split(X, y, test_size=0.3, random_state=42, stratify=y)\n",
        "\n",
        "# Scale data\n",
        "scaler = StandardScaler()\n",
        "X_train_scaled = scaler.fit_transform(X_train)\n",
        "X_test_scaled = scaler.transform(X_test)\n",
        "\n",
        "# Train SVM Classifier\n",
        "svm_model = SVC(kernel='rbf', random_state=42)\n",
        "svm_model.fit(X_train_scaled, y_train)\n",
        "\n",
        "# Make predictions\n",
        "y_pred = svm_model.predict(X_test_scaled)\n",
        "\n",
        "# Calculate Accuracy\n",
        "accuracy = accuracy_score(y_test, y_pred)\n",
        "print(f\"Accuracy: {accuracy:.4f}\")\n",
        "\n",
        "# Compute the Confusion Matrix\n",
        "cm = confusion_matrix(y_test, y_pred)\n",
        "print(\"\\nConfusion Matrix:\\n\", cm)\n",
        "\n",
        "# Visualize the Confusion Matrix\n",
        "plt.figure(figsize=(8, 6))\n",
        "sns.heatmap(cm, annot=True, fmt='d', cmap='Blues', cbar=False,\n",
        "            xticklabels=target_names, yticklabels=target_names)\n",
        "plt.xlabel('Predicted Label')\n",
        "plt.ylabel('True Label')\n",
        "plt.title('Confusion Matrix for SVM Classifier')\n",
        "plt.show()\n",
        "\n",
        "# Interpretation:\n",
        "# Top-left: True Negatives (Correctly predicted 'malignant' (0))\n",
        "# Top-right: False Positives (Incorrectly predicted 'benign' (1) when it was 'malignant' (0))\n",
        "# Bottom-left: False Negatives (Incorrectly predicted 'malignant' (0) when it was 'benign' (1))\n",
        "# Bottom-right: True Positives (Correctly predicted 'benign' (1))"
      ],
      "metadata": {
        "colab": {
          "base_uri": "https://localhost:8080/",
          "height": 651
        },
        "id": "yS2YZ2xpBaJU",
        "outputId": "9e655992-43a1-43d8-a7da-09744082760e"
      },
      "execution_count": 22,
      "outputs": [
        {
          "output_type": "stream",
          "name": "stdout",
          "text": [
            "Accuracy: 0.9766\n",
            "\n",
            "Confusion Matrix:\n",
            " [[ 62   2]\n",
            " [  2 105]]\n"
          ]
        },
        {
          "output_type": "display_data",
          "data": {
            "text/plain": [
              "<Figure size 800x600 with 1 Axes>"
            ],
            "image/png": "[encoded data removed]"
          },
          "metadata": {}
        }
      ]
    },
    {
      "cell_type": "markdown",
      "source": [
        "44. Write a Python program to train an SVM Regressor (SVR) and evaluate its performance using Mean Absolute Error (MAE) instead of MSE."
      ],
      "metadata": {
        "id": "eC3BRkohBqQl"
      }
    },
    {
      "cell_type": "code",
      "source": [
        "import pandas as pd\n",
        "from sklearn.datasets import fetch_california_housing\n",
        "from sklearn.model_selection import train_test_split\n",
        "from sklearn.svm import SVR\n",
        "from sklearn.metrics import mean_absolute_error, mean_squared_error\n",
        "from sklearn.preprocessing import StandardScaler\n",
        "import numpy as np\n",
        "\n",
        "# Load the California Housing dataset\n",
        "housing = fetch_california_housing()\n",
        "X, y = housing.data, housing.target\n",
        "\n",
        "# Split data\n",
        "X_train, X_test, y_train, y_test = train_test_split(X, y, test_size=0.3, random_state=42)\n",
        "\n",
        "# Scale data (very important for SVR)\n",
        "scaler = StandardScaler()\n",
        "X_train_scaled = scaler.fit_transform(X_train)\n",
        "X_test_scaled = scaler.transform(X_test)\n",
        "\n",
        "# Train SVM Regressor (SVR)\n",
        "# Using 'rbf' kernel is common for SVR\n",
        "svr_model = SVR(kernel='rbf', C=1.0, epsilon=0.1)\n",
        "svr_model.fit(X_train_scaled, y_train)\n",
        "\n",
        "# Make predictions\n",
        "y_pred = svr_model.predict(X_test_scaled)\n",
        "\n",
        "# Evaluate using Mean Absolute Error (MAE)\n",
        "mae = mean_absolute_error(y_test, y_pred)\n",
        "print(f\"Mean Absolute Error (MAE): {mae:.4f}\")\n",
        "\n",
        "# Also calculate MSE for comparison (as it's often used)\n",
        "mse = mean_squared_error(y_test, y_pred)\n",
        "print(f\"Mean Squared Error (MSE): {mse:.4f}\")\n",
        "\n",
        "# Example interpretation: An MAE of X means, on average, your predictions are off by X units.\n",
        "# For California Housing, prices are in hundreds of thousands of dollars.\n",
        "# So if MAE is 0.4, it means predictions are off by $40,000 on average."
      ],
      "metadata": {
        "colab": {
          "base_uri": "https://localhost:8080/"
        },
        "id": "3aEV5RPABudD",
        "outputId": "aa4eee59-9244-49ac-9d67-d5229a5c4c45"
      },
      "execution_count": 24,
      "outputs": [
        {
          "output_type": "stream",
          "name": "stdout",
          "text": [
            "Mean Absolute Error (MAE): 0.3972\n",
            "Mean Squared Error (MSE): 0.3496\n"
          ]
        }
      ]
    },
    {
      "cell_type": "markdown",
      "source": [
        "45. Write a Python program to train a Naïve Bayes classifier and evaluate its performance using the ROC-AUC score."
      ],
      "metadata": {
        "id": "Ro-atiDUERvm"
      }
    },
    {
      "cell_type": "code",
      "source": [
        "import pandas as pd\n",
        "import numpy as np\n",
        "import matplotlib.pyplot as plt\n",
        "from sklearn.datasets import load_breast_cancer\n",
        "from sklearn.model_selection import train_test_split\n",
        "from sklearn.naive_bayes import GaussianNB\n",
        "from sklearn.metrics import roc_curve, auc, roc_auc_score, accuracy_score\n",
        "from sklearn.preprocessing import label_binarize\n",
        "\n",
        "# Load the Breast Cancer dataset (binary classification)\n",
        "cancer = load_breast_cancer()\n",
        "X, y = cancer.data, cancer.target\n",
        "target_names = cancer.target_names # 'malignant', 'benign'\n",
        "\n",
        "# Split data\n",
        "X_train, X_test, y_train, y_test = train_test_split(X, y, test_size=0.3, random_state=42, stratify=y)\n",
        "\n",
        "# Train Gaussian Naive Bayes Classifier\n",
        "gnb_model = GaussianNB()\n",
        "gnb_model.fit(X_train, y_train)\n",
        "\n",
        "# Make predictions (class labels)\n",
        "y_pred = gnb_model.predict(X_test)\n",
        "\n",
        "# Get predicted probabilities for the positive class (class 1, 'benign')\n",
        "# We need probabilities to calculate ROC-AUC\n",
        "y_pred_proba = gnb_model.predict_proba(X_test)[:, 1] # Probability of belonging to class 1\n",
        "\n",
        "# Evaluate using Accuracy (for context)\n",
        "accuracy = accuracy_score(y_test, y_pred)\n",
        "print(f\"Accuracy: {accuracy:.4f}\")\n",
        "\n",
        "# Compute ROC-AUC score\n",
        "roc_auc = roc_auc_score(y_test, y_pred_proba)\n",
        "print(f\"ROC-AUC Score: {roc_auc:.4f}\")\n",
        "\n",
        "# Compute ROC curve points\n",
        "fpr, tpr, thresholds = roc_curve(y_test, y_pred_proba)\n",
        "\n",
        "# Plot ROC curve\n",
        "plt.figure(figsize=(8, 6))\n",
        "plt.plot(fpr, tpr, color='darkorange', lw=2, label=f'ROC curve (AUC = {roc_auc:.2f})')\n",
        "plt.plot([0, 1], [0, 1], color='navy', lw=2, linestyle='--', label='Random Classifier')\n",
        "plt.xlim([0.0, 1.0])\n",
        "plt.ylim([0.0, 1.05])\n",
        "plt.xlabel('False Positive Rate (FPR)')\n",
        "plt.ylabel('True Positive Rate (TPR)')\n",
        "plt.title('Receiver Operating Characteristic (ROC) Curve for Naive Bayes')\n",
        "plt.legend(loc=\"lower right\")\n",
        "plt.grid(True)\n",
        "plt.show()\n",
        "\n",
        "print(\"\\n(An AUC closer to 1 indicates a better model in distinguishing between classes.)\")"
      ],
      "metadata": {
        "colab": {
          "base_uri": "https://localhost:8080/",
          "height": 633
        },
        "id": "8Iia2aA7ESmA",
        "outputId": "77f1125a-d3ce-41b7-da99-e1c8fe94301e"
      },
      "execution_count": 25,
      "outputs": [
        {
          "output_type": "stream",
          "name": "stdout",
          "text": [
            "Accuracy: 0.9474\n",
            "ROC-AUC Score: 0.9901\n"
          ]
        },
        {
          "output_type": "display_data",
          "data": {
            "text/plain": [
              "<Figure size 800x600 with 1 Axes>"
            ],
            "image/png": "[encoded data removed]"
          },
          "metadata": {}
        },
        {
          "output_type": "stream",
          "name": "stdout",
          "text": [
            "\n",
            "(An AUC closer to 1 indicates a better model in distinguishing between classes.)\n"
          ]
        }
      ]
    },
    {
      "cell_type": "markdown",
      "source": [
        "46. Write a Python program to train an SVM Classifier and visualize the Precision-Recall Curve."
      ],
      "metadata": {
        "id": "lNiOLR9cEVE7"
      }
    },
    {
      "cell_type": "code",
      "source": [
        "import pandas as pd\n",
        "import numpy as np\n",
        "import matplotlib.pyplot as plt\n",
        "from sklearn.datasets import load_breast_cancer\n",
        "from sklearn.model_selection import train_test_split\n",
        "from sklearn.svm import SVC\n",
        "from sklearn.metrics import precision_recall_curve, average_precision_score\n",
        "from sklearn.preprocessing import StandardScaler\n",
        "\n",
        "# Load the Breast Cancer dataset (binary classification)\n",
        "cancer = load_breast_cancer()\n",
        "X, y = cancer.data, cancer.target\n",
        "target_names = cancer.target_names # 'malignant', 'benign'\n",
        "\n",
        "# Split data\n",
        "X_train, X_test, y_train, y_test = train_test_split(X, y, test_size=0.3, random_state=42, stratify=y)\n",
        "\n",
        "# Scale data\n",
        "scaler = StandardScaler()\n",
        "X_train_scaled = scaler.fit_transform(X_train)\n",
        "X_test_scaled = scaler.transform(X_test)\n",
        "\n",
        "# Train SVM Classifier\n",
        "# For Precision-Recall curve, we need decision scores or probabilities.\n",
        "# SVC's decision_function provides these scores.\n",
        "svm_model = SVC(kernel='rbf', random_state=42, probability=True) # probability=True to get probabilities\n",
        "svm_model.fit(X_train_scaled, y_train)\n",
        "\n",
        "# Get decision scores for the positive class (class 1, 'benign')\n",
        "# The decision_function gives signed distance to the hyperplane. Higher values mean more confident positive classification.\n",
        "y_scores = svm_model.decision_function(X_test_scaled)\n",
        "# If using probability=True, you can also use predict_proba:\n",
        "# y_scores = svm_model.predict_proba(X_test_scaled)[:, 1]\n",
        "\n",
        "# Compute Precision-Recall curve points\n",
        "precision, recall, thresholds = precision_recall_curve(y_test, y_scores)\n",
        "\n",
        "# Compute Average Precision (AP) score\n",
        "# AP summarizes the PR curve as the weighted mean of precisions achieved at each threshold.\n",
        "average_precision = average_precision_score(y_test, y_scores)\n",
        "print(f\"Average Precision (AP) Score: {average_precision:.4f}\")\n",
        "\n",
        "# Plot Precision-Recall curve\n",
        "plt.figure(figsize=(8, 6))\n",
        "plt.plot(recall, precision, color='b', alpha=0.7, label=f'Precision-Recall curve (AP = {average_precision:.2f})')\n",
        "plt.xlabel('Recall')\n",
        "plt.ylabel('Precision')\n",
        "plt.title('Precision-Recall Curve for SVM Classifier')\n",
        "plt.legend(loc=\"lower left\")\n",
        "plt.grid(True)\n",
        "plt.show()\n",
        "\n",
        "print(\"\\n(A PR curve closer to the top-right corner indicates a better model. AP score closer to 1 is better.)\")"
      ],
      "metadata": {
        "colab": {
          "base_uri": "https://localhost:8080/",
          "height": 616
        },
        "id": "ZtS3YYkgEXtK",
        "outputId": "5425215e-492e-4849-8f10-b7b16caf4b46"
      },
      "execution_count": 26,
      "outputs": [
        {
          "output_type": "stream",
          "name": "stdout",
          "text": [
            "Average Precision (AP) Score: 0.9987\n"
          ]
        },
        {
          "output_type": "display_data",
          "data": {
            "text/plain": [
              "<Figure size 800x600 with 1 Axes>"
            ],
            "image/png": "[encoded data removed]"
          },
          "metadata": {}
        },
        {
          "output_type": "stream",
          "name": "stdout",
          "text": [
            "\n",
            "(A PR curve closer to the top-right corner indicates a better model. AP score closer to 1 is better.)\n"
          ]
        }
      ]
    }
  ]
}