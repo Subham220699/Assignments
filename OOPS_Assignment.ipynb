{
  "nbformat": 4,
  "nbformat_minor": 0,
  "metadata": {
    "colab": {
      "provenance": []
    },
    "kernelspec": {
      "name": "python3",
      "display_name": "Python 3"
    },
    "language_info": {
      "name": "python"
    }
  },
  "cells": [
    {
      "cell_type": "markdown",
      "source": [
        "1. What are the five key concepts of Object-Oriented Programming (OOP)?\n",
        "\n",
        "Ans:\n",
        "\n",
        "(I) **Objects:** Instances of classes that represent entities with state (attributes/properties) and behavior (methods/functions).\n",
        "\n",
        "(II) **Classes:** Blueprints for creating objects, defining their properties and methods.\n",
        "\n",
        "(III) **Inheritance:** This is the mechanism that allows you to create new classes (derived classes) based on existing classes (base classes). Derived classes inherit the attributes and methods of the base class, but can also add new ones or override existing ones. Inheritance promotes code reuse and creates a hierarchical relationship between classes.\n",
        "\n",
        "(IV) **Polymorphism:** This is the ability of objects of different types to be treated as if they were of the same type. Polymorphism allows you to write code that can work with objects of different classes in a uniform way. This can make your code more flexible and easier to maintain.\n",
        "\n",
        "(V) **Encapsulation:** This is the bundling of data (attributes) and methods (functions) that operate on that data into a single unit, called an object. Encapsulation promotes data hiding, making it easier to control access to the internal state of an object."
      ],
      "metadata": {
        "id": "xdCmIDu625VT"
      }
    },
    {
      "cell_type": "code",
      "source": [
        "#2. Write a Python class for a `Car` with attributes for `make`, `model`, and `year`. Include a method to display\n",
        "#the car's information.\n",
        "class Car:\n",
        "  def __init__(self, make, model, year):\n",
        "    self.make = make\n",
        "    self.model = model\n",
        "    self.year = year\n",
        "  def display_info(self):\n",
        "    print(f\"Make: {self.make}, Model: {self.model}, Year: {self.year}\")\n",
        "car1=Car(\"Ford\",\"Mustang\",1969)\n",
        "car1.display_info()"
      ],
      "metadata": {
        "colab": {
          "base_uri": "https://localhost:8080/"
        },
        "id": "G30AOKHr5LmR",
        "outputId": "8e0b5fa1-a76a-4c85-d247-9e1790f6faab"
      },
      "execution_count": null,
      "outputs": [
        {
          "output_type": "stream",
          "name": "stdout",
          "text": [
            "Make: Ford, Model: Mustang, Year: 1969\n"
          ]
        }
      ]
    },
    {
      "cell_type": "markdown",
      "source": [
        "3. Explain the difference between instance methods and class methods. Provide an example of each.\n",
        "\n",
        "Ans:\n",
        "\n",
        "Key differences:\n",
        "\n",
        "- Invocation: Instance methods are invoked on instances, while class methods are invoked on the class.\n",
        "- Access: Instance methods access instance attributes (self), while class methods access class attributes.\n",
        "- Purpose: Instance methods typically operate on instance state, while class methods operate on class state or create new instances."
      ],
      "metadata": {
        "id": "yAjQ0FWtFPLv"
      }
    },
    {
      "cell_type": "code",
      "source": [
        "#Instance Methods\n",
        "class Person:\n",
        "    def __init__(self, name, age):\n",
        "        self.name = name\n",
        "        self.age = age\n",
        "\n",
        "    def greet(self):\n",
        "        print(f\"Hello, my name is {self.name} and I'm {self.age} years old.\")\n",
        "\n",
        "# Create an instance\n",
        "john = Person(\"John\", 30)\n",
        "\n",
        "# Call the instance method\n",
        "john.greet()"
      ],
      "metadata": {
        "colab": {
          "base_uri": "https://localhost:8080/"
        },
        "id": "DsW8v2oyFe3q",
        "outputId": "32cf29af-d1fc-40a9-a576-628076cde91d"
      },
      "execution_count": null,
      "outputs": [
        {
          "output_type": "stream",
          "name": "stdout",
          "text": [
            "Hello, my name is John and I'm 30 years old.\n"
          ]
        }
      ]
    },
    {
      "cell_type": "code",
      "source": [
        "#Class Methods\n",
        "class Person:\n",
        "    count = 0\n",
        "\n",
        "    def __init__(self, name, age):\n",
        "        self.name = name\n",
        "        self.age = age\n",
        "        Person.count += 1\n",
        "\n",
        "    @classmethod\n",
        "    def get_count(cls):\n",
        "        return cls.count\n",
        "\n",
        "# Create instances\n",
        "john = Person(\"John\", 30)\n",
        "jane = Person(\"Jane\", 25)\n",
        "\n",
        "# Call the class method\n",
        "print(Person.get_count())"
      ],
      "metadata": {
        "colab": {
          "base_uri": "https://localhost:8080/"
        },
        "id": "tduGyEpPF4U_",
        "outputId": "89329187-fae4-45fe-a641-5481f00a7d27"
      },
      "execution_count": null,
      "outputs": [
        {
          "output_type": "stream",
          "name": "stdout",
          "text": [
            "2\n"
          ]
        }
      ]
    },
    {
      "cell_type": "markdown",
      "source": [
        "4.How does Python implement method overloading? Give an example.\n",
        "\n",
        "Ans:\n",
        "\n",
        "Python does not support method overloading in the classical sense, unlike languages such as C++ or Java. However, Python provides alternative ways to achieve similar functionality.\n",
        "\n",
        "We can simulate method overloading by using default arguments, variable arguments (*args, **kwargs), or checking argument types and numbers inside the method."
      ],
      "metadata": {
        "id": "48-LyTWCIFJz"
      }
    },
    {
      "cell_type": "code",
      "source": [
        "'''\n",
        "1. Default Argument Values\n",
        "'''\n",
        "#Example:\n",
        "class Calculator:\n",
        "    def add(self, x, y, z=0):\n",
        "        return x + y + z\n",
        "\n",
        "'''\n",
        "2.  *Variable Number of Arguments*\n",
        "'''\n",
        "#Example:\n",
        "\n",
        "class Calculator:\n",
        "    def add(self, *args):\n",
        "        result = 0\n",
        "        for num in args:\n",
        "            result += num\n",
        "        return result"
      ],
      "metadata": {
        "id": "K_SR3oQAIxb3"
      },
      "execution_count": null,
      "outputs": []
    },
    {
      "cell_type": "markdown",
      "source": [
        "5.What are the three types of access modifiers in Python? How are they denoted?\n",
        "\n",
        "Ans:\n",
        "\n",
        "**Public:** No specific notation is used for public access modifiers. Public members are accessible from anywhere in the program.\n",
        "\n",
        "**Private:** Private members are denoted using a double underscore (__) prefix.\n",
        "\n",
        "**Protected:** Protected members are denoted using a single underscore (_) prefix."
      ],
      "metadata": {
        "id": "eQ8DZzjdK_U2"
      }
    },
    {
      "cell_type": "code",
      "source": [
        "class Example:\n",
        "\n",
        "    def __init__(self):\n",
        "        self.public_var = 10  # Public variable\n",
        "        self._protected_var = 20  # Protected variable\n",
        "        self.__private_var = 30  # Private variable\n",
        "\n",
        "    def public_method(self):  # Public method\n",
        "        return \"Public method\"\n",
        "\n",
        "    def _protected_method(self):  # Protected method\n",
        "        return \"Protected method\"\n",
        "\n",
        "    def __private_method(self):  # Private method\n",
        "        return \"Private method\""
      ],
      "metadata": {
        "id": "Sg58c3ilMJcy"
      },
      "execution_count": null,
      "outputs": []
    },
    {
      "cell_type": "markdown",
      "source": [
        "6. Describe the five types of inheritance in Python. Provide a simple example of multiple inheritance.\n",
        "\n",
        "Ans:\n",
        "\n",
        "**Single Inheritance:** A child class inherits from a single parent class.\n",
        "\n",
        "**Multiple Inheritance:** A child class inherits from multiple parent classes.\n",
        "\n",
        "**Multilevel Inheritance:** A child class inherits from a parent class, which itself inherits from another parent class.\n",
        "\n",
        "**Hierarchical Inheritance:** Multiple child classes inherit from a single parent class.\n",
        "\n",
        "**Hybrid Inheritance:** Combination of multiple and multilevel inheritance.\n"
      ],
      "metadata": {
        "id": "XOeHrRvbMzPC"
      }
    },
    {
      "cell_type": "code",
      "source": [
        "class Parent1:\n",
        "  def method1(self):\n",
        "    print(\"Parent 1 method\")\n",
        "\n",
        "class Parent2:\n",
        "  def method2(self):\n",
        "    print(\"Parent 2 method\")\n",
        "\n",
        "class Child(Parent1, Parent2):\n",
        "  pass\n",
        "\n",
        "child = Child()\n",
        "child.method1()\n",
        "child.method2()"
      ],
      "metadata": {
        "colab": {
          "base_uri": "https://localhost:8080/"
        },
        "id": "xPqt9hPLPDQQ",
        "outputId": "9a65a0fc-c77c-4d8c-ebc2-da11621d132d"
      },
      "execution_count": null,
      "outputs": [
        {
          "output_type": "stream",
          "name": "stdout",
          "text": [
            "Parent 1 method\n",
            "Parent 2 method\n"
          ]
        }
      ]
    },
    {
      "cell_type": "markdown",
      "source": [
        "7.What is the Method Resolution Order (MRO) in Python? How can you retrieve it programmatically?\n",
        "\n",
        "Ans:\n",
        "\n",
        "Method Resolution Order (MRO) in Python is the order in which methods are searched for when an attribute or method is accessed on an object. This is particularly important in inheritance scenarios, where a class might inherit from multiple base classes.\n",
        "\n",
        "The MRO determines the order in which methods are looked up when a method call is made on an object. This ensures that the correct method is called, even when there are multiple methods with the same name in different base classes.\n",
        "\n",
        "The MRO is calculated using a specific algorithm called C3 linearization. This algorithm ensures that the MRO is consistent and avoids the diamond problem, which can occur when a class inherits from multiple base classes that have a common ancestor\n",
        "\n"
      ],
      "metadata": {
        "id": "NzQLpoQ0Qihi"
      }
    },
    {
      "cell_type": "code",
      "source": [
        "#To retrieve the MRO programmatically, you can use the mro() method or the __mro__ attribute:\n",
        "\n",
        "\n",
        "class Grandparent:\n",
        "    pass\n",
        "\n",
        "class Parent(Grandparent):\n",
        "    pass\n",
        "\n",
        "class Child(Parent):\n",
        "    pass\n",
        "\n",
        "# Using the mro() method\n",
        "print(Child.mro())\n",
        "\n",
        "# Using the __mro__ attribute\n",
        "print(Child.__mro__)"
      ],
      "metadata": {
        "colab": {
          "base_uri": "https://localhost:8080/"
        },
        "id": "4GyoWAF8THN_",
        "outputId": "e39d785c-2130-4199-86bb-dce1e2917024"
      },
      "execution_count": null,
      "outputs": [
        {
          "output_type": "stream",
          "name": "stdout",
          "text": [
            "[<class '__main__.Child'>, <class '__main__.Parent'>, <class '__main__.Grandparent'>, <class 'object'>]\n",
            "(<class '__main__.Child'>, <class '__main__.Parent'>, <class '__main__.Grandparent'>, <class 'object'>)\n"
          ]
        }
      ]
    },
    {
      "cell_type": "code",
      "source": [
        "#8.Create an abstract base class `Shape` with an abstract method `area()`. Then create two subclasses\n",
        "#`Circle` and `Rectangle` that implement the `area()` method.\n",
        "\n",
        "from abc import ABC, abstractmethod\n",
        "import math\n",
        "\n",
        "# Abstract Base Class\n",
        "class Shape(ABC):\n",
        "    @abstractmethod\n",
        "    def area(self):\n",
        "        pass\n",
        "\n",
        "# Subclass Circle\n",
        "class Circle(Shape):\n",
        "    def __init__(self, radius):\n",
        "        self.radius = radius\n",
        "\n",
        "    def area(self):\n",
        "        return math.pi * (self.radius ** 2)\n",
        "\n",
        "# Subclass Rectangle\n",
        "class Rectangle(Shape):\n",
        "    def __init__(self, width, height):\n",
        "        self.width = width\n",
        "        self.height = height\n",
        "\n",
        "    def area(self):\n",
        "        return self.width * self.height\n",
        "\n",
        "# Create instances\n",
        "circle = Circle(5)\n",
        "rectangle = Rectangle(4, 6)\n",
        "\n",
        "# Calculate areas\n",
        "print(f\"Circle area: {circle.area():.2f}\")\n",
        "print(f\"Rectangle area: {rectangle.area()}\")\n",
        "\n"
      ],
      "metadata": {
        "colab": {
          "base_uri": "https://localhost:8080/"
        },
        "id": "EcDmDp8lTQCJ",
        "outputId": "28e5b34d-c050-4d56-c9fd-870af9bd6f39"
      },
      "execution_count": null,
      "outputs": [
        {
          "output_type": "stream",
          "name": "stdout",
          "text": [
            "Circle area: 78.54\n",
            "Rectangle area: 24\n"
          ]
        }
      ]
    },
    {
      "cell_type": "code",
      "source": [
        "#9. Demonstrate polymorphism by creating a function that can work with different shape objects to calculate\n",
        "#and print their areas.\n",
        "#Here's a demonstration of polymorphism using Python:\n",
        "\n",
        "\n",
        "from abc import ABC, abstractmethod\n",
        "import math\n",
        "\n",
        "# Abstract Base Class\n",
        "class Shape(ABC):\n",
        "    @abstractmethod\n",
        "    def area(self):\n",
        "        pass\n",
        "\n",
        "# Subclass Circle\n",
        "class Circle(Shape):\n",
        "    def __init__(self, radius):\n",
        "        self.radius = radius\n",
        "\n",
        "    def area(self):\n",
        "        return math.pi * (self.radius ** 2)\n",
        "\n",
        "# Subclass Rectangle\n",
        "class Rectangle(Shape):\n",
        "    def __init__(self, width, height):\n",
        "        self.width = width\n",
        "        self.height = height\n",
        "\n",
        "    def area(self):\n",
        "        return self.width * self.height\n",
        "\n",
        "# Subclass Triangle\n",
        "class Triangle(Shape):\n",
        "    def __init__(self, base, height):\n",
        "        self.base = base\n",
        "        self.height = height\n",
        "\n",
        "    def area(self):\n",
        "        return 0.5 * self.base * self.height\n",
        "\n",
        "# Polymorphic function\n",
        "def calculate_and_print_area(shape: Shape):\n",
        "    print(f\"Area of {type(shape).__name__}: {shape.area():.2f}\")\n",
        "\n",
        "# Create shape objects\n",
        "circle = Circle(5)\n",
        "rectangle = Rectangle(4, 6)\n",
        "triangle = Triangle(3, 7)\n",
        "\n",
        "# Demonstrate polymorphism\n",
        "calculate_and_print_area(circle)\n",
        "calculate_and_print_area(rectangle)\n",
        "calculate_and_print_area(triangle)\n"
      ],
      "metadata": {
        "colab": {
          "base_uri": "https://localhost:8080/"
        },
        "id": "U-gc1808XG8u",
        "outputId": "9482e508-934c-479b-ab2d-9021b3a5c923"
      },
      "execution_count": null,
      "outputs": [
        {
          "output_type": "stream",
          "name": "stdout",
          "text": [
            "Area of Circle: 78.54\n",
            "Area of Rectangle: 24.00\n",
            "Area of Triangle: 10.50\n"
          ]
        }
      ]
    },
    {
      "cell_type": "code",
      "source": [
        "#10. Implement encapsulation in a `BankAccount` class with private attributes for `balance` and\n",
        "#`account_number`. Include methods for deposit, withdrawal, and balance inquiry.\n",
        "class BankAccount:\n",
        "    def __init__(self, account_number, initial_balance):\n",
        "        self.__account_number = account_number\n",
        "        self.__balance = initial_balance\n",
        "\n",
        "    def deposit(self, amount):\n",
        "        if amount > 0:\n",
        "            self.__balance += amount\n",
        "            print(f\"Deposited Rs.{amount}. Current balance: Rs.{self.__balance:.2f}\")\n",
        "        else:\n",
        "            print(\"Invalid deposit amount.\")\n",
        "\n",
        "    def withdraw(self, amount):\n",
        "        if 0 < amount <= self.__balance:\n",
        "            self.__balance -= amount\n",
        "            print(f\"Withdrew Rs.{amount}. Current balance: Rs.{self.__balance:.2f}\")\n",
        "        else:\n",
        "            print(\"Insufficient funds or invalid withdrawal amount.\")\n",
        "\n",
        "    def get_balance(self):\n",
        "        print(f\"Account balance: Rs.{self.__balance:.2f}\")\n",
        "\n",
        "    def get_account_number(self):\n",
        "        return self.__account_number\n",
        "\n",
        "# Example usage:\n",
        "account = BankAccount(\"1234567890\", 1000.0)\n",
        "print(f\"Account Number: {account.get_account_number()}\")\n",
        "account.get_balance()\n",
        "account.deposit(500.0)\n",
        "account.withdraw(200.0)\n",
        "account.get_balance()"
      ],
      "metadata": {
        "colab": {
          "base_uri": "https://localhost:8080/"
        },
        "id": "l9vlVNlPadvp",
        "outputId": "4b451489-b78f-4951-bed1-6452b473e9c6"
      },
      "execution_count": null,
      "outputs": [
        {
          "output_type": "stream",
          "name": "stdout",
          "text": [
            "Account Number: 1234567890\n",
            "Account balance: Rs.1000.00\n",
            "Deposited Rs.500.0. Current balance: Rs.1500.00\n",
            "Withdrew Rs.200.0. Current balance: Rs.1300.00\n",
            "Account balance: Rs.1300.00\n"
          ]
        }
      ]
    },
    {
      "cell_type": "code",
      "source": [
        "#11. Write a class that overrides the `__str__` and `__add__` magic methods. What will these methods allow\n",
        "#you to do?\n",
        "'''\n",
        "Overriding these magic methods enables:\n",
        "\n",
        "*   `__str__`: Custom string representation of the object, allowing for readable output when using `print()` or `str()`.\n",
        "*   `__add__`: Custom addition behavior, enabling the use of the `+` operator to add `Vector` instances.\n",
        "\n",
        "'''\n",
        "\n",
        "class Coordinate:\n",
        "    def __init__(self, x, y):\n",
        "        self.x = x\n",
        "        self.y = y\n",
        "\n",
        "    def __str__(self):\n",
        "        return f\"Point with Coordinate({self.x}, {self.y})\"\n",
        "\n",
        "    def __add__(self, other):\n",
        "        if isinstance(other, Coordinate):\n",
        "            return Coordinate(self.x + other.x, self.y + other.y)\n",
        "        else:\n",
        "            raise ValueError(\"Can only add Coordinate instances\")\n",
        "\n",
        "point1 = Coordinate(2, 3)\n",
        "point2 = Coordinate(4, 5)\n",
        "\n",
        "print(point1)\n",
        "print(point2)\n",
        "\n",
        "result = point1 + point2\n",
        "print (f\"New {result}\")"
      ],
      "metadata": {
        "colab": {
          "base_uri": "https://localhost:8080/"
        },
        "id": "KHOmMEiyBemz",
        "outputId": "1d7dfa8f-906f-4ad9-94bc-0f08d14236ba"
      },
      "execution_count": 5,
      "outputs": [
        {
          "output_type": "stream",
          "name": "stdout",
          "text": [
            "Point with Coordinate(2, 3)\n",
            "Point with Coordinate(4, 5)\n",
            "New Point with Coordinate(6, 8)\n"
          ]
        }
      ]
    },
    {
      "cell_type": "code",
      "source": [
        "#12. Create a decorator that measures and prints the execution time of a function.\n",
        "import time\n",
        "def time_decorator(func):\n",
        "  def timer():\n",
        "    start=time.time()\n",
        "    func()\n",
        "    end=time.time()\n",
        "    print(\"Time of execution of this function\",end-start)\n",
        "  return timer\n",
        "\n",
        "@time_decorator\n",
        "def func_test():\n",
        "  print(1100000*1000)\n",
        "\n",
        "func_test()"
      ],
      "metadata": {
        "colab": {
          "base_uri": "https://localhost:8080/"
        },
        "id": "zflQYtEiF-YM",
        "outputId": "73521f87-10b1-48bd-cecb-e02f1811886c"
      },
      "execution_count": 6,
      "outputs": [
        {
          "output_type": "stream",
          "name": "stdout",
          "text": [
            "1100000000\n",
            "Time of execution of this function 8.034706115722656e-05\n"
          ]
        }
      ]
    },
    {
      "cell_type": "code",
      "source": [
        "#13. Explain the concept of the Diamond Problem in multiple inheritance. How does Python resolve it?\n",
        "'''\n",
        "The Diamond Problem occurs in multiple inheritance,\n",
        "where a class inherits conflicting methods or attributes from its parent classes.\n",
        "This problem arises when:\n",
        "-Class A inherits from classes B and C.\n",
        "-Classes B and C inherit from a common base class D.\n",
        "-Class D has a method or attribute that classes B and C override.\n",
        "The Diamond Problem gets its name from the diamond-shaped inheritance graph:\n",
        "\n",
        "    D\n",
        "   / \\\n",
        "  B   C\n",
        "   \\ /\n",
        "    A\n",
        "\n",
        "Python resolves the Diamond Problem using a method resolution order (MRO) called C3 Linearization.\n",
        "Python's MRO ensures that:\n",
        "\n",
        "- Class A inherits methods and attributes from its parent classes in a predictable order.\n",
        "- Conflicts are resolved by using the first occurrence of the method or attribute in the MRO\n",
        "In the bellow example:\n",
        "\n",
        "- Class A inherits from classes B and C.\n",
        "- Classes B and C override method() from class D.\n",
        "- Python's MRO resolves the conflict by using B's method().\n",
        "\n",
        "By using C3 Linearization, Python provides a predictable and consistent\n",
        "way to resolve the Diamond Problem in multiple inheritance scenarios.\n",
        "'''\n",
        "#Example:\n",
        "\n",
        "\n",
        "class D:\n",
        "    def method(self):\n",
        "        print(\"D's method\")\n",
        "\n",
        "class B(D):\n",
        "    def method(self):\n",
        "        print(\"B's method\")\n",
        "\n",
        "class C(D):\n",
        "    def method(self):\n",
        "        print(\"C's method\")\n",
        "\n",
        "class A(B, C):\n",
        "    pass\n",
        "\n",
        "a = A()\n",
        "a.method()\n",
        "\n",
        "\n",
        "\n",
        "\n"
      ],
      "metadata": {
        "colab": {
          "base_uri": "https://localhost:8080/"
        },
        "id": "M2ITpqyTJ9ON",
        "outputId": "81b03282-aaaa-4bb0-8b3d-258671893c0c"
      },
      "execution_count": 8,
      "outputs": [
        {
          "output_type": "stream",
          "name": "stdout",
          "text": [
            "B's method\n"
          ]
        }
      ]
    },
    {
      "cell_type": "code",
      "source": [
        "#14. Write a class method that keeps track of the number of instances created from a class.\n",
        "class InstanceCounter:\n",
        "    instance_count = 0\n",
        "\n",
        "    def __init__(self):\n",
        "        InstanceCounter.instance_count += 1\n",
        "\n",
        "    @classmethod\n",
        "    def get_instance_count(cls):\n",
        "        return cls.instance_count\n",
        "instance1 = InstanceCounter()\n",
        "instance2 = InstanceCounter()\n",
        "instance3 = InstanceCounter()\n",
        "\n",
        "print(InstanceCounter.get_instance_count())\n"
      ],
      "metadata": {
        "colab": {
          "base_uri": "https://localhost:8080/"
        },
        "id": "0Jdt_FzlNA9c",
        "outputId": "3232ee91-1270-4d16-cb75-3c30bdd37f52"
      },
      "execution_count": 9,
      "outputs": [
        {
          "output_type": "stream",
          "name": "stdout",
          "text": [
            "3\n"
          ]
        }
      ]
    },
    {
      "cell_type": "code",
      "source": [
        "#15. Implement a static method in a class that checks if a given year is a leap year.\n",
        "\n",
        "class Calendar:\n",
        "    @staticmethod\n",
        "    def is_leap_year(year):\n",
        "        if year % 4 == 0:\n",
        "            if year % 100 == 0:\n",
        "                if year % 400 == 0:\n",
        "                    return True\n",
        "                else:\n",
        "                    return False\n",
        "            else:\n",
        "                return True\n",
        "\n",
        "        else:\n",
        "            return False\n",
        "\n",
        "# Example usage\n",
        "\n",
        "year = 2029\n",
        "if Calendar.is_leap_year(year):\n",
        "    print(year, \"is a leap year\")\n",
        "else:\n",
        "    print(year, \"is not a leap year\")\n",
        "\n"
      ],
      "metadata": {
        "colab": {
          "base_uri": "https://localhost:8080/"
        },
        "id": "8VkcXcudNbOG",
        "outputId": "bb6de1ba-ee78-4995-a9b6-5ee7dccbd079"
      },
      "execution_count": 11,
      "outputs": [
        {
          "output_type": "stream",
          "name": "stdout",
          "text": [
            "2029 is not a leap year\n"
          ]
        }
      ]
    }
  ]
}