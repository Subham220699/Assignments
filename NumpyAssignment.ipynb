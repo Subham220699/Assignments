{
  "nbformat": 4,
  "nbformat_minor": 0,
  "metadata": {
    "colab": {
      "provenance": []
    },
    "kernelspec": {
      "name": "python3",
      "display_name": "Python 3"
    },
    "language_info": {
      "name": "python"
    }
  },
  "cells": [
    {
      "cell_type": "markdown",
      "source": [
        "**Theoretical Questions**"
      ],
      "metadata": {
        "id": "rXaAopfSxTVF"
      }
    },
    {
      "cell_type": "markdown",
      "source": [
        "**1. Explain the purpose and advantages of NumPy in scientific computing and data analysis. How does it\n",
        "enhance Python's capabilities for numerical operations?**\n",
        "\n",
        "Ans:\n",
        "\n",
        "NumPy (Numerical Python) is a library for working with arrays and mathematical operations in Python. Its primary purpose is to provide support for large, multi-dimensional arrays and matrices, along with a wide range of high-performance mathematical functions to manipulate them.\n",
        "\n",
        "Purpose:\n",
        "\n",
        "\n",
        "1. Numerical Computing: NumPy is designed for efficient numerical computation, providing data structures and operations for scientific computing, data analysis, and machine learning.\n",
        "2. Array Operations: It provides support for large, multi-dimensional arrays and matrices, enabling vectorized operations and reducing the need for loops.\n",
        "3. Mathematical Functions: NumPy offers a wide range of high-performance mathematical functions, including basic arithmetic, trigonometric, exponential, and statistical functions.\n",
        "\n",
        "Advantages:\n",
        "\n",
        "\n",
        "\n",
        "1. Speed: NumPy's optimized C code and vectorized operations provide significant speedups compared to Python's built-in data structures.\n",
        "2. Memory Efficiency: NumPy arrays require less memory than Python lists, making them ideal for large datasets.\n",
        "3. Convenience: NumPy's array-based operations simplify complex numerical computations.\n",
        "4. Integration: NumPy integrates seamlessly with other popular scientific computing libraries in Python, such as Pandas, SciPy, and Matplotlib.\n",
        "\n",
        "Enhancing Python's Capabilities:\n",
        "\n",
        "1. Multi-Dimensional Arrays: NumPy introduces multi-dimensional arrays, enabling complex numerical computations.\n",
        "2. Vectorized Operations: NumPy's array-based operations replace loops, improving performance and readability.\n",
        "3. Matrix Operations: NumPy provides efficient matrix multiplication, decomposition, and other linear algebra operations.\n",
        "4. Statistical Functions: NumPy offers a range of statistical functions, including mean, median, standard deviation, and correlation."
      ],
      "metadata": {
        "id": "tmpwF2vexiWG"
      }
    },
    {
      "cell_type": "markdown",
      "source": [
        "**2. Compare and contrast np.mean() and np.average() functions in NumPy. When would you use one over the\n",
        "other?**\n",
        "\n",
        "Ans:\n",
        "\n",
        "np.mean() and np.average() are two commonly used functions in NumPy for calculating the central tendency of a dataset. While they appear similar, there are subtle differences between them.\n",
        "\n",
        "np.mean()\n",
        "\n",
        "np.mean() calculates the arithmetic mean of an array, which is the sum of all elements divided by the number of elements.\n",
        "\n",
        "np.average()\n",
        "\n",
        "np.average() calculates the weighted average of an array, allowing for optional weights.\n",
        "\n",
        "Key differences:\n",
        "\n",
        "1. Weights: np.average() allows for optional weights, whereas np.mean() does not.\n",
        "2. Axis: Both functions can operate along specific axes, but np.average() requires explicit specification.\n",
        "3. Returned value: np.mean() always returns the mean value. np.average() returns the average value and, optionally, the sum of weights.\n",
        "\n",
        "Usage:\n",
        "\n",
        "1. Use np.mean():\n",
        "    - When calculating the simple arithmetic mean.\n",
        "    - When working with unweighted data.\n",
        "2. Use np.average():\n",
        "    - When calculating weighted averages.\n",
        "    - When working with data that has varying importance or probabilities."
      ],
      "metadata": {
        "id": "kiSXCU8fzMEn"
      }
    },
    {
      "cell_type": "markdown",
      "source": [
        "**3. Describe the methods for reversing a NumPy array along different axes. Provide examples for 1D and 2D\n",
        "arrays.**\n",
        "\n",
        "Ans:\n",
        "\n",
        "Reversing a NumPy array can be achieved using the following methods:\n",
        "\n",
        "1. np.flip()\n",
        "\n",
        "Reverses the elements of an array along the specified axis.\n",
        "\n",
        "2. np.flipud()\n",
        "\n",
        "Reverses the elements of an array along the 0th axis (vertical flip).\n",
        "\n",
        "3. np.fliplr()\n",
        "\n",
        "Reverses the elements of an array along the 1st axis (horizontal flip).\n",
        "\n",
        "4. Slicing (array[::-1])\n",
        "\n",
        "Reverses the entire array or along a specific axis.\n",
        "\n",
        "\n"
      ],
      "metadata": {
        "id": "eQ2wgYe10geC"
      }
    },
    {
      "cell_type": "markdown",
      "source": [
        "# Examples:\n",
        "\n",
        "# 1D Array:"
      ],
      "metadata": {
        "id": "apIFg9K-2F99"
      }
    },
    {
      "cell_type": "code",
      "source": [
        "\n",
        "import numpy as np\n",
        "\n",
        "# Create a 1D array\n",
        "arr_1d = np.array([1, 2, 3, 4, 5])\n",
        "print(arr_1d)"
      ],
      "metadata": {
        "colab": {
          "base_uri": "https://localhost:8080/"
        },
        "id": "Ilm-AvA91OX8",
        "outputId": "1384f1d1-cc85-4554-b53b-c98bdd322fcf"
      },
      "execution_count": 4,
      "outputs": [
        {
          "output_type": "stream",
          "name": "stdout",
          "text": [
            "[1 2 3 4 5]\n"
          ]
        }
      ]
    },
    {
      "cell_type": "code",
      "source": [
        "# Reverse using np.flip()\n",
        "reversed_arr_1d = np.flip(arr_1d)\n",
        "print(reversed_arr_1d)"
      ],
      "metadata": {
        "colab": {
          "base_uri": "https://localhost:8080/"
        },
        "id": "0KmC3W3o185K",
        "outputId": "f3c392e1-b1a5-49dc-bca4-e06c9e29f8c6"
      },
      "execution_count": 5,
      "outputs": [
        {
          "output_type": "stream",
          "name": "stdout",
          "text": [
            "[5 4 3 2 1]\n"
          ]
        }
      ]
    },
    {
      "cell_type": "code",
      "source": [
        "# Reverse using slicing\n",
        "reversed_arr_1d_slice = arr_1d[::-1]\n",
        "print(reversed_arr_1d_slice)"
      ],
      "metadata": {
        "colab": {
          "base_uri": "https://localhost:8080/"
        },
        "id": "7gDYNLS82AMB",
        "outputId": "9dd776be-cc9d-48e9-c54a-100045e93a00"
      },
      "execution_count": 6,
      "outputs": [
        {
          "output_type": "stream",
          "name": "stdout",
          "text": [
            "[5 4 3 2 1]\n"
          ]
        }
      ]
    },
    {
      "cell_type": "markdown",
      "source": [
        "#2d Array:"
      ],
      "metadata": {
        "id": "e0Kg3UMt2IvN"
      }
    },
    {
      "cell_type": "code",
      "source": [
        "# Create a 2D array\n",
        "arr_2d = np.array([[1, 2, 3], [4, 5, 6]])\n",
        "arr_2d"
      ],
      "metadata": {
        "colab": {
          "base_uri": "https://localhost:8080/"
        },
        "id": "JKb8I_cj2Cum",
        "outputId": "42ea64b8-6187-4f62-e586-ff151a212295"
      },
      "execution_count": 8,
      "outputs": [
        {
          "output_type": "execute_result",
          "data": {
            "text/plain": [
              "array([[1, 2, 3],\n",
              "       [4, 5, 6]])"
            ]
          },
          "metadata": {},
          "execution_count": 8
        }
      ]
    },
    {
      "cell_type": "code",
      "source": [
        "# Reverse along 0th axis (vertical flip) using np.flipud()\n",
        "reversed_arr_2d_vert = np.flipud(arr_2d)\n",
        "print(reversed_arr_2d_vert)"
      ],
      "metadata": {
        "colab": {
          "base_uri": "https://localhost:8080/"
        },
        "id": "N7JGhjyt2YBa",
        "outputId": "da673ec1-4b4f-48b1-a628-2db27547bbfc"
      },
      "execution_count": 9,
      "outputs": [
        {
          "output_type": "stream",
          "name": "stdout",
          "text": [
            "[[4 5 6]\n",
            " [1 2 3]]\n"
          ]
        }
      ]
    },
    {
      "cell_type": "code",
      "source": [
        "# Reverse along 1st axis (horizontal flip) using np.fliplr()\n",
        "reversed_arr_2d_horiz = np.fliplr(arr_2d)\n",
        "print(reversed_arr_2d_horiz)"
      ],
      "metadata": {
        "colab": {
          "base_uri": "https://localhost:8080/"
        },
        "id": "9DCzeAeP2chq",
        "outputId": "84d5c3cb-4d4a-4546-f88d-661d1b22c2d9"
      },
      "execution_count": 10,
      "outputs": [
        {
          "output_type": "stream",
          "name": "stdout",
          "text": [
            "[[3 2 1]\n",
            " [6 5 4]]\n"
          ]
        }
      ]
    },
    {
      "cell_type": "code",
      "source": [
        "# Reverse using np.flip() along 0th axis\n",
        "reversed_arr_2d = np.flip(arr_2d, axis=0)\n",
        "print(reversed_arr_2d)"
      ],
      "metadata": {
        "colab": {
          "base_uri": "https://localhost:8080/"
        },
        "id": "7DpXqpln2gfw",
        "outputId": "3cd28fd0-9833-4306-c85e-410de4362b9c"
      },
      "execution_count": 11,
      "outputs": [
        {
          "output_type": "stream",
          "name": "stdout",
          "text": [
            "[[4 5 6]\n",
            " [1 2 3]]\n"
          ]
        }
      ]
    },
    {
      "cell_type": "code",
      "source": [
        "# Reverse using slicing along 0th axis\n",
        "reversed_arr_2d_slice = arr_2d[::-1, :]\n",
        "print(reversed_arr_2d_slice)"
      ],
      "metadata": {
        "colab": {
          "base_uri": "https://localhost:8080/"
        },
        "id": "34NXt5442kOf",
        "outputId": "9ab70f34-ab4a-464a-9c70-b00867f1b513"
      },
      "execution_count": 12,
      "outputs": [
        {
          "output_type": "stream",
          "name": "stdout",
          "text": [
            "[[4 5 6]\n",
            " [1 2 3]]\n"
          ]
        }
      ]
    },
    {
      "cell_type": "markdown",
      "source": [
        "**4. How can you determine the data type of elements in a NumPy array? Discuss the importance of data types\n",
        "in memory management and performance.**\n",
        "\n",
        "Ans:\n",
        "\n",
        "Data types play a crucial role in:\n",
        "\n",
        "1. Memory Management: Efficient memory allocation and usage depend on the chosen data type.\n",
        "\n",
        "2. Performance: Operations on arrays with matching data types are faster.\n",
        "\n",
        "    - Integer operations are generally faster than floating-point operations.\n",
        "    - Using smaller data types (e.g., int32 instead of int64) reduces memory usage.\n",
        "\n",
        "3. Precision and Accuracy: Choosing the right data type ensures accurate calculations.\n",
        "\n",
        "    - Floating-point data types (float32, float64) for decimal numbers.\n",
        "    - Integer data types (int32, int64) for whole numbers.\n",
        "\n",
        "4. Compatibility: Ensuring data type consistency when interacting with other libraries or languages.\n",
        "\n",
        "Common NumPy Data Types:\n",
        "\n",
        "- Integer: int8, int16, int32, int64\n",
        "- Unsigned Integer: uint8, uint16, uint32, uint64\n",
        "- Floating Point: float32, float64\n",
        "- Complex: complex64, complex128\n",
        "- Boolean: bool_\n",
        "- String: S (fixed-length), U (variable-length), object (Python strings)\n",
        "\n",
        "\n",
        "we can determine the data type of elements in a NumPy array using:"
      ],
      "metadata": {
        "id": "vrPW6KcD2qDI"
      }
    },
    {
      "cell_type": "code",
      "source": [
        "#array.dtype\n",
        "\n",
        "\n",
        "\n",
        "import numpy as np\n",
        "array = np.array([1, 2, 3])\n",
        "print(array.dtype)"
      ],
      "metadata": {
        "colab": {
          "base_uri": "https://localhost:8080/"
        },
        "id": "02oNx4NG3vxm",
        "outputId": "f77d9f7f-c9b7-4a07-a286-aa9cc33c19e4"
      },
      "execution_count": 13,
      "outputs": [
        {
          "output_type": "stream",
          "name": "stdout",
          "text": [
            "int64\n"
          ]
        }
      ]
    },
    {
      "cell_type": "markdown",
      "source": [
        "**5. Define ndarrays in NumPy and explain their key features. How do they differ from standard Python lists?**\n",
        "\n",
        "Ans:\n",
        "\n",
        "In NumPy, an ndarray (N-dimensional array) is a multi-dimensional collection of values of the same data type stored in a contiguous block of memory. ndarrays are the core data structure in NumPy, providing efficient and flexible numerical computation capabilities.\n",
        "\n",
        "Key Features of ndarrays:\n",
        "\n",
        "1. Multi-dimensionality: ndarrays can have any number of dimensions, allowing for representation of vectors, matrices, and higher-dimensional data.\n",
        "2. Homogeneous data type: All elements in an ndarray must have the same data type, ensuring efficient memory usage and computation.\n",
        "3. Contiguous memory allocation: ndarrays store elements in contiguous memory locations, enabling fast access and manipulation.\n",
        "4. Vectorized operations: ndarrays support element-wise operations, eliminating the need for loops.\n",
        "5. Broadcasting: ndarrays can perform operations on arrays with different shapes and sizes\n",
        "\n",
        "Comparison with Standard Python Lists:\n",
        "\n",
        "|  | NumPy ndarrays | Python Lists |\n",
        "| --- | --- | --- |\n",
        "| Data Type | Homogeneous | Heterogeneous |\n",
        "| Memory Layout | Contiguous | Non-contiguous |\n",
        "| Performance | Optimized for numerical computations | General-purpose |\n",
        "| Dimensionality | Multi-dimensional | One-dimensional |\n",
        "| Vectorized Operations | Supported | Not supported |\n",
        "| Memory Usage | Efficient | Less efficient |"
      ],
      "metadata": {
        "id": "1SlFH4RJ4FxC"
      }
    },
    {
      "cell_type": "markdown",
      "source": [
        "**6. Analyze the performance benefits of NumPy arrays over Python lists for large-scale numerical operations.**\n",
        "\n",
        "Ans:\n",
        "\n",
        "NumPy arrays offer significant performance benefits over Python lists for large-scale numerical operations due to their design and implementation.\n",
        "\n",
        "Reasons for Performance Benefits:\n",
        "\n",
        "1. Contiguous Memory Allocation: NumPy arrays store elements in contiguous memory locations, enabling fast access and manipulation.\n",
        "2. Vectorized Operations: NumPy arrays support element-wise operations, eliminating the need for loops.\n",
        "3. Homogeneous Data Type: NumPy arrays ensure all elements have the same data type, reducing memory usage and improving computation efficiency.\n",
        "4. Compiled C Code: NumPy's core operations are implemented in compiled C code, providing a significant speedup.\n",
        "5. Cache Locality: NumPy arrays optimize memory access patterns, minimizing cache misses.\n",
        "\n",
        "Performance Comparison:\n",
        "\n",
        "| Operation | NumPy Array | Python List |\n",
        "| --- | --- | --- |\n",
        "| Element-wise Addition | O(n) | O(n^2) |\n",
        "| Matrix Multiplication | O(n^3) | O(n^4) |\n",
        "| Element-wise Multiplication | O(n) | O(n^2) |\n",
        "| Sorting | O(n log n) | O(n^2) |"
      ],
      "metadata": {
        "id": "YC_3IZgn6bt1"
      }
    },
    {
      "cell_type": "markdown",
      "source": [
        "**7. Compare vstack() and hstack() functions in NumPy. Provide examples demonstrating their usage and\n",
        "output.**\n",
        "\n",
        "Ans:\n",
        "\n",
        "np.vstack() and np.hstack() are two essential functions in NumPy for stacking arrays vertically and horizontally, respectively.\n",
        "\n",
        "np.vstack()\n",
        "\n",
        "np.vstack() stacks arrays vertically (row-wise).\n",
        "\n",
        "Syntax: np.vstack((array1, array2, ...))\n",
        "\n",
        "np.hstack()\n",
        "\n",
        "np.hstack() stacks arrays horizontally (column-wise).\n",
        "\n",
        "Syntax: np.hstack((array1, array2, ...))"
      ],
      "metadata": {
        "id": "F3GcFqA28pvc"
      }
    },
    {
      "cell_type": "code",
      "source": [
        "# Create arrays\n",
        "array1 = np.array([1, 2, 3])\n",
        "array2 = np.array([4, 5, 6])\n",
        "print(array1)\n",
        "print(array2)"
      ],
      "metadata": {
        "colab": {
          "base_uri": "https://localhost:8080/"
        },
        "id": "E7uA-SfS94bH",
        "outputId": "94fd4bc1-2365-47cc-eaee-bd0d80abecd5"
      },
      "execution_count": 14,
      "outputs": [
        {
          "output_type": "stream",
          "name": "stdout",
          "text": [
            "[1 2 3]\n",
            "[4 5 6]\n"
          ]
        }
      ]
    },
    {
      "cell_type": "code",
      "source": [
        "# Vertical stacking using np.vstack()\n",
        "vertical_stack = np.vstack((array1, array2))\n",
        "print(\"Vertical Stack:\\n\", vertical_stack)"
      ],
      "metadata": {
        "colab": {
          "base_uri": "https://localhost:8080/"
        },
        "id": "OwsCrbsA9_Qz",
        "outputId": "87596af6-a092-4b31-b2e0-f7d7cff29a1b"
      },
      "execution_count": 15,
      "outputs": [
        {
          "output_type": "stream",
          "name": "stdout",
          "text": [
            "Vertical Stack:\n",
            " [[1 2 3]\n",
            " [4 5 6]]\n"
          ]
        }
      ]
    },
    {
      "cell_type": "code",
      "source": [
        "# Horizontal stacking using np.hstack()\n",
        "horizontal_stack = np.hstack((array1, array2))\n",
        "print(\"\\nHorizontal Stack:\\n\", horizontal_stack)"
      ],
      "metadata": {
        "colab": {
          "base_uri": "https://localhost:8080/"
        },
        "id": "PPC7Eisj-Hg1",
        "outputId": "eda9c0db-87a3-4374-9a27-a71f8b3f28bb"
      },
      "execution_count": 16,
      "outputs": [
        {
          "output_type": "stream",
          "name": "stdout",
          "text": [
            "\n",
            "Horizontal Stack:\n",
            " [1 2 3 4 5 6]\n"
          ]
        }
      ]
    },
    {
      "cell_type": "markdown",
      "source": [
        "**8. Explain the differences between fliplr() and flipud() methods in NumPy, including their effects on various\n",
        "array dimensions.**\n",
        "\n",
        "Ans:\n",
        "\n",
        "np.fliplr() and np.flipud() are two methods in NumPy used for flipping arrays. The primary difference between them lies in the direction of flipping.\n",
        "\n",
        "np.fliplr()\n",
        "\n",
        "- Flips the array horizontally (left-right).\n",
        "- Reverses the order of columns.\n",
        "\n",
        "np.flipud()\n",
        "\n",
        "- Flips the array vertically (up-down).\n",
        "- Reverses the order of rows.\n",
        "\n",
        "Effects on Array Dimensions\n",
        "\n",
        "| Method | 1D Array | 2D Array | 3D Array |\n",
        "| --- | --- | --- | --- |\n",
        "| np.fliplr() | No effect | Flips columns | Flips 2nd dimension (axis=1) |\n",
        "| np.flipud() | Reverses elements | Flips rows | Flips 1st dimension (axis=0) |"
      ],
      "metadata": {
        "id": "DG4LRVOT-YO-"
      }
    },
    {
      "cell_type": "code",
      "source": [
        "# 1D Array\n",
        "array_1d = np.array([1, 2, 3, 4, 5])\n",
        "print(\"Original 1D Array:\", array_1d)\n",
        "\n",
        "# Use np.flip for a 1D array\n",
        "flipped_1d_array = np.flip(array_1d)\n",
        "print(\"Flipped 1D Array:\", flipped_1d_array)"
      ],
      "metadata": {
        "colab": {
          "base_uri": "https://localhost:8080/"
        },
        "id": "1waJl9_N-zFf",
        "outputId": "0909e9a0-a45e-42dd-9841-57ad599848f9"
      },
      "execution_count": 18,
      "outputs": [
        {
          "output_type": "stream",
          "name": "stdout",
          "text": [
            "Original 1D Array: [1 2 3 4 5]\n",
            "Flipped 1D Array: [5 4 3 2 1]\n"
          ]
        }
      ]
    },
    {
      "cell_type": "code",
      "source": [
        "# 2D Array\n",
        "array_2d = np.array([[1, 2, 3], [4, 5, 6]])\n",
        "print(\"\\nOriginal 2D Array:\\n\", array_2d)\n",
        "print(\"Flipped 2D Array (fliplr):\\n\", np.fliplr(array_2d))\n",
        "print(\"Flipped 2D Array (flipud):\\n\", np.flipud(array_2d))"
      ],
      "metadata": {
        "colab": {
          "base_uri": "https://localhost:8080/"
        },
        "id": "12t9yMXw__DB",
        "outputId": "217f616f-9d89-42d7-c666-6d72b7214612"
      },
      "execution_count": 19,
      "outputs": [
        {
          "output_type": "stream",
          "name": "stdout",
          "text": [
            "\n",
            "Original 2D Array:\n",
            " [[1 2 3]\n",
            " [4 5 6]]\n",
            "Flipped 2D Array (fliplr):\n",
            " [[3 2 1]\n",
            " [6 5 4]]\n",
            "Flipped 2D Array (flipud):\n",
            " [[4 5 6]\n",
            " [1 2 3]]\n"
          ]
        }
      ]
    },
    {
      "cell_type": "code",
      "source": [
        "# 3D Array\n",
        "array_3d = np.array([[[1, 2], [3, 4]], [[5, 6], [7, 8]]])\n",
        "print(\"\\nOriginal 3D Array:\\n\", array_3d)\n",
        "print(\"Flipped 3D Array (fliplr):\\n\", np.fliplr(array_3d))\n",
        "print(\"Flipped 3D Array (flipud):\\n\", np.flipud(array_3d))"
      ],
      "metadata": {
        "colab": {
          "base_uri": "https://localhost:8080/"
        },
        "id": "EYaxKIhDAA0g",
        "outputId": "46cf53be-b8c5-44dd-f2c9-5fb0ae31e236"
      },
      "execution_count": 20,
      "outputs": [
        {
          "output_type": "stream",
          "name": "stdout",
          "text": [
            "\n",
            "Original 3D Array:\n",
            " [[[1 2]\n",
            "  [3 4]]\n",
            "\n",
            " [[5 6]\n",
            "  [7 8]]]\n",
            "Flipped 3D Array (fliplr):\n",
            " [[[3 4]\n",
            "  [1 2]]\n",
            "\n",
            " [[7 8]\n",
            "  [5 6]]]\n",
            "Flipped 3D Array (flipud):\n",
            " [[[5 6]\n",
            "  [7 8]]\n",
            "\n",
            " [[1 2]\n",
            "  [3 4]]]\n"
          ]
        }
      ]
    },
    {
      "cell_type": "markdown",
      "source": [
        "**9. Discuss the functionality of the array_split() method in NumPy. How does it handle uneven splits?**\n",
        "\n",
        "Ans:\n",
        "\n",
        "Functionality:\n",
        "\n",
        "np.array_split(ary, indices_or_sections, axis=0)\n",
        "\n",
        "- ary: The input array.\n",
        "- indices_or_sections: Integer or array of indices.\n",
        "    - If integer, splits the array into indices_or_sections equal parts.\n",
        "    - If array of indices, splits the array at these indices.\n",
        "- axis: Axis along which to split (default=0).\n",
        "\n",
        "Handling Uneven Splits:\n",
        "\n",
        "When indices_or_sections is an integer, np.array_split() attempts to divide the array into equal parts. If the array cannot be divided evenly, the remaining elements are distributed among the sub-arrays."
      ],
      "metadata": {
        "id": "fyTl57J2AIrV"
      }
    },
    {
      "cell_type": "code",
      "source": [
        "# Create an array\n",
        "ary = np.arange(10)\n",
        "print(\"Original Array:\", ary)"
      ],
      "metadata": {
        "colab": {
          "base_uri": "https://localhost:8080/"
        },
        "id": "499-6cKKArch",
        "outputId": "ba8dffd6-7979-4d78-8ee8-9ff5c7eee78d"
      },
      "execution_count": 21,
      "outputs": [
        {
          "output_type": "stream",
          "name": "stdout",
          "text": [
            "Original Array: [0 1 2 3 4 5 6 7 8 9]\n"
          ]
        }
      ]
    },
    {
      "cell_type": "code",
      "source": [
        "# Split into 3 equal parts\n",
        "sub_arrays = np.array_split(ary, 3)\n",
        "print(sub_arrays)"
      ],
      "metadata": {
        "colab": {
          "base_uri": "https://localhost:8080/"
        },
        "id": "8RhP5C0wAyB8",
        "outputId": "c72f6f5d-a988-4e30-a46d-d93e5c72244c"
      },
      "execution_count": 22,
      "outputs": [
        {
          "output_type": "stream",
          "name": "stdout",
          "text": [
            "[array([0, 1, 2, 3]), array([4, 5, 6]), array([7, 8, 9])]\n"
          ]
        }
      ]
    },
    {
      "cell_type": "code",
      "source": [
        "# Split at specific indices\n",
        "sub_arrays = np.array_split(ary, [3, 7])\n",
        "print(sub_arrays)"
      ],
      "metadata": {
        "colab": {
          "base_uri": "https://localhost:8080/"
        },
        "id": "S52RmlXGA18c",
        "outputId": "6f906b2c-7125-4b10-9b77-5f7be97caea0"
      },
      "execution_count": 23,
      "outputs": [
        {
          "output_type": "stream",
          "name": "stdout",
          "text": [
            "[array([0, 1, 2]), array([3, 4, 5, 6]), array([7, 8, 9])]\n"
          ]
        }
      ]
    },
    {
      "cell_type": "code",
      "source": [
        "# Split 2D array along axis=1\n",
        "ary_2d = np.arange(12).reshape(3, 4)\n",
        "sub_arrays = np.array_split(ary_2d, 2, axis=1)\n",
        "print(sub_arrays)"
      ],
      "metadata": {
        "colab": {
          "base_uri": "https://localhost:8080/"
        },
        "id": "l0ftuUU6A_3_",
        "outputId": "f732f7c5-34d1-4a0b-d951-710d8ca97886"
      },
      "execution_count": 24,
      "outputs": [
        {
          "output_type": "stream",
          "name": "stdout",
          "text": [
            "[array([[0, 1],\n",
            "       [4, 5],\n",
            "       [8, 9]]), array([[ 2,  3],\n",
            "       [ 6,  7],\n",
            "       [10, 11]])]\n"
          ]
        }
      ]
    },
    {
      "cell_type": "markdown",
      "source": [
        "**10. Explain the concepts of vectorization and broadcasting in NumPy. How do they contribute to efficient array\n",
        "operations?**\n",
        "\n",
        "Ans:\n",
        "\n",
        "Vectorization and broadcasting are fundamental concepts in NumPy that enable efficient array operations.\n",
        "\n",
        "Vectorization\n",
        "\n",
        "Vectorization refers to the ability of NumPy to perform operations on entire arrays at once, without the need for loops.\n",
        "\n",
        "Advantages\n",
        "\n",
        "1. Faster execution: Vectorized operations are typically faster than looping over individual elements.\n",
        "2. Concise code: Vectorization reduces the amount of code needed for array operations.\n",
        "\n",
        "Broadcasting\n",
        "\n",
        "Broadcasting is a powerful feature in NumPy that allows arrays with different shapes and sizes to be operated on element-wise.\n",
        "\n",
        "Rules for Broadcasting\n",
        "\n",
        "1. If the two arrays differ in their number of dimensions, the shape of the one with fewer dimensions is padded with ones on its leading (left) side.\n",
        "2. If the shape of the two arrays does not match in a particular dimension, the array with size one in that dimension is broadcasted (i.e., replicated) to match the size of the other array.\n",
        "\n",
        "Advantages\n",
        "\n",
        "1. Flexible array operations: Broadcasting enables operations between arrays with different shapes.\n",
        "2. Efficient memory usage: Broadcasting avoids creating temporary arrays.\n",
        "\n",
        "Contribution to Efficient Array Operations\n",
        "\n",
        "Vectorization and broadcasting contribute to efficient array operations in the following ways:\n",
        "\n",
        "1. Reduced looping: Vectorization eliminates the need for explicit loops.\n",
        "2. Optimized memory access: Broadcasting minimizes memory allocation and copying.\n",
        "3. Parallelization: Vectorized and broadcasted operations can be parallelized."
      ],
      "metadata": {
        "id": "K8_1THNIBKkA"
      }
    },
    {
      "cell_type": "markdown",
      "source": [
        "**Practical Questions:**"
      ],
      "metadata": {
        "id": "fY6Vi0yEwQcl"
      }
    },
    {
      "cell_type": "code",
      "source": [
        "import numpy as np"
      ],
      "metadata": {
        "id": "gkpGo6GmwzhS"
      },
      "execution_count": 1,
      "outputs": []
    },
    {
      "cell_type": "code",
      "source": [
        "#1. Create a 3x3 NumPy array with random integers between 1 and 100. Then, interchange its rows and columns.\n",
        "arr=np.random.randint(1,100,(3,3))\n",
        "print(arr)\n",
        "print (arr.T)"
      ],
      "metadata": {
        "colab": {
          "base_uri": "https://localhost:8080/"
        },
        "id": "IwYjWEnHwYfN",
        "outputId": "ca4c2eba-f8df-433a-9810-06f35a9f88e0"
      },
      "execution_count": 4,
      "outputs": [
        {
          "output_type": "stream",
          "name": "stdout",
          "text": [
            "[[61 14 36]\n",
            " [84 93 83]\n",
            " [36  9 98]]\n",
            "[[61 84 36]\n",
            " [14 93  9]\n",
            " [36 83 98]]\n"
          ]
        }
      ]
    },
    {
      "cell_type": "code",
      "source": [
        "#2. Generate a 1D NumPy array with 10 elements. Reshape it into a 2x5 array, then into a 5x2 array.\n",
        "arr=np.random.randint(1,18,10)\n",
        "print(arr)\n",
        "print(arr.reshape(2,5))\n",
        "print(arr.reshape(5,2))"
      ],
      "metadata": {
        "colab": {
          "base_uri": "https://localhost:8080/"
        },
        "id": "2S3zzpqqxKB9",
        "outputId": "5639cbec-2315-4427-d8d2-d769c2b2d8c7"
      },
      "execution_count": 5,
      "outputs": [
        {
          "output_type": "stream",
          "name": "stdout",
          "text": [
            "[ 3 17  6 14  8  9  8 14 16 14]\n",
            "[[ 3 17  6 14  8]\n",
            " [ 9  8 14 16 14]]\n",
            "[[ 3 17]\n",
            " [ 6 14]\n",
            " [ 8  9]\n",
            " [ 8 14]\n",
            " [16 14]]\n"
          ]
        }
      ]
    },
    {
      "cell_type": "code",
      "source": [
        "#3. Create a 4x4 NumPy array with random float values. Add a border of zeros around it, resulting in a 6x6 array.\n",
        "arr=np.random.rand(4,4)\n",
        "print(\"original array:\\n\",arr)\n",
        "print(\"0 bordered array:\\n\",np.pad(arr,1))"
      ],
      "metadata": {
        "colab": {
          "base_uri": "https://localhost:8080/"
        },
        "id": "7NDowEL4xlu5",
        "outputId": "0a0c0d55-3fb6-4594-aebe-e3e082507ccd"
      },
      "execution_count": 12,
      "outputs": [
        {
          "output_type": "stream",
          "name": "stdout",
          "text": [
            "original array:\n",
            " [[0.30233659 0.24334486 0.48089437 0.30108761]\n",
            " [0.67017662 0.43435438 0.98349486 0.51228441]\n",
            " [0.54416831 0.08074167 0.49794926 0.00102187]\n",
            " [0.41141023 0.3967688  0.21245583 0.03633103]]\n",
            "0 bordered array:\n",
            " [[0.         0.         0.         0.         0.         0.        ]\n",
            " [0.         0.30233659 0.24334486 0.48089437 0.30108761 0.        ]\n",
            " [0.         0.67017662 0.43435438 0.98349486 0.51228441 0.        ]\n",
            " [0.         0.54416831 0.08074167 0.49794926 0.00102187 0.        ]\n",
            " [0.         0.41141023 0.3967688  0.21245583 0.03633103 0.        ]\n",
            " [0.         0.         0.         0.         0.         0.        ]]\n"
          ]
        }
      ]
    },
    {
      "cell_type": "code",
      "source": [
        "#4. Using NumPy, create an array of integers from 10 to 60 with a step of 5.\n",
        "arr=np.arange(10,60,5)\n",
        "print(arr)"
      ],
      "metadata": {
        "colab": {
          "base_uri": "https://localhost:8080/"
        },
        "id": "6XDtodqf0Chj",
        "outputId": "8aa0a6ef-7799-4cd8-83c6-0b43dc9403c9"
      },
      "execution_count": 19,
      "outputs": [
        {
          "output_type": "stream",
          "name": "stdout",
          "text": [
            "[10 15 20 25 30 35 40 45 50 55]\n"
          ]
        }
      ]
    },
    {
      "cell_type": "code",
      "source": [
        "#5. Create a NumPy array of strings ['python', 'numpy', 'pandas']. Apply different case transformations\n",
        "#(uppercase, lowercase, title case, etc.) to each element.\n",
        "arr=np.array(['python', 'numpy', 'pandas'])\n",
        "print(f\"original array:{arr}\")\n",
        "print(f'uppercase: {np.char.upper(arr)}')\n",
        "print(f'lowercase: {np.char.lower(arr)}')\n",
        "print(f'titlecase: {np.char.title(arr)}')\n"
      ],
      "metadata": {
        "colab": {
          "base_uri": "https://localhost:8080/"
        },
        "id": "V-Y6hLlH0Nh-",
        "outputId": "dcd766ab-923a-48a5-c070-4e30035547b0"
      },
      "execution_count": 22,
      "outputs": [
        {
          "output_type": "stream",
          "name": "stdout",
          "text": [
            "original array:['python' 'numpy' 'pandas']\n",
            "uppercase: ['PYTHON' 'NUMPY' 'PANDAS']\n",
            "lowercase: ['python' 'numpy' 'pandas']\n",
            "titlecase: ['Python' 'Numpy' 'Pandas']\n"
          ]
        }
      ]
    },
    {
      "cell_type": "code",
      "source": [
        "#6. Generate a NumPy array of words. Insert a space between each character of every word in the array.\n",
        "arr=np.array(['python', 'numpy', 'pandas'])\n",
        "print(np.char.join(' ',arr))"
      ],
      "metadata": {
        "colab": {
          "base_uri": "https://localhost:8080/"
        },
        "id": "Nkb9ZMFn0vhX",
        "outputId": "737ba361-6afd-4954-d5e2-38ba8c36809e"
      },
      "execution_count": 23,
      "outputs": [
        {
          "output_type": "stream",
          "name": "stdout",
          "text": [
            "['p y t h o n' 'n u m p y' 'p a n d a s']\n"
          ]
        }
      ]
    },
    {
      "cell_type": "code",
      "source": [
        "#7. Create two 2D NumPy arrays and perform element-wise addition, subtraction, multiplication, and division.\n",
        "arr1=np.random.randint(1,10,(3,3))\n",
        "arr2=np.random.randint(1,15,(3,3))\n",
        "print(f\"arr1:\\n{arr1}\\narr2:\\n{arr2}\")\n",
        "print(f\"arr1+arr2:\\n{arr1+arr2}\")\n",
        "print(f\"arr1-arr2:\\n{arr1-arr2}\")\n",
        "print(f\"arr1*arr2:\\n{arr1*arr2}\")\n",
        "print(f\"arr1/arr2:\\n{arr1/arr2}\")"
      ],
      "metadata": {
        "colab": {
          "base_uri": "https://localhost:8080/"
        },
        "id": "S1zVDgys0_bU",
        "outputId": "5b54dff6-da1a-4005-bf96-eefaa6e44ccb"
      },
      "execution_count": 25,
      "outputs": [
        {
          "output_type": "stream",
          "name": "stdout",
          "text": [
            "arr1:\n",
            "[[2 5 8]\n",
            " [3 6 9]\n",
            " [4 7 3]]\n",
            "arr2:\n",
            "[[ 6  4 10]\n",
            " [14  5  8]\n",
            " [ 9  8  8]]\n",
            "arr1+arr2:\n",
            "[[ 8  9 18]\n",
            " [17 11 17]\n",
            " [13 15 11]]\n",
            "arr1-arr2:\n",
            "[[ -4   1  -2]\n",
            " [-11   1   1]\n",
            " [ -5  -1  -5]]\n",
            "arr1*arr2:\n",
            "[[12 20 80]\n",
            " [42 30 72]\n",
            " [36 56 24]]\n",
            "arr1/arr2:\n",
            "[[0.33333333 1.25       0.8       ]\n",
            " [0.21428571 1.2        1.125     ]\n",
            " [0.44444444 0.875      0.375     ]]\n"
          ]
        }
      ]
    },
    {
      "cell_type": "code",
      "source": [
        "#8. Use NumPy to create a 5x5 identity matrix, then extract its diagonal elements.\n",
        "arr=np.eye(5)\n",
        "print(f\"arr:\\n{arr}\")\n",
        "print(f\"diagonal elements:\\n{np.diag(arr)}\")"
      ],
      "metadata": {
        "colab": {
          "base_uri": "https://localhost:8080/"
        },
        "id": "u8j1J1X61aqo",
        "outputId": "9a9a460b-b108-4365-8d1c-b756126855b3"
      },
      "execution_count": 30,
      "outputs": [
        {
          "output_type": "stream",
          "name": "stdout",
          "text": [
            "arr:\n",
            "[[1. 0. 0. 0. 0.]\n",
            " [0. 1. 0. 0. 0.]\n",
            " [0. 0. 1. 0. 0.]\n",
            " [0. 0. 0. 1. 0.]\n",
            " [0. 0. 0. 0. 1.]]\n",
            "diagonal elements:\n",
            "[1. 1. 1. 1. 1.]\n"
          ]
        }
      ]
    },
    {
      "cell_type": "code",
      "source": [
        "#9. Generate a NumPy array of 100 random integers between 0 and 1000. Find and display all prime numbers in\n",
        "#this array.\n",
        "from sympy import isprime\n",
        "arr=np.random.randint(0,1000,100)\n",
        "print(f\"arr:\\n{arr}\")\n",
        "def is_prime(n):\n",
        "  if n<=2:\n",
        "    return False\n",
        "  for i in range(2,int(np.sqrt(n))+1):\n",
        "    if n%i==0:\n",
        "      return False\n",
        "  return True\n",
        "print(f\"prime numbers:\\n{list(filter(is_prime,arr))}\")\n"
      ],
      "metadata": {
        "colab": {
          "base_uri": "https://localhost:8080/"
        },
        "id": "3dHGyJsv2Oqp",
        "outputId": "09f6f50f-cf5a-4aa4-9e56-788fcbb2f95f"
      },
      "execution_count": 37,
      "outputs": [
        {
          "output_type": "stream",
          "name": "stdout",
          "text": [
            "arr:\n",
            "[428 442 570 596 732 836 257  55 731 210 408 358 982 452 313 839 249  68\n",
            " 582 597  47 543 561  10 853 960 583 367 993 997 405 341 590 200 138 369\n",
            " 472  76 775 119 755 655 189 732 996 827 230 190  84 665 890 453   4 589\n",
            " 741 886 149 514 372 781   4 623  37 711 612 257  89 272 940 728 529 747\n",
            " 722 628 205 994 282 728 876 779  95 152 272 482 609 405 785 192 128  31\n",
            " 714 997 235 918 483 353 569 624 109 480]\n",
            "prime numbers:\n",
            "[257, 313, 839, 47, 853, 367, 997, 827, 149, 37, 257, 89, 31, 997, 353, 569, 109]\n"
          ]
        }
      ]
    },
    {
      "cell_type": "code",
      "source": [
        "#10. Create a NumPy array representing daily temperatures for a month. Calculate and display the weekly\n",
        "#averages.\n",
        "daily_temp=np.random.randint(30,40,size=28) #Assumin 28days month\n",
        "print(f\"Daily temperature °C:\\n{daily_temp}\")\n",
        "weekly_temp=daily_temp.reshape(4,7)\n",
        "print(f\"Weekly temperature °C:\\n{weekly_temp}\")\n",
        "print(f\"Weekly average temperature °C:\\n{np.mean(weekly_temp,axis=1)}\")"
      ],
      "metadata": {
        "colab": {
          "base_uri": "https://localhost:8080/"
        },
        "id": "4ucUNhiS4JAM",
        "outputId": "90e5ddcb-aa2b-4c95-d21a-adfdca53f664"
      },
      "execution_count": 47,
      "outputs": [
        {
          "output_type": "stream",
          "name": "stdout",
          "text": [
            "Daily temperature °C:\n",
            "[31 38 30 30 39 38 34 38 30 39 37 32 39 33 39 35 33 32 36 31 36 35 30 38\n",
            " 35 32 34 35]\n",
            "Weekly temperature °C:\n",
            "[[31 38 30 30 39 38 34]\n",
            " [38 30 39 37 32 39 33]\n",
            " [39 35 33 32 36 31 36]\n",
            " [35 30 38 35 32 34 35]]\n",
            "Weekly average temperature °C:\n",
            "[34.28571429 35.42857143 34.57142857 34.14285714]\n"
          ]
        }
      ]
    }
  ]
}