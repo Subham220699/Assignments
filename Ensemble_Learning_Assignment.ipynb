{
  "nbformat": 4,
  "nbformat_minor": 0,
  "metadata": {
    "colab": {
      "provenance": []
    },
    "kernelspec": {
      "name": "python3",
      "display_name": "Python 3"
    },
    "language_info": {
      "name": "python"
    }
  },
  "cells": [
    {
      "cell_type": "code",
      "execution_count": null,
      "metadata": {
        "id": "oFniOHSxH2K_"
      },
      "outputs": [],
      "source": []
    },
    {
      "cell_type": "markdown",
      "source": [
        "21. Write a Python program to train an SVM Classifier on the Iris dataset and evaluate accuracy."
      ],
      "metadata": {
        "id": "ElVp7vCEH5K8"
      }
    },
    {
      "cell_type": "code",
      "source": [
        "import pandas as pd\n",
        "from sklearn.datasets import load_iris\n",
        "from sklearn.model_selection import train_test_split\n",
        "from sklearn.svm import SVC\n",
        "from sklearn.metrics import accuracy_score\n",
        "\n",
        "# Load the Iris dataset\n",
        "iris = load_iris()\n",
        "X, y = iris.data, iris.target\n",
        "\n",
        "# Split the data into training and testing sets\n",
        "# We'll use 70% for training and 30% for testing\n",
        "X_train, X_test, y_train, y_test = train_test_split(X, y, test_size=0.3, random_state=42)\n",
        "\n",
        "# Initialize the SVM Classifier\n",
        "# We'll start with a linear kernel, which is often a good baseline\n",
        "svm_classifier = SVC(kernel='linear', random_state=42)\n",
        "\n",
        "# Train (fit) the classifier on the training data\n",
        "svm_classifier.fit(X_train, y_train)\n",
        "\n",
        "# Make predictions on the test data\n",
        "y_pred = svm_classifier.predict(X_test)\n",
        "\n",
        "# Evaluate the accuracy of the model\n",
        "accuracy = accuracy_score(y_test, y_pred)\n",
        "\n",
        "print(f\"Accuracy of the SVM Classifier on the Iris dataset: {accuracy:.4f}\")"
      ],
      "metadata": {
        "colab": {
          "base_uri": "https://localhost:8080/"
        },
        "id": "BUL7T-zcH9vf",
        "outputId": "47a2d759-b8a6-40c3-a7f9-bf6a810bf3c0"
      },
      "execution_count": 1,
      "outputs": [
        {
          "output_type": "stream",
          "name": "stdout",
          "text": [
            "Accuracy of the SVM Classifier on the Iris dataset: 1.0000\n"
          ]
        }
      ]
    },
    {
      "cell_type": "markdown",
      "source": [
        "22. Write a Python program to train two SVM classifiers with Linear and RBF kernels on the Wine dataset, then compare their accuracies."
      ],
      "metadata": {
        "id": "SV03ZrJbIFyl"
      }
    },
    {
      "cell_type": "code",
      "source": [
        "import pandas as pd\n",
        "from sklearn.datasets import load_wine\n",
        "from sklearn.model_selection import train_test_split\n",
        "from sklearn.svm import SVC\n",
        "from sklearn.metrics import accuracy_score\n",
        "from sklearn.preprocessing import StandardScaler # Good practice for SVM, especially RBF\n",
        "\n",
        "# Load the Wine dataset\n",
        "wine = load_wine()\n",
        "X, y = wine.data, wine.target\n",
        "\n",
        "# Split the data\n",
        "X_train, X_test, y_train, y_test = train_test_split(X, y, test_size=0.3, random_state=42)\n",
        "\n",
        "# It's good practice to scale features for SVM, especially with RBF kernel\n",
        "scaler = StandardScaler()\n",
        "X_train_scaled = scaler.fit_transform(X_train)\n",
        "X_test_scaled = scaler.transform(X_test)\n",
        "\n",
        "# --- Train SVM with Linear Kernel ---\n",
        "svm_linear = SVC(kernel='linear', random_state=42)\n",
        "svm_linear.fit(X_train_scaled, y_train)\n",
        "y_pred_linear = svm_linear.predict(X_test_scaled)\n",
        "accuracy_linear = accuracy_score(y_test, y_pred_linear)\n",
        "print(f\"Accuracy with Linear Kernel: {accuracy_linear:.4f}\")\n",
        "\n",
        "# --- Train SVM with RBF Kernel ---\n",
        "# 'gamma' is a parameter for RBF kernel. 'scale' is a good default.\n",
        "svm_rbf = SVC(kernel='rbf', random_state=42, gamma='scale')\n",
        "svm_rbf.fit(X_train_scaled, y_train)\n",
        "y_pred_rbf = svm_rbf.predict(X_test_scaled)\n",
        "accuracy_rbf = accuracy_score(y_test, y_pred_rbf)\n",
        "print(f\"Accuracy with RBF Kernel: {accuracy_rbf:.4f}\")\n",
        "\n",
        "# --- Compare Accuracies ---\n",
        "print(\"\\n--- Comparison ---\")\n",
        "if accuracy_rbf > accuracy_linear:\n",
        "    print(f\"RBF Kernel performed better by {accuracy_rbf - accuracy_linear:.4f} accuracy points.\")\n",
        "elif accuracy_linear > accuracy_rbf:\n",
        "    print(f\"Linear Kernel performed better by {accuracy_linear - accuracy_rbf:.4f} accuracy points.\")\n",
        "else:\n",
        "    print(\"Both kernels performed equally well.\")"
      ],
      "metadata": {
        "colab": {
          "base_uri": "https://localhost:8080/"
        },
        "id": "uqA7anmMIJCl",
        "outputId": "1872b647-b1c8-4e1d-c85b-6074ae8fcb24"
      },
      "execution_count": 2,
      "outputs": [
        {
          "output_type": "stream",
          "name": "stdout",
          "text": [
            "Accuracy with Linear Kernel: 0.9815\n",
            "Accuracy with RBF Kernel: 0.9815\n",
            "\n",
            "--- Comparison ---\n",
            "Both kernels performed equally well.\n"
          ]
        }
      ]
    },
    {
      "cell_type": "markdown",
      "source": [
        "23. Write a Python program to train an SVM Regressor (SVR) on a housing dataset and evaluate it using Mean Squared Error (MSE)."
      ],
      "metadata": {
        "id": "nx7Thr4DIK99"
      }
    },
    {
      "cell_type": "code",
      "source": [
        "import pandas as pd\n",
        "from sklearn.datasets import fetch_california_housing # A commonly used housing dataset\n",
        "from sklearn.model_selection import train_test_split\n",
        "from sklearn.svm import SVR\n",
        "from sklearn.metrics import mean_squared_error\n",
        "from sklearn.preprocessing import StandardScaler # Essential for SVR\n",
        "\n",
        "# Load the California Housing dataset\n",
        "housing = fetch_california_housing()\n",
        "X, y = housing.data, housing.target\n",
        "\n",
        "# Split the data\n",
        "X_train, X_test, y_train, y_test = train_test_split(X, y, test_size=0.3, random_state=42)\n",
        "\n",
        "# Scale the features - SVR is very sensitive to feature scaling\n",
        "scaler = StandardScaler()\n",
        "X_train_scaled = scaler.fit_transform(X_train)\n",
        "X_test_scaled = scaler.transform(X_test)\n",
        "\n",
        "# Initialize the SVR model\n",
        "# RBF kernel is a good general choice for SVR.\n",
        "# C (regularization) and epsilon (tube around the regression line) are important parameters.\n",
        "svr_model = SVR(kernel='rbf', C=100, epsilon=0.1)\n",
        "\n",
        "# Train the SVR model\n",
        "svr_model.fit(X_train_scaled, y_train)\n",
        "\n",
        "# Make predictions on the test set\n",
        "y_pred = svr_model.predict(X_test_scaled)\n",
        "\n",
        "# Evaluate the model using Mean Squared Error (MSE)\n",
        "mse = mean_squared_error(y_test, y_pred)\n",
        "\n",
        "print(f\"Mean Squared Error (MSE) of the SVR model: {mse:.4f}\")"
      ],
      "metadata": {
        "colab": {
          "base_uri": "https://localhost:8080/",
          "height": 391
        },
        "id": "5rishFDcINcY",
        "outputId": "9d215b4d-12e7-4b1c-a779-5a405451c21d"
      },
      "execution_count": 1,
      "outputs": [
        {
          "output_type": "error",
          "ename": "KeyboardInterrupt",
          "evalue": "",
          "traceback": [
            "\u001b[0;31m---------------------------------------------------------------------------\u001b[0m",
            "\u001b[0;31mKeyboardInterrupt\u001b[0m                         Traceback (most recent call last)",
            "\u001b[0;32m<ipython-input-1-1bd5892a3d11>\u001b[0m in \u001b[0;36m<cell line: 0>\u001b[0;34m()\u001b[0m\n\u001b[1;32m     24\u001b[0m \u001b[0;34m\u001b[0m\u001b[0m\n\u001b[1;32m     25\u001b[0m \u001b[0;31m# Train the SVR model\u001b[0m\u001b[0;34m\u001b[0m\u001b[0;34m\u001b[0m\u001b[0m\n\u001b[0;32m---> 26\u001b[0;31m \u001b[0msvr_model\u001b[0m\u001b[0;34m.\u001b[0m\u001b[0mfit\u001b[0m\u001b[0;34m(\u001b[0m\u001b[0mX_train_scaled\u001b[0m\u001b[0;34m,\u001b[0m \u001b[0my_train\u001b[0m\u001b[0;34m)\u001b[0m\u001b[0;34m\u001b[0m\u001b[0;34m\u001b[0m\u001b[0m\n\u001b[0m\u001b[1;32m     27\u001b[0m \u001b[0;34m\u001b[0m\u001b[0m\n\u001b[1;32m     28\u001b[0m \u001b[0;31m# Make predictions on the test set\u001b[0m\u001b[0;34m\u001b[0m\u001b[0;34m\u001b[0m\u001b[0m\n",
            "\u001b[0;32m/usr/local/lib/python3.11/dist-packages/sklearn/base.py\u001b[0m in \u001b[0;36mwrapper\u001b[0;34m(estimator, *args, **kwargs)\u001b[0m\n\u001b[1;32m   1387\u001b[0m                 )\n\u001b[1;32m   1388\u001b[0m             ):\n\u001b[0;32m-> 1389\u001b[0;31m                 \u001b[0;32mreturn\u001b[0m \u001b[0mfit_method\u001b[0m\u001b[0;34m(\u001b[0m\u001b[0mestimator\u001b[0m\u001b[0;34m,\u001b[0m \u001b[0;34m*\u001b[0m\u001b[0margs\u001b[0m\u001b[0;34m,\u001b[0m \u001b[0;34m**\u001b[0m\u001b[0mkwargs\u001b[0m\u001b[0;34m)\u001b[0m\u001b[0;34m\u001b[0m\u001b[0;34m\u001b[0m\u001b[0m\n\u001b[0m\u001b[1;32m   1390\u001b[0m \u001b[0;34m\u001b[0m\u001b[0m\n\u001b[1;32m   1391\u001b[0m         \u001b[0;32mreturn\u001b[0m \u001b[0mwrapper\u001b[0m\u001b[0;34m\u001b[0m\u001b[0;34m\u001b[0m\u001b[0m\n",
            "\u001b[0;32m/usr/local/lib/python3.11/dist-packages/sklearn/svm/_base.py\u001b[0m in \u001b[0;36mfit\u001b[0;34m(self, X, y, sample_weight)\u001b[0m\n\u001b[1;32m    256\u001b[0m \u001b[0;34m\u001b[0m\u001b[0m\n\u001b[1;32m    257\u001b[0m         \u001b[0mseed\u001b[0m \u001b[0;34m=\u001b[0m \u001b[0mrnd\u001b[0m\u001b[0;34m.\u001b[0m\u001b[0mrandint\u001b[0m\u001b[0;34m(\u001b[0m\u001b[0mnp\u001b[0m\u001b[0;34m.\u001b[0m\u001b[0miinfo\u001b[0m\u001b[0;34m(\u001b[0m\u001b[0;34m\"i\"\u001b[0m\u001b[0;34m)\u001b[0m\u001b[0;34m.\u001b[0m\u001b[0mmax\u001b[0m\u001b[0;34m)\u001b[0m\u001b[0;34m\u001b[0m\u001b[0;34m\u001b[0m\u001b[0m\n\u001b[0;32m--> 258\u001b[0;31m         \u001b[0mfit\u001b[0m\u001b[0;34m(\u001b[0m\u001b[0mX\u001b[0m\u001b[0;34m,\u001b[0m \u001b[0my\u001b[0m\u001b[0;34m,\u001b[0m \u001b[0msample_weight\u001b[0m\u001b[0;34m,\u001b[0m \u001b[0msolver_type\u001b[0m\u001b[0;34m,\u001b[0m \u001b[0mkernel\u001b[0m\u001b[0;34m,\u001b[0m \u001b[0mrandom_seed\u001b[0m\u001b[0;34m=\u001b[0m\u001b[0mseed\u001b[0m\u001b[0;34m)\u001b[0m\u001b[0;34m\u001b[0m\u001b[0;34m\u001b[0m\u001b[0m\n\u001b[0m\u001b[1;32m    259\u001b[0m         \u001b[0;31m# see comment on the other call to np.iinfo in this file\u001b[0m\u001b[0;34m\u001b[0m\u001b[0;34m\u001b[0m\u001b[0m\n\u001b[1;32m    260\u001b[0m \u001b[0;34m\u001b[0m\u001b[0m\n",
            "\u001b[0;32m/usr/local/lib/python3.11/dist-packages/sklearn/svm/_base.py\u001b[0m in \u001b[0;36m_dense_fit\u001b[0;34m(self, X, y, sample_weight, solver_type, kernel, random_seed)\u001b[0m\n\u001b[1;32m    334\u001b[0m             \u001b[0mself\u001b[0m\u001b[0;34m.\u001b[0m\u001b[0mfit_status_\u001b[0m\u001b[0;34m,\u001b[0m\u001b[0;34m\u001b[0m\u001b[0;34m\u001b[0m\u001b[0m\n\u001b[1;32m    335\u001b[0m             \u001b[0mself\u001b[0m\u001b[0;34m.\u001b[0m\u001b[0m_num_iter\u001b[0m\u001b[0;34m,\u001b[0m\u001b[0;34m\u001b[0m\u001b[0;34m\u001b[0m\u001b[0m\n\u001b[0;32m--> 336\u001b[0;31m         \u001b[0;34m)\u001b[0m \u001b[0;34m=\u001b[0m \u001b[0mlibsvm\u001b[0m\u001b[0;34m.\u001b[0m\u001b[0mfit\u001b[0m\u001b[0;34m(\u001b[0m\u001b[0;34m\u001b[0m\u001b[0;34m\u001b[0m\u001b[0m\n\u001b[0m\u001b[1;32m    337\u001b[0m             \u001b[0mX\u001b[0m\u001b[0;34m,\u001b[0m\u001b[0;34m\u001b[0m\u001b[0;34m\u001b[0m\u001b[0m\n\u001b[1;32m    338\u001b[0m             \u001b[0my\u001b[0m\u001b[0;34m,\u001b[0m\u001b[0;34m\u001b[0m\u001b[0;34m\u001b[0m\u001b[0m\n",
            "\u001b[0;32m_libsvm.pyx\u001b[0m in \u001b[0;36msklearn.svm._libsvm.fit\u001b[0;34m()\u001b[0m\n",
            "\u001b[0;31mKeyboardInterrupt\u001b[0m: "
          ]
        }
      ]
    },
    {
      "cell_type": "markdown",
      "source": [
        "24. Write a Python program to train an SVM Classifier with a Polynomial Kernel and visualize the decision boundary."
      ],
      "metadata": {
        "id": "pEzfg9gcIPy4"
      }
    },
    {
      "cell_type": "code",
      "source": [
        "import numpy as np\n",
        "import matplotlib.pyplot as plt\n",
        "from sklearn.datasets import make_classification # Create a simple synthetic dataset\n",
        "from sklearn.model_selection import train_test_split\n",
        "from sklearn.svm import SVC\n",
        "from sklearn.preprocessing import StandardScaler # Important for SVM\n",
        "\n",
        "# Generate a synthetic dataset with 2 features for easy visualization\n",
        "X, y = make_classification(n_samples=100, n_features=2, n_informative=2,\n",
        "                           n_redundant=0, n_clusters_per_class=1, random_state=42)\n",
        "\n",
        "# Split the data\n",
        "X_train, X_test, y_train, y_test = train_test_split(X, y, test_size=0.3, random_state=42)\n",
        "\n",
        "# Scale the data\n",
        "scaler = StandardScaler()\n",
        "X_train_scaled = scaler.fit_transform(X_train)\n",
        "X_test_scaled = scaler.transform(X_test)\n",
        "\n",
        "# Train SVM with Polynomial Kernel\n",
        "# degree: degree of the polynomial kernel function (e.g., 2 for quadratic, 3 for cubic)\n",
        "# coef0: independent term in the kernel function. It is often set to 1.\n",
        "svm_poly = SVC(kernel='poly', degree=3, coef0=1, random_state=42)\n",
        "svm_poly.fit(X_train_scaled, y_train)\n",
        "\n",
        "# --- Visualize the Decision Boundary ---\n",
        "# Create a mesh to plot the decision boundary\n",
        "x_min, x_max = X_train_scaled[:, 0].min() - 1, X_train_scaled[:, 0].max() + 1\n",
        "y_min, y_max = X_train_scaled[:, 1].min() - 1, X_train_scaled[:, 1].max() + 1\n",
        "xx, yy = np.meshgrid(np.arange(x_min, x_max, 0.02),\n",
        "                     np.arange(y_min, y_max, 0.02))\n",
        "\n",
        "# Predict the class for each point in the mesh\n",
        "Z = svm_poly.predict(np.c_[xx.ravel(), yy.ravel()])\n",
        "Z = Z.reshape(xx.shape)\n",
        "\n",
        "plt.figure(figsize=(10, 7))\n",
        "plt.contourf(xx, yy, Z, alpha=0.8, cmap=plt.cm.coolwarm) # Decision regions\n",
        "plt.scatter(X_train_scaled[:, 0], X_train_scaled[:, 1], c=y_train, cmap=plt.cm.coolwarm, s=50, edgecolors='k', label='Training data')\n",
        "plt.scatter(svm_poly.support_vectors_[:, 0], svm_poly.support_vectors_[:, 1], s=100,\n",
        "            facecolors='none', edgecolors='green', linewidths=2, label='Support Vectors') # Highlight Support Vectors\n",
        "\n",
        "plt.xlabel('Feature 1 (Scaled)')\n",
        "plt.ylabel('Feature 2 (Scaled)')\n",
        "plt.title('SVM with Polynomial Kernel Decision Boundary')\n",
        "plt.legend()\n",
        "plt.show()"
      ],
      "metadata": {
        "colab": {
          "base_uri": "https://localhost:8080/",
          "height": 641
        },
        "id": "YPaxZIAiIUIa",
        "outputId": "6b052fd3-49e0-4a1d-e5d3-12282ce8d720"
      },
      "execution_count": 2,
      "outputs": [
        {
          "output_type": "display_data",
          "data": {
            "text/plain": [
              "<Figure size 1000x700 with 1 Axes>"
            ],
            "image/png": "[encoded data removed]"
          },
          "metadata": {}
        }
      ]
    },
    {
      "cell_type": "markdown",
      "source": [
        "25. Write a Python program to train a Gaussian Naïve Bayes classifier on the Breast Cancer dataset and evaluate accuracy."
      ],
      "metadata": {
        "id": "bki5NVgQI7ix"
      }
    },
    {
      "cell_type": "code",
      "source": [
        "import pandas as pd\n",
        "from sklearn.datasets import load_breast_cancer\n",
        "from sklearn.model_selection import train_test_split\n",
        "from sklearn.naive_bayes import GaussianNB # Import Gaussian Naive Bayes\n",
        "from sklearn.metrics import accuracy_score\n",
        "\n",
        "# Load the Breast Cancer dataset\n",
        "cancer = load_breast_cancer()\n",
        "X, y = cancer.data, cancer.target\n",
        "\n",
        "# Split the data\n",
        "X_train, X_test, y_train, y_test = train_test_split(X, y, test_size=0.3, random_state=42)\n",
        "\n",
        "# Initialize the Gaussian Naïve Bayes classifier\n",
        "gnb_classifier = GaussianNB()\n",
        "\n",
        "# Train the classifier\n",
        "gnb_classifier.fit(X_train, y_train)\n",
        "\n",
        "# Make predictions\n",
        "y_pred = gnb_classifier.predict(X_test)\n",
        "\n",
        "# Evaluate accuracy\n",
        "accuracy = accuracy_score(y_test, y_pred)\n",
        "\n",
        "print(f\"Accuracy of Gaussian Naïve Bayes on Breast Cancer dataset: {accuracy:.4f}\")"
      ],
      "metadata": {
        "colab": {
          "base_uri": "https://localhost:8080/"
        },
        "id": "oJwvV0FdI-Vp",
        "outputId": "540f9c85-b6ab-408f-e6f8-b095b70c44d3"
      },
      "execution_count": 3,
      "outputs": [
        {
          "output_type": "stream",
          "name": "stdout",
          "text": [
            "Accuracy of Gaussian Naïve Bayes on Breast Cancer dataset: 0.9415\n"
          ]
        }
      ]
    },
    {
      "cell_type": "markdown",
      "source": [
        "26. Write a Python program to train a Multinomial Naïve Bayes classifier for text classification using the 20 Newsgroups dataset."
      ],
      "metadata": {
        "id": "G2rXjCuFJATQ"
      }
    },
    {
      "cell_type": "code",
      "source": [
        "import pandas as pd\n",
        "from sklearn.datasets import fetch_20newsgroups # To get the 20 Newsgroups dataset\n",
        "from sklearn.feature_extraction.text import CountVectorizer # To convert text to numerical features\n",
        "from sklearn.model_selection import train_test_split\n",
        "from sklearn.naive_bayes import MultinomialNB # Multinomial Naive Bayes for text\n",
        "from sklearn.metrics import accuracy_score, classification_report\n",
        "\n",
        "# Load a subset of the 20 Newsgroups dataset for faster demonstration\n",
        "# We'll pick a few categories related to computers and religion\n",
        "categories = ['alt.atheism', 'soc.religion.christian',\n",
        "              'comp.graphics', 'comp.os.ms-windows.misc']\n",
        "\n",
        "newsgroups_train = fetch_20newsgroups(subset='train', categories=categories, shuffle=True, random_state=42)\n",
        "newsgroups_test = fetch_20newsgroups(subset='test', categories=categories, shuffle=True, random_state=42)\n",
        "\n",
        "X_train_text = newsgroups_train.data\n",
        "y_train = newsgroups_train.target\n",
        "X_test_text = newsgroups_test.data\n",
        "y_test = newsgroups_test.target\n",
        "\n",
        "print(f\"Training on {len(X_train_text)} samples and testing on {len(X_test_text)} samples.\")\n",
        "print(f\"Categories: {newsgroups_train.target_names}\")\n",
        "\n",
        "# Convert text documents to a matrix of token counts (features)\n",
        "# CountVectorizer tokenizes the text and builds a vocabulary, then counts word occurrences.\n",
        "vectorizer = CountVectorizer()\n",
        "X_train_vectors = vectorizer.fit_transform(X_train_text)\n",
        "X_test_vectors = vectorizer.transform(X_test_text)\n",
        "\n",
        "print(f\"Number of features (unique words) extracted: {X_train_vectors.shape[1]}\")\n",
        "\n",
        "# Initialize and train the Multinomial Naïve Bayes classifier\n",
        "# alpha=1.0 is default, applies Laplace smoothing to prevent zero probabilities.\n",
        "mnb_classifier = MultinomialNB(alpha=1.0)\n",
        "mnb_classifier.fit(X_train_vectors, y_train)\n",
        "\n",
        "# Make predictions on the test set\n",
        "y_pred = mnb_classifier.predict(X_test_vectors)\n",
        "\n",
        "# Evaluate the model\n",
        "accuracy = accuracy_score(y_test, y_pred)\n",
        "report = classification_report(y_test, y_pred, target_names=newsgroups_test.target_names)\n",
        "\n",
        "print(f\"\\nAccuracy of Multinomial Naïve Bayes: {accuracy:.4f}\")\n",
        "print(\"\\nClassification Report:\\n\", report)\n",
        "\n",
        "# Example prediction for a new document\n",
        "new_doc = [\"windows operating system graphic card issues\"]\n",
        "new_doc_vector = vectorizer.transform(new_doc)\n",
        "predicted_category_index = mnb_classifier.predict(new_doc_vector)[0]\n",
        "predicted_category_name = newsgroups_test.target_names[predicted_category_index]\n",
        "print(f\"\\nPrediction for '{new_doc[0]}': {predicted_category_name}\")"
      ],
      "metadata": {
        "colab": {
          "base_uri": "https://localhost:8080/"
        },
        "id": "Ejr2Dw4hJCdC",
        "outputId": "f4c3a9f0-00c4-404d-ac2c-9d5feaccbdf3"
      },
      "execution_count": 4,
      "outputs": [
        {
          "output_type": "stream",
          "name": "stdout",
          "text": [
            "Training on 2254 samples and testing on 1500 samples.\n",
            "Categories: ['alt.atheism', 'comp.graphics', 'comp.os.ms-windows.misc', 'soc.religion.christian']\n",
            "Number of features (unique words) extracted: 63385\n",
            "\n",
            "Accuracy of Multinomial Naïve Bayes: 0.6967\n",
            "\n",
            "Classification Report:\n",
            "                          precision    recall  f1-score   support\n",
            "\n",
            "            alt.atheism       0.92      0.88      0.90       319\n",
            "          comp.graphics       0.50      0.95      0.66       389\n",
            "comp.os.ms-windows.misc       1.00      0.01      0.02       394\n",
            " soc.religion.christian       0.86      0.98      0.92       398\n",
            "\n",
            "               accuracy                           0.70      1500\n",
            "              macro avg       0.82      0.71      0.62      1500\n",
            "           weighted avg       0.82      0.70      0.61      1500\n",
            "\n",
            "\n",
            "Prediction for 'windows operating system graphic card issues': comp.graphics\n"
          ]
        }
      ]
    },
    {
      "cell_type": "markdown",
      "source": [
        "27. Write a Python program to train an SVM Classifier with different C values and compare the decision boundaries visually."
      ],
      "metadata": {
        "id": "FuuTCXxtJFU1"
      }
    },
    {
      "cell_type": "code",
      "source": [
        "import numpy as np\n",
        "import matplotlib.pyplot as plt\n",
        "from sklearn.datasets import make_moons # A good non-linear dataset\n",
        "from sklearn.model_selection import train_test_split\n",
        "from sklearn.svm import SVC\n",
        "from sklearn.preprocessing import StandardScaler\n",
        "\n",
        "# Generate a synthetic dataset that is non-linearly separable\n",
        "X, y = make_moons(n_samples=100, noise=0.2, random_state=42)\n",
        "\n",
        "# Split data\n",
        "X_train, X_test, y_train, y_test = train_test_split(X, y, test_size=0.3, random_state=42)\n",
        "\n",
        "# Scale data\n",
        "scaler = StandardScaler()\n",
        "X_train_scaled = scaler.fit_transform(X_train)\n",
        "X_test_scaled = scaler.transform(X_test)\n",
        "\n",
        "# Define different C values to compare\n",
        "c_values = [0.1, 1, 100]\n",
        "\n",
        "plt.figure(figsize=(15, 5))\n",
        "\n",
        "# Create a mesh to plot the decision boundary\n",
        "x_min, x_max = X_train_scaled[:, 0].min() - 0.5, X_train_scaled[:, 0].max() + 0.5\n",
        "y_min, y_max = X_train_scaled[:, 1].min() - 0.5, X_train_scaled[:, 1].max() + 0.5\n",
        "xx, yy = np.meshgrid(np.arange(x_min, x_max, 0.02),\n",
        "                     np.arange(y_min, y_max, 0.02))\n",
        "\n",
        "for i, C in enumerate(c_values):\n",
        "    # Train SVM with RBF kernel for non-linear boundary, varying C\n",
        "    svm_model = SVC(kernel='rbf', C=C, gamma='scale', random_state=42)\n",
        "    svm_model.fit(X_train_scaled, y_train)\n",
        "\n",
        "    # Predict the class for each point in the mesh\n",
        "    Z = svm_model.predict(np.c_[xx.ravel(), yy.ravel()])\n",
        "    Z = Z.reshape(xx.shape)\n",
        "\n",
        "    plt.subplot(1, len(c_values), i + 1)\n",
        "    plt.contourf(xx, yy, Z, alpha=0.8, cmap=plt.cm.coolwarm)\n",
        "    plt.scatter(X_train_scaled[:, 0], X_train_scaled[:, 1], c=y_train, cmap=plt.cm.coolwarm, s=50, edgecolors='k')\n",
        "    plt.scatter(svm_model.support_vectors_[:, 0], svm_model.support_vectors_[:, 1], s=100,\n",
        "                facecolors='none', edgecolors='green', linewidths=2)\n",
        "    plt.title(f'SVM with C = {C}')\n",
        "    plt.xlabel('Feature 1 (Scaled)')\n",
        "    plt.ylabel('Feature 2 (Scaled)')\n",
        "    plt.text(0.05, 0.95, f'Train Acc: {svm_model.score(X_train_scaled, y_train):.2f}',\n",
        "             transform=plt.gca().transAxes, fontsize=10, verticalalignment='top')\n",
        "    plt.text(0.05, 0.88, f'Test Acc: {svm_model.score(X_test_scaled, y_test):.2f}',\n",
        "             transform=plt.gca().transAxes, fontsize=10, verticalalignment='top')\n",
        "\n",
        "\n",
        "plt.tight_layout()\n",
        "plt.show()\n",
        "\n",
        "print(\"\\nObservation:\")\n",
        "print(\" - Smaller C (e.g., 0.1): Larger margin, more misclassifications allowed. Can lead to underfitting.\")\n",
        "print(\" - Larger C (e.g., 100): Smaller margin, fewer misclassifications on training data. Can lead to overfitting.\")\n",
        "print(\" - C=1 seems to strike a good balance for this dataset, achieving good test accuracy.\")"
      ],
      "metadata": {
        "colab": {
          "base_uri": "https://localhost:8080/",
          "height": 513
        },
        "id": "mQZMjZiAJQv1",
        "outputId": "4bd16e0b-bb73-4226-acab-1d8d34053df3"
      },
      "execution_count": 5,
      "outputs": [
        {
          "output_type": "display_data",
          "data": {
            "text/plain": [
              "<Figure size 1500x500 with 3 Axes>"
            ],
            "image/png": "[encoded data removed]"
          },
          "metadata": {}
        },
        {
          "output_type": "stream",
          "name": "stdout",
          "text": [
            "\n",
            "Observation:\n",
            " - Smaller C (e.g., 0.1): Larger margin, more misclassifications allowed. Can lead to underfitting.\n",
            " - Larger C (e.g., 100): Smaller margin, fewer misclassifications on training data. Can lead to overfitting.\n",
            " - C=1 seems to strike a good balance for this dataset, achieving good test accuracy.\n"
          ]
        }
      ]
    },
    {
      "cell_type": "markdown",
      "source": [
        "28. Write a Python program to train a Bernoulli Naïve Bayes classifier for binary classification on a dataset with binary features."
      ],
      "metadata": {
        "id": "QCLltHwEJUN7"
      }
    },
    {
      "cell_type": "code",
      "source": [
        "import numpy as np\n",
        "import pandas as pd\n",
        "from sklearn.naive_bayes import BernoulliNB # Import Bernoulli Naive Bayes\n",
        "from sklearn.model_selection import train_test_split\n",
        "from sklearn.metrics import accuracy_score, classification_report\n",
        "\n",
        "# Create a synthetic dataset with binary features\n",
        "# Imagine features represent presence (1) or absence (0) of certain words in an email\n",
        "# Class 0: Not Spam, Class 1: Spam\n",
        "data = {\n",
        "    'word_free': [1, 0, 0, 1, 0, 1, 0, 0, 1, 0],\n",
        "    'word_offer': [1, 0, 0, 1, 0, 1, 0, 1, 1, 0],\n",
        "    'word_money': [0, 0, 0, 1, 0, 1, 0, 0, 1, 0],\n",
        "    'word_hello': [0, 1, 1, 0, 1, 0, 1, 0, 0, 1],\n",
        "    'word_meeting': [0, 0, 1, 0, 1, 0, 1, 0, 0, 1],\n",
        "    'is_spam': [1, 0, 0, 1, 0, 1, 0, 1, 1, 0] # 1 for spam, 0 for not spam\n",
        "}\n",
        "df = pd.DataFrame(data)\n",
        "\n",
        "X = df[['word_free', 'word_offer', 'word_money', 'word_hello', 'word_meeting']]\n",
        "y = df['is_spam']\n",
        "\n",
        "# Split data\n",
        "X_train, X_test, y_train, y_test = train_test_split(X, y, test_size=0.3, random_state=42)\n",
        "\n",
        "# Initialize the Bernoulli Naïve Bayes classifier\n",
        "# bin_features=True ensures that features are binarized (values > 0 are treated as 1)\n",
        "# alpha=1.0 applies Laplace smoothing by default.\n",
        "bnb_classifier = BernoulliNB(alpha=1.0)\n",
        "\n",
        "# Train the classifier\n",
        "bnb_classifier.fit(X_train, y_train)\n",
        "\n",
        "# Make predictions\n",
        "y_pred = bnb_classifier.predict(X_test)\n",
        "\n",
        "# Evaluate accuracy\n",
        "accuracy = accuracy_score(y_test, y_pred)\n",
        "report = classification_report(y_test, y_pred, target_names=['Not Spam', 'Spam'])\n",
        "\n",
        "print(f\"Accuracy of Bernoulli Naïve Bayes: {accuracy:.4f}\")\n",
        "print(\"\\nClassification Report:\\n\", report)\n",
        "\n",
        "# Example prediction for a new email\n",
        "new_email_features = np.array([[1, 1, 0, 0, 0]]) # Has 'free', 'offer', no 'money', 'hello', 'meeting'\n",
        "prediction = bnb_classifier.predict(new_email_features)[0]\n",
        "predicted_label = 'Spam' if prediction == 1 else 'Not Spam'\n",
        "print(f\"\\nPrediction for new email (features {new_email_features[0]}): {predicted_label}\")"
      ],
      "metadata": {
        "colab": {
          "base_uri": "https://localhost:8080/"
        },
        "id": "oR1orwlUJbCT",
        "outputId": "4073af00-6d9d-4340-f19b-28eedafc71e2"
      },
      "execution_count": 6,
      "outputs": [
        {
          "output_type": "stream",
          "name": "stdout",
          "text": [
            "Accuracy of Bernoulli Naïve Bayes: 1.0000\n",
            "\n",
            "Classification Report:\n",
            "               precision    recall  f1-score   support\n",
            "\n",
            "    Not Spam       1.00      1.00      1.00         1\n",
            "        Spam       1.00      1.00      1.00         2\n",
            "\n",
            "    accuracy                           1.00         3\n",
            "   macro avg       1.00      1.00      1.00         3\n",
            "weighted avg       1.00      1.00      1.00         3\n",
            "\n",
            "\n",
            "Prediction for new email (features [1 1 0 0 0]): Spam\n"
          ]
        },
        {
          "output_type": "stream",
          "name": "stderr",
          "text": [
            "/usr/local/lib/python3.11/dist-packages/sklearn/utils/validation.py:2739: UserWarning: X does not have valid feature names, but BernoulliNB was fitted with feature names\n",
            "  warnings.warn(\n"
          ]
        }
      ]
    },
    {
      "cell_type": "markdown",
      "source": [
        "29. Write a Python program to apply feature scaling before training an SVM model and compare results with unscaled data."
      ],
      "metadata": {
        "id": "tGt55tv3Jehh"
      }
    },
    {
      "cell_type": "code",
      "source": [
        "import pandas as pd\n",
        "from sklearn.datasets import load_iris\n",
        "from sklearn.model_selection import train_test_split\n",
        "from sklearn.svm import SVC\n",
        "from sklearn.preprocessing import StandardScaler\n",
        "from sklearn.metrics import accuracy_score\n",
        "\n",
        "# Load the Iris dataset\n",
        "iris = load_iris()\n",
        "X, y = iris.data, iris.target\n",
        "\n",
        "# Split data into training and testing sets\n",
        "X_train, X_test, y_train, y_test = train_test_split(X, y, test_size=0.3, random_state=42)\n",
        "\n",
        "# --- Train SVM on unscaled data ---\n",
        "svm_unscaled = SVC(kernel='linear', random_state=42)\n",
        "svm_unscaled.fit(X_train, y_train)\n",
        "y_pred_unscaled = svm_unscaled.predict(X_test)\n",
        "accuracy_unscaled = accuracy_score(y_test, y_pred_unscaled)\n",
        "print(f\"Accuracy with unscaled data: {accuracy_unscaled:.4f}\")\n",
        "\n",
        "# --- Apply feature scaling (StandardScaler) ---\n",
        "scaler = StandardScaler()\n",
        "X_train_scaled = scaler.fit_transform(X_train)\n",
        "X_test_scaled = scaler.transform(X_test)\n",
        "\n",
        "# --- Train SVM on scaled data ---\n",
        "svm_scaled = SVC(kernel='linear', random_state=42)\n",
        "svm_scaled.fit(X_train_scaled, y_train)\n",
        "y_pred_scaled = svm_scaled.predict(X_test_scaled)\n",
        "accuracy_scaled = accuracy_score(y_test, y_pred_scaled)\n",
        "print(f\"Accuracy with scaled data: {accuracy_scaled:.4f}\")\n",
        "\n",
        "if accuracy_scaled > accuracy_unscaled:\n",
        "    print(\"\\nFeature scaling improved the accuracy!\")\n",
        "elif accuracy_scaled < accuracy_unscaled:\n",
        "    print(\"\\nFeature scaling slightly decreased the accuracy (this can happen with linear kernels on some datasets, but it's generally good practice for non-linear kernels).\")\n",
        "else:\n",
        "    print(\"\\nFeature scaling had no significant impact on accuracy in this specific case.\")"
      ],
      "metadata": {
        "colab": {
          "base_uri": "https://localhost:8080/"
        },
        "id": "x6teQumhJhXc",
        "outputId": "a9c9d890-38c7-4385-9fc3-7208b413cfc1"
      },
      "execution_count": 7,
      "outputs": [
        {
          "output_type": "stream",
          "name": "stdout",
          "text": [
            "Accuracy with unscaled data: 1.0000\n",
            "Accuracy with scaled data: 0.9778\n",
            "\n",
            "Feature scaling slightly decreased the accuracy (this can happen with linear kernels on some datasets, but it's generally good practice for non-linear kernels).\n"
          ]
        }
      ]
    },
    {
      "cell_type": "markdown",
      "source": [
        "30. Write a Python program to train a Gaussian Naïve Bayes model and compare the predictions before and after Laplace Smoothing."
      ],
      "metadata": {
        "id": "jXsgl0_4JjZm"
      }
    },
    {
      "cell_type": "code",
      "source": [
        "import numpy as np\n",
        "from sklearn.naive_bayes import GaussianNB, MultinomialNB\n",
        "from sklearn.model_selection import train_test_split\n",
        "from sklearn.metrics import accuracy_score\n",
        "from sklearn.datasets import make_classification\n",
        "from sklearn.feature_extraction.text import CountVectorizer\n",
        "\n",
        "# --- Gaussian Naive Bayes (Laplace Smoothing not directly applicable) ---\n",
        "print(\"--- Gaussian Naive Bayes (Laplace Smoothing not directly applicable) ---\")\n",
        "# Generate a synthetic dataset\n",
        "X, y = make_classification(n_samples=1000, n_features=10, n_informative=5, n_redundant=0, random_state=42)\n",
        "X_train, X_test, y_train, y_test = train_test_split(X, y, test_size=0.3, random_state=42)\n",
        "\n",
        "gnb_model = GaussianNB()\n",
        "gnb_model.fit(X_train, y_train)\n",
        "y_pred_gnb = gnb_model.predict(X_test)\n",
        "accuracy_gnb = accuracy_score(y_test, y_pred_gnb)\n",
        "print(f\"Accuracy with standard Gaussian Naive Bayes: {accuracy_gnb:.4f}\")\n",
        "print(\"Note: Laplace smoothing is not a direct parameter for Gaussian Naive Bayes, as it handles continuous data.\")\n",
        "\n",
        "print(\"\\n--- Demonstrating Laplace Smoothing with Multinomial Naive Bayes (for illustration) ---\")\n",
        "\n",
        "# Sample text data (categorical features, good for MultinomialNB)\n",
        "corpus = [\n",
        "    'This is a great movie',\n",
        "    'This is a terrible movie',\n",
        "    'A great film',\n",
        "    'A terrible book',\n",
        "    'Great book',\n",
        "    'Not a bad movie',\n",
        "    'Fantastic show', # A new word not in all classes initially\n",
        "    'Horrible experience' # Another new word\n",
        "]\n",
        "labels = [1, 0, 1, 0, 1, 0, 1, 0] # 1 for positive, 0 for negative\n",
        "\n",
        "# Vectorize the text data\n",
        "vectorizer = CountVectorizer()\n",
        "X_text = vectorizer.fit_transform(corpus)\n",
        "\n",
        "# Split data\n",
        "X_text_train, X_text_test, y_text_train, y_text_test = train_test_split(X_text, labels, test_size=0.3, random_state=42)\n",
        "\n",
        "# Train Multinomial Naive Bayes without Laplace Smoothing (alpha=0)\n",
        "# This can lead to zero probability issues if a word in test data wasn't in training data for a class.\n",
        "# We'll set alpha=0 for demonstration, but in practice, it's rarely done.\n",
        "print(\"\\n--- Multinomial Naive Bayes without Laplace Smoothing (alpha=0.0) ---\")\n",
        "mnb_no_laplace = MultinomialNB(alpha=0.0)\n",
        "try:\n",
        "    mnb_no_laplace.fit(X_text_train, y_text_train)\n",
        "    y_pred_mnb_no_laplace = mnb_no_laplace.predict(X_text_test)\n",
        "    accuracy_mnb_no_laplace = accuracy_score(y_text_test, y_pred_mnb_no_laplace)\n",
        "    print(f\"Accuracy (alpha=0.0): {accuracy_mnb_no_laplace:.4f}\")\n",
        "except ValueError as e:\n",
        "    print(f\"Could not train with alpha=0.0 due to: {e}. This highlights the problem Laplace Smoothing solves!\")\n",
        "\n",
        "\n",
        "# Train Multinomial Naive Bayes with Laplace Smoothing (alpha=1, default)\n",
        "print(\"\\n--- Multinomial Naive Bayes with Laplace Smoothing (alpha=1.0) ---\")\n",
        "mnb_laplace = MultinomialNB(alpha=1.0)\n",
        "mnb_laplace.fit(X_text_train, y_text_train)\n",
        "y_pred_mnb_laplace = mnb_laplace.predict(X_text_test)\n",
        "accuracy_mnb_laplace = accuracy_score(y_text_test, y_pred_mnb_laplace)\n",
        "print(f\"Accuracy (alpha=1.0, Laplace Smoothing): {accuracy_mnb_laplace:.4f}\")\n",
        "\n",
        "print(\"\\n(Laplace smoothing (alpha > 0) prevents zero probabilities for unseen features, making the model more robust.)\")"
      ],
      "metadata": {
        "colab": {
          "base_uri": "https://localhost:8080/"
        },
        "id": "lEkwlUTHJmrH",
        "outputId": "2fcfe645-3313-41bd-d016-ac2cd041a27d"
      },
      "execution_count": 8,
      "outputs": [
        {
          "output_type": "stream",
          "name": "stdout",
          "text": [
            "--- Gaussian Naive Bayes (Laplace Smoothing not directly applicable) ---\n",
            "Accuracy with standard Gaussian Naive Bayes: 0.7867\n",
            "Note: Laplace smoothing is not a direct parameter for Gaussian Naive Bayes, as it handles continuous data.\n",
            "\n",
            "--- Demonstrating Laplace Smoothing with Multinomial Naive Bayes (for illustration) ---\n",
            "\n",
            "--- Multinomial Naive Bayes without Laplace Smoothing (alpha=0.0) ---\n",
            "Accuracy (alpha=0.0): 0.6667\n",
            "\n",
            "--- Multinomial Naive Bayes with Laplace Smoothing (alpha=1.0) ---\n",
            "Accuracy (alpha=1.0, Laplace Smoothing): 0.6667\n",
            "\n",
            "(Laplace smoothing (alpha > 0) prevents zero probabilities for unseen features, making the model more robust.)\n"
          ]
        },
        {
          "output_type": "stream",
          "name": "stderr",
          "text": [
            "/usr/local/lib/python3.11/dist-packages/sklearn/naive_bayes.py:898: RuntimeWarning: divide by zero encountered in log\n",
            "  self.feature_log_prob_ = np.log(smoothed_fc) - np.log(\n"
          ]
        }
      ]
    },
    {
      "cell_type": "markdown",
      "source": [
        "31. Write a Python program to train an SVM Classifier and use GridSearchCV to tune the hyperparameters (C, gamma, kernel)."
      ],
      "metadata": {
        "id": "SD1gu5tsJo74"
      }
    },
    {
      "cell_type": "code",
      "source": [
        "import pandas as pd\n",
        "from sklearn.datasets import load_wine\n",
        "from sklearn.model_selection import train_test_split, GridSearchCV\n",
        "from sklearn.svm import SVC\n",
        "from sklearn.metrics import accuracy_score\n",
        "from sklearn.preprocessing import StandardScaler # Important for SVM\n",
        "\n",
        "import warnings\n",
        "warnings.filterwarnings('ignore') # Suppress warnings related to GridSearchCV\n",
        "\n",
        "# Load the Wine dataset\n",
        "wine = load_wine()\n",
        "X, y = wine.data, wine.target\n",
        "\n",
        "# Split data into training and testing sets\n",
        "X_train, X_test, y_train, y_test = train_test_split(X, y, test_size=0.3, random_state=42)\n",
        "\n",
        "# Scale the data before tuning (important for distance-based algorithms like SVM)\n",
        "scaler = StandardScaler()\n",
        "X_train_scaled = scaler.fit_transform(X_train)\n",
        "X_test_scaled = scaler.transform(X_test)\n",
        "\n",
        "# Define the parameter grid to search\n",
        "# 'C': Regularization parameter. Smaller C allows more misclassifications.\n",
        "# 'gamma': Kernel coefficient for 'rbf', 'poly' and 'sigmoid'. Affects the \"reach\" of a single training example.\n",
        "# 'kernel': Type of kernel function.\n",
        "param_grid = {\n",
        "    'C': [0.1, 1, 10, 100],\n",
        "    'gamma': [0.001, 0.01, 0.1, 1, 'scale'], # 'scale' is default, 1 / (n_features * X.var())\n",
        "    'kernel': ['rbf', 'linear', 'poly'] # Include polynomial for demonstration\n",
        "}\n",
        "\n",
        "# Create a GridSearchCV object\n",
        "# estimator: The model to train (SVC in this case)\n",
        "# param_grid: Dictionary of parameters to try\n",
        "# cv: Number of folds for cross-validation\n",
        "# refit=True: Refits the best estimator on the whole dataset (after finding best params)\n",
        "# verbose: Controls the verbosity: higher value means more messages.\n",
        "# n_jobs=-1: Use all available CPU cores for parallel processing (speeds up computation)\n",
        "grid_search = GridSearchCV(SVC(), param_grid, cv=5, refit=True, verbose=2, n_jobs=-1)\n",
        "\n",
        "# Fit GridSearchCV to the training data\n",
        "print(\"Starting GridSearchCV (this might take a moment)...\")\n",
        "grid_search.fit(X_train_scaled, y_train)\n",
        "print(\"GridSearchCV complete.\")\n",
        "\n",
        "# Print the best parameters found\n",
        "print(f\"\\nBest parameters found: {grid_search.best_params_}\")\n",
        "\n",
        "# Print the best cross-validation score (average accuracy across folds)\n",
        "print(f\"Best cross-validation accuracy: {grid_search.best_score_:.4f}\")\n",
        "\n",
        "# Get the best estimator (the SVM model with the optimal parameters)\n",
        "best_svm = grid_search.best_estimator_\n",
        "\n",
        "# Evaluate the best estimator on the unseen test set\n",
        "y_pred = best_svm.predict(X_test_scaled)\n",
        "test_accuracy = accuracy_score(y_test, y_pred)\n",
        "print(f\"Test accuracy of the best SVM model: {test_accuracy:.4f}\")"
      ],
      "metadata": {
        "colab": {
          "base_uri": "https://localhost:8080/"
        },
        "id": "9zS91TTyJtLT",
        "outputId": "80abc3bf-b7e3-48c8-b64b-ea2055becbee"
      },
      "execution_count": 9,
      "outputs": [
        {
          "output_type": "stream",
          "name": "stdout",
          "text": [
            "Starting GridSearchCV (this might take a moment)...\n",
            "Fitting 5 folds for each of 60 candidates, totalling 300 fits\n",
            "GridSearchCV complete.\n",
            "\n",
            "Best parameters found: {'C': 1, 'gamma': 0.001, 'kernel': 'linear'}\n",
            "Best cross-validation accuracy: 0.9840\n",
            "Test accuracy of the best SVM model: 0.9815\n"
          ]
        }
      ]
    },
    {
      "cell_type": "markdown",
      "source": [
        "32. Write a Python program to train an SVM Classifier on an imbalanced dataset and apply class weighting and check it improve accuracy."
      ],
      "metadata": {
        "id": "K-eejXYtJu_9"
      }
    },
    {
      "cell_type": "code",
      "source": [
        "import pandas as pd\n",
        "from sklearn.datasets import make_classification # To create an imbalanced dataset\n",
        "from sklearn.model_selection import train_test_split\n",
        "from sklearn.svm import SVC\n",
        "from sklearn.metrics import accuracy_score, classification_report\n",
        "import numpy as np\n",
        "from collections import Counter\n",
        "\n",
        "# Create an imbalanced dataset\n",
        "# We'll make class 0 much more frequent than class 1\n",
        "X, y = make_classification(n_samples=1000, n_features=2, n_informative=2,\n",
        "                           n_redundant=0, n_clusters_per_class=1, weights=[0.95, 0.05], # 95% Class 0, 5% Class 1\n",
        "                           flip_y=0, random_state=42)\n",
        "\n",
        "# Split data, ensuring that the imbalance is maintained in both train and test sets (stratify)\n",
        "X_train, X_test, y_train, y_test = train_test_split(X, y, test_size=0.3, random_state=42, stratify=y)\n",
        "\n",
        "print(f\"Training set class distribution: {Counter(y_train)}\")\n",
        "print(f\"Test set class distribution: {Counter(y_test)}\")\n",
        "\n",
        "# --- Train SVM without class weighting ---\n",
        "print(\"\\n--- SVM without Class Weighting ---\")\n",
        "# Default SVC does not apply class weighting\n",
        "svm_no_weight = SVC(kernel='linear', random_state=42)\n",
        "svm_no_weight.fit(X_train, y_train)\n",
        "y_pred_no_weight = svm_no_weight.predict(X_test)\n",
        "accuracy_no_weight = accuracy_score(y_test, y_pred_no_weight)\n",
        "print(f\"Accuracy (no weighting): {accuracy_no_weight:.4f}\")\n",
        "print(\"Classification Report (no weighting):\\n\", classification_report(y_test, y_pred_no_weight))\n",
        "\n",
        "# --- Train SVM with class weighting ---\n",
        "print(\"\\n--- SVM with Class Weighting ('balanced') ---\")\n",
        "# 'class_weight='balanced'' automatically adjusts weights inversely proportional to class frequencies.\n",
        "# This gives more importance to the minority class.\n",
        "svm_with_weight = SVC(kernel='linear', class_weight='balanced', random_state=42)\n",
        "svm_with_weight.fit(X_train, y_train)\n",
        "y_pred_with_weight = svm_with_weight.predict(X_test)\n",
        "accuracy_with_weight = accuracy_score(y_test, y_pred_with_weight)\n",
        "print(f\"Accuracy (with 'balanced' weighting): {accuracy_with_weight:.4f}\")\n",
        "print(\"Classification Report (with 'balanced' weighting):\\n\", classification_report(y_test, y_pred_with_weight))\n",
        "\n",
        "# --- Comparison ---\n",
        "print(\"\\n--- Comparison of Results ---\")\n",
        "print(f\"Accuracy without weighting: {accuracy_no_weight:.4f}\")\n",
        "print(f\"Accuracy with 'balanced' weighting: {accuracy_with_weight:.4f}\")\n",
        "\n",
        "print(\"\\nOften, with imbalanced datasets, class weighting might not dramatically change overall accuracy,\")\n",
        "print(\"but it typically improves the Recall and/or F1-score for the minority class,\")\n",
        "print(\"which is usually the more important metric in such scenarios.\")\n",
        "print(\"Look closely at the classification reports, especially the metrics for Class 1 (the minority class).\")"
      ],
      "metadata": {
        "colab": {
          "base_uri": "https://localhost:8080/"
        },
        "id": "jhLld13kJxmA",
        "outputId": "c1662110-997a-4a44-8fac-bdf65216ec18"
      },
      "execution_count": 10,
      "outputs": [
        {
          "output_type": "stream",
          "name": "stdout",
          "text": [
            "Training set class distribution: Counter({np.int64(0): 665, np.int64(1): 35})\n",
            "Test set class distribution: Counter({np.int64(0): 285, np.int64(1): 15})\n",
            "\n",
            "--- SVM without Class Weighting ---\n",
            "Accuracy (no weighting): 0.9867\n",
            "Classification Report (no weighting):\n",
            "               precision    recall  f1-score   support\n",
            "\n",
            "           0       0.99      1.00      0.99       285\n",
            "           1       1.00      0.73      0.85        15\n",
            "\n",
            "    accuracy                           0.99       300\n",
            "   macro avg       0.99      0.87      0.92       300\n",
            "weighted avg       0.99      0.99      0.99       300\n",
            "\n",
            "\n",
            "--- SVM with Class Weighting ('balanced') ---\n",
            "Accuracy (with 'balanced' weighting): 0.9900\n",
            "Classification Report (with 'balanced' weighting):\n",
            "               precision    recall  f1-score   support\n",
            "\n",
            "           0       1.00      0.99      0.99       285\n",
            "           1       0.88      0.93      0.90        15\n",
            "\n",
            "    accuracy                           0.99       300\n",
            "   macro avg       0.94      0.96      0.95       300\n",
            "weighted avg       0.99      0.99      0.99       300\n",
            "\n",
            "\n",
            "--- Comparison of Results ---\n",
            "Accuracy without weighting: 0.9867\n",
            "Accuracy with 'balanced' weighting: 0.9900\n",
            "\n",
            "Often, with imbalanced datasets, class weighting might not dramatically change overall accuracy,\n",
            "but it typically improves the Recall and/or F1-score for the minority class,\n",
            "which is usually the more important metric in such scenarios.\n",
            "Look closely at the classification reports, especially the metrics for Class 1 (the minority class).\n"
          ]
        }
      ]
    },
    {
      "cell_type": "markdown",
      "source": [
        "33. Write a Python program to implement a Naïve Bayes classifier for spam detection using email data."
      ],
      "metadata": {
        "id": "pFgYaEKmJ0jO"
      }
    },
    {
      "cell_type": "code",
      "source": [
        "import pandas as pd\n",
        "from sklearn.feature_extraction.text import CountVectorizer # For text to numerical conversion\n",
        "from sklearn.model_selection import train_test_split\n",
        "from sklearn.naive_bayes import MultinomialNB # Multinomial Naive Bayes for discrete counts (text)\n",
        "from sklearn.metrics import accuracy_score, classification_report\n",
        "\n",
        "# Sample email data\n",
        "# In a real-world scenario, you'd load a much larger dataset.\n",
        "data = {\n",
        "    'email': [\n",
        "        \"Hey there, how are you doing?\",\n",
        "        \"Claim your free prize now!!! Click this link.\",\n",
        "        \"Meeting at 3 PM today about the project.\",\n",
        "        \"URGENT: Your bank account has been compromised. Verify immediately!\",\n",
        "        \"Hi, just checking in. Hope you're well.\",\n",
        "        \"Win a million dollars! Enter our sweepstakes now!\",\n",
        "        \"Regarding our project proposal, please review by Friday.\",\n",
        "        \"Congratulations! You've won a lottery! Send bank details.\",\n",
        "        \"Can we reschedule the call for tomorrow morning?\",\n",
        "        \"Limited time offer! Buy now before it's gone!\"\n",
        "    ],\n",
        "    'type': [\n",
        "        'ham', 'spam', 'ham', 'spam', 'ham',\n",
        "        'spam', 'ham', 'spam', 'ham', 'spam'\n",
        "    ]\n",
        "}\n",
        "df = pd.DataFrame(data)\n",
        "\n",
        "# Map 'ham' to 0 and 'spam' to 1 for numerical classification\n",
        "df['type_encoded'] = df['type'].map({'ham': 0, 'spam': 1})\n",
        "\n",
        "X = df['email'] # Our text features\n",
        "y = df['type_encoded'] # Our target labels\n",
        "\n",
        "# Split data into training and testing sets\n",
        "X_train, X_test, y_train, y_test = train_test_split(X, y, test_size=0.3, random_state=42)\n",
        "\n",
        "# Convert text documents to a matrix of token counts\n",
        "# This step is crucial for text classification with Naive Bayes.\n",
        "# CountVectorizer learns the vocabulary from the training data.\n",
        "vectorizer = CountVectorizer()\n",
        "X_train_vec = vectorizer.fit_transform(X_train) # Fit and transform on training data\n",
        "X_test_vec = vectorizer.transform(X_test)       # Only transform on test data (use learned vocabulary)\n",
        "\n",
        "print(f\"Number of unique words (features) extracted: {X_train_vec.shape[1]}\")\n",
        "\n",
        "# Initialize and train the Multinomial Naive Bayes classifier\n",
        "# alpha=1.0 is the default and applies Laplace smoothing, which is good for text data\n",
        "# to handle words that might not appear in the training data for a certain class.\n",
        "mnb_classifier = MultinomialNB(alpha=1.0)\n",
        "mnb_classifier.fit(X_train_vec, y_train)\n",
        "\n",
        "# Make predictions on the test set\n",
        "y_pred = mnb_classifier.predict(X_test_vec)\n",
        "\n",
        "# Evaluate the model\n",
        "accuracy = accuracy_score(y_test, y_pred)\n",
        "report = classification_report(y_test, y_pred, target_names=['Ham', 'Spam'])\n",
        "\n",
        "print(f\"\\nAccuracy of Naïve Bayes Spam Classifier: {accuracy:.4f}\")\n",
        "print(\"Classification Report:\\n\", report)\n",
        "\n",
        "# --- Demonstrate with new email examples ---\n",
        "print(\"\\n--- Predicting on New Emails ---\")\n",
        "new_emails = [\n",
        "    \"Hello, just following up on our conversation from yesterday.\",\n",
        "    \"URGENT: WIN CASH NOW!!! Free gift for you, click here!\",\n",
        "    \"Can you review the attached document?\",\n",
        "    \"Your account is locked. Restore access immediately with this link.\"\n",
        "]\n",
        "\n",
        "# Transform new emails using the *same* vectorizer fitted on training data\n",
        "new_emails_vec = vectorizer.transform(new_emails)\n",
        "new_predictions = mnb_classifier.predict(new_emails_vec)\n",
        "\n",
        "for i, email in enumerate(new_emails):\n",
        "    pred_type = 'Spam' if new_predictions[i] == 1 else 'Ham'\n",
        "    print(f\"Email: '{email}'\\n -> Predicted: {pred_type}\\n\")"
      ],
      "metadata": {
        "colab": {
          "base_uri": "https://localhost:8080/"
        },
        "id": "XHYM0Ep5J4FI",
        "outputId": "2147d929-fb5a-41a1-b249-798fd42efa1a"
      },
      "execution_count": 11,
      "outputs": [
        {
          "output_type": "stream",
          "name": "stdout",
          "text": [
            "Number of unique words (features) extracted: 50\n",
            "\n",
            "Accuracy of Naïve Bayes Spam Classifier: 0.6667\n",
            "Classification Report:\n",
            "               precision    recall  f1-score   support\n",
            "\n",
            "         Ham       0.50      1.00      0.67         1\n",
            "        Spam       1.00      0.50      0.67         2\n",
            "\n",
            "    accuracy                           0.67         3\n",
            "   macro avg       0.75      0.75      0.67         3\n",
            "weighted avg       0.83      0.67      0.67         3\n",
            "\n",
            "\n",
            "--- Predicting on New Emails ---\n",
            "Email: 'Hello, just following up on our conversation from yesterday.'\n",
            " -> Predicted: Ham\n",
            "\n",
            "Email: 'URGENT: WIN CASH NOW!!! Free gift for you, click here!'\n",
            " -> Predicted: Spam\n",
            "\n",
            "Email: 'Can you review the attached document?'\n",
            " -> Predicted: Ham\n",
            "\n",
            "Email: 'Your account is locked. Restore access immediately with this link.'\n",
            " -> Predicted: Spam\n",
            "\n"
          ]
        }
      ]
    },
    {
      "cell_type": "markdown",
      "source": [
        "34. Write a Python program to train an SVM Classifier and a Naïve Bayes Classifier on the same dataset and compare their accuracy."
      ],
      "metadata": {
        "id": "593tzq0lJ6wB"
      }
    },
    {
      "cell_type": "code",
      "source": [
        "import pandas as pd\n",
        "from sklearn.datasets import load_iris\n",
        "from sklearn.model_selection import train_test_split\n",
        "from sklearn.svm import SVC # Support Vector Classifier\n",
        "from sklearn.naive_bayes import GaussianNB # Gaussian Naive Bayes (for continuous data)\n",
        "from sklearn.metrics import accuracy_score\n",
        "from sklearn.preprocessing import StandardScaler # Good practice for SVM\n",
        "\n",
        "# Load the Iris dataset\n",
        "iris = load_iris()\n",
        "X, y = iris.data, iris.target\n",
        "\n",
        "# Split data into training and testing sets\n",
        "X_train, X_test, y_train, y_test = train_test_split(X, y, test_size=0.3, random_state=42)\n",
        "\n",
        "# --- Train SVM Classifier ---\n",
        "# It's good practice to scale data for SVM, as it is sensitive to feature magnitudes.\n",
        "scaler = StandardScaler()\n",
        "X_train_scaled = scaler.fit_transform(X_train)\n",
        "X_test_scaled = scaler.transform(X_test)\n",
        "\n",
        "svm_classifier = SVC(kernel='linear', random_state=42) # Using a linear kernel for simplicity\n",
        "svm_classifier.fit(X_train_scaled, y_train)\n",
        "y_pred_svm = svm_classifier.predict(X_test_scaled)\n",
        "accuracy_svm = accuracy_score(y_test, y_pred_svm)\n",
        "print(f\"SVM Classifier Accuracy: {accuracy_svm:.4f}\")\n",
        "\n",
        "# --- Train Naive Bayes Classifier (Gaussian Naive Bayes for continuous data) ---\n",
        "# Naive Bayes doesn't typically require scaling.\n",
        "gnb_classifier = GaussianNB()\n",
        "gnb_classifier.fit(X_train, y_train)\n",
        "y_pred_gnb = gnb_classifier.predict(X_test)\n",
        "accuracy_gnb = accuracy_score(y_test, y_pred_gnb)\n",
        "print(f\"Naïve Bayes Classifier Accuracy: {accuracy_gnb:.4f}\")\n",
        "\n",
        "# --- Comparison ---\n",
        "print(\"\\n--- Comparison of Accuracies ---\")\n",
        "if accuracy_svm > accuracy_gnb:\n",
        "    print(f\"SVM performed better by {accuracy_svm - accuracy_gnb:.4f} accuracy points.\")\n",
        "elif accuracy_gnb > accuracy_svm:\n",
        "    print(f\"Naïve Bayes performed better by {accuracy_gnb - accuracy_svm:.4f} accuracy points.\")\n",
        "else:\n",
        "    print(\"Both classifiers performed equally well.\")\n",
        "\n",
        "print(\"\\nNotes on comparison:\")\n",
        "print(\" - SVMs often perform well with clear margins and high-dimensional data, especially with appropriate kernels.\")\n",
        "print(\" - Naïve Bayes assumes feature independence, which is rarely true in real datasets, but it can be surprisingly effective and is computationally fast.\")"
      ],
      "metadata": {
        "colab": {
          "base_uri": "https://localhost:8080/"
        },
        "id": "e8uwnCUFJ977",
        "outputId": "55ec7909-7a44-47b3-de97-768f270efeab"
      },
      "execution_count": 12,
      "outputs": [
        {
          "output_type": "stream",
          "name": "stdout",
          "text": [
            "SVM Classifier Accuracy: 0.9778\n",
            "Naïve Bayes Classifier Accuracy: 0.9778\n",
            "\n",
            "--- Comparison of Accuracies ---\n",
            "Both classifiers performed equally well.\n",
            "\n",
            "Notes on comparison:\n",
            " - SVMs often perform well with clear margins and high-dimensional data, especially with appropriate kernels.\n",
            " - Naïve Bayes assumes feature independence, which is rarely true in real datasets, but it can be surprisingly effective and is computationally fast.\n"
          ]
        }
      ]
    },
    {
      "cell_type": "markdown",
      "source": [
        "35. Write a Python program to perform feature selection before training a Naïve Bayes classifier and compare results."
      ],
      "metadata": {
        "id": "K1kqNviSKAyv"
      }
    },
    {
      "cell_type": "code",
      "source": [
        "import pandas as pd\n",
        "from sklearn.datasets import load_breast_cancer # A good dataset with many features\n",
        "from sklearn.model_selection import train_test_split\n",
        "from sklearn.naive_bayes import GaussianNB\n",
        "from sklearn.metrics import accuracy_score\n",
        "from sklearn.feature_selection import SelectKBest, f_classif # For feature selection (statistical tests)\n",
        "import numpy as np\n",
        "\n",
        "# Load the Breast Cancer dataset\n",
        "cancer = load_breast_cancer()\n",
        "X, y = cancer.data, cancer.target\n",
        "\n",
        "# Split data\n",
        "X_train, X_test, y_train, y_test = train_test_split(X, y, test_size=0.3, random_state=42)\n",
        "\n",
        "# --- Train Naive Bayes without Feature Selection ---\n",
        "print(\"--- Naive Bayes without Feature Selection ---\")\n",
        "gnb_no_fs = GaussianNB()\n",
        "gnb_no_fs.fit(X_train, y_train)\n",
        "y_pred_no_fs = gnb_no_fs.predict(X_test)\n",
        "accuracy_no_fs = accuracy_score(y_test, y_pred_no_fs)\n",
        "print(f\"Accuracy: {accuracy_no_fs:.4f}\")\n",
        "\n",
        "# --- Apply Feature Selection using SelectKBest ---\n",
        "# SelectKBest selects features according to the k highest scores.\n",
        "# f_classif (ANOVA F-value) is a statistical test for classification tasks.\n",
        "# It computes the ANOVA F-value for the provided (features, target) sample.\n",
        "k_features_to_select = 10 # Let's select the top 10 most informative features\n",
        "\n",
        "selector = SelectKBest(f_classif, k=k_features_to_select) # Initialize the selector\n",
        "X_train_selected = selector.fit_transform(X_train, y_train) # Fit on training data and transform\n",
        "X_test_selected = selector.transform(X_test)               # Transform test data using the same selector\n",
        "\n",
        "# Get the names of the selected features (optional, for understanding)\n",
        "selected_feature_indices = selector.get_support(indices=True) # Get boolean mask of selected features\n",
        "selected_feature_names = cancer.feature_names[selected_feature_indices]\n",
        "print(f\"\\nSelected {k_features_to_select} features: {list(selected_feature_names)}\")\n",
        "print(f\"Original number of features: {X.shape[1]}\")\n",
        "\n",
        "# --- Train Naive Bayes with Feature Selection ---\n",
        "print(\"\\n--- Naive Bayes with Feature Selection ---\")\n",
        "gnb_with_fs = GaussianNB()\n",
        "gnb_with_fs.fit(X_train_selected, y_train)\n",
        "y_pred_with_fs = gnb_with_fs.predict(X_test_selected)\n",
        "accuracy_with_fs = accuracy_score(y_test, y_pred_with_fs)\n",
        "print(f\"Accuracy: {accuracy_with_fs:.4f}\")\n",
        "\n",
        "# --- Comparison ---\n",
        "print(\"\\n--- Comparison ---\")\n",
        "if accuracy_with_fs > accuracy_no_fs:\n",
        "    print(f\"Feature selection improved accuracy by {accuracy_with_fs - accuracy_no_fs:.4f} accuracy points.\")\n",
        "elif accuracy_with_fs < accuracy_no_fs:\n",
        "    print(f\"Feature selection slightly decreased accuracy by {accuracy_no_fs - accuracy_with_fs:.4f} accuracy points.\")\n",
        "    print(\"(This can happen if important features were inadvertently removed, or if the removed features were beneficial, albeit noisy.)\")\n",
        "else:\n",
        "    print(\"Feature selection had no significant impact on accuracy in this specific case.\")"
      ],
      "metadata": {
        "colab": {
          "base_uri": "https://localhost:8080/"
        },
        "id": "2CUs1VYXKD6U",
        "outputId": "144a9dc1-c121-4b98-98cb-750b8907ec5e"
      },
      "execution_count": 13,
      "outputs": [
        {
          "output_type": "stream",
          "name": "stdout",
          "text": [
            "--- Naive Bayes without Feature Selection ---\n",
            "Accuracy: 0.9415\n",
            "\n",
            "Selected 10 features: [np.str_('mean radius'), np.str_('mean perimeter'), np.str_('mean area'), np.str_('mean concavity'), np.str_('mean concave points'), np.str_('worst radius'), np.str_('worst perimeter'), np.str_('worst area'), np.str_('worst concavity'), np.str_('worst concave points')]\n",
            "Original number of features: 30\n",
            "\n",
            "--- Naive Bayes with Feature Selection ---\n",
            "Accuracy: 0.9591\n",
            "\n",
            "--- Comparison ---\n",
            "Feature selection improved accuracy by 0.0175 accuracy points.\n"
          ]
        }
      ]
    },
    {
      "cell_type": "markdown",
      "source": [
        "36. Write a Python program to train an SVM Classifier using One-vs-Rest (OvR) and One-vs-One (OvO) strategies on the Wine dataset and compare their accuracy."
      ],
      "metadata": {
        "id": "qRsd8qjJKGyH"
      }
    },
    {
      "cell_type": "code",
      "source": [
        "import pandas as pd\n",
        "from sklearn.datasets import load_wine\n",
        "from sklearn.model_selection import train_test_split\n",
        "from sklearn.svm import SVC # Support Vector Classifier\n",
        "from sklearn.metrics import accuracy_score\n",
        "from sklearn.preprocessing import StandardScaler # Scale data for SVM\n",
        "\n",
        "# Load the Wine dataset (which has 3 classes)\n",
        "wine = load_wine()\n",
        "X, y = wine.data, wine.target\n",
        "\n",
        "# Split data\n",
        "X_train, X_test, y_train, y_test = train_test_split(X, y, test_size=0.3, random_state=42)\n",
        "\n",
        "# Scale data (important for SVM)\n",
        "scaler = StandardScaler()\n",
        "X_train_scaled = scaler.fit_transform(X_train)\n",
        "X_test_scaled = scaler.transform(X_test)\n",
        "\n",
        "# --- Train SVM with One-vs-Rest (OvR) strategy ---\n",
        "print(\"--- SVM with One-vs-Rest (OvR) Strategy ---\")\n",
        "# decision_function_shape='ovr' explicitly sets OvR.\n",
        "# Note: For multi-class, 'linear' kernel is often used, but 'rbf' works too.\n",
        "svm_ovr = SVC(kernel='linear', decision_function_shape='ovr', random_state=42)\n",
        "svm_ovr.fit(X_train_scaled, y_train)\n",
        "y_pred_ovr = svm_ovr.predict(X_test_scaled)\n",
        "accuracy_ovr = accuracy_score(y_test, y_pred_ovr)\n",
        "print(f\"Accuracy (OvR): {accuracy_ovr:.4f}\")\n",
        "\n",
        "# --- Train SVM with One-vs-One (OvO) strategy (SVC default) ---\n",
        "print(\"\\n--- SVM with One-vs-One (OvO) Strategy (SVC Default) ---\")\n",
        "# decision_function_shape='ovo' is the default for SVC, but we specify it for clarity.\n",
        "svm_ovo = SVC(kernel='linear', decision_function_shape='ovo', random_state=42)\n",
        "svm_ovo.fit(X_train_scaled, y_train)\n",
        "y_pred_ovo = svm_ovo.predict(X_test_scaled)\n",
        "accuracy_ovo = accuracy_score(y_test, y_pred_ovo)\n",
        "print(f\"Accuracy (OvO): {accuracy_ovo:.4f}\")\n",
        "\n",
        "# --- Comparison ---\n",
        "print(\"\\n--- Comparison ---\")\n",
        "if accuracy_ovo > accuracy_ovr:\n",
        "    print(f\"One-vs-One (OvO) strategy performed slightly better by {accuracy_ovo - accuracy_ovr:.4f} accuracy points.\")\n",
        "elif accuracy_ovr > accuracy_ovo:\n",
        "    print(f\"One-vs-Rest (OvR) strategy performed slightly better by {accuracy_ovr - accuracy_ovo:.4f} accuracy points.\")\n",
        "else:\n",
        "    print(\"Both One-vs-Rest and One-vs-One strategies performed equally well.\")\n",
        "\n",
        "print(\"\\nNotes on OvR vs OvO:\")\n",
        "print(\" - OvO generally trains more classifiers but each is on a smaller subset of data.\")\n",
        "print(\" - OvR trains fewer classifiers but each is on more data, potentially leading to class imbalance issues within each binary classifier.\")\n",
        "print(\" - The best strategy can depend on the dataset.\")"
      ],
      "metadata": {
        "colab": {
          "base_uri": "https://localhost:8080/"
        },
        "id": "ZnbK6xAEKJgr",
        "outputId": "cd62d556-4771-4cc3-fe50-0edc792e85f6"
      },
      "execution_count": 14,
      "outputs": [
        {
          "output_type": "stream",
          "name": "stdout",
          "text": [
            "--- SVM with One-vs-Rest (OvR) Strategy ---\n",
            "Accuracy (OvR): 0.9815\n",
            "\n",
            "--- SVM with One-vs-One (OvO) Strategy (SVC Default) ---\n",
            "Accuracy (OvO): 0.9815\n",
            "\n",
            "--- Comparison ---\n",
            "Both One-vs-Rest and One-vs-One strategies performed equally well.\n",
            "\n",
            "Notes on OvR vs OvO:\n",
            " - OvO generally trains more classifiers but each is on a smaller subset of data.\n",
            " - OvR trains fewer classifiers but each is on more data, potentially leading to class imbalance issues within each binary classifier.\n",
            " - The best strategy can depend on the dataset.\n"
          ]
        }
      ]
    },
    {
      "cell_type": "markdown",
      "source": [
        "37. Write a Python program to train an SVM Classifier using Linear, Polynomial, and RBF kernels on the Breast Cancer dataset and compare their accuracy."
      ],
      "metadata": {
        "id": "Sul9U6meKLhL"
      }
    },
    {
      "cell_type": "code",
      "source": [
        "import pandas as pd\n",
        "from sklearn.datasets import load_breast_cancer # A good dataset with varying linearity\n",
        "from sklearn.model_selection import train_test_split\n",
        "from sklearn.svm import SVC\n",
        "from sklearn.metrics import accuracy_score\n",
        "from sklearn.preprocessing import StandardScaler # Scale data for SVM\n",
        "\n",
        "# Load the Breast Cancer dataset\n",
        "cancer = load_breast_cancer()\n",
        "X, y = cancer.data, cancer.target\n",
        "\n",
        "# Split data\n",
        "X_train, X_test, y_train, y_test = train_test_split(X, y, test_size=0.3, random_state=42)\n",
        "\n",
        "# Scale data (important for RBF and Polynomial kernels which rely on distance)\n",
        "scaler = StandardScaler()\n",
        "X_train_scaled = scaler.fit_transform(X_train)\n",
        "X_test_scaled = scaler.transform(X_test)\n",
        "\n",
        "# --- Train SVM with Linear Kernel ---\n",
        "print(\"--- SVM with Linear Kernel ---\")\n",
        "svm_linear = SVC(kernel='linear', random_state=42)\n",
        "svm_linear.fit(X_train_scaled, y_train)\n",
        "y_pred_linear = svm_linear.predict(X_test_scaled)\n",
        "accuracy_linear = accuracy_score(y_test, y_pred_linear)\n",
        "print(f\"Accuracy (Linear Kernel): {accuracy_linear:.4f}\")\n",
        "\n",
        "# --- Train SVM with Polynomial Kernel ---\n",
        "print(\"\\n--- SVM with Polynomial Kernel (degree=3) ---\")\n",
        "# 'degree' controls the polynomial degree. 'coef0' is an independent term.\n",
        "svm_poly = SVC(kernel='poly', degree=3, coef0=1, random_state=42)\n",
        "svm_poly.fit(X_train_scaled, y_train)\n",
        "y_pred_poly = svm_poly.predict(X_test_scaled)\n",
        "accuracy_poly = accuracy_score(y_test, y_pred_poly)\n",
        "print(f\"Accuracy (Polynomial Kernel): {accuracy_poly:.4f}\")\n",
        "\n",
        "# --- Train SVM with RBF Kernel ---\n",
        "print(\"\\n--- SVM with RBF (Radial Basis Function) Kernel ---\")\n",
        "# 'gamma' defines how far the influence of a single training example reaches.\n",
        "# 'scale' uses 1 / (n_features * X.var()) as gamma.\n",
        "svm_rbf = SVC(kernel='rbf', gamma='scale', random_state=42)\n",
        "svm_rbf.fit(X_train_scaled, y_train)\n",
        "y_pred_rbf = svm_rbf.predict(X_test_scaled)\n",
        "accuracy_rbf = accuracy_score(y_test, y_pred_rbf)\n",
        "print(f\"Accuracy (RBF Kernel): {accuracy_rbf:.4f}\")\n",
        "\n",
        "# --- Comparison ---\n",
        "print(\"\\n--- Comparison of Kernel Accuracies ---\")\n",
        "kernel_accuracies = {\n",
        "    \"Linear\": accuracy_linear,\n",
        "    \"Polynomial (degree=3)\": accuracy_poly,\n",
        "    \"RBF\": accuracy_rbf\n",
        "}\n",
        "\n",
        "best_kernel = max(kernel_accuracies, key=kernel_accuracies.get)\n",
        "print(f\"The best performing kernel was '{best_kernel}' with an accuracy of {kernel_accuracies[best_kernel]:.4f}.\")\n",
        "\n",
        "print(\"\\nNotes on Kernels:\")\n",
        "print(\" - Linear kernel is fast and good for linearly separable data.\")\n",
        "print(\" - Polynomial and RBF kernels can handle non-linear data but often require careful tuning of their parameters (degree, coef0 for poly; gamma, C for RBF).\")\n",
        "print(\" - RBF is a very common and powerful choice, often a good default when you're not sure about data linearity.\")"
      ],
      "metadata": {
        "colab": {
          "base_uri": "https://localhost:8080/"
        },
        "id": "PZclh-jNKPO4",
        "outputId": "a0904ad3-b1cd-48c0-90ba-f5b55bde5eec"
      },
      "execution_count": 15,
      "outputs": [
        {
          "output_type": "stream",
          "name": "stdout",
          "text": [
            "--- SVM with Linear Kernel ---\n",
            "Accuracy (Linear Kernel): 0.9766\n",
            "\n",
            "--- SVM with Polynomial Kernel (degree=3) ---\n",
            "Accuracy (Polynomial Kernel): 0.9883\n",
            "\n",
            "--- SVM with RBF (Radial Basis Function) Kernel ---\n",
            "Accuracy (RBF Kernel): 0.9766\n",
            "\n",
            "--- Comparison of Kernel Accuracies ---\n",
            "The best performing kernel was 'Polynomial (degree=3)' with an accuracy of 0.9883.\n",
            "\n",
            "Notes on Kernels:\n",
            " - Linear kernel is fast and good for linearly separable data.\n",
            " - Polynomial and RBF kernels can handle non-linear data but often require careful tuning of their parameters (degree, coef0 for poly; gamma, C for RBF).\n",
            " - RBF is a very common and powerful choice, often a good default when you're not sure about data linearity.\n"
          ]
        }
      ]
    },
    {
      "cell_type": "markdown",
      "source": [
        "38. Write a Python program to train an SVM Classifier using Stratified K-Fold Cross-Validation and compute the average accuracy."
      ],
      "metadata": {
        "id": "DDMuzhc7KRx5"
      }
    },
    {
      "cell_type": "code",
      "source": [
        "import pandas as pd\n",
        "from sklearn.datasets import load_breast_cancer\n",
        "from sklearn.model_selection import StratifiedKFold # For stratified cross-validation\n",
        "from sklearn.svm import SVC\n",
        "from sklearn.metrics import accuracy_score\n",
        "from sklearn.preprocessing import StandardScaler # Scale data for SVM\n",
        "import numpy as np\n",
        "\n",
        "# Load the Breast Cancer dataset\n",
        "cancer = load_breast_cancer()\n",
        "X, y = cancer.data, cancer.target\n",
        "\n",
        "# Scale data (important for SVM)\n",
        "scaler = StandardScaler()\n",
        "X_scaled = scaler.fit_transform(X)\n",
        "\n",
        "# Initialize Stratified K-Fold Cross-Validation\n",
        "# n_splits: Number of folds (e.g., 5 or 10 are common)\n",
        "# shuffle=True: Shuffles the data before splitting into folds (important for randomness)\n",
        "# random_state: For reproducibility\n",
        "n_splits = 5\n",
        "skf = StratifiedKFold(n_splits=n_splits, shuffle=True, random_state=42)\n",
        "\n",
        "# List to store accuracy scores for each fold\n",
        "accuracy_scores = []\n",
        "\n",
        "print(f\"Performing {n_splits}-Fold Stratified Cross-Validation...\")\n",
        "\n",
        "# Iterate through each fold\n",
        "# skf.split generates train and test indices for each fold\n",
        "for fold, (train_index, test_index) in enumerate(skf.split(X_scaled, y)):\n",
        "    X_train, X_test = X_scaled[train_index], X_scaled[test_index]\n",
        "    y_train, y_test = y[train_index], y[test_index]\n",
        "\n",
        "    # Initialize and train SVM classifier for the current fold\n",
        "    # Using RBF kernel, as it's general-purpose.\n",
        "    svm_model = SVC(kernel='rbf', random_state=42)\n",
        "    svm_model.fit(X_train, y_train)\n",
        "\n",
        "    # Make predictions and calculate accuracy for the current fold\n",
        "    y_pred = svm_model.predict(X_test)\n",
        "    accuracy = accuracy_score(y_test, y_pred)\n",
        "    accuracy_scores.append(accuracy)\n",
        "    print(f\"  Fold {fold + 1} Accuracy: {accuracy:.4f}\")\n",
        "\n",
        "# Compute and print the average accuracy and standard deviation across all folds\n",
        "average_accuracy = np.mean(accuracy_scores)\n",
        "std_dev_accuracy = np.std(accuracy_scores)\n",
        "\n",
        "print(f\"\\nAverage Accuracy across {n_splits} folds: {average_accuracy:.4f}\")\n",
        "print(f\"Standard Deviation of Accuracy: {std_dev_accuracy:.4f}\")\n",
        "\n",
        "print(\"\\nNotes on Stratified K-Fold:\")\n",
        "print(\" - It provides a more reliable estimate of model performance than a single train-test split,\")\n",
        "print(\"   especially for smaller or imbalanced datasets.\")\n",
        "print(\" - The standard deviation gives an idea of the variability of the model's performance across different folds.\")"
      ],
      "metadata": {
        "colab": {
          "base_uri": "https://localhost:8080/"
        },
        "id": "aCIJ94pXKVom",
        "outputId": "f54e6855-96b8-460f-cb7e-e8464587295c"
      },
      "execution_count": 16,
      "outputs": [
        {
          "output_type": "stream",
          "name": "stdout",
          "text": [
            "Performing 5-Fold Stratified Cross-Validation...\n",
            "  Fold 1 Accuracy: 0.9912\n",
            "  Fold 2 Accuracy: 0.9386\n",
            "  Fold 3 Accuracy: 0.9737\n",
            "  Fold 4 Accuracy: 0.9912\n",
            "  Fold 5 Accuracy: 0.9823\n",
            "\n",
            "Average Accuracy across 5 folds: 0.9754\n",
            "Standard Deviation of Accuracy: 0.0195\n",
            "\n",
            "Notes on Stratified K-Fold:\n",
            " - It provides a more reliable estimate of model performance than a single train-test split,\n",
            "   especially for smaller or imbalanced datasets.\n",
            " - The standard deviation gives an idea of the variability of the model's performance across different folds.\n"
          ]
        }
      ]
    },
    {
      "cell_type": "markdown",
      "source": [
        "39. Write a Python program to train a Naïve Bayes classifier using different prior probabilities and compare performance."
      ],
      "metadata": {
        "id": "LPsyJKj3KYaj"
      }
    },
    {
      "cell_type": "code",
      "source": [
        "from sklearn.datasets import load_iris\n",
        "from sklearn.model_selection import train_test_split\n",
        "from sklearn.naive_bayes import GaussianNB\n",
        "from sklearn.metrics import accuracy_score\n",
        "import numpy as np\n",
        "\n",
        "# Load the dataset\n",
        "iris = load_iris()\n",
        "X = iris.data\n",
        "y = iris.target\n",
        "\n",
        "# For binary classification, take only classes 0 and 1\n",
        "mask = y < 2\n",
        "X = X[mask]\n",
        "y = y[mask]\n",
        "\n",
        "# Split into train and test sets\n",
        "X_train, X_test, y_train, y_test = train_test_split(X, y, test_size=0.3, random_state=42)\n",
        "\n",
        "# Define different class priors\n",
        "priors_list = [\n",
        "    None,                 # Let the model estimate from data\n",
        "    [0.5, 0.5],           # Equal priors\n",
        "    [0.9, 0.1],           # Skewed priors: class 0 more likely\n",
        "    [0.1, 0.9]            # Skewed priors: class 1 more likely\n",
        "]\n",
        "\n",
        "# Train and evaluate model for each prior\n",
        "for priors in priors_list:\n",
        "    model = GaussianNB(priors=priors)\n",
        "    model.fit(X_train, y_train)\n",
        "    y_pred = model.predict(X_test)\n",
        "    acc = accuracy_score(y_test, y_pred)\n",
        "    print(f\"Priors: {priors} => Accuracy: {acc:.2f}\")\n"
      ],
      "metadata": {
        "colab": {
          "base_uri": "https://localhost:8080/"
        },
        "id": "zp6bwz_5Ktzd",
        "outputId": "54e6bb50-961a-4d1b-f106-47387ae882e5"
      },
      "execution_count": 18,
      "outputs": [
        {
          "output_type": "stream",
          "name": "stdout",
          "text": [
            "Priors: None => Accuracy: 1.00\n",
            "Priors: [0.5, 0.5] => Accuracy: 1.00\n",
            "Priors: [0.9, 0.1] => Accuracy: 1.00\n",
            "Priors: [0.1, 0.9] => Accuracy: 1.00\n"
          ]
        }
      ]
    },
    {
      "cell_type": "markdown",
      "source": [
        "40. Write a Python program to perform Recursive Feature Elimination (RFE) before training an SVM Classifier and compare accuracy."
      ],
      "metadata": {
        "id": "QyxfCiEEKwXc"
      }
    },
    {
      "cell_type": "code",
      "source": [
        "import pandas as pd\n",
        "from sklearn.datasets import load_breast_cancer # A good dataset for feature selection\n",
        "from sklearn.model_selection import train_test_split\n",
        "from sklearn.svm import SVC, LinearSVC # LinearSVC is more suitable for RFE with coefficients\n",
        "from sklearn.feature_selection import RFE # Recursive Feature Elimination\n",
        "from sklearn.metrics import accuracy_score\n",
        "from sklearn.preprocessing import StandardScaler # Scale data for SVM\n",
        "import numpy as np\n",
        "\n",
        "# Load the Breast Cancer dataset\n",
        "cancer = load_breast_cancer()\n",
        "X, y = cancer.data, cancer.target\n",
        "\n",
        "# Split data\n",
        "X_train, X_test, y_train, y_test = train_test_split(X, y, test_size=0.3, random_state=42)\n",
        "\n",
        "# Scale data (important for SVM and coefficient interpretation)\n",
        "scaler = StandardScaler()\n",
        "X_train_scaled = scaler.fit_transform(X_train)\n",
        "X_test_scaled = scaler.transform(X_test)\n",
        "\n",
        "# --- Train SVM without Feature Elimination ---\n",
        "print(\"--- SVM without Recursive Feature Elimination (RFE) ---\")\n",
        "svm_no_rfe = SVC(kernel='linear', random_state=42) # Using linear kernel for direct comparison with RFE's underlying linearity\n",
        "svm_no_rfe.fit(X_train_scaled, y_train)\n",
        "y_pred_no_rfe = svm_no_rfe.predict(X_test_scaled)\n",
        "accuracy_no_rfe = accuracy_score(y_test, y_pred_no_rfe)\n",
        "print(f\"Accuracy: {accuracy_no_rfe:.4f}\")\n",
        "\n",
        "# --- Apply Recursive Feature Elimination (RFE) ---\n",
        "# RFE requires an estimator that has a 'coef_' attribute (for linear models)\n",
        "# or 'feature_importances_' attribute (for tree-based models).\n",
        "# LinearSVC is a good choice for RFE with SVMs because it directly provides coefficients.\n",
        "estimator_for_rfe = LinearSVC(random_state=42, dual=False) # dual=False recommended for n_samples > n_features\n",
        "\n",
        "n_features_to_select = 10 # Let's select the top 10 features\n",
        "step_size = 1 # Remove 1 feature at each iteration\n",
        "\n",
        "# The RFE object takes the base estimator and the number of features to select\n",
        "rfe_selector = RFE(estimator=estimator_for_rfe, n_features_to_select=n_features_to_select, step=step_size)\n",
        "rfe_selector.fit(X_train_scaled, y_train) # Fit RFE on the scaled training data\n",
        "\n",
        "# Transform data to include only the selected features\n",
        "X_train_rfe = rfe_selector.transform(X_train_scaled)\n",
        "X_test_rfe = rfe_selector.transform(X_test_scaled)\n",
        "\n",
        "# Get the names of the selected features (optional, for understanding)\n",
        "selected_feature_indices = rfe_selector.get_support(indices=True)\n",
        "selected_feature_names = cancer.feature_names[selected_feature_indices]\n",
        "print(f\"\\nOriginal number of features: {X.shape[1]}\")\n",
        "print(f\"Selected {n_features_to_select} features by RFE: {list(selected_feature_names)}\")\n",
        "\n",
        "# --- Train SVM with RFE Selected Features ---\n",
        "print(\"\\n--- SVM with RFE Selected Features ---\")\n",
        "# You can still use an SVC with any kernel here, but a linear kernel is often used for consistency\n",
        "svm_rfe = SVC(kernel='linear', random_state=42)\n",
        "svm_rfe.fit(X_train_rfe, y_train)\n",
        "y_pred_rfe = svm_rfe.predict(X_test_rfe)\n",
        "accuracy_rfe = accuracy_score(y_test, y_pred_rfe)\n",
        "print(f\"Accuracy: {accuracy_rfe:.4f}\")\n",
        "\n",
        "# --- Comparison ---\n",
        "print(\"\\n--- Comparison ---\")\n",
        "if accuracy_rfe > accuracy_no_rfe:\n",
        "    print(f\"RFE improved accuracy by {accuracy_rfe - accuracy_no_rfe:.4f} accuracy points.\")\n",
        "elif accuracy_rfe < accuracy_no_rfe:\n",
        "    print(f\"RFE slightly decreased accuracy by {accuracy_no_rfe - accuracy_rfe:.4f} accuracy points.\")\n",
        "    print(\"(This can happen if some important features were removed, or if the RFE estimator did not select the truly optimal set.)\")\n",
        "else:\n",
        "    print(\"RFE had no significant impact on accuracy in this specific case.\")"
      ],
      "metadata": {
        "colab": {
          "base_uri": "https://localhost:8080/"
        },
        "id": "TaRwUpHTK0qY",
        "outputId": "7dd3d2fe-045f-4db1-c60a-8dff87402f23"
      },
      "execution_count": 19,
      "outputs": [
        {
          "output_type": "stream",
          "name": "stdout",
          "text": [
            "--- SVM without Recursive Feature Elimination (RFE) ---\n",
            "Accuracy: 0.9766\n",
            "\n",
            "Original number of features: 30\n",
            "Selected 10 features by RFE: [np.str_('mean compactness'), np.str_('mean concave points'), np.str_('mean fractal dimension'), np.str_('radius error'), np.str_('concave points error'), np.str_('fractal dimension error'), np.str_('worst radius'), np.str_('worst texture'), np.str_('worst area'), np.str_('worst concavity')]\n",
            "\n",
            "--- SVM with RFE Selected Features ---\n",
            "Accuracy: 0.9708\n",
            "\n",
            "--- Comparison ---\n",
            "RFE slightly decreased accuracy by 0.0058 accuracy points.\n",
            "(This can happen if some important features were removed, or if the RFE estimator did not select the truly optimal set.)\n"
          ]
        }
      ]
    },
    {
      "cell_type": "markdown",
      "source": [
        "41. Write a Python program to train an SVM Classifier and evaluate its performance using Precision, Recall, and F1-Score instead of accuracy."
      ],
      "metadata": {
        "id": "yfRcwHN5K3OR"
      }
    },
    {
      "cell_type": "code",
      "source": [
        "import pandas as pd\n",
        "from sklearn.datasets import load_breast_cancer # A good dataset with some class imbalance\n",
        "from sklearn.model_selection import train_test_split\n",
        "from sklearn.svm import SVC\n",
        "from sklearn.metrics import precision_score, recall_score, f1_score, accuracy_score, classification_report\n",
        "from sklearn.preprocessing import StandardScaler # Scale data for SVM\n",
        "import numpy as np\n",
        "\n",
        "# Load the Breast Cancer dataset\n",
        "cancer = load_breast_cancer()\n",
        "X, y = cancer.data, cancer.target\n",
        "target_names = cancer.target_names # ['malignant', 'benign']\n",
        "\n",
        "# Split data, ensuring stratification to maintain class proportions\n",
        "X_train, X_test, y_train, y_test = train_test_split(X, y, test_size=0.3, random_state=42, stratify=y)\n",
        "\n",
        "# Scale data (important for SVM)\n",
        "scaler = StandardScaler()\n",
        "X_train_scaled = scaler.fit_transform(X_train)\n",
        "X_test_scaled = scaler.transform(X_test)\n",
        "\n",
        "# Train SVM Classifier\n",
        "svm_model = SVC(kernel='rbf', random_state=42) # Using RBF kernel, common and powerful\n",
        "svm_model.fit(X_train_scaled, y_train)\n",
        "\n",
        "# Make predictions\n",
        "y_pred = svm_model.predict(X_test_scaled)\n",
        "\n",
        "# Evaluate using Accuracy (for general context)\n",
        "accuracy = accuracy_score(y_test, y_pred)\n",
        "print(f\"Overall Accuracy: {accuracy:.4f}\")\n",
        "\n",
        "# Evaluate using Precision, Recall, F1-Score\n",
        "# 'average=weighted' calculates metrics for each label, and finds their average,\n",
        "# weighted by support (the number of true instances for each label).\n",
        "precision = precision_score(y_test, y_pred, average='weighted')\n",
        "recall = recall_score(y_test, y_pred, average='weighted')\n",
        "f1 = f1_score(y_test, y_pred, average='weighted')\n",
        "\n",
        "print(f\"\\nWeighted Precision: {precision:.4f}\")\n",
        "print(f\"Weighted Recall: {recall:.4f}\")\n",
        "print(f\"Weighted F1-Score: {f1:.4f}\")\n",
        "\n",
        "# For a more detailed breakdown per class (highly recommended!):\n",
        "print(\"\\n--- Full Classification Report (per class) ---\")\n",
        "print(classification_report(y_test, y_pred, target_names=target_names))\n",
        "\n",
        "print(\"\\nNotes on metrics:\")\n",
        "print(\" - Precision focuses on the positive predictions (how many predicted positives are truly positive).\")\n",
        "print(\" - Recall focuses on the actual positive instances (how many actual positives were found).\")\n",
        "print(\" - F1-Score is a balance between Precision and Recall. It's especially good when classes are imbalanced.\")\n",
        "print(\" - For example, if 'malignant' is your positive class (Class 0), a high Recall for 'malignant' means you're good at catching actual malignant cases, reducing false negatives (missed malignant cases).\")"
      ],
      "metadata": {
        "colab": {
          "base_uri": "https://localhost:8080/"
        },
        "id": "Y4nQGpbuK5-f",
        "outputId": "be51af32-bee8-467b-bce4-358209964306"
      },
      "execution_count": 20,
      "outputs": [
        {
          "output_type": "stream",
          "name": "stdout",
          "text": [
            "Overall Accuracy: 0.9766\n",
            "\n",
            "Weighted Precision: 0.9766\n",
            "Weighted Recall: 0.9766\n",
            "Weighted F1-Score: 0.9766\n",
            "\n",
            "--- Full Classification Report (per class) ---\n",
            "              precision    recall  f1-score   support\n",
            "\n",
            "   malignant       0.97      0.97      0.97        64\n",
            "      benign       0.98      0.98      0.98       107\n",
            "\n",
            "    accuracy                           0.98       171\n",
            "   macro avg       0.98      0.98      0.98       171\n",
            "weighted avg       0.98      0.98      0.98       171\n",
            "\n",
            "\n",
            "Notes on metrics:\n",
            " - Precision focuses on the positive predictions (how many predicted positives are truly positive).\n",
            " - Recall focuses on the actual positive instances (how many actual positives were found).\n",
            " - F1-Score is a balance between Precision and Recall. It's especially good when classes are imbalanced.\n",
            " - For example, if 'malignant' is your positive class (Class 0), a high Recall for 'malignant' means you're good at catching actual malignant cases, reducing false negatives (missed malignant cases).\n"
          ]
        }
      ]
    },
    {
      "cell_type": "markdown",
      "source": [
        "42. Write a Python program to train a Naïve Bayes Classifier and evaluate its performance using Log Loss (Cross-Entropy Loss)."
      ],
      "metadata": {
        "id": "b8V-d4K9K8TC"
      }
    },
    {
      "cell_type": "code",
      "source": [
        "from sklearn.datasets import load_breast_cancer\n",
        "from sklearn.model_selection import train_test_split\n",
        "from sklearn.naive_bayes import GaussianNB\n",
        "from sklearn.metrics import log_loss\n",
        "\n",
        "# Load breast cancer dataset\n",
        "data = load_breast_cancer()\n",
        "X = data.data\n",
        "y = data.target\n",
        "\n",
        "# Split into train and test sets\n",
        "X_train, X_test, y_train, y_test = train_test_split(X, y, test_size=0.2, random_state=42)\n",
        "\n",
        "# Initialize Gaussian Naive Bayes classifier\n",
        "gnb = GaussianNB()\n",
        "\n",
        "# Train the model\n",
        "gnb.fit(X_train, y_train)\n",
        "\n",
        "# Predict class probabilities\n",
        "y_proba = gnb.predict_proba(X_test)\n",
        "\n",
        "# Calculate Log Loss (Cross-Entropy Loss)\n",
        "loss = log_loss(y_test, y_proba)\n",
        "\n",
        "print(f\"Log Loss (Cross-Entropy Loss): {loss:.4f}\")\n"
      ],
      "metadata": {
        "colab": {
          "base_uri": "https://localhost:8080/"
        },
        "id": "i7umySsVLJ8O",
        "outputId": "e27119f5-9677-434c-ad4f-d12c565fe606"
      },
      "execution_count": 22,
      "outputs": [
        {
          "output_type": "stream",
          "name": "stdout",
          "text": [
            "Log Loss (Cross-Entropy Loss): 0.2037\n"
          ]
        }
      ]
    },
    {
      "cell_type": "markdown",
      "source": [
        "43. Write a Python program to train an SVM Classifier and visualize the Confusion Matrix using seaborn."
      ],
      "metadata": {
        "id": "KHVn7ZWDLLIR"
      }
    },
    {
      "cell_type": "code",
      "source": [
        "import pandas as pd\n",
        "import numpy as np\n",
        "import matplotlib.pyplot as plt\n",
        "import seaborn as sns # For beautiful visualizations\n",
        "from sklearn.datasets import load_breast_cancer # A common classification dataset\n",
        "from sklearn.model_selection import train_test_split\n",
        "from sklearn.svm import SVC\n",
        "from sklearn.metrics import confusion_matrix, accuracy_score\n",
        "from sklearn.preprocessing import StandardScaler # Scale data for SVM\n",
        "\n",
        "# Load the Breast Cancer dataset\n",
        "cancer = load_breast_cancer()\n",
        "X, y = cancer.data, cancer.target\n",
        "target_names = cancer.target_names # Class labels: ['malignant', 'benign']\n",
        "\n",
        "# Split data\n",
        "X_train, X_test, y_train, y_test = train_test_split(X, y, test_size=0.3, random_state=42, stratify=y)\n",
        "\n",
        "# Scale data (important for SVM)\n",
        "scaler = StandardScaler()\n",
        "X_train_scaled = scaler.fit_transform(X_train)\n",
        "X_test_scaled = scaler.transform(X_test)\n",
        "\n",
        "# Train SVM Classifier\n",
        "svm_model = SVC(kernel='rbf', random_state=42) # Using RBF kernel\n",
        "svm_model.fit(X_train_scaled, y_train)\n",
        "\n",
        "# Make predictions on the test set\n",
        "y_pred = svm_model.predict(X_test_scaled)\n",
        "\n",
        "# Calculate Accuracy (for general context)\n",
        "accuracy = accuracy_score(y_test, y_pred)\n",
        "print(f\"Overall Accuracy: {accuracy:.4f}\")\n",
        "\n",
        "# Compute the Confusion Matrix\n",
        "# Rows are True labels, columns are Predicted labels\n",
        "cm = confusion_matrix(y_test, y_pred)\n",
        "print(\"\\nRaw Confusion Matrix:\\n\", cm)\n",
        "\n",
        "# Visualize the Confusion Matrix using seaborn heatmap\n",
        "plt.figure(figsize=(8, 6))\n",
        "sns.heatmap(cm,\n",
        "            annot=True,      # Annotate cells with the numeric values\n",
        "            fmt='d',         # Format annotations as integers\n",
        "            cmap='Blues',    # Color map\n",
        "            cbar=False,      # Do not show color bar\n",
        "            xticklabels=target_names, # Labels for predicted classes (columns)\n",
        "            yticklabels=target_names) # Labels for true classes (rows)\n",
        "\n",
        "plt.xlabel('Predicted Label')\n",
        "plt.ylabel('True Label')\n",
        "plt.title('Confusion Matrix for SVM Classifier (Breast Cancer)')\n",
        "plt.show()\n",
        "\n",
        "# --- Interpretation of the Confusion Matrix ---\n",
        "print(\"\\n--- Confusion Matrix Interpretation ---\")\n",
        "print(f\"True Negatives (TN): {cm[0, 0]} - Correctly predicted 'Malignant' (Class 0).\")\n",
        "print(f\"False Positives (FP): {cm[0, 1]} - Incorrectly predicted 'Benign' (Class 1) when it was 'Malignant' (Class 0). (Type I error)\")\n",
        "print(f\"False Negatives (FN): {cm[1, 0]} - Incorrectly predicted 'Malignant' (Class 0) when it was 'Benign' (Class 1). (Type II error)\")\n",
        "print(f\"True Positives (TP): {cm[1, 1]} - Correctly predicted 'Benign' (Class 1).\")"
      ],
      "metadata": {
        "colab": {
          "base_uri": "https://localhost:8080/",
          "height": 755
        },
        "id": "9EOyNkfgLOim",
        "outputId": "64a485f2-14f8-45aa-d98e-360e62743b1a"
      },
      "execution_count": 23,
      "outputs": [
        {
          "output_type": "stream",
          "name": "stdout",
          "text": [
            "Overall Accuracy: 0.9766\n",
            "\n",
            "Raw Confusion Matrix:\n",
            " [[ 62   2]\n",
            " [  2 105]]\n"
          ]
        },
        {
          "output_type": "display_data",
          "data": {
            "text/plain": [
              "<Figure size 800x600 with 1 Axes>"
            ],
            "image/png": "[encoded data removed]"
          },
          "metadata": {}
        },
        {
          "output_type": "stream",
          "name": "stdout",
          "text": [
            "\n",
            "--- Confusion Matrix Interpretation ---\n",
            "True Negatives (TN): 62 - Correctly predicted 'Malignant' (Class 0).\n",
            "False Positives (FP): 2 - Incorrectly predicted 'Benign' (Class 1) when it was 'Malignant' (Class 0). (Type I error)\n",
            "False Negatives (FN): 2 - Incorrectly predicted 'Malignant' (Class 0) when it was 'Benign' (Class 1). (Type II error)\n",
            "True Positives (TP): 105 - Correctly predicted 'Benign' (Class 1).\n"
          ]
        }
      ]
    },
    {
      "cell_type": "markdown",
      "source": [
        "44. Write a Python program to train an SVM Regressor (SVR) and evaluate its performance using Mean Absolute Error (MAE) instead of MSE."
      ],
      "metadata": {
        "id": "BPi_K8BALR2n"
      }
    },
    {
      "cell_type": "code",
      "source": [
        "from sklearn.datasets import fetch_california_housing\n",
        "from sklearn.model_selection import train_test_split\n",
        "from sklearn.svm import SVR\n",
        "from sklearn.preprocessing import StandardScaler\n",
        "from sklearn.metrics import mean_absolute_error\n",
        "\n",
        "# Load California housing dataset\n",
        "data = fetch_california_housing()\n",
        "X = data.data\n",
        "y = data.target\n",
        "\n",
        "# Split into training and test sets\n",
        "X_train, X_test, y_train, y_test = train_test_split(X, y, test_size=0.2, random_state=42)\n",
        "\n",
        "# Feature scaling (important for SVR)\n",
        "scaler_X = StandardScaler()\n",
        "scaler_y = StandardScaler()\n",
        "\n",
        "X_train_scaled = scaler_X.fit_transform(X_train)\n",
        "X_test_scaled = scaler_X.transform(X_test)\n",
        "\n",
        "# Reshape y to 2D for scaling\n",
        "y_train_scaled = scaler_y.fit_transform(y_train.reshape(-1, 1)).ravel()\n",
        "\n",
        "# Train SVR model\n",
        "svr = SVR(kernel='rbf', C=100, epsilon=0.1)\n",
        "svr.fit(X_train_scaled, y_train_scaled)\n",
        "\n",
        "# Predict on test data\n",
        "y_pred_scaled = svr.predict(X_test_scaled)\n",
        "\n",
        "# Inverse transform the predicted values back to original scale\n",
        "y_pred = scaler_y.inverse_transform(y_pred_scaled.reshape(-1, 1)).ravel()\n",
        "\n",
        "# Calculate Mean Absolute Error (MAE)\n",
        "mae = mean_absolute_error(y_test, y_pred)\n",
        "print(f\"Mean Absolute Error (MAE): {mae:.2f}\")\n"
      ],
      "metadata": {
        "colab": {
          "base_uri": "https://localhost:8080/"
        },
        "id": "chnI_oO_LjqI",
        "outputId": "2a55ee77-ebc1-4de4-b5b7-dd334a9d2490"
      },
      "execution_count": 25,
      "outputs": [
        {
          "output_type": "stream",
          "name": "stdout",
          "text": [
            "Mean Absolute Error (MAE): 0.37\n"
          ]
        }
      ]
    },
    {
      "cell_type": "markdown",
      "source": [
        "45. Write a Python program to train a Naïve Bayes classifier and evaluate its performance using the ROC-AUC score."
      ],
      "metadata": {
        "id": "qd91mCh7LW2p"
      }
    },
    {
      "cell_type": "code",
      "source": [
        "import pandas as pd\n",
        "import numpy as np\n",
        "import matplotlib.pyplot as plt\n",
        "from sklearn.datasets import load_breast_cancer # A binary classification dataset\n",
        "from sklearn.model_selection import train_test_split\n",
        "from sklearn.naive_bayes import GaussianNB # Gaussian Naive Bayes for continuous features\n",
        "from sklearn.metrics import roc_curve, auc, roc_auc_score, accuracy_score\n",
        "from sklearn.preprocessing import label_binarize # To handle target labels if needed\n",
        "\n",
        "# Load the Breast Cancer dataset\n",
        "cancer = load_breast_cancer()\n",
        "X, y = cancer.data, cancer.target\n",
        "target_names = cancer.target_names # ['malignant', 'benign']\n",
        "\n",
        "# Split data, ensuring stratification\n",
        "X_train, X_test, y_train, y_test = train_test_split(X, y, test_size=0.3, random_state=42, stratify=y)\n",
        "\n",
        "# Train Gaussian Naive Bayes Classifier\n",
        "gnb_model = GaussianNB()\n",
        "gnb_model.fit(X_train, y_train)\n",
        "\n",
        "# Make predictions (class labels) for general accuracy context\n",
        "y_pred = gnb_model.predict(X_test)\n",
        "\n",
        "# Get predicted probabilities for the positive class (class 1, 'benign')\n",
        "# We need probabilities to calculate ROC-AUC.\n",
        "# predict_proba returns probabilities for each class: [[prob_class0, prob_class1], ...]\n",
        "# We want prob_class1 (the second column) for the positive class.\n",
        "y_pred_proba = gnb_model.predict_proba(X_test)[:, 1]\n",
        "\n",
        "# Evaluate using Accuracy (for context)\n",
        "accuracy = accuracy_score(y_test, y_pred)\n",
        "print(f\"Overall Accuracy: {accuracy:.4f}\")\n",
        "\n",
        "# Compute ROC-AUC score\n",
        "# roc_auc_score takes true labels and predicted probabilities of the positive class.\n",
        "roc_auc = roc_auc_score(y_test, y_pred_proba)\n",
        "print(f\"ROC-AUC Score: {roc_auc:.4f}\")\n",
        "\n",
        "# Compute ROC curve points (False Positive Rate, True Positive Rate, and thresholds)\n",
        "fpr, tpr, thresholds = roc_curve(y_test, y_pred_proba)\n",
        "\n",
        "# Plot ROC curve\n",
        "plt.figure(figsize=(8, 6))\n",
        "plt.plot(fpr, tpr, color='darkorange', lw=2, label=f'ROC curve (AUC = {roc_auc:.2f})')\n",
        "plt.plot([0, 1], [0, 1], color='navy', lw=2, linestyle='--', label='Random Classifier (AUC = 0.50)') # Baseline random classifier\n",
        "plt.xlim([0.0, 1.0])\n",
        "plt.ylim([0.0, 1.05])\n",
        "plt.xlabel('False Positive Rate (FPR)')\n",
        "plt.ylabel('True Positive Rate (TPR)')\n",
        "plt.title('Receiver Operating Characteristic (ROC) Curve for Naive Bayes')\n",
        "plt.legend(loc=\"lower right\")\n",
        "plt.grid(True)\n",
        "plt.show()\n",
        "\n",
        "print(\"\\n--- Interpretation of ROC-AUC ---\")\n",
        "print(\" - The ROC curve visualizes the trade-off between TPR and FPR at various classification thresholds.\")\n",
        "print(\" - An AUC closer to 1 indicates a better model, meaning it can distinguish between positive and negative classes well.\")\n",
        "print(\" - An AUC of 0.5 means the model performs no better than random guessing.\")\n",
        "print(\" - This metric is especially useful for imbalanced datasets because it considers both true positives and false positives across all thresholds.\")"
      ],
      "metadata": {
        "colab": {
          "base_uri": "https://localhost:8080/",
          "height": 703
        },
        "id": "pAmHHBG6LfQm",
        "outputId": "568ef9eb-6a17-4d67-bfc3-7a930433a4b5"
      },
      "execution_count": 26,
      "outputs": [
        {
          "output_type": "stream",
          "name": "stdout",
          "text": [
            "Overall Accuracy: 0.9474\n",
            "ROC-AUC Score: 0.9901\n"
          ]
        },
        {
          "output_type": "display_data",
          "data": {
            "text/plain": [
              "<Figure size 800x600 with 1 Axes>"
            ],
            "image/png": "[encoded data removed]"
          },
          "metadata": {}
        },
        {
          "output_type": "stream",
          "name": "stdout",
          "text": [
            "\n",
            "--- Interpretation of ROC-AUC ---\n",
            " - The ROC curve visualizes the trade-off between TPR and FPR at various classification thresholds.\n",
            " - An AUC closer to 1 indicates a better model, meaning it can distinguish between positive and negative classes well.\n",
            " - An AUC of 0.5 means the model performs no better than random guessing.\n",
            " - This metric is especially useful for imbalanced datasets because it considers both true positives and false positives across all thresholds.\n"
          ]
        }
      ]
    }
  ]
}