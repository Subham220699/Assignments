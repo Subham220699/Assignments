{
  "nbformat": 4,
  "nbformat_minor": 0,
  "metadata": {
    "colab": {
      "provenance": []
    },
    "kernelspec": {
      "name": "python3",
      "display_name": "Python 3"
    },
    "language_info": {
      "name": "python"
    }
  },
  "cells": [
    {
      "cell_type": "markdown",
      "source": [
        "16. Write a Python program to train a Decision Tree Classifier on the Iris dataset and print the model accuracy."
      ],
      "metadata": {
        "id": "ySwzii8LlYeh"
      }
    },
    {
      "cell_type": "code",
      "source": [
        "import pandas as pd\n",
        "from sklearn.datasets import load_iris\n",
        "from sklearn.model_selection import train_test_split\n",
        "from sklearn.tree import DecisionTreeClassifier\n",
        "from sklearn.metrics import accuracy_score\n",
        "\n",
        "# Load the Iris dataset\n",
        "iris = load_iris()\n",
        "X = iris.data\n",
        "y = iris.target\n",
        "\n",
        "# Split the dataset into training and testing sets\n",
        "X_train, X_test, y_train, y_test = train_test_split(X, y, test_size=0.3, random_state=42)\n",
        "\n",
        "# Create a Decision Tree Classifier\n",
        "dt_classifier = DecisionTreeClassifier(random_state=42)\n",
        "\n",
        "# Train the model\n",
        "dt_classifier.fit(X_train, y_train)\n",
        "\n",
        "# Make predictions on the test set\n",
        "y_pred = dt_classifier.predict(X_test)\n",
        "\n",
        "# Calculate and print the accuracy\n",
        "accuracy = accuracy_score(y_test, y_pred)\n",
        "print(f\"Model Accuracy (Iris Dataset): {accuracy:.4f}\")"
      ],
      "metadata": {
        "colab": {
          "base_uri": "https://localhost:8080/"
        },
        "id": "n4NHzRJMlczf",
        "outputId": "1eb4fc47-3834-449a-b3e6-64bf922644aa"
      },
      "execution_count": 4,
      "outputs": [
        {
          "output_type": "stream",
          "name": "stdout",
          "text": [
            "Model Accuracy (Iris Dataset): 1.0000\n"
          ]
        }
      ]
    },
    {
      "cell_type": "markdown",
      "source": [
        "17. Write a Python program to train a Decision Tree Classifier using Gini Impurity as the criterion and print the feature importances."
      ],
      "metadata": {
        "id": "eX6XQRyjlR7F"
      }
    },
    {
      "cell_type": "code",
      "source": [
        "import pandas as pd\n",
        "from sklearn.datasets import load_iris\n",
        "from sklearn.model_selection import train_test_split\n",
        "from sklearn.tree import DecisionTreeClassifier\n",
        "\n",
        "# Load the Iris dataset\n",
        "iris = load_iris()\n",
        "X = iris.data\n",
        "y = iris.target\n",
        "feature_names = iris.feature_names\n",
        "\n",
        "# Split the dataset into training and testing sets\n",
        "X_train, X_test, y_train, y_test = train_test_split(X, y, test_size=0.3, random_state=42)\n",
        "\n",
        "# Create a Decision Tree Classifier with Gini Impurity criterion\n",
        "dt_classifier_gini = DecisionTreeClassifier(criterion='gini', random_state=42)\n",
        "\n",
        "# Train the model\n",
        "dt_classifier_gini.fit(X_train, y_train)\n",
        "\n",
        "# Print feature importances\n",
        "print(\"Feature Importances (Gini Impurity):\")\n",
        "for feature, importance in zip(feature_names, dt_classifier_gini.feature_importances_):\n",
        "    print(f\"- {feature}: {importance:.4f}\")"
      ],
      "metadata": {
        "colab": {
          "base_uri": "https://localhost:8080/"
        },
        "id": "yLlt9DC6lVlq",
        "outputId": "8f4802b4-ad29-4cd6-9e2d-422775915136"
      },
      "execution_count": 3,
      "outputs": [
        {
          "output_type": "stream",
          "name": "stdout",
          "text": [
            "Feature Importances (Gini Impurity):\n",
            "- sepal length (cm): 0.0000\n",
            "- sepal width (cm): 0.0191\n",
            "- petal length (cm): 0.8933\n",
            "- petal width (cm): 0.0876\n"
          ]
        }
      ]
    },
    {
      "cell_type": "markdown",
      "source": [
        "18. Write a Python program to train a Decision Tree Classifier using Entropy as the splitting criterion and print the model accuracy."
      ],
      "metadata": {
        "id": "UeTIeTAZkIGZ"
      }
    },
    {
      "cell_type": "code",
      "execution_count": 1,
      "metadata": {
        "colab": {
          "base_uri": "https://localhost:8080/"
        },
        "id": "pAzSKRpwjPG6",
        "outputId": "f3d9c1ef-0549-4cf5-fa33-7b8572d09b30"
      },
      "outputs": [
        {
          "output_type": "stream",
          "name": "stdout",
          "text": [
            "Model Accuracy (Entropy Criterion): 0.9778\n"
          ]
        }
      ],
      "source": [
        "import pandas as pd\n",
        "from sklearn.datasets import load_iris\n",
        "from sklearn.model_selection import train_test_split\n",
        "from sklearn.tree import DecisionTreeClassifier\n",
        "from sklearn.metrics import accuracy_score\n",
        "\n",
        "# Load the Iris dataset\n",
        "iris = load_iris()\n",
        "X = iris.data\n",
        "y = iris.target\n",
        "\n",
        "# Split the dataset into training and testing sets\n",
        "X_train, X_test, y_train, y_test = train_test_split(X, y, test_size=0.3, random_state=42)\n",
        "\n",
        "# Create a Decision Tree Classifier with Entropy criterion\n",
        "dt_classifier_entropy = DecisionTreeClassifier(criterion='entropy', random_state=42)\n",
        "\n",
        "# Train the model\n",
        "dt_classifier_entropy.fit(X_train, y_train)\n",
        "\n",
        "# Make predictions on the test set\n",
        "y_pred_entropy = dt_classifier_entropy.predict(X_test)\n",
        "\n",
        "# Calculate and print the accuracy\n",
        "accuracy_entropy = accuracy_score(y_test, y_pred_entropy)\n",
        "print(f\"Model Accuracy (Entropy Criterion): {accuracy_entropy:.4f}\")"
      ]
    },
    {
      "cell_type": "markdown",
      "source": [
        "19. Write a Python program to train a Decision Tree Regressor on a housing dataset and evaluate using Mean Squared Error (MSE)."
      ],
      "metadata": {
        "id": "naRPyy3ilgNY"
      }
    },
    {
      "cell_type": "code",
      "source": [
        "import pandas as pd\n",
        "from sklearn.datasets import fetch_california_housing\n",
        "from sklearn.model_selection import train_test_split\n",
        "from sklearn.tree import DecisionTreeRegressor\n",
        "from sklearn.metrics import mean_squared_error\n",
        "\n",
        "# Load a housing dataset (California Housing dataset as an example)\n",
        "housing = fetch_california_housing()\n",
        "X = housing.data\n",
        "y = housing.target\n",
        "\n",
        "# Split the dataset into training and testing sets\n",
        "X_train, X_test, y_train, y_test = train_test_split(X, y, test_size=0.3, random_state=42)\n",
        "\n",
        "# Create a Decision Tree Regressor\n",
        "dt_regressor = DecisionTreeRegressor(random_state=42)\n",
        "\n",
        "# Train the model\n",
        "dt_regressor.fit(X_train, y_train)\n",
        "\n",
        "# Make predictions on the test set\n",
        "y_pred_reg = dt_regressor.predict(X_test)\n",
        "\n",
        "# Calculate and print Mean Squared Error (MSE)\n",
        "mse = mean_squared_error(y_test, y_pred_reg)\n",
        "print(f\"Mean Squared Error (MSE) for Decision Tree Regressor: {mse:.4f}\")"
      ],
      "metadata": {
        "colab": {
          "base_uri": "https://localhost:8080/"
        },
        "id": "Bxk4ZDvblj8x",
        "outputId": "785c1544-8fd9-4d2f-e0bd-91b7cab9732e"
      },
      "execution_count": 5,
      "outputs": [
        {
          "output_type": "stream",
          "name": "stdout",
          "text": [
            "Mean Squared Error (MSE) for Decision Tree Regressor: 0.5280\n"
          ]
        }
      ]
    },
    {
      "cell_type": "markdown",
      "source": [
        "20. Write a Python program to train a Decision Tree Classifier and visualize the tree using graphviz."
      ],
      "metadata": {
        "id": "pygtDn3UlmVk"
      }
    },
    {
      "cell_type": "code",
      "source": [
        "from sklearn.datasets import load_iris\n",
        "from sklearn.tree import DecisionTreeClassifier, export_graphviz\n",
        "from sklearn.model_selection import train_test_split\n",
        "import graphviz\n",
        "from IPython.display import display\n",
        "\n",
        "# 1. Load the Iris dataset\n",
        "iris = load_iris()\n",
        "X, y = iris.data, iris.target\n",
        "\n",
        "# 2. Split into training and test sets\n",
        "X_train, X_test, y_train, y_test = train_test_split(X, y, test_size=0.3, random_state=42)\n",
        "\n",
        "# 3. Train Decision Tree Classifier\n",
        "clf = DecisionTreeClassifier(criterion='entropy', random_state=42)\n",
        "clf.fit(X_train, y_train)\n",
        "\n",
        "# 4. Export the tree in DOT format\n",
        "dot_data = export_graphviz(\n",
        "    clf,\n",
        "    out_file=None,\n",
        "    feature_names=iris.feature_names,\n",
        "    class_names=iris.target_names,\n",
        "    filled=True,\n",
        "    rounded=True,\n",
        "    special_characters=True\n",
        ")\n",
        "\n",
        "# 5. Display the decision tree inline\n",
        "graph = graphviz.Source(dot_data)\n",
        "display(graph)\n"
      ],
      "metadata": {
        "colab": {
          "base_uri": "https://localhost:8080/",
          "height": 1000
        },
        "id": "OIHS5qTCoSwa",
        "outputId": "8b78352c-7cab-4648-a487-0e04c17ec102"
      },
      "execution_count": 21,
      "outputs": [
        {
          "output_type": "display_data",
          "data": {
            "image/svg+xml": "<?xml version=\"1.0\" encoding=\"UTF-8\" standalone=\"no\"?>\n<!DOCTYPE svg PUBLIC \"-//W3C//DTD SVG 1.1//EN\"\n \"http://www.w3.org/Graphics/SVG/1.1/DTD/svg11.dtd\">\n<!-- Generated by graphviz version 2.43.0 (0)\n -->\n<!-- Title: Tree Pages: 1 -->\n<svg width=\"642pt\" height=\"909pt\"\n viewBox=\"0.00 0.00 642.00 909.00\" xmlns=\"http://www.w3.org/2000/svg\" xmlns:xlink=\"http://www.w3.org/1999/xlink\">\n<g id=\"graph0\" class=\"graph\" transform=\"scale(1 1) rotate(0) translate(4 905)\">\n<title>Tree</title>\n<polygon fill=\"white\" stroke=\"transparent\" points=\"-4,4 -4,-905 638,-905 638,4 -4,4\"/>\n<!-- 0 -->\n<g id=\"node1\" class=\"node\">\n<title>0</title>\n<path fill=\"#ffffff\" stroke=\"black\" d=\"M265,-901C265,-901 130,-901 130,-901 124,-901 118,-895 118,-889 118,-889 118,-830 118,-830 118,-824 124,-818 130,-818 130,-818 265,-818 265,-818 271,-818 277,-824 277,-830 277,-830 277,-889 277,-889 277,-895 271,-901 265,-901\"/>\n<text text-anchor=\"start\" x=\"126\" y=\"-885.8\" font-family=\"Helvetica,sans-Serif\" font-size=\"14.00\">petal length (cm) ≤ 2.45</text>\n<text text-anchor=\"start\" x=\"153.5\" y=\"-870.8\" font-family=\"Helvetica,sans-Serif\" font-size=\"14.00\">entropy = 1.58</text>\n<text text-anchor=\"start\" x=\"152.5\" y=\"-855.8\" font-family=\"Helvetica,sans-Serif\" font-size=\"14.00\">samples = 105</text>\n<text text-anchor=\"start\" x=\"139.5\" y=\"-840.8\" font-family=\"Helvetica,sans-Serif\" font-size=\"14.00\">value = [31, 37, 37]</text>\n<text text-anchor=\"start\" x=\"145\" y=\"-825.8\" font-family=\"Helvetica,sans-Serif\" font-size=\"14.00\">class = versicolor</text>\n</g>\n<!-- 1 -->\n<g id=\"node2\" class=\"node\">\n<title>1</title>\n<path fill=\"#e58139\" stroke=\"black\" d=\"M166,-774.5C166,-774.5 73,-774.5 73,-774.5 67,-774.5 61,-768.5 61,-762.5 61,-762.5 61,-718.5 61,-718.5 61,-712.5 67,-706.5 73,-706.5 73,-706.5 166,-706.5 166,-706.5 172,-706.5 178,-712.5 178,-718.5 178,-718.5 178,-762.5 178,-762.5 178,-768.5 172,-774.5 166,-774.5\"/>\n<text text-anchor=\"start\" x=\"79.5\" y=\"-759.3\" font-family=\"Helvetica,sans-Serif\" font-size=\"14.00\">entropy = 0.0</text>\n<text text-anchor=\"start\" x=\"78.5\" y=\"-744.3\" font-family=\"Helvetica,sans-Serif\" font-size=\"14.00\">samples = 31</text>\n<text text-anchor=\"start\" x=\"69\" y=\"-729.3\" font-family=\"Helvetica,sans-Serif\" font-size=\"14.00\">value = [31, 0, 0]</text>\n<text text-anchor=\"start\" x=\"76\" y=\"-714.3\" font-family=\"Helvetica,sans-Serif\" font-size=\"14.00\">class = setosa</text>\n</g>\n<!-- 0&#45;&gt;1 -->\n<g id=\"edge1\" class=\"edge\">\n<title>0&#45;&gt;1</title>\n<path fill=\"none\" stroke=\"black\" d=\"M170.44,-817.91C162.93,-806.65 154.78,-794.42 147.24,-783.11\"/>\n<polygon fill=\"black\" stroke=\"black\" points=\"150.07,-781.05 141.61,-774.67 144.25,-784.93 150.07,-781.05\"/>\n<text text-anchor=\"middle\" x=\"136.71\" y=\"-795.48\" font-family=\"Helvetica,sans-Serif\" font-size=\"14.00\">True</text>\n</g>\n<!-- 2 -->\n<g id=\"node3\" class=\"node\">\n<title>2</title>\n<path fill=\"#ffffff\" stroke=\"black\" d=\"M343,-782C343,-782 208,-782 208,-782 202,-782 196,-776 196,-770 196,-770 196,-711 196,-711 196,-705 202,-699 208,-699 208,-699 343,-699 343,-699 349,-699 355,-705 355,-711 355,-711 355,-770 355,-770 355,-776 349,-782 343,-782\"/>\n<text text-anchor=\"start\" x=\"204\" y=\"-766.8\" font-family=\"Helvetica,sans-Serif\" font-size=\"14.00\">petal length (cm) ≤ 4.75</text>\n<text text-anchor=\"start\" x=\"235.5\" y=\"-751.8\" font-family=\"Helvetica,sans-Serif\" font-size=\"14.00\">entropy = 1.0</text>\n<text text-anchor=\"start\" x=\"234.5\" y=\"-736.8\" font-family=\"Helvetica,sans-Serif\" font-size=\"14.00\">samples = 74</text>\n<text text-anchor=\"start\" x=\"221\" y=\"-721.8\" font-family=\"Helvetica,sans-Serif\" font-size=\"14.00\">value = [0, 37, 37]</text>\n<text text-anchor=\"start\" x=\"223\" y=\"-706.8\" font-family=\"Helvetica,sans-Serif\" font-size=\"14.00\">class = versicolor</text>\n</g>\n<!-- 0&#45;&gt;2 -->\n<g id=\"edge2\" class=\"edge\">\n<title>0&#45;&gt;2</title>\n<path fill=\"none\" stroke=\"black\" d=\"M224.56,-817.91C230.43,-809.1 236.7,-799.7 242.76,-790.61\"/>\n<polygon fill=\"black\" stroke=\"black\" points=\"245.85,-792.28 248.49,-782.02 240.03,-788.4 245.85,-792.28\"/>\n<text text-anchor=\"middle\" x=\"253.39\" y=\"-802.84\" font-family=\"Helvetica,sans-Serif\" font-size=\"14.00\">False</text>\n</g>\n<!-- 3 -->\n<g id=\"node4\" class=\"node\">\n<title>3</title>\n<path fill=\"#3fe685\" stroke=\"black\" d=\"M251.5,-663C251.5,-663 129.5,-663 129.5,-663 123.5,-663 117.5,-657 117.5,-651 117.5,-651 117.5,-592 117.5,-592 117.5,-586 123.5,-580 129.5,-580 129.5,-580 251.5,-580 251.5,-580 257.5,-580 263.5,-586 263.5,-592 263.5,-592 263.5,-651 263.5,-651 263.5,-657 257.5,-663 251.5,-663\"/>\n<text text-anchor=\"start\" x=\"125.5\" y=\"-647.8\" font-family=\"Helvetica,sans-Serif\" font-size=\"14.00\">petal width (cm) ≤ 1.6</text>\n<text text-anchor=\"start\" x=\"143\" y=\"-632.8\" font-family=\"Helvetica,sans-Serif\" font-size=\"14.00\">entropy = 0.196</text>\n<text text-anchor=\"start\" x=\"149.5\" y=\"-617.8\" font-family=\"Helvetica,sans-Serif\" font-size=\"14.00\">samples = 33</text>\n<text text-anchor=\"start\" x=\"140\" y=\"-602.8\" font-family=\"Helvetica,sans-Serif\" font-size=\"14.00\">value = [0, 32, 1]</text>\n<text text-anchor=\"start\" x=\"138\" y=\"-587.8\" font-family=\"Helvetica,sans-Serif\" font-size=\"14.00\">class = versicolor</text>\n</g>\n<!-- 2&#45;&gt;3 -->\n<g id=\"edge3\" class=\"edge\">\n<title>2&#45;&gt;3</title>\n<path fill=\"none\" stroke=\"black\" d=\"M246.01,-698.91C239.55,-690.01 232.64,-680.51 225.98,-671.33\"/>\n<polygon fill=\"black\" stroke=\"black\" points=\"228.65,-669.05 219.94,-663.02 222.98,-673.17 228.65,-669.05\"/>\n</g>\n<!-- 6 -->\n<g id=\"node7\" class=\"node\">\n<title>6</title>\n<path fill=\"#9254e9\" stroke=\"black\" d=\"M429,-663C429,-663 294,-663 294,-663 288,-663 282,-657 282,-651 282,-651 282,-592 282,-592 282,-586 288,-580 294,-580 294,-580 429,-580 429,-580 435,-580 441,-586 441,-592 441,-592 441,-651 441,-651 441,-657 435,-663 429,-663\"/>\n<text text-anchor=\"start\" x=\"290\" y=\"-647.8\" font-family=\"Helvetica,sans-Serif\" font-size=\"14.00\">petal length (cm) ≤ 5.15</text>\n<text text-anchor=\"start\" x=\"314\" y=\"-632.8\" font-family=\"Helvetica,sans-Serif\" font-size=\"14.00\">entropy = 0.535</text>\n<text text-anchor=\"start\" x=\"320.5\" y=\"-617.8\" font-family=\"Helvetica,sans-Serif\" font-size=\"14.00\">samples = 41</text>\n<text text-anchor=\"start\" x=\"311\" y=\"-602.8\" font-family=\"Helvetica,sans-Serif\" font-size=\"14.00\">value = [0, 5, 36]</text>\n<text text-anchor=\"start\" x=\"313\" y=\"-587.8\" font-family=\"Helvetica,sans-Serif\" font-size=\"14.00\">class = virginica</text>\n</g>\n<!-- 2&#45;&gt;6 -->\n<g id=\"edge6\" class=\"edge\">\n<title>2&#45;&gt;6</title>\n<path fill=\"none\" stroke=\"black\" d=\"M305.34,-698.91C311.87,-690.01 318.86,-680.51 325.61,-671.33\"/>\n<polygon fill=\"black\" stroke=\"black\" points=\"328.61,-673.15 331.72,-663.02 322.97,-669.01 328.61,-673.15\"/>\n</g>\n<!-- 4 -->\n<g id=\"node5\" class=\"node\">\n<title>4</title>\n<path fill=\"#39e581\" stroke=\"black\" d=\"M109,-536.5C109,-536.5 12,-536.5 12,-536.5 6,-536.5 0,-530.5 0,-524.5 0,-524.5 0,-480.5 0,-480.5 0,-474.5 6,-468.5 12,-468.5 12,-468.5 109,-468.5 109,-468.5 115,-468.5 121,-474.5 121,-480.5 121,-480.5 121,-524.5 121,-524.5 121,-530.5 115,-536.5 109,-536.5\"/>\n<text text-anchor=\"start\" x=\"20.5\" y=\"-521.3\" font-family=\"Helvetica,sans-Serif\" font-size=\"14.00\">entropy = 0.0</text>\n<text text-anchor=\"start\" x=\"19.5\" y=\"-506.3\" font-family=\"Helvetica,sans-Serif\" font-size=\"14.00\">samples = 32</text>\n<text text-anchor=\"start\" x=\"10\" y=\"-491.3\" font-family=\"Helvetica,sans-Serif\" font-size=\"14.00\">value = [0, 32, 0]</text>\n<text text-anchor=\"start\" x=\"8\" y=\"-476.3\" font-family=\"Helvetica,sans-Serif\" font-size=\"14.00\">class = versicolor</text>\n</g>\n<!-- 3&#45;&gt;4 -->\n<g id=\"edge4\" class=\"edge\">\n<title>3&#45;&gt;4</title>\n<path fill=\"none\" stroke=\"black\" d=\"M145.4,-579.91C132.28,-568.1 117.96,-555.22 104.89,-543.45\"/>\n<polygon fill=\"black\" stroke=\"black\" points=\"107.13,-540.76 97.35,-536.67 102.44,-545.96 107.13,-540.76\"/>\n</g>\n<!-- 5 -->\n<g id=\"node6\" class=\"node\">\n<title>5</title>\n<path fill=\"#8139e5\" stroke=\"black\" d=\"M240,-536.5C240,-536.5 151,-536.5 151,-536.5 145,-536.5 139,-530.5 139,-524.5 139,-524.5 139,-480.5 139,-480.5 139,-474.5 145,-468.5 151,-468.5 151,-468.5 240,-468.5 240,-468.5 246,-468.5 252,-474.5 252,-480.5 252,-480.5 252,-524.5 252,-524.5 252,-530.5 246,-536.5 240,-536.5\"/>\n<text text-anchor=\"start\" x=\"155.5\" y=\"-521.3\" font-family=\"Helvetica,sans-Serif\" font-size=\"14.00\">entropy = 0.0</text>\n<text text-anchor=\"start\" x=\"158\" y=\"-506.3\" font-family=\"Helvetica,sans-Serif\" font-size=\"14.00\">samples = 1</text>\n<text text-anchor=\"start\" x=\"148.5\" y=\"-491.3\" font-family=\"Helvetica,sans-Serif\" font-size=\"14.00\">value = [0, 0, 1]</text>\n<text text-anchor=\"start\" x=\"147\" y=\"-476.3\" font-family=\"Helvetica,sans-Serif\" font-size=\"14.00\">class = virginica</text>\n</g>\n<!-- 3&#45;&gt;5 -->\n<g id=\"edge5\" class=\"edge\">\n<title>3&#45;&gt;5</title>\n<path fill=\"none\" stroke=\"black\" d=\"M192.23,-579.91C192.69,-569.2 193.19,-557.62 193.65,-546.78\"/>\n<polygon fill=\"black\" stroke=\"black\" points=\"197.15,-546.81 194.08,-536.67 190.16,-546.51 197.15,-546.81\"/>\n</g>\n<!-- 7 -->\n<g id=\"node8\" class=\"node\">\n<title>7</title>\n<path fill=\"#c09cf2\" stroke=\"black\" d=\"M421.5,-544C421.5,-544 291.5,-544 291.5,-544 285.5,-544 279.5,-538 279.5,-532 279.5,-532 279.5,-473 279.5,-473 279.5,-467 285.5,-461 291.5,-461 291.5,-461 421.5,-461 421.5,-461 427.5,-461 433.5,-467 433.5,-473 433.5,-473 433.5,-532 433.5,-532 433.5,-538 427.5,-544 421.5,-544\"/>\n<text text-anchor=\"start\" x=\"287.5\" y=\"-528.8\" font-family=\"Helvetica,sans-Serif\" font-size=\"14.00\">petal width (cm) ≤ 1.75</text>\n<text text-anchor=\"start\" x=\"309\" y=\"-513.8\" font-family=\"Helvetica,sans-Serif\" font-size=\"14.00\">entropy = 0.918</text>\n<text text-anchor=\"start\" x=\"315.5\" y=\"-498.8\" font-family=\"Helvetica,sans-Serif\" font-size=\"14.00\">samples = 15</text>\n<text text-anchor=\"start\" x=\"306\" y=\"-483.8\" font-family=\"Helvetica,sans-Serif\" font-size=\"14.00\">value = [0, 5, 10]</text>\n<text text-anchor=\"start\" x=\"308\" y=\"-468.8\" font-family=\"Helvetica,sans-Serif\" font-size=\"14.00\">class = virginica</text>\n</g>\n<!-- 6&#45;&gt;7 -->\n<g id=\"edge7\" class=\"edge\">\n<title>6&#45;&gt;7</title>\n<path fill=\"none\" stroke=\"black\" d=\"M359.77,-579.91C359.41,-571.56 359.03,-562.67 358.66,-554.02\"/>\n<polygon fill=\"black\" stroke=\"black\" points=\"362.16,-553.86 358.23,-544.02 355.16,-554.16 362.16,-553.86\"/>\n</g>\n<!-- 18 -->\n<g id=\"node19\" class=\"node\">\n<title>18</title>\n<path fill=\"#8139e5\" stroke=\"black\" d=\"M557,-536.5C557,-536.5 464,-536.5 464,-536.5 458,-536.5 452,-530.5 452,-524.5 452,-524.5 452,-480.5 452,-480.5 452,-474.5 458,-468.5 464,-468.5 464,-468.5 557,-468.5 557,-468.5 563,-468.5 569,-474.5 569,-480.5 569,-480.5 569,-524.5 569,-524.5 569,-530.5 563,-536.5 557,-536.5\"/>\n<text text-anchor=\"start\" x=\"470.5\" y=\"-521.3\" font-family=\"Helvetica,sans-Serif\" font-size=\"14.00\">entropy = 0.0</text>\n<text text-anchor=\"start\" x=\"469.5\" y=\"-506.3\" font-family=\"Helvetica,sans-Serif\" font-size=\"14.00\">samples = 26</text>\n<text text-anchor=\"start\" x=\"460\" y=\"-491.3\" font-family=\"Helvetica,sans-Serif\" font-size=\"14.00\">value = [0, 0, 26]</text>\n<text text-anchor=\"start\" x=\"462\" y=\"-476.3\" font-family=\"Helvetica,sans-Serif\" font-size=\"14.00\">class = virginica</text>\n</g>\n<!-- 6&#45;&gt;18 -->\n<g id=\"edge18\" class=\"edge\">\n<title>6&#45;&gt;18</title>\n<path fill=\"none\" stroke=\"black\" d=\"M413.19,-579.91C428.37,-567.99 444.95,-554.98 460.04,-543.12\"/>\n<polygon fill=\"black\" stroke=\"black\" points=\"462.56,-545.6 468.26,-536.67 458.24,-540.09 462.56,-545.6\"/>\n</g>\n<!-- 8 -->\n<g id=\"node9\" class=\"node\">\n<title>8</title>\n<path fill=\"#9cf2c0\" stroke=\"black\" d=\"M338,-425C338,-425 205,-425 205,-425 199,-425 193,-419 193,-413 193,-413 193,-354 193,-354 193,-348 199,-342 205,-342 205,-342 338,-342 338,-342 344,-342 350,-348 350,-354 350,-354 350,-413 350,-413 350,-419 344,-425 338,-425\"/>\n<text text-anchor=\"start\" x=\"201\" y=\"-409.8\" font-family=\"Helvetica,sans-Serif\" font-size=\"14.00\">sepal width (cm) ≤ 2.35</text>\n<text text-anchor=\"start\" x=\"224\" y=\"-394.8\" font-family=\"Helvetica,sans-Serif\" font-size=\"14.00\">entropy = 0.918</text>\n<text text-anchor=\"start\" x=\"234\" y=\"-379.8\" font-family=\"Helvetica,sans-Serif\" font-size=\"14.00\">samples = 6</text>\n<text text-anchor=\"start\" x=\"224.5\" y=\"-364.8\" font-family=\"Helvetica,sans-Serif\" font-size=\"14.00\">value = [0, 4, 2]</text>\n<text text-anchor=\"start\" x=\"219\" y=\"-349.8\" font-family=\"Helvetica,sans-Serif\" font-size=\"14.00\">class = versicolor</text>\n</g>\n<!-- 7&#45;&gt;8 -->\n<g id=\"edge8\" class=\"edge\">\n<title>7&#45;&gt;8</title>\n<path fill=\"none\" stroke=\"black\" d=\"M327.01,-460.91C320.55,-452.01 313.64,-442.51 306.98,-433.33\"/>\n<polygon fill=\"black\" stroke=\"black\" points=\"309.65,-431.05 300.94,-425.02 303.98,-435.17 309.65,-431.05\"/>\n</g>\n<!-- 15 -->\n<g id=\"node16\" class=\"node\">\n<title>15</title>\n<path fill=\"#9152e8\" stroke=\"black\" d=\"M505,-425C505,-425 380,-425 380,-425 374,-425 368,-419 368,-413 368,-413 368,-354 368,-354 368,-348 374,-342 380,-342 380,-342 505,-342 505,-342 511,-342 517,-348 517,-354 517,-354 517,-413 517,-413 517,-419 511,-425 505,-425\"/>\n<text text-anchor=\"start\" x=\"376\" y=\"-409.8\" font-family=\"Helvetica,sans-Serif\" font-size=\"14.00\">sepal width (cm) ≤ 3.1</text>\n<text text-anchor=\"start\" x=\"395\" y=\"-394.8\" font-family=\"Helvetica,sans-Serif\" font-size=\"14.00\">entropy = 0.503</text>\n<text text-anchor=\"start\" x=\"405\" y=\"-379.8\" font-family=\"Helvetica,sans-Serif\" font-size=\"14.00\">samples = 9</text>\n<text text-anchor=\"start\" x=\"395.5\" y=\"-364.8\" font-family=\"Helvetica,sans-Serif\" font-size=\"14.00\">value = [0, 1, 8]</text>\n<text text-anchor=\"start\" x=\"394\" y=\"-349.8\" font-family=\"Helvetica,sans-Serif\" font-size=\"14.00\">class = virginica</text>\n</g>\n<!-- 7&#45;&gt;15 -->\n<g id=\"edge15\" class=\"edge\">\n<title>7&#45;&gt;15</title>\n<path fill=\"none\" stroke=\"black\" d=\"M386.34,-460.91C392.87,-452.01 399.86,-442.51 406.61,-433.33\"/>\n<polygon fill=\"black\" stroke=\"black\" points=\"409.61,-435.15 412.72,-425.02 403.97,-431.01 409.61,-435.15\"/>\n</g>\n<!-- 9 -->\n<g id=\"node10\" class=\"node\">\n<title>9</title>\n<path fill=\"#8139e5\" stroke=\"black\" d=\"M167,-298.5C167,-298.5 78,-298.5 78,-298.5 72,-298.5 66,-292.5 66,-286.5 66,-286.5 66,-242.5 66,-242.5 66,-236.5 72,-230.5 78,-230.5 78,-230.5 167,-230.5 167,-230.5 173,-230.5 179,-236.5 179,-242.5 179,-242.5 179,-286.5 179,-286.5 179,-292.5 173,-298.5 167,-298.5\"/>\n<text text-anchor=\"start\" x=\"82.5\" y=\"-283.3\" font-family=\"Helvetica,sans-Serif\" font-size=\"14.00\">entropy = 0.0</text>\n<text text-anchor=\"start\" x=\"85\" y=\"-268.3\" font-family=\"Helvetica,sans-Serif\" font-size=\"14.00\">samples = 1</text>\n<text text-anchor=\"start\" x=\"75.5\" y=\"-253.3\" font-family=\"Helvetica,sans-Serif\" font-size=\"14.00\">value = [0, 0, 1]</text>\n<text text-anchor=\"start\" x=\"74\" y=\"-238.3\" font-family=\"Helvetica,sans-Serif\" font-size=\"14.00\">class = virginica</text>\n</g>\n<!-- 8&#45;&gt;9 -->\n<g id=\"edge9\" class=\"edge\">\n<title>8&#45;&gt;9</title>\n<path fill=\"none\" stroke=\"black\" d=\"M219.81,-341.91C204.63,-329.99 188.05,-316.98 172.96,-305.12\"/>\n<polygon fill=\"black\" stroke=\"black\" points=\"174.76,-302.09 164.74,-298.67 170.44,-307.6 174.76,-302.09\"/>\n</g>\n<!-- 10 -->\n<g id=\"node11\" class=\"node\">\n<title>10</title>\n<path fill=\"#6aeca0\" stroke=\"black\" d=\"M344,-306C344,-306 209,-306 209,-306 203,-306 197,-300 197,-294 197,-294 197,-235 197,-235 197,-229 203,-223 209,-223 209,-223 344,-223 344,-223 350,-223 356,-229 356,-235 356,-235 356,-294 356,-294 356,-300 350,-306 344,-306\"/>\n<text text-anchor=\"start\" x=\"205\" y=\"-290.8\" font-family=\"Helvetica,sans-Serif\" font-size=\"14.00\">petal length (cm) ≤ 5.05</text>\n<text text-anchor=\"start\" x=\"229\" y=\"-275.8\" font-family=\"Helvetica,sans-Serif\" font-size=\"14.00\">entropy = 0.722</text>\n<text text-anchor=\"start\" x=\"239\" y=\"-260.8\" font-family=\"Helvetica,sans-Serif\" font-size=\"14.00\">samples = 5</text>\n<text text-anchor=\"start\" x=\"229.5\" y=\"-245.8\" font-family=\"Helvetica,sans-Serif\" font-size=\"14.00\">value = [0, 4, 1]</text>\n<text text-anchor=\"start\" x=\"224\" y=\"-230.8\" font-family=\"Helvetica,sans-Serif\" font-size=\"14.00\">class = versicolor</text>\n</g>\n<!-- 8&#45;&gt;10 -->\n<g id=\"edge10\" class=\"edge\">\n<title>8&#45;&gt;10</title>\n<path fill=\"none\" stroke=\"black\" d=\"M273.23,-341.91C273.59,-333.56 273.97,-324.67 274.34,-316.02\"/>\n<polygon fill=\"black\" stroke=\"black\" points=\"277.84,-316.16 274.77,-306.02 270.84,-315.86 277.84,-316.16\"/>\n</g>\n<!-- 11 -->\n<g id=\"node12\" class=\"node\">\n<title>11</title>\n<path fill=\"#39e581\" stroke=\"black\" d=\"M245,-179.5C245,-179.5 148,-179.5 148,-179.5 142,-179.5 136,-173.5 136,-167.5 136,-167.5 136,-123.5 136,-123.5 136,-117.5 142,-111.5 148,-111.5 148,-111.5 245,-111.5 245,-111.5 251,-111.5 257,-117.5 257,-123.5 257,-123.5 257,-167.5 257,-167.5 257,-173.5 251,-179.5 245,-179.5\"/>\n<text text-anchor=\"start\" x=\"156.5\" y=\"-164.3\" font-family=\"Helvetica,sans-Serif\" font-size=\"14.00\">entropy = 0.0</text>\n<text text-anchor=\"start\" x=\"159\" y=\"-149.3\" font-family=\"Helvetica,sans-Serif\" font-size=\"14.00\">samples = 3</text>\n<text text-anchor=\"start\" x=\"149.5\" y=\"-134.3\" font-family=\"Helvetica,sans-Serif\" font-size=\"14.00\">value = [0, 3, 0]</text>\n<text text-anchor=\"start\" x=\"144\" y=\"-119.3\" font-family=\"Helvetica,sans-Serif\" font-size=\"14.00\">class = versicolor</text>\n</g>\n<!-- 10&#45;&gt;11 -->\n<g id=\"edge11\" class=\"edge\">\n<title>10&#45;&gt;11</title>\n<path fill=\"none\" stroke=\"black\" d=\"M248.74,-222.91C241.05,-211.65 232.68,-199.42 224.95,-188.11\"/>\n<polygon fill=\"black\" stroke=\"black\" points=\"227.71,-185.95 219.18,-179.67 221.93,-189.9 227.71,-185.95\"/>\n</g>\n<!-- 12 -->\n<g id=\"node13\" class=\"node\">\n<title>12</title>\n<path fill=\"#ffffff\" stroke=\"black\" d=\"M425.5,-187C425.5,-187 287.5,-187 287.5,-187 281.5,-187 275.5,-181 275.5,-175 275.5,-175 275.5,-116 275.5,-116 275.5,-110 281.5,-104 287.5,-104 287.5,-104 425.5,-104 425.5,-104 431.5,-104 437.5,-110 437.5,-116 437.5,-116 437.5,-175 437.5,-175 437.5,-181 431.5,-187 425.5,-187\"/>\n<text text-anchor=\"start\" x=\"283.5\" y=\"-171.8\" font-family=\"Helvetica,sans-Serif\" font-size=\"14.00\">sepal length (cm) ≤ 6.15</text>\n<text text-anchor=\"start\" x=\"316.5\" y=\"-156.8\" font-family=\"Helvetica,sans-Serif\" font-size=\"14.00\">entropy = 1.0</text>\n<text text-anchor=\"start\" x=\"319\" y=\"-141.8\" font-family=\"Helvetica,sans-Serif\" font-size=\"14.00\">samples = 2</text>\n<text text-anchor=\"start\" x=\"309.5\" y=\"-126.8\" font-family=\"Helvetica,sans-Serif\" font-size=\"14.00\">value = [0, 1, 1]</text>\n<text text-anchor=\"start\" x=\"304\" y=\"-111.8\" font-family=\"Helvetica,sans-Serif\" font-size=\"14.00\">class = versicolor</text>\n</g>\n<!-- 10&#45;&gt;12 -->\n<g id=\"edge12\" class=\"edge\">\n<title>10&#45;&gt;12</title>\n<path fill=\"none\" stroke=\"black\" d=\"M304.26,-222.91C310.34,-214.01 316.84,-204.51 323.11,-195.33\"/>\n<polygon fill=\"black\" stroke=\"black\" points=\"326.04,-197.25 328.79,-187.02 320.26,-193.3 326.04,-197.25\"/>\n</g>\n<!-- 13 -->\n<g id=\"node14\" class=\"node\">\n<title>13</title>\n<path fill=\"#39e581\" stroke=\"black\" d=\"M337,-68C337,-68 240,-68 240,-68 234,-68 228,-62 228,-56 228,-56 228,-12 228,-12 228,-6 234,0 240,0 240,0 337,0 337,0 343,0 349,-6 349,-12 349,-12 349,-56 349,-56 349,-62 343,-68 337,-68\"/>\n<text text-anchor=\"start\" x=\"248.5\" y=\"-52.8\" font-family=\"Helvetica,sans-Serif\" font-size=\"14.00\">entropy = 0.0</text>\n<text text-anchor=\"start\" x=\"251\" y=\"-37.8\" font-family=\"Helvetica,sans-Serif\" font-size=\"14.00\">samples = 1</text>\n<text text-anchor=\"start\" x=\"241.5\" y=\"-22.8\" font-family=\"Helvetica,sans-Serif\" font-size=\"14.00\">value = [0, 1, 0]</text>\n<text text-anchor=\"start\" x=\"236\" y=\"-7.8\" font-family=\"Helvetica,sans-Serif\" font-size=\"14.00\">class = versicolor</text>\n</g>\n<!-- 12&#45;&gt;13 -->\n<g id=\"edge13\" class=\"edge\">\n<title>12&#45;&gt;13</title>\n<path fill=\"none\" stroke=\"black\" d=\"M331.18,-103.73C325.74,-94.97 319.99,-85.7 314.52,-76.91\"/>\n<polygon fill=\"black\" stroke=\"black\" points=\"317.43,-74.95 309.18,-68.3 311.48,-78.64 317.43,-74.95\"/>\n</g>\n<!-- 14 -->\n<g id=\"node15\" class=\"node\">\n<title>14</title>\n<path fill=\"#8139e5\" stroke=\"black\" d=\"M468,-68C468,-68 379,-68 379,-68 373,-68 367,-62 367,-56 367,-56 367,-12 367,-12 367,-6 373,0 379,0 379,0 468,0 468,0 474,0 480,-6 480,-12 480,-12 480,-56 480,-56 480,-62 474,-68 468,-68\"/>\n<text text-anchor=\"start\" x=\"383.5\" y=\"-52.8\" font-family=\"Helvetica,sans-Serif\" font-size=\"14.00\">entropy = 0.0</text>\n<text text-anchor=\"start\" x=\"386\" y=\"-37.8\" font-family=\"Helvetica,sans-Serif\" font-size=\"14.00\">samples = 1</text>\n<text text-anchor=\"start\" x=\"376.5\" y=\"-22.8\" font-family=\"Helvetica,sans-Serif\" font-size=\"14.00\">value = [0, 0, 1]</text>\n<text text-anchor=\"start\" x=\"375\" y=\"-7.8\" font-family=\"Helvetica,sans-Serif\" font-size=\"14.00\">class = virginica</text>\n</g>\n<!-- 12&#45;&gt;14 -->\n<g id=\"edge14\" class=\"edge\">\n<title>12&#45;&gt;14</title>\n<path fill=\"none\" stroke=\"black\" d=\"M381.45,-103.73C386.81,-94.97 392.48,-85.7 397.86,-76.91\"/>\n<polygon fill=\"black\" stroke=\"black\" points=\"400.89,-78.66 403.12,-68.3 394.92,-75 400.89,-78.66\"/>\n</g>\n<!-- 16 -->\n<g id=\"node17\" class=\"node\">\n<title>16</title>\n<path fill=\"#8139e5\" stroke=\"black\" d=\"M483,-298.5C483,-298.5 394,-298.5 394,-298.5 388,-298.5 382,-292.5 382,-286.5 382,-286.5 382,-242.5 382,-242.5 382,-236.5 388,-230.5 394,-230.5 394,-230.5 483,-230.5 483,-230.5 489,-230.5 495,-236.5 495,-242.5 495,-242.5 495,-286.5 495,-286.5 495,-292.5 489,-298.5 483,-298.5\"/>\n<text text-anchor=\"start\" x=\"398.5\" y=\"-283.3\" font-family=\"Helvetica,sans-Serif\" font-size=\"14.00\">entropy = 0.0</text>\n<text text-anchor=\"start\" x=\"401\" y=\"-268.3\" font-family=\"Helvetica,sans-Serif\" font-size=\"14.00\">samples = 8</text>\n<text text-anchor=\"start\" x=\"391.5\" y=\"-253.3\" font-family=\"Helvetica,sans-Serif\" font-size=\"14.00\">value = [0, 0, 8]</text>\n<text text-anchor=\"start\" x=\"390\" y=\"-238.3\" font-family=\"Helvetica,sans-Serif\" font-size=\"14.00\">class = virginica</text>\n</g>\n<!-- 15&#45;&gt;16 -->\n<g id=\"edge16\" class=\"edge\">\n<title>15&#45;&gt;16</title>\n<path fill=\"none\" stroke=\"black\" d=\"M441.11,-341.91C440.75,-331.2 440.35,-319.62 439.98,-308.78\"/>\n<polygon fill=\"black\" stroke=\"black\" points=\"443.47,-308.54 439.63,-298.67 436.48,-308.78 443.47,-308.54\"/>\n</g>\n<!-- 17 -->\n<g id=\"node18\" class=\"node\">\n<title>17</title>\n<path fill=\"#39e581\" stroke=\"black\" d=\"M622,-298.5C622,-298.5 525,-298.5 525,-298.5 519,-298.5 513,-292.5 513,-286.5 513,-286.5 513,-242.5 513,-242.5 513,-236.5 519,-230.5 525,-230.5 525,-230.5 622,-230.5 622,-230.5 628,-230.5 634,-236.5 634,-242.5 634,-242.5 634,-286.5 634,-286.5 634,-292.5 628,-298.5 622,-298.5\"/>\n<text text-anchor=\"start\" x=\"533.5\" y=\"-283.3\" font-family=\"Helvetica,sans-Serif\" font-size=\"14.00\">entropy = 0.0</text>\n<text text-anchor=\"start\" x=\"536\" y=\"-268.3\" font-family=\"Helvetica,sans-Serif\" font-size=\"14.00\">samples = 1</text>\n<text text-anchor=\"start\" x=\"526.5\" y=\"-253.3\" font-family=\"Helvetica,sans-Serif\" font-size=\"14.00\">value = [0, 1, 0]</text>\n<text text-anchor=\"start\" x=\"521\" y=\"-238.3\" font-family=\"Helvetica,sans-Serif\" font-size=\"14.00\">class = versicolor</text>\n</g>\n<!-- 15&#45;&gt;17 -->\n<g id=\"edge17\" class=\"edge\">\n<title>15&#45;&gt;17</title>\n<path fill=\"none\" stroke=\"black\" d=\"M487.95,-341.91C501.17,-330.1 515.6,-317.22 528.77,-305.45\"/>\n<polygon fill=\"black\" stroke=\"black\" points=\"531.24,-307.94 536.36,-298.67 526.57,-302.72 531.24,-307.94\"/>\n</g>\n</g>\n</svg>\n",
            "text/plain": [
              "<graphviz.sources.Source at 0x783b58464210>"
            ]
          },
          "metadata": {}
        }
      ]
    },
    {
      "cell_type": "markdown",
      "source": [
        "21. Write a Python program to train a Decision Tree Classifier with a maximum depth of 3 and compare its accuracy with a fully grown tree."
      ],
      "metadata": {
        "id": "tKL__xFPmUwa"
      }
    },
    {
      "cell_type": "code",
      "source": [
        "import pandas as pd\n",
        "from sklearn.datasets import load_iris\n",
        "from sklearn.model_selection import train_test_split\n",
        "from sklearn.tree import DecisionTreeClassifier\n",
        "from sklearn.metrics import accuracy_score\n",
        "\n",
        "# Load the Iris dataset\n",
        "iris = load_iris()\n",
        "X = iris.data\n",
        "y = iris.target\n",
        "\n",
        "# Split the dataset into training and testing sets\n",
        "X_train, X_test, y_train, y_test = train_test_split(X, y, test_size=0.3, random_state=42)\n",
        "\n",
        "# --- Model with max_depth=3 (Pre-pruning) ---\n",
        "dt_classifier_pruned = DecisionTreeClassifier(max_depth=3, random_state=42)\n",
        "dt_classifier_pruned.fit(X_train, y_train)\n",
        "y_pred_pruned = dt_classifier_pruned.predict(X_test)\n",
        "accuracy_pruned = accuracy_score(y_test, y_pred_pruned)\n",
        "print(f\"Accuracy with max_depth=3: {accuracy_pruned:.4f}\")\n",
        "\n",
        "# --- Fully grown tree (default) ---\n",
        "dt_classifier_full = DecisionTreeClassifier(random_state=42) # No max_depth specified\n",
        "dt_classifier_full.fit(X_train, y_train)\n",
        "y_pred_full = dt_classifier_full.predict(X_test)\n",
        "accuracy_full = accuracy_score(y_test, y_pred_full)\n",
        "print(f\"Accuracy with fully grown tree: {accuracy_full:.4f}\")\n",
        "\n",
        "if accuracy_pruned > accuracy_full:\n",
        "    print(\"\\nMax depth of 3 resulted in higher accuracy (less overfitting).\")\n",
        "elif accuracy_full > accuracy_pruned:\n",
        "    print(\"\\nFully grown tree resulted in higher accuracy (may indicate more complex relationships or overfitting).\")\n",
        "else:\n",
        "    print(\"\\nBoth trees achieved the same accuracy.\")"
      ],
      "metadata": {
        "colab": {
          "base_uri": "https://localhost:8080/"
        },
        "id": "rm7HXKzemWHE",
        "outputId": "02513738-0394-4657-ca17-d99c9ce79dfb"
      },
      "execution_count": 10,
      "outputs": [
        {
          "output_type": "stream",
          "name": "stdout",
          "text": [
            "Accuracy with max_depth=3: 1.0000\n",
            "Accuracy with fully grown tree: 1.0000\n",
            "\n",
            "Both trees achieved the same accuracy.\n"
          ]
        }
      ]
    },
    {
      "cell_type": "markdown",
      "source": [
        "22. Write a Python program to train a Decision Tree Classifier using min_samples_split=5 and compare its accuracy with a default tree."
      ],
      "metadata": {
        "id": "HELHrBsWmdkD"
      }
    },
    {
      "cell_type": "code",
      "source": [
        "import pandas as pd\n",
        "from sklearn.datasets import load_iris\n",
        "from sklearn.model_selection import train_test_split\n",
        "from sklearn.tree import DecisionTreeClassifier\n",
        "from sklearn.metrics import accuracy_score\n",
        "\n",
        "# Load the Iris dataset\n",
        "iris = load_iris()\n",
        "X = iris.data\n",
        "y = iris.target\n",
        "\n",
        "# Split the dataset into training and testing sets\n",
        "X_train, X_test, y_train, y_test = train_test_split(X, y, test_size=0.3, random_state=42)\n",
        "\n",
        "# --- Model with min_samples_split=5 (Pre-pruning) ---\n",
        "dt_classifier_min_split = DecisionTreeClassifier(min_samples_split=5, random_state=42)\n",
        "dt_classifier_min_split.fit(X_train, y_train)\n",
        "y_pred_min_split = dt_classifier_min_split.predict(X_test)\n",
        "accuracy_min_split = accuracy_score(y_test, y_pred_min_split)\n",
        "print(f\"Accuracy with min_samples_split=5: {accuracy_min_split:.4f}\")\n",
        "\n",
        "# --- Default tree ---\n",
        "dt_classifier_default = DecisionTreeClassifier(random_state=42)\n",
        "dt_classifier_default.fit(X_train, y_train)\n",
        "y_pred_default = dt_classifier_default.predict(X_test)\n",
        "accuracy_default = accuracy_score(y_test, y_pred_default)\n",
        "print(f\"Accuracy with default min_samples_split: {accuracy_default:.4f}\")\n",
        "\n",
        "if accuracy_min_split > accuracy_default:\n",
        "    print(\"\\nmin_samples_split=5 resulted in higher accuracy.\")\n",
        "elif accuracy_default > accuracy_min_split:\n",
        "    print(\"\\nDefault min_samples_split resulted in higher accuracy.\")\n",
        "else:\n",
        "    print(\"\\nBoth trees achieved the same accuracy.\")"
      ],
      "metadata": {
        "colab": {
          "base_uri": "https://localhost:8080/"
        },
        "id": "cIH3G4m9mexG",
        "outputId": "f0c1b250-3ce2-4927-bbff-0454501c3965"
      },
      "execution_count": 11,
      "outputs": [
        {
          "output_type": "stream",
          "name": "stdout",
          "text": [
            "Accuracy with min_samples_split=5: 1.0000\n",
            "Accuracy with default min_samples_split: 1.0000\n",
            "\n",
            "Both trees achieved the same accuracy.\n"
          ]
        }
      ]
    },
    {
      "cell_type": "markdown",
      "source": [
        "23. Write a Python program to apply feature scaling before training a Decision Tree Classifier and compare its accuracy with unscaled data."
      ],
      "metadata": {
        "id": "6zOi61_jmoG6"
      }
    },
    {
      "cell_type": "code",
      "source": [
        "import pandas as pd\n",
        "from sklearn.datasets import load_iris\n",
        "from sklearn.model_selection import train_test_split\n",
        "from sklearn.tree import DecisionTreeClassifier\n",
        "from sklearn.metrics import accuracy_score\n",
        "from sklearn.preprocessing import StandardScaler # For feature scaling\n",
        "\n",
        "# Load the Iris dataset\n",
        "iris = load_iris()\n",
        "X = iris.data\n",
        "y = iris.target\n",
        "\n",
        "# Split the dataset into training and testing sets\n",
        "X_train, X_test, y_train, y_test = train_test_split(X, y, test_size=0.3, random_state=42)\n",
        "\n",
        "# --- Model with unscaled data ---\n",
        "dt_classifier_unscaled = DecisionTreeClassifier(random_state=42)\n",
        "dt_classifier_unscaled.fit(X_train, y_train)\n",
        "y_pred_unscaled = dt_classifier_unscaled.predict(X_test)\n",
        "accuracy_unscaled = accuracy_score(y_test, y_pred_unscaled)\n",
        "print(f\"Accuracy with unscaled data: {accuracy_unscaled:.4f}\")\n",
        "\n",
        "# --- Apply feature scaling ---\n",
        "scaler = StandardScaler()\n",
        "X_train_scaled = scaler.fit_transform(X_train)\n",
        "X_test_scaled = scaler.transform(X_test)\n",
        "\n",
        "# --- Model with scaled data ---\n",
        "dt_classifier_scaled = DecisionTreeClassifier(random_state=42)\n",
        "dt_classifier_scaled.fit(X_train_scaled, y_train)\n",
        "y_pred_scaled = dt_classifier_scaled.predict(X_test_scaled)\n",
        "accuracy_scaled = accuracy_score(y_test, y_pred_scaled)\n",
        "print(f\"Accuracy with scaled data: {accuracy_scaled:.4f}\")\n",
        "\n",
        "print(\"\\nObservation: Decision Trees are generally not sensitive to feature scaling.\")\n",
        "if accuracy_scaled > accuracy_unscaled:\n",
        "    print(\"In this specific case, scaled data resulted in higher accuracy.\")\n",
        "elif accuracy_unscaled > accuracy_scaled:\n",
        "    print(\"In this specific case, unscaled data resulted in higher accuracy.\")\n",
        "else:\n",
        "    print(\"Both scaled and unscaled data resulted in the same accuracy.\")"
      ],
      "metadata": {
        "colab": {
          "base_uri": "https://localhost:8080/"
        },
        "id": "N56LGqilmrBb",
        "outputId": "ae4013ca-0bdc-4648-bc86-a77f691e916d"
      },
      "execution_count": 12,
      "outputs": [
        {
          "output_type": "stream",
          "name": "stdout",
          "text": [
            "Accuracy with unscaled data: 1.0000\n",
            "Accuracy with scaled data: 1.0000\n",
            "\n",
            "Observation: Decision Trees are generally not sensitive to feature scaling.\n",
            "Both scaled and unscaled data resulted in the same accuracy.\n"
          ]
        }
      ]
    },
    {
      "cell_type": "markdown",
      "source": [
        "24. Write a Python program to train a Decision Tree Classifier using One-vs-Rest (OvR) strategy for multiclass classification."
      ],
      "metadata": {
        "id": "LKyuh1ClmuRX"
      }
    },
    {
      "cell_type": "code",
      "source": [
        "import pandas as pd\n",
        "from sklearn.datasets import load_iris\n",
        "from sklearn.model_selection import train_test_split\n",
        "from sklearn.tree import DecisionTreeClassifier\n",
        "from sklearn.multiclass import OneVsRestClassifier\n",
        "from sklearn.metrics import accuracy_score\n",
        "\n",
        "# Load the Iris dataset (which is multiclass)\n",
        "iris = load_iris()\n",
        "X = iris.data\n",
        "y = iris.target\n",
        "\n",
        "# Split the dataset into training and testing sets\n",
        "X_train, X_test, y_train, y_test = train_test_split(X, y, test_size=0.3, random_state=42)\n",
        "\n",
        "# Create a base Decision Tree Classifier\n",
        "base_dt_classifier = DecisionTreeClassifier(random_state=42)\n",
        "\n",
        "# Wrap the Decision Tree Classifier with OneVsRestClassifier\n",
        "ovr_classifier = OneVsRestClassifier(base_dt_classifier)\n",
        "\n",
        "# Train the OvR classifier\n",
        "ovr_classifier.fit(X_train, y_train)\n",
        "\n",
        "# Make predictions on the test set\n",
        "y_pred_ovr = ovr_classifier.predict(X_test)\n",
        "\n",
        "# Calculate and print the accuracy\n",
        "accuracy_ovr = accuracy_score(y_test, y_pred_ovr)\n",
        "print(f\"Accuracy of Decision Tree with One-vs-Rest strategy: {accuracy_ovr:.4f}\")\n",
        "\n",
        "# For comparison, accuracy of a direct multiclass Decision Tree:\n",
        "dt_direct = DecisionTreeClassifier(random_state=42)\n",
        "dt_direct.fit(X_train, y_train)\n",
        "y_pred_direct = dt_direct.predict(X_test)\n",
        "accuracy_direct = accuracy_score(y_test, y_pred_direct)\n",
        "print(f\"Accuracy of direct multiclass Decision Tree: {accuracy_direct:.4f}\")"
      ],
      "metadata": {
        "colab": {
          "base_uri": "https://localhost:8080/"
        },
        "id": "g3TfVmgjmymO",
        "outputId": "16c16009-3dcd-45b2-e1ad-f8605bd20f4d"
      },
      "execution_count": 13,
      "outputs": [
        {
          "output_type": "stream",
          "name": "stdout",
          "text": [
            "Accuracy of Decision Tree with One-vs-Rest strategy: 1.0000\n",
            "Accuracy of direct multiclass Decision Tree: 1.0000\n"
          ]
        }
      ]
    },
    {
      "cell_type": "markdown",
      "source": [
        "25. Write a Python program to train a Decision Tree Classifier and display the feature importance scores."
      ],
      "metadata": {
        "id": "SjaaF8Nam1ha"
      }
    },
    {
      "cell_type": "code",
      "source": [
        "import pandas as pd\n",
        "from sklearn.datasets import load_iris\n",
        "from sklearn.model_selection import train_test_split\n",
        "from sklearn.tree import DecisionTreeClassifier\n",
        "import matplotlib.pyplot as plt\n",
        "import numpy as np\n",
        "\n",
        "# Load the Iris dataset\n",
        "iris = load_iris()\n",
        "X = iris.data\n",
        "y = iris.target\n",
        "feature_names = iris.feature_names\n",
        "\n",
        "# Split the dataset into training and testing sets\n",
        "X_train, X_test, y_train, y_test = train_test_split(X, y, test_size=0.3, random_state=42)\n",
        "\n",
        "# Create and train a Decision Tree Classifier\n",
        "dt_classifier = DecisionTreeClassifier(random_state=42)\n",
        "dt_classifier.fit(X_train, y_train)\n",
        "\n",
        "# Get feature importances\n",
        "importances = dt_classifier.feature_importances_\n",
        "\n",
        "# Create a DataFrame for better visualization\n",
        "feature_importances_df = pd.DataFrame({'Feature': feature_names, 'Importance': importances})\n",
        "feature_importances_df = feature_importances_df.sort_values(by='Importance', ascending=False)\n",
        "\n",
        "# Print feature importances\n",
        "print(\"Feature Importance Scores:\")\n",
        "print(feature_importances_df)\n",
        "\n",
        "# Optional: Visualize feature importances\n",
        "plt.figure(figsize=(10, 6))\n",
        "plt.barh(feature_importances_df['Feature'], feature_importances_df['Importance'])\n",
        "plt.xlabel(\"Importance\")\n",
        "plt.ylabel(\"Feature\")\n",
        "plt.title(\"Decision Tree Feature Importances\")\n",
        "plt.gca().invert_yaxis() # Puts the most important feature at the top\n",
        "plt.show()"
      ],
      "metadata": {
        "colab": {
          "base_uri": "https://localhost:8080/",
          "height": 668
        },
        "id": "pVlcRMy_m5If",
        "outputId": "ae60cbbf-ee97-405c-dee7-bf19431d51b6"
      },
      "execution_count": 14,
      "outputs": [
        {
          "output_type": "stream",
          "name": "stdout",
          "text": [
            "Feature Importance Scores:\n",
            "             Feature  Importance\n",
            "2  petal length (cm)    0.893264\n",
            "3   petal width (cm)    0.087626\n",
            "1   sepal width (cm)    0.019110\n",
            "0  sepal length (cm)    0.000000\n"
          ]
        },
        {
          "output_type": "display_data",
          "data": {
            "text/plain": [
              "<Figure size 1000x600 with 1 Axes>"
            ],
            "image/png": "[encoded data removed]"
          },
          "metadata": {}
        }
      ]
    },
    {
      "cell_type": "markdown",
      "source": [
        "26. Write a Python program to train a Decision Tree Regressor with max_depth=5 and compare its performance with an unrestricted tree."
      ],
      "metadata": {
        "id": "VK4VtTrlm8ga"
      }
    },
    {
      "cell_type": "code",
      "source": [
        "import pandas as pd\n",
        "from sklearn.datasets import fetch_california_housing\n",
        "from sklearn.model_selection import train_test_split\n",
        "from sklearn.tree import DecisionTreeRegressor\n",
        "from sklearn.metrics import mean_squared_error, r2_score\n",
        "\n",
        "# Load a housing dataset\n",
        "housing = fetch_california_housing()\n",
        "X = housing.data\n",
        "y = housing.target\n",
        "\n",
        "# Split the dataset into training and testing sets\n",
        "X_train, X_test, y_train, y_test = train_test_split(X, y, test_size=0.3, random_state=42)\n",
        "\n",
        "# --- Regressor with max_depth=5 ---\n",
        "dt_regressor_pruned = DecisionTreeRegressor(max_depth=5, random_state=42)\n",
        "dt_regressor_pruned.fit(X_train, y_train)\n",
        "y_pred_pruned_reg = dt_regressor_pruned.predict(X_test)\n",
        "mse_pruned_reg = mean_squared_error(y_test, y_pred_pruned_reg)\n",
        "r2_pruned_reg = r2_score(y_test, y_pred_pruned_reg)\n",
        "print(f\"Regressor (max_depth=5) - MSE: {mse_pruned_reg:.4f}, R-squared: {r2_pruned_reg:.4f}\")\n",
        "\n",
        "# --- Unrestricted Regressor (default) ---\n",
        "dt_regressor_full = DecisionTreeRegressor(random_state=42)\n",
        "dt_regressor_full.fit(X_train, y_train)\n",
        "y_pred_full_reg = dt_regressor_full.predict(X_test)\n",
        "mse_full_reg = mean_squared_error(y_test, y_pred_full_reg)\n",
        "r2_full_reg = r2_score(y_test, y_pred_full_reg)\n",
        "print(f\"Regressor (unrestricted) - MSE: {mse_full_reg:.4f}, R-squared: {r2_full_reg:.4f}\")\n",
        "\n",
        "if mse_pruned_reg < mse_full_reg:\n",
        "    print(\"\\nRegressor with max_depth=5 performed better (lower MSE).\")\n",
        "elif mse_full_reg < mse_pruned_reg:\n",
        "    print(\"\\nUnrestricted Regressor performed better (lower MSE).\")\n",
        "else:\n",
        "    print(\"\\nBoth regressors performed similarly.\")"
      ],
      "metadata": {
        "colab": {
          "base_uri": "https://localhost:8080/"
        },
        "id": "N7PwRn4enBh8",
        "outputId": "f4e68454-111a-496f-9cd4-be964783b97f"
      },
      "execution_count": 15,
      "outputs": [
        {
          "output_type": "stream",
          "name": "stdout",
          "text": [
            "Regressor (max_depth=5) - MSE: 0.5211, R-squared: 0.6030\n",
            "Regressor (unrestricted) - MSE: 0.5280, R-squared: 0.5977\n",
            "\n",
            "Regressor with max_depth=5 performed better (lower MSE).\n"
          ]
        }
      ]
    },
    {
      "cell_type": "markdown",
      "source": [
        "27. Write a Python program to train a Decision Tree Classifier, apply Cost Complexity Pruning (CCP), and visualize its effect on accuracy."
      ],
      "metadata": {
        "id": "rY_rQfDFnD0b"
      }
    },
    {
      "cell_type": "code",
      "source": [
        "import pandas as pd\n",
        "from sklearn.datasets import load_iris\n",
        "from sklearn.model_selection import train_test_split\n",
        "from sklearn.tree import DecisionTreeClassifier\n",
        "from sklearn.metrics import accuracy_score\n",
        "import matplotlib.pyplot as plt\n",
        "\n",
        "# Load the Iris dataset\n",
        "iris = load_iris()\n",
        "X = iris.data\n",
        "y = iris.target\n",
        "\n",
        "# Split the dataset into training and testing sets\n",
        "X_train, X_test, y_train, y_test = train_test_split(X, y, test_size=0.3, random_state=42)\n",
        "\n",
        "# Train a full Decision Tree\n",
        "dt_full = DecisionTreeClassifier(random_state=42)\n",
        "dt_full.fit(X_train, y_train)\n",
        "\n",
        "# Calculate the effective alphas for pruning\n",
        "path = dt_full.cost_complexity_pruning_path(X_train, y_train)\n",
        "ccp_alphas, impurities = path.ccp_alphas, path.impurities\n",
        "\n",
        "# Filter out duplicate alphas (optional, can happen due to floating point precision)\n",
        "ccp_alphas = ccp_alphas[:-1] # Remove the last alpha (which corresponds to a single node tree)\n",
        "\n",
        "# Train trees for each alpha and store accuracy\n",
        "clfs = []\n",
        "for ccp_alpha in ccp_alphas:\n",
        "    clf = DecisionTreeClassifier(random_state=42, ccp_alpha=ccp_alpha)\n",
        "    clf.fit(X_train, y_train)\n",
        "    clfs.append(clf)\n",
        "\n",
        "train_scores = [accuracy_score(y_train, clf.predict(X_train)) for clf in clfs]\n",
        "test_scores = [accuracy_score(y_test, clf.predict(X_test)) for clf in clfs]\n",
        "\n",
        "# Plot the accuracy vs. alpha\n",
        "plt.figure(figsize=(10, 6))\n",
        "plt.plot(ccp_alphas, train_scores, marker='o', label='Train Accuracy', drawstyle=\"steps-post\")\n",
        "plt.plot(ccp_alphas, test_scores, marker='o', label='Test Accuracy', drawstyle=\"steps-post\")\n",
        "plt.xlabel(\"alpha (Cost Complexity Parameter)\")\n",
        "plt.ylabel(\"Accuracy\")\n",
        "plt.title(\"Accuracy vs. Cost Complexity Pruning Alpha\")\n",
        "plt.legend()\n",
        "plt.grid(True)\n",
        "plt.show()\n",
        "\n",
        "# Find the best alpha based on test accuracy\n",
        "best_alpha_idx = test_scores.index(max(test_scores))\n",
        "best_alpha = ccp_alphas[best_alpha_idx]\n",
        "print(f\"\\nOptimal ccp_alpha for best test accuracy: {best_alpha:.4f}\")\n",
        "\n",
        "# Train the final pruned model with the best alpha\n",
        "dt_pruned_best_ccp = DecisionTreeClassifier(random_state=42, ccp_alpha=best_alpha)\n",
        "dt_pruned_best_ccp.fit(X_train, y_train)\n",
        "final_accuracy = accuracy_score(y_test, dt_pruned_best_ccp.predict(X_test))\n",
        "print(f\"Accuracy of the final pruned model with optimal alpha: {final_accuracy:.4f}\")"
      ],
      "metadata": {
        "colab": {
          "base_uri": "https://localhost:8080/",
          "height": 616
        },
        "id": "rY-lX8oFnH47",
        "outputId": "7a1040a9-f22b-4536-c9f4-387e8a3f006e"
      },
      "execution_count": 16,
      "outputs": [
        {
          "output_type": "display_data",
          "data": {
            "text/plain": [
              "<Figure size 1000x600 with 1 Axes>"
            ],
            "image/png": "[encoded data removed]"
          },
          "metadata": {}
        },
        {
          "output_type": "stream",
          "name": "stdout",
          "text": [
            "\n",
            "Optimal ccp_alpha for best test accuracy: 0.0000\n",
            "Accuracy of the final pruned model with optimal alpha: 1.0000\n"
          ]
        }
      ]
    },
    {
      "cell_type": "markdown",
      "source": [
        "28. Write a Python program to train a Decision Tree Classifier and evaluate its performance using Precision, Recall, and F1-Score."
      ],
      "metadata": {
        "id": "2KAe-flHnLwm"
      }
    },
    {
      "cell_type": "code",
      "source": [
        "import pandas as pd\n",
        "from sklearn.datasets import load_iris\n",
        "from sklearn.model_selection import train_test_split\n",
        "from sklearn.tree import DecisionTreeClassifier\n",
        "from sklearn.metrics import precision_score, recall_score, f1_score, accuracy_score\n",
        "\n",
        "# Load the Iris dataset\n",
        "iris = load_iris()\n",
        "X = iris.data\n",
        "y = iris.target\n",
        "\n",
        "# Split the dataset into training and testing sets\n",
        "X_train, X_test, y_train, y_test = train_test_split(X, y, test_size=0.3, random_state=42)\n",
        "\n",
        "# Create and train a Decision Tree Classifier\n",
        "dt_classifier = DecisionTreeClassifier(random_state=42)\n",
        "dt_classifier.fit(X_train, y_train)\n",
        "\n",
        "# Make predictions on the test set\n",
        "y_pred = dt_classifier.predict(X_test)\n",
        "\n",
        "# Calculate performance metrics\n",
        "accuracy = accuracy_score(y_test, y_pred)\n",
        "precision = precision_score(y_test, y_pred, average='weighted') # 'weighted' for multiclass\n",
        "recall = recall_score(y_test, y_pred, average='weighted')       # 'weighted' for multiclass\n",
        "f1 = f1_score(y_test, y_pred, average='weighted')             # 'weighted' for multiclass\n",
        "\n",
        "# Print the metrics\n",
        "print(f\"Accuracy: {accuracy:.4f}\")\n",
        "print(f\"Precision (weighted): {precision:.4f}\")\n",
        "print(f\"Recall (weighted): {recall:.4f}\")\n",
        "print(f\"F1-Score (weighted): {f1:.4f}\")"
      ],
      "metadata": {
        "colab": {
          "base_uri": "https://localhost:8080/"
        },
        "id": "KF1LE6cknPgi",
        "outputId": "7fc6af16-3c16-4caa-d3fe-e8c99b25c60d"
      },
      "execution_count": 17,
      "outputs": [
        {
          "output_type": "stream",
          "name": "stdout",
          "text": [
            "Accuracy: 1.0000\n",
            "Precision (weighted): 1.0000\n",
            "Recall (weighted): 1.0000\n",
            "F1-Score (weighted): 1.0000\n"
          ]
        }
      ]
    },
    {
      "cell_type": "markdown",
      "source": [
        "29. Write a Python program to train a Decision Tree Classifier and visualize the confusion matrix using seaborn."
      ],
      "metadata": {
        "id": "TbZmsYoZnRqL"
      }
    },
    {
      "cell_type": "code",
      "source": [
        "import pandas as pd\n",
        "from sklearn.datasets import load_iris\n",
        "from sklearn.model_selection import train_test_split\n",
        "from sklearn.tree import DecisionTreeClassifier\n",
        "from sklearn.metrics import confusion_matrix\n",
        "import seaborn as sns\n",
        "import matplotlib.pyplot as plt\n",
        "\n",
        "# Load the Iris dataset\n",
        "iris = load_iris()\n",
        "X = iris.data\n",
        "y = iris.target\n",
        "target_names = iris.target_names\n",
        "\n",
        "# Split the dataset into training and testing sets\n",
        "X_train, X_test, y_train, y_test = train_test_split(X, y, test_size=0.3, random_state=42)\n",
        "\n",
        "# Create and train a Decision Tree Classifier\n",
        "dt_classifier = DecisionTreeClassifier(random_state=42)\n",
        "dt_classifier.fit(X_train, y_train)\n",
        "\n",
        "# Make predictions on the test set\n",
        "y_pred = dt_classifier.predict(X_test)\n",
        "\n",
        "# Calculate the confusion matrix\n",
        "cm = confusion_matrix(y_test, y_pred)\n",
        "\n",
        "# Visualize the confusion matrix using Seaborn\n",
        "plt.figure(figsize=(8, 6))\n",
        "sns.heatmap(cm, annot=True, fmt='d', cmap='Blues',\n",
        "            xticklabels=target_names, yticklabels=target_names)\n",
        "plt.xlabel('Predicted Label')\n",
        "plt.ylabel('True Label')\n",
        "plt.title('Confusion Matrix for Decision Tree Classifier')\n",
        "plt.show()"
      ],
      "metadata": {
        "colab": {
          "base_uri": "https://localhost:8080/",
          "height": 564
        },
        "id": "1FtFCtVDnUax",
        "outputId": "3cc2da18-efea-4ed9-e2a5-61515e1cb59a"
      },
      "execution_count": 18,
      "outputs": [
        {
          "output_type": "display_data",
          "data": {
            "text/plain": [
              "<Figure size 800x600 with 2 Axes>"
            ],
            "image/png": "[encoded data removed]"
          },
          "metadata": {}
        }
      ]
    },
    {
      "cell_type": "markdown",
      "source": [
        "30. Write a Python program to train a Decision Tree Classifier and use GridSearchCV to find the optimal values for max_depth and min_samples_split."
      ],
      "metadata": {
        "id": "-GqKBfWgnYkq"
      }
    },
    {
      "cell_type": "code",
      "source": [
        "import pandas as pd\n",
        "from sklearn.datasets import load_iris\n",
        "from sklearn.model_selection import train_test_split, GridSearchCV\n",
        "from sklearn.tree import DecisionTreeClassifier\n",
        "from sklearn.metrics import accuracy_score\n",
        "\n",
        "# Load the Iris dataset\n",
        "iris = load_iris()\n",
        "X = iris.data\n",
        "y = iris.target\n",
        "\n",
        "# Split the dataset into training and testing sets\n",
        "X_train, X_test, y_train, y_test = train_test_split(X, y, test_size=0.3, random_state=42)\n",
        "\n",
        "# Create a Decision Tree Classifier\n",
        "dt_classifier = DecisionTreeClassifier(random_state=42)\n",
        "\n",
        "# Define the parameter grid to search\n",
        "param_grid = {\n",
        "    'max_depth': [3, 5, 7, 10, None], # None means full depth\n",
        "    'min_samples_split': [2, 5, 10, 15]\n",
        "}\n",
        "\n",
        "# Create GridSearchCV object\n",
        "# cv=5 means 5-fold cross-validation\n",
        "# scoring='accuracy' means we optimize for accuracy\n",
        "grid_search = GridSearchCV(estimator=dt_classifier,\n",
        "                           param_grid=param_grid,\n",
        "                           cv=5,\n",
        "                           scoring='accuracy',\n",
        "                           n_jobs=-1, # Use all available cores\n",
        "                           verbose=1)\n",
        "\n",
        "# Fit GridSearchCV to the training data\n",
        "grid_search.fit(X_train, y_train)\n",
        "\n",
        "# Print the best parameters and best score\n",
        "print(f\"Best parameters found by GridSearchCV: {grid_search.best_params_}\")\n",
        "print(f\"Best cross-validation accuracy: {grid_search.best_score_:.4f}\")\n",
        "\n",
        "# Evaluate the best model on the test set\n",
        "best_dt_model = grid_search.best_estimator_\n",
        "y_pred_tuned = best_dt_model.predict(X_test)\n",
        "test_accuracy = accuracy_score(y_test, y_pred_tuned)\n",
        "print(f\"Test accuracy of the best model: {test_accuracy:.4f}\")"
      ],
      "metadata": {
        "colab": {
          "base_uri": "https://localhost:8080/"
        },
        "id": "ljcP12D8nct8",
        "outputId": "3c54ca07-b4a7-4f2a-fa1f-141328940bac"
      },
      "execution_count": 19,
      "outputs": [
        {
          "output_type": "stream",
          "name": "stdout",
          "text": [
            "Fitting 5 folds for each of 20 candidates, totalling 100 fits\n",
            "Best parameters found by GridSearchCV: {'max_depth': 5, 'min_samples_split': 10}\n",
            "Best cross-validation accuracy: 0.9429\n",
            "Test accuracy of the best model: 1.0000\n"
          ]
        }
      ]
    }
  ]
}