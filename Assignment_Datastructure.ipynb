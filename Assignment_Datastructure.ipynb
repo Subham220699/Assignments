{
  "nbformat": 4,
  "nbformat_minor": 0,
  "metadata": {
    "colab": {
      "provenance": []
    },
    "kernelspec": {
      "name": "python3",
      "display_name": "Python 3"
    },
    "language_info": {
      "name": "python"
    }
  },
  "cells": [
    {
      "cell_type": "code",
      "execution_count": null,
      "metadata": {
        "colab": {
          "base_uri": "https://localhost:8080/",
          "height": 35
        },
        "id": "pKPZgLqtcPkA",
        "outputId": "7dfe1dec-7340-4410-c241-f3e19758bb0c"
      },
      "outputs": [
        {
          "output_type": "execute_result",
          "data": {
            "text/plain": [
              "'!dlrow ,olleH'"
            ],
            "application/vnd.google.colaboratory.intrinsic+json": {
              "type": "string"
            }
          },
          "metadata": {},
          "execution_count": 2
        }
      ],
      "source": [
        "#1. Write a code to reverse a string.\n",
        "def reverse_string(string):\n",
        "  return string[::-1]\n",
        "\n",
        "string = \"Hello, world!\"\n",
        "reverse_string(string)\n",
        "\n"
      ]
    },
    {
      "cell_type": "code",
      "source": [
        "#2.Write a code to count the number of vowels in a string.\n",
        "def count_vowels(string):\n",
        "  vowels=[\"a\",\"e\",\"i\",\"o\",\"u\",\"A\",\"E\",\"I\",\"O\",\"U\"]\n",
        "  count=0\n",
        "  for i in string:\n",
        "    if i in vowels:\n",
        "      count+=1\n",
        "  return count\n",
        "\n",
        "string=\"Hello, world!\"\n",
        "count_vowels(string)"
      ],
      "metadata": {
        "colab": {
          "base_uri": "https://localhost:8080/"
        },
        "id": "uMUcgO1De0VH",
        "outputId": "9c437dea-239e-4e12-aeb8-3b0695edd452"
      },
      "execution_count": null,
      "outputs": [
        {
          "output_type": "execute_result",
          "data": {
            "text/plain": [
              "3"
            ]
          },
          "metadata": {},
          "execution_count": 3
        }
      ]
    },
    {
      "cell_type": "code",
      "source": [
        "#3. Write a code to check if a given string is a palindrome or not.\n",
        "def check_palindrome(string):\n",
        "  if string==string[::-1]:\n",
        "    return \"Palindrome\"\n",
        "  else:\n",
        "    return \"Not Palindrome\"\n",
        "\n",
        "string=\"madam\"\n",
        "check_palindrome(string)"
      ],
      "metadata": {
        "colab": {
          "base_uri": "https://localhost:8080/",
          "height": 35
        },
        "id": "zsUKSzosfdc8",
        "outputId": "48dbc55f-9baa-4697-f1fb-c976fe164218"
      },
      "execution_count": null,
      "outputs": [
        {
          "output_type": "execute_result",
          "data": {
            "text/plain": [
              "'Palindrome'"
            ],
            "application/vnd.google.colaboratory.intrinsic+json": {
              "type": "string"
            }
          },
          "metadata": {},
          "execution_count": 4
        }
      ]
    },
    {
      "cell_type": "code",
      "source": [
        "#4.Write a code to check if two given strings are anagrams of each other.\n",
        "def check_anagram(string1,string2):\n",
        "  if sorted(string1)==sorted(string2):\n",
        "    return \"Anagram\"\n",
        "  else:\n",
        "    return \"Not Anagram\"\n",
        "\n",
        "string1=\"listen\"\n",
        "string2=\"silent\"\n",
        "check_anagram(string1,string2)"
      ],
      "metadata": {
        "colab": {
          "base_uri": "https://localhost:8080/",
          "height": 35
        },
        "id": "XxoE6GufhvEg",
        "outputId": "d347e9ad-c1ea-4fbe-8b9e-763de13826f7"
      },
      "execution_count": null,
      "outputs": [
        {
          "output_type": "execute_result",
          "data": {
            "text/plain": [
              "'Anagram'"
            ],
            "application/vnd.google.colaboratory.intrinsic+json": {
              "type": "string"
            }
          },
          "metadata": {},
          "execution_count": 5
        }
      ]
    },
    {
      "cell_type": "code",
      "source": [
        "#5.Write a code to find all occurrences of a given substring within another string.\n",
        "def find_substring(main_string, sub_string):\n",
        "    indices = []\n",
        "    start = 0\n",
        "\n",
        "    while start < len(main_string):\n",
        "        index = main_string.find(sub_string, start)\n",
        "        if index != -1:\n",
        "          indices.append(index)\n",
        "          start = index + 1\n",
        "        else:\n",
        "            break\n",
        "\n",
        "    return indices\n",
        "\n",
        "\n",
        "main_string = \"Hello, world. Hello again!\"\n",
        "sub_string = \"Hello\"\n",
        "find_substring(main_string, sub_string)"
      ],
      "metadata": {
        "colab": {
          "base_uri": "https://localhost:8080/"
        },
        "id": "thLHoSmws-Hv",
        "outputId": "2d651fb6-63d6-40e9-cc94-1e349ed84199"
      },
      "execution_count": null,
      "outputs": [
        {
          "output_type": "execute_result",
          "data": {
            "text/plain": [
              "[0, 14]"
            ]
          },
          "metadata": {},
          "execution_count": 7
        }
      ]
    },
    {
      "cell_type": "code",
      "source": [
        "#6. Write a code to perform basic string compression using the counts of repeated characters.\n",
        "def compress_string(string):\n",
        "\n",
        "  compressed_string = \"\"\n",
        "  count = 1\n",
        "  for i in range(1, len(string)):\n",
        "    if string[i] == string[i-1]:\n",
        "      count += 1\n",
        "    else:\n",
        "      compressed_string += string[i-1] + str(count)\n",
        "      count = 1\n",
        "  compressed_string += string[-1] + str(count)\n",
        "  return compressed_string\n",
        "\n",
        "string=\"llloooovveeeee\"\n",
        "compress_string(string)"
      ],
      "metadata": {
        "colab": {
          "base_uri": "https://localhost:8080/",
          "height": 35
        },
        "id": "pLu_MweNwma9",
        "outputId": "86e9caba-0e95-4329-9386-5626a81a8e8b"
      },
      "execution_count": null,
      "outputs": [
        {
          "output_type": "execute_result",
          "data": {
            "text/plain": [
              "'l3o4v2e5'"
            ],
            "application/vnd.google.colaboratory.intrinsic+json": {
              "type": "string"
            }
          },
          "metadata": {},
          "execution_count": 8
        }
      ]
    },
    {
      "cell_type": "code",
      "source": [
        "#7. Write a code to determine if a string has all unique characters.\n",
        "def if_inique(string):\n",
        "  char_set=set()\n",
        "  for i in string:\n",
        "    if i in char_set:\n",
        "      return \"String with Duplicate Character\"\n",
        "    else:\n",
        "      char_set.add(i)\n",
        "  return \"String with Unique Character\"\n",
        "String1=\"abcdefghij\"\n",
        "String2=\"Hello World\"\n",
        "if_inique(String1)\n",
        "if_inique(String2)\n"
      ],
      "metadata": {
        "colab": {
          "base_uri": "https://localhost:8080/",
          "height": 35
        },
        "id": "SI50AP9O0WGw",
        "outputId": "4c9e02db-1fbe-4fb4-e7bb-6f4585ce74a6"
      },
      "execution_count": null,
      "outputs": [
        {
          "output_type": "execute_result",
          "data": {
            "text/plain": [
              "'String with Duplicate Character'"
            ],
            "application/vnd.google.colaboratory.intrinsic+json": {
              "type": "string"
            }
          },
          "metadata": {},
          "execution_count": 17
        }
      ]
    },
    {
      "cell_type": "code",
      "source": [
        "#8.Write a code to convert a given string to uppercase or lowercase.\n",
        "def string_converter(string,case):\n",
        "  if case==\"upper\":\n",
        "    return string.upper()\n",
        "  elif case==\"lower\":\n",
        "    return string.lower()\n",
        "  else:\n",
        "    return \"Invalid Case\"\n",
        "\n",
        "\n",
        "string_converter(\"Hello World\",\"upper\")\n",
        "\n",
        "\n"
      ],
      "metadata": {
        "colab": {
          "base_uri": "https://localhost:8080/",
          "height": 35
        },
        "id": "CeRrm4Bi3gsi",
        "outputId": "1bcfeff2-a6e9-4487-d336-7c0af02f6e70"
      },
      "execution_count": null,
      "outputs": [
        {
          "output_type": "execute_result",
          "data": {
            "text/plain": [
              "'HELLO WORLD'"
            ],
            "application/vnd.google.colaboratory.intrinsic+json": {
              "type": "string"
            }
          },
          "metadata": {},
          "execution_count": 19
        }
      ]
    },
    {
      "cell_type": "code",
      "source": [
        "#9.Write a code to count the number of words in a string.\n",
        "def count_words(string):\n",
        "  words=string.split( )\n",
        "  return len(words)\n",
        "\n",
        "str1= \"How are you?\"\n",
        "count_words(str1)"
      ],
      "metadata": {
        "colab": {
          "base_uri": "https://localhost:8080/"
        },
        "id": "CVJ90zEo9f38",
        "outputId": "9362cdd5-9ad3-42b9-df87-0c5fd0f28733"
      },
      "execution_count": null,
      "outputs": [
        {
          "output_type": "execute_result",
          "data": {
            "text/plain": [
              "3"
            ]
          },
          "metadata": {},
          "execution_count": 20
        }
      ]
    },
    {
      "cell_type": "code",
      "source": [
        "#10.Write a code to concatenate two strings without using the + operator.\n",
        "def concatenate_string(string1,string2):\n",
        "  return f\"{string1} {string2}\"\n",
        "\n",
        "str1=\"Hello\"\n",
        "str2=\"World\"\n",
        "concatenate_string(str1,str2)"
      ],
      "metadata": {
        "colab": {
          "base_uri": "https://localhost:8080/",
          "height": 35
        },
        "id": "70TbJIsF-T__",
        "outputId": "0f37f750-8eb2-49ea-d5e4-2925cd95e723"
      },
      "execution_count": null,
      "outputs": [
        {
          "output_type": "execute_result",
          "data": {
            "text/plain": [
              "'Hello World'"
            ],
            "application/vnd.google.colaboratory.intrinsic+json": {
              "type": "string"
            }
          },
          "metadata": {},
          "execution_count": 23
        }
      ]
    },
    {
      "cell_type": "code",
      "source": [
        "#11.Write a code to remove all occurrences of a specific element from a list.\n",
        "def remove_element(lst,element):\n",
        "  while element in lst:\n",
        "     lst.remove(element)\n",
        "  return lst\n",
        "\n",
        "remove_element([1,1,4,6,5,],1)"
      ],
      "metadata": {
        "colab": {
          "base_uri": "https://localhost:8080/"
        },
        "id": "im7zTr1-__bW",
        "outputId": "995ccb70-7cbb-4550-8e80-84ed9cf855f0"
      },
      "execution_count": null,
      "outputs": [
        {
          "output_type": "execute_result",
          "data": {
            "text/plain": [
              "[4, 6, 5]"
            ]
          },
          "metadata": {},
          "execution_count": 30
        }
      ]
    },
    {
      "cell_type": "code",
      "source": [
        "#12. Implement a code to find the second largest number in a given list of integers.\n",
        "def second_largest_num(numbers):\n",
        "  largest=max(numbers)\n",
        "  numbers.remove(largest)\n",
        "  return max(numbers)\n",
        "\n",
        "second_largest_num([1,2,3,4,6,7,9,10,11,13])"
      ],
      "metadata": {
        "colab": {
          "base_uri": "https://localhost:8080/"
        },
        "id": "K4OqrqnGEZGe",
        "outputId": "c6ef8907-f171-4574-9844-8a5b897f0012"
      },
      "execution_count": null,
      "outputs": [
        {
          "output_type": "execute_result",
          "data": {
            "text/plain": [
              "11"
            ]
          },
          "metadata": {},
          "execution_count": 36
        }
      ]
    },
    {
      "cell_type": "code",
      "source": [
        "#13. Create a code to count the occurrences of each element in a list and return a dictionary with elements as\n",
        "#keys and their counts as values.\n",
        "def create_dictionary(lst):\n",
        "  dict={}\n",
        "  for element in lst:\n",
        "    if element in dict:\n",
        "      dict[element]+=1\n",
        "    else:\n",
        "      dict[element]=1\n",
        "  return dict\n",
        "\n",
        "create_dictionary([1,2,2,3,4,5,6,4,3,2,1,7,8,9,7,8,9,])\n"
      ],
      "metadata": {
        "colab": {
          "base_uri": "https://localhost:8080/"
        },
        "id": "O6MaUXZfHC_6",
        "outputId": "e6f76349-d12f-4749-b7ab-2a72ddea02b1"
      },
      "execution_count": null,
      "outputs": [
        {
          "output_type": "execute_result",
          "data": {
            "text/plain": [
              "{1: 2, 2: 3, 3: 2, 4: 2, 5: 1, 6: 1, 7: 2, 8: 2, 9: 2}"
            ]
          },
          "metadata": {},
          "execution_count": 37
        }
      ]
    },
    {
      "cell_type": "code",
      "source": [
        "#14.Write a code to reverse a list in-place without using any built-in reverse functions\n",
        "def reverse_list(lst):\n",
        "  start=0\n",
        "  end=len(lst)-1\n",
        "  while start<end:\n",
        "    lst[start],lst[end]=lst[end],lst[start]\n",
        "    start+=1\n",
        "    end-=1\n",
        "  return lst\n",
        "\n",
        "reverse_list([1,2,2,3,4,5,6,4,3,2,1,7,8,9,7,8,9,])"
      ],
      "metadata": {
        "colab": {
          "base_uri": "https://localhost:8080/"
        },
        "id": "gVWU9n-AKMBg",
        "outputId": "dc0c9cc1-2cf1-40eb-df5f-c24ac518e508"
      },
      "execution_count": null,
      "outputs": [
        {
          "output_type": "execute_result",
          "data": {
            "text/plain": [
              "[9, 8, 7, 9, 8, 7, 1, 2, 3, 4, 6, 5, 4, 3, 2, 2, 1]"
            ]
          },
          "metadata": {},
          "execution_count": 38
        }
      ]
    },
    {
      "cell_type": "code",
      "source": [
        "#15.Implement a code to find and remove duplicates from a list while preserving the original order of\n",
        "#elements.\n",
        "def remove_duplicates(lst):\n",
        "  unique_lst=[]\n",
        "  for element in lst:\n",
        "    if element not in unique_lst:\n",
        "      unique_lst.append(element)\n",
        "  return unique_lst\n",
        "\n",
        "remove_duplicates([9, 8, 7, 9, 8, 7, 1, 2, 3, 4, 6, 5, 4, 3, 2, 2, 1])"
      ],
      "metadata": {
        "colab": {
          "base_uri": "https://localhost:8080/"
        },
        "id": "g1Whn_E2LYXQ",
        "outputId": "d461ed9e-6a26-4d35-f483-4a25b816e64f"
      },
      "execution_count": null,
      "outputs": [
        {
          "output_type": "execute_result",
          "data": {
            "text/plain": [
              "[9, 8, 7, 1, 2, 3, 4, 6, 5]"
            ]
          },
          "metadata": {},
          "execution_count": 39
        }
      ]
    },
    {
      "cell_type": "code",
      "source": [
        "#16.Create a code to check if a given list is sorted (either in ascending or descending order) or not.\n",
        "def if_sorted(lst):\n",
        "  if lst==sorted(lst) or lst==sorted(lst,reverse=True):\n",
        "    return \"sorted\"\n",
        "  else:\n",
        "    return \"not sorted\"\n",
        "\n",
        "if_sorted([1,2,3,4,5,6,7,8,9])\n",
        "\n",
        "\n"
      ],
      "metadata": {
        "colab": {
          "base_uri": "https://localhost:8080/",
          "height": 35
        },
        "id": "y42tIZz_XVEp",
        "outputId": "e8341bd9-bbe0-4f3a-ff06-b87c5fbfad5d"
      },
      "execution_count": null,
      "outputs": [
        {
          "output_type": "execute_result",
          "data": {
            "text/plain": [
              "'sorted'"
            ],
            "application/vnd.google.colaboratory.intrinsic+json": {
              "type": "string"
            }
          },
          "metadata": {},
          "execution_count": 1
        }
      ]
    },
    {
      "cell_type": "code",
      "source": [
        "#17.Write a code to merge two sorted lists into a single sorted list.\n",
        "def merge_sorted_list(lst1,lst2):\n",
        "  sort_lst1=sorted(lst1)\n",
        "  sort_lst2=sorted(lst2)\n",
        "  return sorted(sort_lst1+sort_lst2)\n",
        "\n",
        "\n",
        "merge_sorted_list([1,2,3,4,5,6,7,8,9],[9,8,7,6,5,4,3,2,1])\n"
      ],
      "metadata": {
        "colab": {
          "base_uri": "https://localhost:8080/"
        },
        "id": "Iyq9_7QIZMse",
        "outputId": "f581f835-a8c6-46a7-dcc3-b11a1d9ee1b8"
      },
      "execution_count": null,
      "outputs": [
        {
          "output_type": "execute_result",
          "data": {
            "text/plain": [
              "[1, 1, 2, 2, 3, 3, 4, 4, 5, 5, 6, 6, 7, 7, 8, 8, 9, 9]"
            ]
          },
          "metadata": {},
          "execution_count": 2
        }
      ]
    },
    {
      "cell_type": "code",
      "source": [
        "#18. Implement a code to find the intersection of two given lists.\n",
        "def intersection_list(lst1,lst2):\n",
        "  set1=set(lst1)\n",
        "  set2=set(lst2)\n",
        "  return list(set1.intersection(set2))\n",
        "\n",
        "intersection_list([1,4,8,0,7],[1,4,0,9,6])"
      ],
      "metadata": {
        "colab": {
          "base_uri": "https://localhost:8080/"
        },
        "id": "9_sDYQ8dafnL",
        "outputId": "3f746a4a-a363-4ede-8bb1-35f38c99a834"
      },
      "execution_count": null,
      "outputs": [
        {
          "output_type": "execute_result",
          "data": {
            "text/plain": [
              "[0, 1, 4]"
            ]
          },
          "metadata": {},
          "execution_count": 3
        }
      ]
    },
    {
      "cell_type": "code",
      "source": [
        "#19.Create a code to find the union of two lists without duplicates.\n",
        "def union_list(lst1,lst2):\n",
        "  set1=set(lst1)\n",
        "  set2=set(lst2)\n",
        "  return list(set1.union(set2))\n",
        "\n",
        "union_list([1,4,8,0,7],[1,4,0,9,6])"
      ],
      "metadata": {
        "colab": {
          "base_uri": "https://localhost:8080/"
        },
        "id": "jNbLC9X5bsJg",
        "outputId": "ccfb73ca-7cb7-4f94-9c34-435034390360"
      },
      "execution_count": null,
      "outputs": [
        {
          "output_type": "execute_result",
          "data": {
            "text/plain": [
              "[0, 1, 4, 6, 7, 8, 9]"
            ]
          },
          "metadata": {},
          "execution_count": 4
        }
      ]
    },
    {
      "cell_type": "code",
      "source": [
        "#20.Write a code to shuffle a given list randomly without using any built-in shuffle functions.\n",
        "import random\n",
        "def shuffle_list(lst):\n",
        "  for i in range(len(lst)):\n",
        "    j=random.randint(i,len(lst)-1)\n",
        "    lst[i],lst[j]=lst[j],lst[i]\n",
        "  return lst\n",
        "\n",
        "\n",
        "\n",
        "shuffle_list([1,4,8,0,7])"
      ],
      "metadata": {
        "colab": {
          "base_uri": "https://localhost:8080/"
        },
        "id": "4ScbRoYdcML1",
        "outputId": "eb7cf53f-7b95-4316-ae69-69eacbf7d120"
      },
      "execution_count": null,
      "outputs": [
        {
          "output_type": "execute_result",
          "data": {
            "text/plain": [
              "[8, 4, 0, 1, 7]"
            ]
          },
          "metadata": {},
          "execution_count": 10
        }
      ]
    },
    {
      "cell_type": "code",
      "source": [
        "#21.Write a code that takes two tuples as input and returns a new tuple containing elements that are\n",
        "#common to both input tuples\n",
        "def common_element_tuple(tuple1,tuple2):\n",
        "  set1=set(tuple1)\n",
        "  set2=set(tuple2)\n",
        "  return tuple(set1.intersection(set2))\n",
        "\n",
        "common_element_tuple((1,2,3,4,5,6),(4,5,6,7,8,9))"
      ],
      "metadata": {
        "colab": {
          "base_uri": "https://localhost:8080/"
        },
        "id": "4ns0nNi2ct6J",
        "outputId": "8f9081ca-e733-4416-fb60-84d8aa110137"
      },
      "execution_count": null,
      "outputs": [
        {
          "output_type": "execute_result",
          "data": {
            "text/plain": [
              "(4, 5, 6)"
            ]
          },
          "metadata": {},
          "execution_count": 11
        }
      ]
    },
    {
      "cell_type": "code",
      "source": [
        "#22.Create a code that prompts the user to enter two sets of integers separated by commas. Then, print the\n",
        "#intersection of these two sets.\n",
        "def get_set_from_user(prompt):\n",
        "  while True:\n",
        "    user_input = input(prompt)\n",
        "    user_set = set(map(int, user_input.split(\",\")))\n",
        "    return user_set\n",
        "\n",
        "def main():\n",
        "  set1 = get_set_from_user(\"Enter first set of integers: \")\n",
        "  set2 = get_set_from_user(\"Enter second set of integers: \")\n",
        "  intersection = set1.intersection(set2)\n",
        "  print(f\"Intersection of the two sets: {intersection}\")\n",
        "\n",
        "if __name__ == \"__main__\":\n",
        "    main()"
      ],
      "metadata": {
        "colab": {
          "base_uri": "https://localhost:8080/"
        },
        "id": "404u5swigJLM",
        "outputId": "6f8f7a7d-5f5a-4665-f99b-51c07653a8c2"
      },
      "execution_count": 1,
      "outputs": [
        {
          "output_type": "stream",
          "name": "stdout",
          "text": [
            "Enter first set of integers: 1,2,3,4,5\n",
            "Enter second set of integers: 4,5,6,7,8\n",
            "Intersection of the two sets: {4, 5}\n"
          ]
        }
      ]
    },
    {
      "cell_type": "code",
      "source": [
        "#23. Write a code to concatenate two tuples. The function should take two tuples as input and return a new\n",
        "#tuple containing elements from both input tuples.\n",
        "def concatenate_tuple(tup1,tup2):\n",
        "  conc_tup=tup1+tup2\n",
        "  return conc_tup\n",
        "\n",
        "concatenate_tuple((1,2,3,4,5,6),(4,5,6,7,8,9))\n"
      ],
      "metadata": {
        "colab": {
          "base_uri": "https://localhost:8080/"
        },
        "id": "6I43Z1SAfMTK",
        "outputId": "d90c5748-9498-426d-b43b-ede2a80b4c66"
      },
      "execution_count": null,
      "outputs": [
        {
          "output_type": "execute_result",
          "data": {
            "text/plain": [
              "(1, 2, 3, 4, 5, 6, 4, 5, 6, 7, 8, 9)"
            ]
          },
          "metadata": {},
          "execution_count": 1
        }
      ]
    },
    {
      "cell_type": "code",
      "source": [
        "#24.Develop a code that prompts the user to input two sets of strings. Then, print the elements that are\n",
        "#present in the first set but not in the second set.\n",
        "def difference_in_string(str1,str2):\n",
        "  set1=set(str1)\n",
        "  set2=set(str2)\n",
        "  return set1.difference(set2)\n",
        "\n",
        "difference_in_string(\"Hello\",\"World\")\n"
      ],
      "metadata": {
        "colab": {
          "base_uri": "https://localhost:8080/"
        },
        "id": "QoV5e2wXf8d4",
        "outputId": "d2d10745-2c66-44d1-af2d-249b99174761"
      },
      "execution_count": null,
      "outputs": [
        {
          "output_type": "execute_result",
          "data": {
            "text/plain": [
              "{'H', 'e'}"
            ]
          },
          "metadata": {},
          "execution_count": 2
        }
      ]
    },
    {
      "cell_type": "code",
      "source": [
        "#25.Create a code that takes a tuple and two integers as input. The function should return a new tuple\n",
        "#containing elements from the original tuple within the specified range of indices.\n",
        "def part_of_tuple(tup,start,end):\n",
        "  return tup[start:end+1]\n",
        "\n",
        "part_of_tuple((1,2,3,4,5,6,7,8,9),2,5)\n"
      ],
      "metadata": {
        "colab": {
          "base_uri": "https://localhost:8080/"
        },
        "id": "SkCQnJvig9xo",
        "outputId": "31fa197d-2570-4351-de4a-0fc77b1d971b"
      },
      "execution_count": null,
      "outputs": [
        {
          "output_type": "execute_result",
          "data": {
            "text/plain": [
              "(3, 4, 5, 6)"
            ]
          },
          "metadata": {},
          "execution_count": 3
        }
      ]
    },
    {
      "cell_type": "code",
      "source": [
        "#26.Write a code that prompts the user to input two sets of characters. Then, print the union of these two sets.\n",
        "def get_set_from_user(prompt):\n",
        "  while True:\n",
        "    user_input = input(prompt)\n",
        "    user_set = set(user_input)\n",
        "    return user_set\n",
        "\n",
        "def main():\n",
        "  set1 = get_set_from_user(\"Enter first set of characters: \")\n",
        "  set2 = get_set_from_user(\"Enter second set of characters: \")\n",
        "\n",
        "  union = set1.union(set2)\n",
        "  print(f\"Union of the two sets: {union}\")\n",
        "\n",
        "if __name__ == \"__main__\":\n",
        "    main()"
      ],
      "metadata": {
        "id": "7_RYnKjTh8vP"
      },
      "execution_count": 7,
      "outputs": []
    },
    {
      "cell_type": "code",
      "source": [
        "#27. Develop a code that takes a tuple of integers as input. The function should return the maximum and\n",
        "#minimum values from the tuple using tuple unpacking.\n",
        "def find_min_max(num_tuple):\n",
        "\n",
        "    if len(num_tuple) == 0:\n",
        "        return None\n",
        "\n",
        "    min_val, *_, max_val = num_tuple\n",
        "\n",
        "    for num in num_tuple:\n",
        "        if num < min_val:\n",
        "            min_val = num\n",
        "        elif num > max_val:\n",
        "            max_val = num\n",
        "\n",
        "    return min_val, max_val\n",
        "\n",
        "\n",
        "numbers = (12, 45, 7, 23, 56, 89, 34)\n",
        "min_value, max_value = find_min_max(numbers)\n",
        "\n",
        "print(f\"Minimum value: {min_value}\")\n",
        "print(f\"Maximum value: {max_value}\")"
      ],
      "metadata": {
        "colab": {
          "base_uri": "https://localhost:8080/"
        },
        "id": "InWLZrhCnJ1-",
        "outputId": "0ca0b4ba-8ca0-4fb0-cff1-c777eae43b33"
      },
      "execution_count": null,
      "outputs": [
        {
          "output_type": "stream",
          "name": "stdout",
          "text": [
            "Minimum value: 7\n",
            "Maximum value: 89\n"
          ]
        }
      ]
    },
    {
      "cell_type": "code",
      "source": [
        "#28. Create a code that defines two sets of integers. Then, print the union, intersection, and difference of these\n",
        "#two sets.\n",
        "set1 = {1, 2, 3, 4, 5}\n",
        "set2 = {4, 5, 6, 7, 8}\n",
        "union = set1 | set2\n",
        "intersection = set1 & set2\n",
        "difference1 = set1 - set2\n",
        "difference2 = set2 - set1\n",
        "print(union)\n",
        "print(intersection)\n",
        "print(difference1)\n",
        "print(difference2)"
      ],
      "metadata": {
        "id": "dJwWW0yMq6sp",
        "colab": {
          "base_uri": "https://localhost:8080/"
        },
        "outputId": "d7e0c7b0-5352-4ebd-f9af-bd39e6572a5f"
      },
      "execution_count": 3,
      "outputs": [
        {
          "output_type": "stream",
          "name": "stdout",
          "text": [
            "{1, 2, 3, 4, 5, 6, 7, 8}\n",
            "{4, 5}\n",
            "{1, 2, 3}\n",
            "{8, 6, 7}\n"
          ]
        }
      ]
    },
    {
      "cell_type": "code",
      "source": [
        "#29.Write a code that takes a tuple and an element as input. The function should return the count of\n",
        "#occurrences of the given element in the tuple.\n",
        "def count_element(tup,element):\n",
        "  count=0\n",
        "  for i in tup:\n",
        "    if i==element:\n",
        "      count+=1\n",
        "  return count\n",
        "\n",
        "count_element((7,5,3,4,8,9,1,3,2,2,3,9),3)"
      ],
      "metadata": {
        "colab": {
          "base_uri": "https://localhost:8080/"
        },
        "id": "DJI_Tbj7opOb",
        "outputId": "8716c0fd-7e78-4037-af1c-b1c6243e94df"
      },
      "execution_count": 4,
      "outputs": [
        {
          "output_type": "execute_result",
          "data": {
            "text/plain": [
              "3"
            ]
          },
          "metadata": {},
          "execution_count": 4
        }
      ]
    },
    {
      "cell_type": "code",
      "source": [
        "#30.Develop a code that prompts the user to input two sets of strings. Then, print the symmetric difference of\n",
        "#these two sets.\n",
        "def get_input(prompt):\n",
        "  string=input(prompt)\n",
        "  return set(string.split(\",\"))\n",
        "\n",
        "def main():\n",
        "  set1=get_input(\"Enter the first string:\")\n",
        "  set2=get_input(\"Enter the second string:\")\n",
        "  symmetric_diff=set1.symmetric_difference(set2)\n",
        "  return symmetric_diff\n",
        "\n",
        "main()"
      ],
      "metadata": {
        "colab": {
          "base_uri": "https://localhost:8080/"
        },
        "id": "DhNPBlPOrcxr",
        "outputId": "c930669a-87d0-4a60-b5df-bd1e753df387"
      },
      "execution_count": 8,
      "outputs": [
        {
          "name": "stdout",
          "output_type": "stream",
          "text": [
            "Enter the first string:apple,banana,cherry\n",
            "Enter the second string:banana,cherry,date\n"
          ]
        },
        {
          "output_type": "execute_result",
          "data": {
            "text/plain": [
              "{'apple', 'date'}"
            ]
          },
          "metadata": {},
          "execution_count": 8
        }
      ]
    },
    {
      "cell_type": "code",
      "source": [
        "#31.Write a code that takes a list of words as input and returns a dictionary where the keys are unique words\n",
        "#and the values are the frequencies of those words in the input list.\n",
        "def word_frequencies(word_list):\n",
        "\n",
        "    frequency_dict = {}\n",
        "    for word in word_list:\n",
        "        word = word.lower()  # Convert to lowercase\n",
        "        if word in frequency_dict:\n",
        "            frequency_dict[word] += 1\n",
        "        else:\n",
        "            frequency_dict[word] = 1\n",
        "    return frequency_dict\n",
        "word_list= input(\"Enter a list of words (separated by commas): \").split(\",\")\n",
        "frequencies=word_frequencies(word_list)\n",
        "print(\"Word frequencies:\", frequencies)\n",
        "\n"
      ],
      "metadata": {
        "colab": {
          "base_uri": "https://localhost:8080/"
        },
        "id": "vZq9jeT72zbj",
        "outputId": "7e1e9839-40d3-4e44-c0ae-43962621ad20"
      },
      "execution_count": 2,
      "outputs": [
        {
          "output_type": "stream",
          "name": "stdout",
          "text": [
            "Enter a list of words (separated by commas): bus,car,bus,truck,truck,truck,car,bike,bike,bus,bike,train\n",
            "Word frequencies: {'bus': 3, 'car': 2, 'truck': 3, 'bike': 3, 'train': 1}\n"
          ]
        }
      ]
    },
    {
      "cell_type": "code",
      "source": [
        "#32.Write a code that takes two dictionaries as input and merges them into a single dictionary. If there are\n",
        "#common keys, the values should be added together.\n",
        "def merge_dictionaries(dict1, dict2):\n",
        "  \"\"\"\n",
        "  Merge two dictionaries, adding values for common keys.\n",
        "\n",
        "  Args:\n",
        "      dict1 (dict): First dictionary.\n",
        "      dict2 (dict): Second dictionary.\n",
        "\n",
        "  Returns:\n",
        "      dict: Merged dictionary.\n",
        "  \"\"\"\n",
        "\n",
        "  return {key: dict1.get(key, 0) + dict2.get(key, 0) for key in set(dict1) | set(dict2)}\n",
        "\n",
        "\n",
        "merge_dictionaries(dict1={'a': 10, 'b': 20, 'c': 30},dict2={'b': 40, 'c': 50, 'd': 60})\n",
        "\n",
        "\n",
        "\n"
      ],
      "metadata": {
        "colab": {
          "base_uri": "https://localhost:8080/"
        },
        "id": "o2bkf6Af1xky",
        "outputId": "a11adac5-6efa-495f-f9c3-82ec44fe624c"
      },
      "execution_count": 6,
      "outputs": [
        {
          "output_type": "execute_result",
          "data": {
            "text/plain": [
              "{'d': 60, 'c': 80, 'b': 60, 'a': 10}"
            ]
          },
          "metadata": {},
          "execution_count": 6
        }
      ]
    },
    {
      "cell_type": "code",
      "source": [
        "#33.Write a code to access a value in a nested dictionary. The function should take the dictionary and a list of\n",
        "#keys as input, and return the corresponding value. If any of the keys do not exist in the dictionary, the\n",
        "#function should return None.\n",
        "def access_nested_dict(nested_dict, keys):\n",
        "  \"\"\"\n",
        "  Accesses a value in a nested dictionary.\n",
        "\n",
        "  Args:\n",
        "      nested_dict (dict): The nested dictionary.\n",
        "      keys (list): A list of keys.\n",
        "\n",
        "  Returns:\n",
        "      any: The corresponding value or None if any key does not exist.\n",
        "  \"\"\"\n",
        "  value = nested_dict\n",
        "  for key in keys:\n",
        "      if isinstance(value, dict) and key in value:\n",
        "          value = value[key]\n",
        "      else:\n",
        "          return None\n",
        "  return value\n",
        "\n",
        "nested_dict = {\n",
        "    'a': 1,\n",
        "    'b': {\n",
        "        'c': 2,\n",
        "        'd': {\n",
        "            'e': 3\n",
        "        }\n",
        "    }\n",
        "}\n",
        "\n",
        "keys = ['b', 'd', 'e']\n",
        "print(access_nested_dict(nested_dict, keys))\n",
        "\n",
        "keys = ['b', 'd', 'f']\n",
        "print(access_nested_dict(nested_dict, keys))"
      ],
      "metadata": {
        "colab": {
          "base_uri": "https://localhost:8080/"
        },
        "id": "3N5g9rC39yGj",
        "outputId": "7221345d-5b18-4bd8-b57c-bf88178a91fb"
      },
      "execution_count": 7,
      "outputs": [
        {
          "output_type": "stream",
          "name": "stdout",
          "text": [
            "3\n",
            "None\n"
          ]
        }
      ]
    },
    {
      "cell_type": "code",
      "source": [
        "#34.Write a code that takes a dictionary as input and returns a sorted version of it based on the values. You\n",
        "#can choose whether to sort in ascending or descending order.\n",
        "\n",
        "def sort_dict_by_values(input_dict, reverse=False):\n",
        "    \"\"\"\n",
        "    Sorts a dictionary by its values.\n",
        "\n",
        "    Args:\n",
        "        input_dict (dict): The input dictionary.\n",
        "        reverse (bool): Whether to sort in descending order (default: False).\n",
        "\n",
        "    Returns:\n",
        "        dict: A sorted dictionary.\n",
        "    \"\"\"\n",
        "    return dict(sorted(input_dict.items(), key=lambda item: item[1], reverse=reverse))\n",
        "\n",
        "\n",
        "input_dict = {'apple': 5, 'banana': 2, 'cherry': 8, 'date': 1}\n",
        "\n",
        "# Sort in ascending order\n",
        "sorted_dict_asc = sort_dict_by_values(input_dict)\n",
        "print(\"Sorted Dictionary (Ascending):\")\n",
        "print(sorted_dict_asc)"
      ],
      "metadata": {
        "colab": {
          "base_uri": "https://localhost:8080/"
        },
        "id": "UFzXDysxBfD2",
        "outputId": "4d2fc7da-c519-4046-f3a8-aef75c0021dd"
      },
      "execution_count": 8,
      "outputs": [
        {
          "output_type": "stream",
          "name": "stdout",
          "text": [
            "Sorted Dictionary (Ascending):\n",
            "{'date': 1, 'banana': 2, 'apple': 5, 'cherry': 8}\n"
          ]
        }
      ]
    },
    {
      "cell_type": "code",
      "source": [
        "#35.Write a code that inverts a dictionary, swapping keys and values. Ensure that the inverted dictionary\n",
        "#correctly handles cases where multiple keys have the same value by storing the keys as a list in the\n",
        "#inverted dictionary.\n",
        "from collections import defaultdict\n",
        "def invert_dict(original_dict):\n",
        "  inverted_dict = defaultdict(list)\n",
        "  for key, value in original_dict.items():\n",
        "      inverted_dict[value].append(key)\n",
        "  return dict(inverted_dict)\n",
        "\n",
        "original_dict = {'a': 1, 'b': 2, 'c': 1, 'd': 3}\n",
        "inverted_dict = invert_dict(original_dict)\n",
        "print(inverted_dict)"
      ],
      "metadata": {
        "colab": {
          "base_uri": "https://localhost:8080/"
        },
        "id": "6ZLr6wnQB_pX",
        "outputId": "d724cc96-53a3-4eaf-a27d-ddb10b2a3d3c"
      },
      "execution_count": 10,
      "outputs": [
        {
          "output_type": "stream",
          "name": "stdout",
          "text": [
            "{1: ['a', 'c'], 2: ['b'], 3: ['d']}\n"
          ]
        }
      ]
    }
  ]
}